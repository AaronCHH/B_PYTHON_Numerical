{
 "cells": [
  {
   "cell_type": "markdown",
   "metadata": {},
   "source": [
    "# 2 Analysis"
   ]
  },
  {
   "cell_type": "markdown",
   "metadata": {},
   "source": [
    "<div id=\"toc\"></div>"
   ]
  },
  {
   "cell_type": "markdown",
   "metadata": {},
   "source": [
    "<div id='toc'></div>"
   ]
  },
  {
   "cell_type": "code",
   "execution_count": 1,
   "metadata": {
    "collapsed": false
   },
   "outputs": [],
   "source": [
    "import sys\n",
    "sys.path.append('./analysis/')"
   ]
  },
  {
   "cell_type": "markdown",
   "metadata": {},
   "source": [
    "## 2.1 Experimental Investigations"
   ]
  },
  {
   "cell_type": "markdown",
   "metadata": {},
   "source": [
    "### 2.1.1 Discouraging Numerical Solutions"
   ]
  },
  {
   "cell_type": "markdown",
   "metadata": {},
   "source": [
    "* http://tinyurl.com/ofkw6kc/analysis"
   ]
  },
  {
   "cell_type": "code",
   "execution_count": null,
   "metadata": {
    "collapsed": true
   },
   "outputs": [],
   "source": []
  },
  {
   "cell_type": "markdown",
   "metadata": {},
   "source": [
    "### 2.1.2 Detailed Experiments"
   ]
  },
  {
   "cell_type": "markdown",
   "metadata": {},
   "source": [
    "* http://tinyurl.com/ofkw6kc/analysis/decay_osc_regions.py"
   ]
  },
  {
   "cell_type": "code",
   "execution_count": null,
   "metadata": {
    "collapsed": false
   },
   "outputs": [],
   "source": [
    "# %load analysis/decay_osc_regions.py\n",
    "from decay_mod import solver\n",
    "import numpy as np\n",
    "import scitools.std as st\n",
    "\n",
    "def non_physical_behavior(I, a, T, dt, theta):\n",
    "    \"\"\"\n",
    "    Given lists/arrays a and dt, and numbers I, dt, and theta,\n",
    "    make a two-dimensional contour line B=0.5, where B=1>0.5\n",
    "    means oscillatory (unstable) solution, and B=0<0.5 means\n",
    "    monotone solution of u'=-au.\n",
    "    \"\"\"\n",
    "    a = np.asarray(a); dt = np.asarray(dt)  # must be arrays\n",
    "    B = np.zeros((len(a), len(dt)))         # results\n",
    "    for i in range(len(a)):\n",
    "        for j in range(len(dt)):\n",
    "            u, t = solver(I, a[i], T, dt[j], theta)\n",
    "            # Does u have the right monotone decay properties?\n",
    "            correct_qualitative_behavior = True\n",
    "            for n in range(1, len(u)):\n",
    "                if u[n] > u[n-1]:  # Not decaying?\n",
    "                    correct_qualitative_behavior = False\n",
    "                    break  # Jump out of loop\n",
    "            B[i,j] = float(correct_qualitative_behavior)\n",
    "    a_, dt_ = st.ndgrid(a, dt)  # make mesh of a and dt values\n",
    "    st.contour(a_, dt_, B, 1)\n",
    "    st.grid('on')\n",
    "    st.title('theta=%g' % theta)\n",
    "    st.xlabel('a'); st.ylabel('dt')\n",
    "    st.savefig('osc_region_theta_%s.png' % theta)\n",
    "    st.savefig('osc_region_theta_%s.pdf' % theta)\n",
    "\n",
    "non_physical_behavior(\n",
    "    I=1,\n",
    "    a=np.linspace(0.01, 4, 22),\n",
    "    dt=np.linspace(0.01, 4, 22),\n",
    "    T=6,\n",
    "    theta=0.5)\n"
   ]
  },
  {
   "cell_type": "markdown",
   "metadata": {},
   "source": [
    "## 2.2 Stability"
   ]
  },
  {
   "cell_type": "markdown",
   "metadata": {},
   "source": [
    "### 2.2.1 Exact Numerical Solution"
   ]
  },
  {
   "cell_type": "markdown",
   "metadata": {},
   "source": [
    "### 2.2.2 Stability Properties Derived from the Amplification Factor 45"
   ]
  },
  {
   "cell_type": "markdown",
   "metadata": {},
   "source": [
    "## 2.3 Accuracy"
   ]
  },
  {
   "cell_type": "markdown",
   "metadata": {},
   "source": [
    "### 2.3.1 Visual Comparison of Amplification Factors"
   ]
  },
  {
   "cell_type": "markdown",
   "metadata": {},
   "source": [
    "### 2.3.2 Series Expansion of Amplification Factors"
   ]
  },
  {
   "cell_type": "code",
   "execution_count": null,
   "metadata": {
    "collapsed": true
   },
   "outputs": [],
   "source": [
    ">>> from sympy import *\n",
    ">>> # Create p as a mathematical symbol with name 'p'\n",
    ">>> p = Symbols('p')\n",
    ">>> # Create a mathematical expression with p\n",
    ">>> A_e = exp(-p)\n",
    ">>> # Find the first 6 terms of the Taylor series of A_e\n",
    ">>> A_e. series(p, 0, 6)\n",
    "1 + (1/2)*p**2 - p - 1/6*p**3 - 1/120*p**5 + (1/24)*p**4 + O(p**6)"
   ]
  },
  {
   "cell_type": "markdown",
   "metadata": {},
   "source": [
    "### 2.3.3 The Ratio of Numerical and Exact Amplification Factors"
   ]
  },
  {
   "cell_type": "code",
   "execution_count": null,
   "metadata": {
    "collapsed": true
   },
   "outputs": [],
   "source": [
    ">>> FE = 1 - (A.subs(theta, 0)/A_e).series(p, 0, 4)\n",
    ">>> BE = 1 - (A.subs(theta, 1)/A_e).series(p, 0, 4)\n",
    ">>> CN = 1 - (A.subs(theta, half)/A_e).series(p, 0, 4)\n",
    ">>> FE\n",
    "(1/2)*p**2 + (1/3)*p**3 + O(p**4)\n",
    ">>> BE\n",
    "-1/2*p**2 + (1/3)*p**3 + O(p**4)\n",
    ">>> CN\n",
    "(1/12)*p**3 + O(p**4)"
   ]
  },
  {
   "cell_type": "markdown",
   "metadata": {},
   "source": [
    "### 2.3.4 The Global Error at a Point"
   ]
  },
  {
   "cell_type": "code",
   "execution_count": null,
   "metadata": {
    "collapsed": true
   },
   "outputs": [],
   "source": [
    ">>> n = Symbol('n' )\n",
    ">>> u_e = exp(-p*n)\n",
    ">>> u_n = A**n\n",
    ">>> FE = u_e.series(p, 0, 4) - u_n.subs(theta, 0).series(p, 0, 4)\n",
    ">>> BE = u_e.series(p, 0, 4) - u_n.subs(theta, 1).series(p, 0, 4)\n",
    ">>> CN = u_e.series(p, 0, 4) - u_n.subs(theta, half).series(p, 0, 4)\n",
    ">>> FE\n",
    "(1/2)*n*p**2 - 1/2*n**2*p**3 + (1/3)*n*p**3 + O(p**4)\n",
    ">>> BE\n",
    "(1/2)*n**2*p**3 - 1/2*n*p**2 + (1/3)*n*p**3 + O(p**4)\n",
    ">>> CN\n",
    "(1/12)*n*p**3 + O(p**4)"
   ]
  },
  {
   "cell_type": "markdown",
   "metadata": {},
   "source": [
    "### 2.3.5 Integrated Error"
   ]
  },
  {
   "cell_type": "code",
   "execution_count": null,
   "metadata": {
    "collapsed": true
   },
   "outputs": [],
   "source": [
    "import sympy as sym\n",
    "p, n, a, dt, t, T, theta = sym. symbols('p n a dt t T theta' )\n",
    "A = (1-(1-theta)*p)/(1+theta*p)\n",
    "u_e = sym. exp(-p*n)\n",
    "u_n = A**n\n",
    "error = u_e. series(p, 0, 4) - u_n. subs(theta, 0). series(p, 0, 4)\n",
    "# Introduce t and dt instead of n and p\n",
    "error = error. subs('n' , 't/dt' ). subs(p, 'a*dt' )\n",
    "error = error. as_leading_term(dt) # study only the first term\n",
    "print error\n",
    "error_L2 = sym. sqrt(sym. integrate(error**2, (t, 0, T)))\n",
    "print 'L2 error:' , sym. simplify(error_error_L2)"
   ]
  },
  {
   "cell_type": "markdown",
   "metadata": {},
   "source": [
    "### 2.3.6 Truncation Error"
   ]
  },
  {
   "cell_type": "markdown",
   "metadata": {},
   "source": [
    "### 2.3.7 Consistency, Stability, and Convergence"
   ]
  },
  {
   "cell_type": "markdown",
   "metadata": {},
   "source": [
    "## 2.4 Various Types of Errors in a Differential Equation Model"
   ]
  },
  {
   "cell_type": "markdown",
   "metadata": {},
   "source": [
    "* http://en.wikipedia.org/wiki/Lax_equivalence_theorem"
   ]
  },
  {
   "cell_type": "markdown",
   "metadata": {},
   "source": [
    "### 2.4.1 Model Errors"
   ]
  },
  {
   "cell_type": "code",
   "execution_count": 1,
   "metadata": {
    "collapsed": false,
    "scrolled": true
   },
   "outputs": [
    {
     "name": "stdout",
     "output_type": "stream",
     "text": [
      "C1*exp(t*(-a - p*t/2))\n",
      "C1*exp(t*(-a - p*t/2))\n",
      "[I]\n",
      "u: I*exp(t*(-a - p*t/2))\n",
      "I e^{t \\left(- a - \\frac{p t}{2}\\right)}\n",
      "ODE is fulfilled: 0\n",
      "u(0)-I: 0\n"
     ]
    }
   ],
   "source": [
    "from numpy import linspace, exp\n",
    "from matplotlib. pyplot import \\\n",
    "    plot, show, xlabel, ylabel, legend, savefig, figure, title\n",
    "def model_errors():\n",
    "    p_values = [0.01, 0.1, 1]\n",
    "    a = 1\n",
    "    I = 1\n",
    "    t = linspace(0, 4, 101)\n",
    "    legends = []\n",
    "    # Work with figure(1) for the discrepancy and figure(2+i)\n",
    "    # for plotting the model and the true model for p value no i\n",
    "    for i, p in enumerate(p_values):\n",
    "        u = model(t, I, a)\n",
    "        u_true = true_model(t, I, a, p)\n",
    "        discrepancy = u_true - u\n",
    "        figure(1)\n",
    "        plot(t, discrepancy)\n",
    "        figure(2+i)\n",
    "        plot(t, u, 'r-' , t, u_true, 'b--')\n",
    "        legends. append('p=%g' % p)\n",
    "    figure(1)\n",
    "    legend(legends, loc='lower right')\n",
    "    savefig('tmp1.png'); savefig('tmp1.pdf')\n",
    "    for i, p in enumerate(p_values):\n",
    "        figure(2+i)\n",
    "        legend(['model' , 'true model' ])\n",
    "        title('p=%g' % p)\n",
    "        savefig('tmp%d.png' % (2+i)); savefig('tmp%d.pdf' % (2+i))    \n",
    "        \n",
    "def derive_true_solution():\n",
    "    import sympy as sym\n",
    "    u = sym. symbols('u' , cls=sym. Function) # function u(t)\n",
    "    t, a, p, I = sym. symbols('t a p I' , real=True)\n",
    "\n",
    "    def ode(u, t, a, p):\n",
    "        \"\"\"Define ODE: u' = (a + p*t)*u. Return residual.\"\"\"\n",
    "        return sym. diff(u, t) + (a + p*t)*u\n",
    "\n",
    "    eq = ode(u(t), t, a, p)\n",
    "    s = sym. dsolve(eq)\n",
    "    # s is sym.Eq object u(t) == expression, we want u = expression,\n",
    "    # so grab the right-hand side of the equality (Eq obj.)\n",
    "    u = s. rhs\n",
    "    print u\n",
    "\n",
    "    # u contains C1, replace it with a symbol we can fit to\n",
    "    # the initial condition\n",
    "    C1 = sym. symbols('C1' , real=True)\n",
    "    u = u. subs('C1' , C1)\n",
    "    print u\n",
    "    \n",
    "    # Initial condition equation\n",
    "    eq = u. subs(t, 0) - I\n",
    "    s = sym. solve(eq, C1) # solve eq wrt C1\n",
    "    print s\n",
    "    \n",
    "    # s is a list s[0] = ...\n",
    "    # Replace C1 in u by the solution\n",
    "    u = u. subs(C1, s[0])\n",
    "    print 'u:' , u\n",
    "    print sym. latex(u) # latex formula for reports\n",
    "    \n",
    "    # Consistency check: u must fulfill ODE and initial condition\n",
    "    print 'ODE is fulfilled:' , sym. simplify(ode(u, t, a, p))\n",
    "    print 'u(0)-I:' , sym. simplify(u. subs(t, 0) - I)\n",
    "    \n",
    "    # Convert u expression to Python numerical function\n",
    "    # (modules='numpy' allows numpy arrays as arguments,\n",
    "    # we want this for t)\n",
    "    u_func = sym. lambdify([t, I, a, p], u, modules='numpy' )\n",
    "    return u_func\n",
    "\n",
    "true_model = derive_true_solution()        "
   ]
  },
  {
   "cell_type": "markdown",
   "metadata": {},
   "source": [
    "### 2.4.2 Data Errors"
   ]
  },
  {
   "cell_type": "code",
   "execution_count": 2,
   "metadata": {
    "collapsed": true
   },
   "outputs": [],
   "source": [
    "def data_errors():\n",
    "    from numpy import random, mean, std\n",
    "    from matplotlib. pyplot import hist\n",
    "    N = 10000\n",
    "    \n",
    "    # Draw random numbers for I and a\n",
    "    I_values = random. normal(1, 0.2, N)\n",
    "    a_values = random. uniform(0.5, 1.5, N)\n",
    "    \n",
    "    # Compute corresponding u values for some t values\n",
    "    t = [0, 1, 3]\n",
    "    u_values = {} # samples for various t values\n",
    "    u_mean = {}\n",
    "    u_std = {}\n",
    "\n",
    "    for t_ in t:    \n",
    "        # Compute u samples corresponding to I and a samples\n",
    "        u_values[t_] = [model(t_, I, a)\n",
    "        for I, a in zip(I_values, a_values)]\n",
    "        u_mean[t_] = mean(u_values[t_])\n",
    "        u_std[t_] = std(u_values[t_])\n",
    "        figure()\n",
    "        dummy1, bins, dummy2 = hist(\n",
    "            u_values[t_], bins=30, range=(0, I_values. max()),\n",
    "            normed=True, facecolor='green' )        \n",
    "        #plot(bins)\n",
    "        title('t=%g' % t_)\n",
    "        savefig('tmp_%g.png' % t_); savefig('tmp_%g.pdf' % t_)\n",
    "    \n",
    "    # Table of mean and standard deviation values\n",
    "    print 'time mean st.dev.'\n",
    "    for t_ in t:\n",
    "        print '%3g %.2f %.3f' % (t_, u_mean[t_], u_std[t_])"
   ]
  },
  {
   "cell_type": "markdown",
   "metadata": {},
   "source": [
    "### 2.4.3 Discretization Errors"
   ]
  },
  {
   "cell_type": "code",
   "execution_count": null,
   "metadata": {
    "collapsed": true
   },
   "outputs": [],
   "source": [
    "def discretization_errors():\n",
    "    from numpy import log, abs\n",
    "    I = 1\n",
    "    a = 1\n",
    "    T = 4\n",
    "    t = linspace(0, T, 101)\n",
    "    schemes = {'FE' : 0, 'BE' : 1, 'CN' : 0.5} # theta to scheme name\n",
    "    dt_values = [0.8, 0.4, 0.1, 0.01]\n",
    "    \n",
    "    for dt in dt_values:\n",
    "        figure()\n",
    "        legends = []\n",
    "        for scheme in schemes:\n",
    "            theta = schemes[scheme]\n",
    "            u, t = solver(I, a, T, dt, theta)\n",
    "            u_e = model(t, I, a)\n",
    "            error = u_e - u\n",
    "            print '%s: dt=%.2f, %d steps, max error: %.2E'%\\\n",
    "                (scheme, dt, len(u)-1, abs(error). max())\n",
    "            # Plot log(error), but exclude error[0] since it is 0\n",
    "            plot(t[1:], log(abs(error[1:])))\n",
    "            legends. append(scheme)\n",
    "        xlabel('t' ); ylabel('log(abs(numerical error))' )\n",
    "        legend(legends, loc='upper right' )\n",
    "        title(r'$\\Delta t=%g$'%dt)\n",
    "        savefig('tmp_dt%g.png'%dt); savefig('tmp_dt%g.pdf'%dt)"
   ]
  },
  {
   "cell_type": "markdown",
   "metadata": {},
   "source": [
    "### 2.4.4 Rounding Errors"
   ]
  },
  {
   "cell_type": "code",
   "execution_count": 3,
   "metadata": {
    "collapsed": false
   },
   "outputs": [
    {
     "data": {
      "text/plain": [
       "1.0"
      ]
     },
     "execution_count": 3,
     "metadata": {},
     "output_type": "execute_result"
    }
   ],
   "source": [
    "1.0/51*51"
   ]
  },
  {
   "cell_type": "code",
   "execution_count": 4,
   "metadata": {
    "collapsed": false
   },
   "outputs": [
    {
     "data": {
      "text/plain": [
       "0.9999999999999999"
      ]
     },
     "execution_count": 4,
     "metadata": {},
     "output_type": "execute_result"
    }
   ],
   "source": [
    "1.0/49*49"
   ]
  },
  {
   "cell_type": "markdown",
   "metadata": {},
   "source": [
    "* https://en.wikipedia.org/wiki/Floating_point"
   ]
  },
  {
   "cell_type": "markdown",
   "metadata": {},
   "source": [
    "* https://docs.python.org/2/library/decimal.html"
   ]
  },
  {
   "cell_type": "code",
   "execution_count": null,
   "metadata": {
    "collapsed": true
   },
   "outputs": [],
   "source": [
    "def rounding_errors(I=1, a=1, T=4, dt=0.1):\n",
    "    import decimal\n",
    "    from numpy import log, array, abs\n",
    "    digits_values = [4, 16, 64, 128]\n",
    "    # \"Exact\" arithmetics is taken as 1000 decimals here\n",
    "    decimal.getcontext().prec = 1000\n",
    "    u_e, t = solver_decimal(I=I, a=a, T=T, dt=dt, theta=0.5)\n",
    "    for digits in digits_values:\n",
    "        decimal.getcontext().prec = digits # set no of digits\n",
    "        u, t = solver_decimal(I=I, a=a, T=T, dt=dt, theta=0.5)\n",
    "        error = u_e - u\n",
    "        error = array(error[1:], dtype=float)\n",
    "        print '%d digits, %d steps, max abs(error): %.2E' % \\\n",
    "            (digits, len(u)-1, abs(error).max())"
   ]
  },
  {
   "cell_type": "markdown",
   "metadata": {},
   "source": [
    "### 2.4.5 Discussion of the Size of Various Errors"
   ]
  },
  {
   "cell_type": "markdown",
   "metadata": {},
   "source": [
    "## 2.5 Exercises"
   ]
  },
  {
   "cell_type": "markdown",
   "metadata": {},
   "source": [
    "### Problem 2.1: Visualize the accuracy of finite differences"
   ]
  },
  {
   "cell_type": "code",
   "execution_count": 6,
   "metadata": {
    "collapsed": false
   },
   "outputs": [
    {
     "data": {
      "text/plain": [
       "[<matplotlib.lines.Line2D at 0xcaa5d30>]"
      ]
     },
     "execution_count": 6,
     "metadata": {},
     "output_type": "execute_result"
    },
    {
     "data": {
      "image/png": "[encoded data removed]",
      "text/plain": [
       "<matplotlib.figure.Figure at 0xc98c048>"
      ]
     },
     "metadata": {},
     "output_type": "display_data"
    }
   ],
   "source": [
    "%matplotlib inline\n",
    "from numpy import logspace, exp\n",
    "from matplotlib.pyplot import semilogx\n",
    "p = logspace(-6, -0.5, 101)\n",
    "y = (1-exp(-p))/p\n",
    "semilogx(p, y)"
   ]
  },
  {
   "cell_type": "markdown",
   "metadata": {},
   "source": [
    "### Problem 2.2: Explore the 0 -rule for exponential growth"
   ]
  },
  {
   "cell_type": "markdown",
   "metadata": {},
   "source": [
    "### Problem 2.3: Explore rounding errors in numerical calculus"
   ]
  },
  {
   "cell_type": "markdown",
   "metadata": {
    "collapsed": true
   },
   "source": [
    "* http://tinyurl.com/ofkw6kc/analysis/decay_ampf_plot.py"
   ]
  },
  {
   "cell_type": "code",
   "execution_count": 12,
   "metadata": {
    "collapsed": false
   },
   "outputs": [
    {
     "ename": "KeyError",
     "evalue": "'-f'",
     "output_type": "error",
     "traceback": [
      "\u001b[0;31m---------------------------------------------------------------------------\u001b[0m",
      "\u001b[0;31mKeyError\u001b[0m                                  Traceback (most recent call last)",
      "\u001b[0;32m<ipython-input-12-4375dbd56e17>\u001b[0m in \u001b[0;36m<module>\u001b[0;34m()\u001b[0m\n\u001b[1;32m     36\u001b[0m     \u001b[1;32melse\u001b[0m\u001b[1;33m:\u001b[0m \u001b[1;31m# default\u001b[0m\u001b[1;33m\u001b[0m\u001b[0m\n\u001b[1;32m     37\u001b[0m         \u001b[0mnames\u001b[0m \u001b[1;33m=\u001b[0m \u001b[1;34m'FE BE CN'\u001b[0m\u001b[1;33m.\u001b[0m\u001b[0msplit\u001b[0m\u001b[1;33m(\u001b[0m\u001b[1;33m)\u001b[0m\u001b[1;33m\u001b[0m\u001b[0m\n\u001b[0;32m---> 38\u001b[0;31m \u001b[0mamplification_factor\u001b[0m\u001b[1;33m(\u001b[0m\u001b[0mnames\u001b[0m\u001b[1;33m)\u001b[0m\u001b[1;33m\u001b[0m\u001b[0m\n\u001b[0m",
      "\u001b[0;32m<ipython-input-12-4375dbd56e17>\u001b[0m in \u001b[0;36mamplification_factor\u001b[0;34m(names)\u001b[0m\n\u001b[1;32m     19\u001b[0m     \u001b[0mname2theta\u001b[0m \u001b[1;33m=\u001b[0m \u001b[0mdict\u001b[0m\u001b[1;33m(\u001b[0m\u001b[0mFE\u001b[0m\u001b[1;33m=\u001b[0m\u001b[1;36m0\u001b[0m\u001b[1;33m,\u001b[0m \u001b[0mBE\u001b[0m\u001b[1;33m=\u001b[0m\u001b[1;36m1\u001b[0m\u001b[1;33m,\u001b[0m \u001b[0mCN\u001b[0m\u001b[1;33m=\u001b[0m\u001b[1;36m0.5\u001b[0m\u001b[1;33m)\u001b[0m\u001b[1;33m\u001b[0m\u001b[0m\n\u001b[1;32m     20\u001b[0m     \u001b[1;32mfor\u001b[0m \u001b[0mname\u001b[0m \u001b[1;32min\u001b[0m \u001b[0mnames\u001b[0m\u001b[1;33m:\u001b[0m\u001b[1;33m\u001b[0m\u001b[0m\n\u001b[0;32m---> 21\u001b[0;31m         \u001b[0mcurves\u001b[0m\u001b[1;33m[\u001b[0m\u001b[0mname\u001b[0m\u001b[1;33m]\u001b[0m \u001b[1;33m=\u001b[0m \u001b[0mA\u001b[0m\u001b[1;33m(\u001b[0m\u001b[0mp\u001b[0m\u001b[1;33m,\u001b[0m \u001b[0mname2theta\u001b[0m\u001b[1;33m[\u001b[0m\u001b[0mname\u001b[0m\u001b[1;33m]\u001b[0m\u001b[1;33m)\u001b[0m\u001b[1;33m\u001b[0m\u001b[0m\n\u001b[0m\u001b[1;32m     22\u001b[0m         \u001b[0mplot\u001b[0m\u001b[1;33m(\u001b[0m\u001b[0mp\u001b[0m\u001b[1;33m,\u001b[0m \u001b[0mcurves\u001b[0m\u001b[1;33m[\u001b[0m\u001b[0mname\u001b[0m\u001b[1;33m]\u001b[0m\u001b[1;33m)\u001b[0m\u001b[1;33m\u001b[0m\u001b[0m\n\u001b[1;32m     23\u001b[0m     \u001b[0mplot\u001b[0m\u001b[1;33m(\u001b[0m\u001b[1;33m[\u001b[0m\u001b[0mp\u001b[0m\u001b[1;33m[\u001b[0m\u001b[1;36m0\u001b[0m\u001b[1;33m]\u001b[0m\u001b[1;33m,\u001b[0m \u001b[0mp\u001b[0m\u001b[1;33m[\u001b[0m\u001b[1;33m-\u001b[0m\u001b[1;36m1\u001b[0m\u001b[1;33m]\u001b[0m\u001b[1;33m]\u001b[0m\u001b[1;33m,\u001b[0m \u001b[1;33m[\u001b[0m\u001b[1;36m0\u001b[0m\u001b[1;33m,\u001b[0m \u001b[1;36m0\u001b[0m\u001b[1;33m]\u001b[0m\u001b[1;33m,\u001b[0m \u001b[1;34m'--'\u001b[0m\u001b[1;33m)\u001b[0m  \u001b[1;31m# A=0 line\u001b[0m\u001b[1;33m\u001b[0m\u001b[0m\n",
      "\u001b[0;31mKeyError\u001b[0m: '-f'"
     ]
    },
    {
     "data": {
      "image/png": "[encoded data removed]",
      "text/plain": [
       "<matplotlib.figure.Figure at 0xe1125c0>"
      ]
     },
     "metadata": {},
     "output_type": "display_data"
    }
   ],
   "source": [
    "\"\"\"Plot of amplification factors for the theta scheme.\"\"\"\n",
    "\n",
    "from numpy import linspace, exp\n",
    "#from matplotlib.pyplot import *\n",
    "from scitools.std import *\n",
    "\n",
    "def A_exact(p):\n",
    "    return exp(-p)\n",
    "\n",
    "def A(p, theta):\n",
    "    return (1-(1-theta)*p)/(1+theta*p)\n",
    "\n",
    "def amplification_factor(names):\n",
    "    curves = {}\n",
    "    p = linspace(0, 3, 15)\n",
    "    curves['exact'] = A_exact(p)\n",
    "    plot(p, curves['exact'])\n",
    "    hold('on')\n",
    "    name2theta = dict(FE=0, BE=1, CN=0.5)\n",
    "    for name in names:\n",
    "        curves[name] = A(p, name2theta[name])\n",
    "        plot(p, curves[name])\n",
    "    plot([p[0], p[-1]], [0, 0], '--')  # A=0 line\n",
    "    title('Amplification factors')\n",
    "    grid('on')\n",
    "    legend(['exact'] + names, loc='lower left', fancybox=True)\n",
    "    xlabel('$p=a\\Delta t$')\n",
    "    ylabel('Amplification factor')\n",
    "    savefig('A_factors.png')\n",
    "    savefig('A_factors.pdf')\n",
    "    show()\n",
    "\n",
    "if __name__ == '__main__':\n",
    "    if len(sys.argv) > 1:\n",
    "        names = sys.argv[1:]\n",
    "    else: # default\n",
    "        names = 'FE BE CN'.split()\n",
    "amplification_factor(names)"
   ]
  },
  {
   "cell_type": "code",
   "execution_count": null,
   "metadata": {
    "collapsed": true
   },
   "outputs": [],
   "source": []
  }
 ],
 "metadata": {
  "anaconda-cloud": {},
  "kernelspec": {
   "display_name": "Python 2",
   "language": "python",
   "name": "python2"
  },
  "language_info": {
   "codemirror_mode": {
    "name": "ipython",
    "version": 2
   },
   "file_extension": ".py",
   "mimetype": "text/x-python",
   "name": "python",
   "nbconvert_exporter": "python",
   "pygments_lexer": "ipython2",
   "version": "2.7.13"
  }
 },
 "nbformat": 4,
 "nbformat_minor": 1
}
