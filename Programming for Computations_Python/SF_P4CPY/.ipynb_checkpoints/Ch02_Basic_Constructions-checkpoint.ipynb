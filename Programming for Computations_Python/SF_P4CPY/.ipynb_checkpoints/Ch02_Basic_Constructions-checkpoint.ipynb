{
 "cells": [
  {
   "cell_type": "markdown",
   "metadata": {},
   "source": [
    "# Ch02 Basic Constructions"
   ]
  },
  {
   "cell_type": "markdown",
   "metadata": {},
   "source": [
    "<div id=\"toc\"></div>"
   ]
  },
  {
   "cell_type": "markdown",
   "metadata": {},
   "source": [
    "## 2.1 If Tests, Colon and Indentation"
   ]
  },
  {
   "cell_type": "markdown",
   "metadata": {},
   "source": [
    "## 2.2 Functions"
   ]
  },
  {
   "cell_type": "code",
   "execution_count": null,
   "metadata": {
    "collapsed": true
   },
   "outputs": [],
   "source": [
    "# %load py/ball_function.py\n",
    "def y(t):\n",
    "    v0 = 5                    # Initial velocity\n",
    "    g = 9.81                  # Acceleration of gravity\n",
    "    return v0*t - 0.5*g*t**2\n",
    "\n",
    "time = 0.6       # Just pick one point in time\n",
    "print(y(time))\n",
    "time = 0.9       # Pick another point in time\n",
    "print(y(time))\n"
   ]
  },
  {
   "cell_type": "code",
   "execution_count": 3,
   "metadata": {
    "collapsed": false
   },
   "outputs": [
    {
     "name": "stdout",
     "output_type": "stream",
     "text": [
      "1.2342\n",
      "0.5269499999999994\n"
     ]
    }
   ],
   "source": [
    "%run py/ball_function.py"
   ]
  },
  {
   "cell_type": "code",
   "execution_count": null,
   "metadata": {
    "collapsed": true
   },
   "outputs": [],
   "source": [
    "# %load py/ball_position_xy.py\n",
    "def y(v0y, t):\n",
    "    g = 9.81                  # Acceleration of gravity\n",
    "    return v0y*t - 0.5*g*t**2\n",
    "\n",
    "def x(v0x, t):\n",
    "    return v0x*t\n",
    "\n",
    "initial_velocity_x = 2.0\n",
    "initial_velocity_y = 5.0\n",
    "\n",
    "time = 0.6       # Just pick one point in time\n",
    "print(x(initial_velocity_x, time), y(initial_velocity_y, time))\n",
    "\n",
    "time = 0.9       # ... Pick another point in time\n",
    "print(x(initial_velocity_x, time), y(initial_velocity_y, time))"
   ]
  },
  {
   "cell_type": "code",
   "execution_count": 6,
   "metadata": {
    "collapsed": false
   },
   "outputs": [
    {
     "name": "stdout",
     "output_type": "stream",
     "text": [
      "1.2 1.2342\n",
      "1.8 0.5269499999999994\n"
     ]
    }
   ],
   "source": [
    "%run py/ball_position_xy.py"
   ]
  },
  {
   "cell_type": "code",
   "execution_count": null,
   "metadata": {
    "collapsed": true
   },
   "outputs": [],
   "source": [
    "# %load py/function_as_argument.py\n",
    "def sum_xy(x, y):\n",
    "    return x + y\n",
    "\n",
    "def prod_xy(x, y):\n",
    "    return x*y\n",
    "\n",
    "def treat_xy(f, x, y):\n",
    "    return f(x, y)\n",
    "\n",
    "x = 2;  y = 3\n",
    "\n",
    "print(treat_xy(sum_xy, x, y))\n",
    "print(treat_xy(prod_xy, x, y))"
   ]
  },
  {
   "cell_type": "code",
   "execution_count": 9,
   "metadata": {
    "collapsed": false
   },
   "outputs": [
    {
     "name": "stdout",
     "output_type": "stream",
     "text": [
      "5\n",
      "6\n"
     ]
    }
   ],
   "source": [
    "%run py/function_as_argument.py"
   ]
  },
  {
   "cell_type": "markdown",
   "metadata": {},
   "source": [
    "## 2.3 For Loops"
   ]
  },
  {
   "cell_type": "code",
   "execution_count": null,
   "metadata": {
    "collapsed": true
   },
   "outputs": [],
   "source": [
    "# %load py/ball_max_height.py\n",
    "import matplotlib.pyplot as plt\n",
    "import numpy as np\n",
    "\n",
    "v0 = 5                    # Initial velocity\n",
    "g = 9.81                  # Acceleration of gravity\n",
    "t = np.linspace(0, 1, 1000)  # 1000 points in time interval\n",
    "y = v0*t - 0.5*g*t**2     # Generate all heights\n",
    "\n",
    "# At this point, the array y with all the heights is ready.\n",
    "# Now we need to find the largest value within y.\n",
    "\n",
    "largest_height = y[0]          # Starting value for search\n",
    "for i in range(1, 1000):\n",
    "    if y[i] > largest_height:\n",
    "        largest_height = y[i]\n",
    "\n",
    "print(\"The largest height achieved was %f m\" % (largest_height))\n",
    "\n",
    "# We might also like to plot the path again just to compare\n",
    "plt.plot(t,y)\n",
    "plt.xlabel('Time (s)')\n",
    "plt.ylabel('Height (m)')\n"
   ]
  },
  {
   "cell_type": "code",
   "execution_count": 14,
   "metadata": {
    "collapsed": false
   },
   "outputs": [
    {
     "name": "stdout",
     "output_type": "stream",
     "text": [
      "The largest height achieved was 1.274210 m\n"
     ]
    }
   ],
   "source": [
    "%run py/ball_max_height.py"
   ]
  },
  {
   "cell_type": "markdown",
   "metadata": {},
   "source": [
    "## 2.4 While Loops"
   ]
  },
  {
   "cell_type": "code",
   "execution_count": null,
   "metadata": {
    "collapsed": true
   },
   "outputs": [],
   "source": [
    "# %load py/ball_time.py\n",
    "from numpy import linspace\n",
    "\n",
    "v0 = 4.5                  # Initial velocity\n",
    "g = 9.81                  # Acceleration of gravity\n",
    "t = linspace(0, 1, 1000)  # 1000 points in time interval\n",
    "y = v0*t - 0.5*g*t**2     # Generate all heights\n",
    "\n",
    "# Find where the ball hits y=0\n",
    "i = 0\n",
    "while y[i] >= 0:\n",
    "    i += 1\n",
    "\n",
    "# Now, y[i-1]>0 and y[i]<0 so let's take the middle point\n",
    "# in time as the approximation for when the ball hits h=0\n",
    "print(\"y=0 at\", 0.5*(t[i-1] + t[i]))\n",
    "\n",
    "# We plot the path again just for comparison\n",
    "import matplotlib.pyplot as plt\n",
    "plt.plot(t, y)\n",
    "plt.plot(t, 0*t, 'g--')\n",
    "plt.xlabel('Time (s)')\n",
    "plt.ylabel('Height (m)')\n",
    "plt.show()\n"
   ]
  },
  {
   "cell_type": "code",
   "execution_count": 17,
   "metadata": {
    "collapsed": false
   },
   "outputs": [
    {
     "name": "stdout",
     "output_type": "stream",
     "text": [
      "y=0 at 0.917417417417\n"
     ]
    },
    {
     "data": {
      "image/png": "[encoded data removed]",
      "text/plain": [
       "<matplotlib.figure.Figure at 0x5f71f16d30>"
      ]
     },
     "metadata": {},
     "output_type": "display_data"
    }
   ],
   "source": [
    "%run py/ball_time.py"
   ]
  },
  {
   "cell_type": "markdown",
   "metadata": {},
   "source": [
    "## 2.5 Lists and Tuples – Alternatives to Arrays"
   ]
  },
  {
   "cell_type": "code",
   "execution_count": 23,
   "metadata": {
    "collapsed": true
   },
   "outputs": [],
   "source": [
    "x = ['hello' , 4, 3.14, 6]"
   ]
  },
  {
   "cell_type": "code",
   "execution_count": 24,
   "metadata": {
    "collapsed": true
   },
   "outputs": [],
   "source": [
    "x = ['hello' , 4, 3.14, 6]\n",
    "x.insert(0, -2) # x then becomes [-2, ’hello’, 4, 3.14, 6]\n",
    "del x[3]        # x then becomes [-2, ’hello’, 4, 6]\n",
    "x.append(3.14)  # x then becomes [-2, ’hello’, 4, 6, 3.14]"
   ]
  },
  {
   "cell_type": "code",
   "execution_count": 25,
   "metadata": {
    "collapsed": false,
    "scrolled": true
   },
   "outputs": [
    {
     "name": "stdout",
     "output_type": "stream",
     "text": [
      "x element:  hello\n",
      "x element:  4\n",
      "x element:  3.14\n",
      "x element:  6\n",
      "This was all the elements in the list x\n"
     ]
    }
   ],
   "source": [
    "x = ['hello' , 4, 3.14, 6]\n",
    "for e in x:\n",
    "    print('x element: ' , e)\n",
    "print('This was all the elements in the list x')"
   ]
  },
  {
   "cell_type": "code",
   "execution_count": 28,
   "metadata": {
    "collapsed": false
   },
   "outputs": [
    {
     "data": {
      "text/plain": [
       "[1, 2, 3, 4]"
      ]
     },
     "execution_count": 28,
     "metadata": {},
     "output_type": "execute_result"
    }
   ],
   "source": [
    "List_1 = [1, 2, 3, 4]\n",
    "List_1"
   ]
  },
  {
   "cell_type": "code",
   "execution_count": 29,
   "metadata": {
    "collapsed": false
   },
   "outputs": [
    {
     "data": {
      "text/plain": [
       "[10, 20, 30, 40]"
      ]
     },
     "execution_count": 29,
     "metadata": {},
     "output_type": "execute_result"
    }
   ],
   "source": [
    "List_2 = [e*10 for e in List_1]\n",
    "List_2"
   ]
  },
  {
   "cell_type": "code",
   "execution_count": null,
   "metadata": {
    "collapsed": false,
    "scrolled": true
   },
   "outputs": [],
   "source": [
    "List_2 = [E(e) for e in List_1]\n",
    "List_2"
   ]
  },
  {
   "cell_type": "code",
   "execution_count": 33,
   "metadata": {
    "collapsed": false
   },
   "outputs": [
    {
     "name": "stdout",
     "output_type": "stream",
     "text": [
      "x element:  hello\n",
      "x element:  4\n",
      "x element:  3.14\n",
      "x element:  6\n",
      "This was all the elements in the tuple x\n"
     ]
    }
   ],
   "source": [
    "x = ('hello' , 4, 3.14, 6)\n",
    "for e in x:\n",
    "    print('x element: ' , e)\n",
    "print('This was all the elements in the tuple x')"
   ]
  },
  {
   "cell_type": "markdown",
   "metadata": {},
   "source": [
    "## 2.6 Reading from and Writing to Files"
   ]
  },
  {
   "cell_type": "code",
   "execution_count": null,
   "metadata": {
    "collapsed": true
   },
   "outputs": [],
   "source": [
    "# %load py/file_handling.py\n",
    "filename = 'tmp.dat'\n",
    "infile = open(filename, 'r')  # Open file for reading\n",
    "line = infile.readline()      # Read first line\n",
    "# Read x and y coordinates from the file and store in lists\n",
    "x = []\n",
    "y = []\n",
    "for line in infile:\n",
    "    words = line.split()      # Split line into words\n",
    "    x.append(float(words[0]))\n",
    "    y.append(float(words[1]))\n",
    "infile.close()\n",
    "\n",
    "# Transform y coordinates\n",
    "from math import log\n",
    "\n",
    "def f(y):\n",
    "    return log(y)\n",
    "\n",
    "for i in range(len(y)):\n",
    "    y[i] = f(y[i])\n",
    "\n",
    "# Write out x and y to a two-column file\n",
    "filename = 'tmp_out.dat'\n",
    "outfile = open(filename, 'w')  # Open file for writing\n",
    "outfile.write('# x and y coordinates\\n')\n",
    "for xi, yi in zip(x, y):\n",
    "    outfile.write('%10.5f %10.5f\\n' % (xi, yi))\n",
    "outfile.close()\n",
    "\n"
   ]
  },
  {
   "cell_type": "code",
   "execution_count": null,
   "metadata": {
    "collapsed": false,
    "scrolled": true
   },
   "outputs": [],
   "source": [
    "%run py/file_handling.py"
   ]
  },
  {
   "cell_type": "code",
   "execution_count": null,
   "metadata": {
    "collapsed": true
   },
   "outputs": [],
   "source": [
    "# %load py/file_handling_numpy.py\n",
    "filename = 'tmp.dat'\n",
    "import numpy\n",
    "data = numpy.loadtxt(filename, comments='#')\n",
    "x = data[:,0]\n",
    "y = data[:,1]\n",
    "data[:,1] = numpy.log(y)  # insert transformed y back in array\n",
    "filename = 'tmp_out.dat'\n",
    "filename = 'tmp_out.dat'\n",
    "outfile = open(filename, 'w')  # open file for writing\n",
    "outfile.write('# x and y coordinates\\n')\n",
    "numpy.savetxt(outfile, data, fmt='%10.5f')\n",
    "\n"
   ]
  },
  {
   "cell_type": "code",
   "execution_count": null,
   "metadata": {
    "collapsed": false,
    "scrolled": true
   },
   "outputs": [],
   "source": [
    "%run py/file_handling_numpy.py"
   ]
  },
  {
   "cell_type": "markdown",
   "metadata": {},
   "source": [
    "## 2.7 Exercises"
   ]
  },
  {
   "cell_type": "markdown",
   "metadata": {},
   "source": [
    "### Exercise 2.1: Errors with colon, indent, etc.  "
   ]
  },
  {
   "cell_type": "markdown",
   "metadata": {},
   "source": [
    "### Exercise 2.2: Compare integers a and b  "
   ]
  },
  {
   "cell_type": "code",
   "execution_count": 1,
   "metadata": {
    "collapsed": false
   },
   "outputs": [
    {
     "name": "stdout",
     "output_type": "stream",
     "text": [
      "Give an integer a: 10\n",
      "Give an integer b: 2\n",
      "a is the largest of the two numbers\n"
     ]
    }
   ],
   "source": [
    "a = input('Give an integer a: ')\n",
    "b = input('Give an integer b: ')\n",
    "\n",
    "if a < b:\n",
    "    print \"a is the smallest of the two numbers\"\n",
    "elif a == b:\n",
    "    print \"a and b are equal\"\n",
    "else:\n",
    "    print \"a is the largest of the two numbers\""
   ]
  },
  {
   "cell_type": "markdown",
   "metadata": {},
   "source": [
    "### Exercise 2.3: Functions for circumference and area of acircle  "
   ]
  },
  {
   "cell_type": "code",
   "execution_count": null,
   "metadata": {
    "collapsed": false
   },
   "outputs": [],
   "source": [
    "from math import *\n",
    "\n",
    "def circumference(r):\n",
    "    return 2*pi*r\n",
    "def area(r):\n",
    "    return pi*r**2\n",
    "\n",
    "r = input('Give the radius of a circle: ')\n",
    "C = circumference(r)\n",
    "A = area(r)\n",
    "print \"Circumference: %g , Area: %g\" % (C, A)"
   ]
  },
  {
   "cell_type": "markdown",
   "metadata": {},
   "source": [
    "### Exercise 2.4: Function for area of arectangle  "
   ]
  },
  {
   "cell_type": "code",
   "execution_count": null,
   "metadata": {
    "collapsed": true
   },
   "outputs": [],
   "source": [
    "def area(s1, s2):\n",
    "    return s1*s2\n",
    "\n",
    "b = input('Give the one side of the rectangle: ')\n",
    "c = input('Give the other side of the rectangle: ')\n",
    "print \"Area: \", area(b, c)"
   ]
  },
  {
   "cell_type": "markdown",
   "metadata": {},
   "source": [
    "### Exercise 2.5: Area of apolygon  "
   ]
  },
  {
   "cell_type": "code",
   "execution_count": null,
   "metadata": {
    "collapsed": true
   },
   "outputs": [],
   "source": [
    "\"\"\"\n",
    "Computes the area of a polygon from vertex\n",
    "coordinates only.\n",
    "\"\"\"\n",
    "\n",
    "def polyarea(x, y):\n",
    "    n = len(x)\n",
    "    # next we may initialize area with those terms in the\n",
    "    # sum that does not follow the \"increasing index pattern\"\n",
    "    area = x[n-1]*y[0] - y[n-1]*x[0]\n",
    "    for i in range(0,n-1,1):\n",
    "        area += x[i]*y[i+1] - y[i]*x[i+1]\n",
    "    return 0.5*abs(area)"
   ]
  },
  {
   "cell_type": "code",
   "execution_count": null,
   "metadata": {
    "collapsed": true
   },
   "outputs": [],
   "source": [
    "# pentagon\n",
    "x = [0, 2, 2, 1, 0]\n",
    "y = [0, 0, 2, 3, 2]\n",
    "print 'Area pentagon (true value = 5): ', polyarea(x, y)\n",
    "# quadrilateral\n",
    "x = [0, 2, 2, 0]\n",
    "y = [0, 0, 2, 2]\n",
    "print 'Area quadrilateral (true value = 4): ', polyarea(x, y)\n",
    "# triangle\n",
    "x = [0, 2, 0]\n",
    "y = [0, 0, 2]\n",
    "print 'Area triangle (true value = 2): ', polyarea(x, y)"
   ]
  },
  {
   "cell_type": "markdown",
   "metadata": {},
   "source": [
    "### Exercise 2.6: Average of integers  "
   ]
  },
  {
   "cell_type": "code",
   "execution_count": null,
   "metadata": {
    "collapsed": true
   },
   "outputs": [],
   "source": [
    "def average(N):\n",
    "    sum = 0\n",
    "    for i in range(1, N+1):    # Note: Must use `N+1` to get `N`\n",
    "        sum += i\n",
    "    return sum/float(N)\n",
    "\n",
    "N = input('Give an integer > 1: ')\n",
    "average_1_to_N = average(N)\n",
    "print \"The average of 1,..., %d is: %g\" % (N, average_1_to_N)"
   ]
  },
  {
   "cell_type": "markdown",
   "metadata": {},
   "source": [
    "### Exercise 2.7: While loop with errors  "
   ]
  },
  {
   "cell_type": "code",
   "execution_count": 1,
   "metadata": {
    "collapsed": false
   },
   "outputs": [
    {
     "ename": "SyntaxError",
     "evalue": "invalid syntax (<ipython-input-1-04eb2322b336>, line 3)",
     "output_type": "error",
     "traceback": [
      "\u001b[0;36m  File \u001b[0;32m\"<ipython-input-1-04eb2322b336>\"\u001b[0;36m, line \u001b[0;32m3\u001b[0m\n\u001b[0;31m    while i < 11\u001b[0m\n\u001b[0m                ^\u001b[0m\n\u001b[0;31mSyntaxError\u001b[0m\u001b[0;31m:\u001b[0m invalid syntax\n"
     ]
    }
   ],
   "source": [
    "some_number = 0\n",
    "i = 1\n",
    "while i < 11\n",
    "    some_number += 1\n",
    "print some_number"
   ]
  },
  {
   "cell_type": "code",
   "execution_count": 3,
   "metadata": {
    "collapsed": false
   },
   "outputs": [
    {
     "name": "stdout",
     "output_type": "stream",
     "text": [
      "55\n"
     ]
    }
   ],
   "source": [
    "some_number = 0;\n",
    "i = 1\n",
    "while i < 11:\n",
    "    some_number += i\n",
    "    i += 1\n",
    "print some_number"
   ]
  },
  {
   "cell_type": "markdown",
   "metadata": {},
   "source": [
    "### Exercise 2.8: Area of rectangle versus circle  "
   ]
  },
  {
   "cell_type": "code",
   "execution_count": 4,
   "metadata": {
    "collapsed": false
   },
   "outputs": [
    {
     "name": "stdout",
     "output_type": "stream",
     "text": [
      "The largest possible value of b:  271\n"
     ]
    }
   ],
   "source": [
    "from math import *\n",
    "\n",
    "r = 10.6\n",
    "a = 1.3    # one side of rectangle\n",
    "circle_area = pi*r**2\n",
    "\n",
    "b = 0      # chosen starting value for other side of rectangle\n",
    "while a*b < circle_area:\n",
    "    b += 1\n",
    "b -= 1     # must reverse the last update to get the right value\n",
    "print \"The largest possible value of b: \", b"
   ]
  },
  {
   "cell_type": "markdown",
   "metadata": {},
   "source": [
    "### Exercise 19: Find crossing points of two graphs"
   ]
  },
  {
   "cell_type": "markdown",
   "metadata": {},
   "source": [
    "### Exercise 2.9: Find crossing points of two graphs  "
   ]
  },
  {
   "cell_type": "code",
   "execution_count": null,
   "metadata": {
    "collapsed": true
   },
   "outputs": [],
   "source": [
    "from numpy import *\n",
    "\n",
    "def f(x):\n",
    "    return x\n",
    "\n",
    "def g(x):\n",
    "    return x**2\n",
    "\n",
    "N = input('Give the number of check points N: ')\n",
    "epsilon = input('Give the error tolerance: ')\n",
    "x_values = linspace(-4, 4, N)\n",
    "\n",
    "# Next, we run over all indices in the array `x_values` and\n",
    "# check if the difference between function values is smaller than\n",
    "# the chosen limit\n",
    "\n",
    "for i in range(N):\n",
    "    if abs(f(x_values[i]) - g(x_values[i])) < epsilon:\n",
    "        print x_values[i]"
   ]
  },
  {
   "cell_type": "markdown",
   "metadata": {},
   "source": [
    "### Exercise 2.10: Sort array with numbers  "
   ]
  },
  {
   "cell_type": "code",
   "execution_count": null,
   "metadata": {
    "collapsed": true
   },
   "outputs": [],
   "source": [
    "from numpy import zeros\n",
    "from random import uniform\n",
    "\n",
    "N = 6\n",
    "numbers = zeros(N)\n",
    "\n",
    "# Draw random numbers\n",
    "for i in range(len(numbers)):\n",
    "    numbers[i] = uniform(0, 10)\n",
    "print \"Unsorted: %5.3f  %5.3f %5.3f %5.3f  %5.3f %5.3f\" % \\\n",
    "        (numbers[0], numbers[1], numbers[2],\\\n",
    "         numbers[3], numbers[4], numbers[5])\n",
    "\n",
    "for reference in range(N):\n",
    "    smallest = numbers[reference]\n",
    "    i_smallest = reference\n",
    "    # Find the smallest number in remaining unprinted array\n",
    "    for i in range(reference + 1, N, 1):\n",
    "        if numbers[i] <= smallest:\n",
    "            smallest = numbers[i]\n",
    "            i_smallest = i\n",
    "    # Switch numbers, and use an extra variable for that\n",
    "    switch = numbers[reference]\n",
    "    numbers[reference] = numbers[i_smallest]\n",
    "    numbers[i_smallest] = switch\n",
    "\n",
    "print \"Sorted  : %5.3f  %5.3f %5.3f %5.3f  %5.3f %5.3f\" % \\\n",
    "        (numbers[0], numbers[1], numbers[2],\\\n",
    "         numbers[3], numbers[4], numbers[5])"
   ]
  },
  {
   "cell_type": "markdown",
   "metadata": {},
   "source": [
    "### Exercise 2.11: Compute  pi"
   ]
  },
  {
   "cell_type": "code",
   "execution_count": 7,
   "metadata": {
    "collapsed": false
   },
   "outputs": [
    {
     "name": "stdout",
     "output_type": "stream",
     "text": [
      "Give number of terms in sum for pi: 20\n",
      "Leibniz:  0.024996096796\n",
      "Euler:  0.0469231294761\n"
     ]
    }
   ],
   "source": [
    "from numpy import pi, zeros, sqrt\n",
    "\n",
    "no_of_terms = input('Give number of terms in sum for pi: ')\n",
    "Leibniz_error = zeros(no_of_terms)\n",
    "Euler_error = zeros(no_of_terms)\n",
    "\n",
    "#Leibniz\n",
    "sum1 = 0\n",
    "for k in range(0, no_of_terms):\n",
    "    sum1 += 1.0/((4*k + 1)*(4*k + 3))\n",
    "    Leibniz_error[k] = pi - 8*sum1\n",
    "sum1 *= 8\n",
    "final_Leibniz_error = abs(pi - sum1)\n",
    "print \"Leibniz: \", final_Leibniz_error\n",
    "\n",
    "# Euler\n",
    "sum2 = 0\n",
    "for k in range(1, no_of_terms+1):  # Note index range\n",
    "    sum2 += 1.0/k**2\n",
    "    Euler_error[k-1] = pi - sqrt(6*sum2)\n",
    "sum2 *= 6\n",
    "sum2 = sqrt(sum2)\n",
    "final_Euler_error = abs(pi - sum2)\n",
    "print \"Euler: \", final_Euler_error\n",
    "\n",
    "import matplotlib.pyplot as plt\n",
    "plt.plot(range(no_of_terms), Leibniz_error, 'b-',\\\n",
    "         range(no_of_terms), Euler_error, 'r-')\n",
    "plt.xlabel('No of terms')\n",
    "plt.ylabel('Error with Leibniz (blue) and Euler (red)')\n",
    "plt.show()"
   ]
  },
  {
   "cell_type": "code",
   "execution_count": null,
   "metadata": {
    "collapsed": true
   },
   "outputs": [],
   "source": []
  },
  {
   "cell_type": "markdown",
   "metadata": {},
   "source": [
    "### Exercise 2.12: Compute combinations of sets  "
   ]
  },
  {
   "cell_type": "code",
   "execution_count": 8,
   "metadata": {
    "collapsed": false
   },
   "outputs": [
    {
     "name": "stdout",
     "output_type": "stream",
     "text": [
      "['CA', 'C2', 'C3', 'C4', 'C5', 'C6', 'C7', 'C8', 'C9', 'C10', 'CJ', 'CQ', 'CK', 'DA', 'D2', 'D3', 'D4', 'D5', 'D6', 'D7', 'D8', 'D9', 'D10', 'DJ', 'DQ', 'DK', 'HA', 'H2', 'H3', 'H4', 'H5', 'H6', 'H7', 'H8', 'H9', 'H10', 'HJ', 'HQ', 'HK', 'SA', 'S2', 'S3', 'S4', 'S5', 'S6', 'S7', 'S8', 'S9', 'S10', 'SJ', 'SQ', 'SK']\n"
     ]
    }
   ],
   "source": [
    "ranks = ['A', '2', '3', '4', '5', '6', '7',\n",
    "         '8', '9', '10', 'J', 'Q', 'K']\n",
    "suits = ['C', 'D', 'H', 'S']\n",
    "deck = []\n",
    "for s in suits:\n",
    "    for r in ranks:\n",
    "        deck.append(s + r)\n",
    "print deck"
   ]
  },
  {
   "cell_type": "code",
   "execution_count": null,
   "metadata": {
    "collapsed": false,
    "scrolled": false
   },
   "outputs": [],
   "source": [
    "import string\n",
    "letters = string.ascii_uppercase\n",
    "digits = range(10)\n",
    "registration_numbers = []\n",
    "for place1 in letters:\n",
    "    for place2 in letters:\n",
    "        for place3 in digits:\n",
    "            for place4 in digits:\n",
    "                for place5 in digits:\n",
    "                    registration_numbers.append(\n",
    "                        '%s%s%s%s%s' %\n",
    "                        (place1, place2, place3, place4, place5))\n",
    "print registration_numbers"
   ]
  },
  {
   "cell_type": "markdown",
   "metadata": {},
   "source": [
    "### Exercise 2.13: Frequency of random numbers  "
   ]
  },
  {
   "cell_type": "code",
   "execution_count": 10,
   "metadata": {
    "collapsed": false
   },
   "outputs": [
    {
     "name": "stdout",
     "output_type": "stream",
     "text": [
      "How many random numbers should be drawn? 10\n",
      "Draw number 1 gave: 4\n",
      "Draw number 2 gave: 3\n",
      "Draw number 3 gave: 6\n",
      "Draw number 4 gave: 1\n",
      "Draw number 5 gave: 5\n",
      "Draw number 6 gave: 5\n",
      "Draw number 7 gave: 1\n",
      "Draw number 8 gave: 1\n",
      "Draw number 9 gave: 5\n",
      "Draw number 10 gave: 1\n",
      "The fraction M/N became: 0.1\n"
     ]
    }
   ],
   "source": [
    "from random import randint\n",
    "\n",
    "N = input('How many random numbers should be drawn? ')\n",
    "\n",
    "# Draw random numbers\n",
    "M = 0   # Counter for the occurences of 6\n",
    "for i in range(N):\n",
    "    drawn_number = randint(1, 6)\n",
    "    print 'Draw number %d gave: %d' % (i+1, drawn_number)\n",
    "    if drawn_number == 6:\n",
    "        M += 1\n",
    "\n",
    "print 'The fraction M/N became: %g' % (M/float(N))"
   ]
  },
  {
   "cell_type": "markdown",
   "metadata": {},
   "source": [
    "### Exercise 2.14: Game21  "
   ]
  },
  {
   "cell_type": "code",
   "execution_count": 11,
   "metadata": {
    "collapsed": false
   },
   "outputs": [
    {
     "name": "stdout",
     "output_type": "stream",
     "text": [
      "You got:  8\n",
      "Your score is now: 8 points!\n",
      "Another draw (y/n)? y\n",
      "You got:  1\n",
      "Your score is now: 9 points!\n",
      "Another draw (y/n)? y\n",
      "You got:  0\n",
      "Your score is now: 9 points!\n",
      "Another draw (y/n)? y\n",
      "You got:  1\n",
      "Your score is now: 10 points!\n",
      "Another draw (y/n)? y\n",
      "You got:  4\n",
      "Your score is now: 14 points!\n",
      "Another draw (y/n)? y\n",
      "You got:  10\n",
      "Game over, you passed 21 (with your 24 points)!\n",
      "Finished!\n"
     ]
    }
   ],
   "source": [
    "from random import randint\n",
    "\n",
    "upper_limit = 21\n",
    "not_finished = True\n",
    "sum = 0\n",
    "while not_finished:\n",
    "    next_number = randint(0, 10)\n",
    "    print \"You got: \", next_number\n",
    "    sum += next_number\n",
    "    if sum > upper_limit:\n",
    "        print \"Game over, you passed 21 (with your %d points)!\"\\\n",
    "                % sum\n",
    "        not_finished = False\n",
    "    else:\n",
    "        print \"Your score is now: %d points!\" % (sum)\n",
    "        answer = raw_input('Another draw (y/n)? ')\n",
    "        if answer != 'y':\n",
    "            not_finished = False\n",
    "print \"Finished!\""
   ]
  },
  {
   "cell_type": "markdown",
   "metadata": {},
   "source": [
    "### Exercise 2.15: Linear interpolation  "
   ]
  },
  {
   "cell_type": "code",
   "execution_count": 14,
   "metadata": {
    "collapsed": false,
    "scrolled": true
   },
   "outputs": [
    {
     "name": "stdout",
     "output_type": "stream",
     "text": [
      "For time t on the interval [0,4]...\n",
      "Give your desired t > 0: 2\n",
      "y(t) = 11\n",
      "Give new time t (to stop, enter t < 0): -2\n"
     ]
    }
   ],
   "source": [
    "from numpy import zeros\n",
    "\n",
    "def interpolate(y, t):\n",
    "    \"\"\"Uses linear interpolation to find intermediate y\"\"\"\n",
    "    i = int(t)\n",
    "    # Scheme: y(t) = y_i + delta-y/delta-t * dt\n",
    "    return y[i] + ((y[i+1] - y[i])/delta_t)*(t-i)\n",
    "\n",
    "def find_y():\n",
    "    \"\"\"Repeatedly finds y at t by interpolation\"\"\"\n",
    "    print 'For time t on the interval [0,%d]...' % (N)\n",
    "    t = input('Give your desired t > 0: ')\n",
    "    while t >= 0:\n",
    "        print 'y(t) = %g' % (interpolate(y, t))\n",
    "        t = input('Give new time t (to stop, enter t < 0): ')\n",
    "\n",
    "# Note: do not need to store the sequence of times\n",
    "N = 4            # Total number of measurements\n",
    "delta_t = 1.0    # Time difference between measurements\n",
    "\n",
    "y = zeros(5)\n",
    "y[0] = 4.4; y[1] = 2.0; y[2] = 11.0;\n",
    "y[3] = 21.5; y[4] = 7.5\n",
    "\n",
    "find_y()"
   ]
  },
  {
   "cell_type": "markdown",
   "metadata": {},
   "source": [
    "### Exercise 2.16: Test straight line requirement  "
   ]
  },
  {
   "cell_type": "code",
   "execution_count": null,
   "metadata": {
    "collapsed": false
   },
   "outputs": [],
   "source": [
    "\"\"\"\n",
    "For a straight line f(x) = ax + b, and the fixed point (2,f(2)) on\n",
    "the line, the script tests whether (f(x_i) - f(2)) / (x_i - 2) = a\n",
    "for randomly chosen x_i, i = 1,...,100.\n",
    "\"\"\"\n",
    "\n",
    "from random import random\n",
    "\n",
    "def f(x):\n",
    "    return a*x + b\n",
    "\n",
    "a = 4.0; b = 1.0\n",
    "c = 2; f_c = f(c)  # Fixed point on the line\n",
    "epsilon = 1e-6\n",
    "i = 0\n",
    "for i in range(100):\n",
    "    x = 10*random()   # random() returns number between 0 and 1\n",
    "    numerator = f(x) - f_c\n",
    "    denominator = x - c\n",
    "    if denominator > epsilon:   # To avoid zero division\n",
    "        fraction = numerator/denominator\n",
    "        # The following printout should be very close to zero in\n",
    "        # each case if the points are on the line\n",
    "        print 'For x = %g : %g' % (x,abs(fraction - a))"
   ]
  },
  {
   "cell_type": "markdown",
   "metadata": {},
   "source": [
    "### Exercise 2.17: Fit straight line to data  "
   ]
  },
  {
   "cell_type": "code",
   "execution_count": null,
   "metadata": {
    "collapsed": false
   },
   "outputs": [
    {
     "name": "stdout",
     "output_type": "stream",
     "text": [
      "Give a: 1\n",
      "Give b: 0\n",
      "The error is: 16.75\n"
     ]
    }
   ],
   "source": [
    "from numpy import array\n",
    "import matplotlib.pyplot as plt\n",
    "\n",
    "def f(t,a,b):\n",
    "    return a*t + b\n",
    "\n",
    "def find_error(a, b):\n",
    "    E = 0\n",
    "    for i in range(len(time)):\n",
    "        E += (f(time[i],a,b) - data[i])**2\n",
    "    return E\n",
    "\n",
    "def interactive_line_fit():\n",
    "    one_more = True\n",
    "    while one_more:\n",
    "        a = input('Give a: ')\n",
    "        b = input('Give b: ')\n",
    "        print 'The error is: %g' % (find_error(a, b))\n",
    "        y = f(time, a, b)\n",
    "        plt.plot(time, y, time, data, '*')\n",
    "        plt.xlabel('Time (s)')\n",
    "        plt.ylabel('y (stars) and straight line f(t)')\n",
    "        plt.show()\n",
    "        answer = raw_input('Do you want another fit (y/n)? ')\n",
    "        if answer == \"n\":\n",
    "            one_more = False\n",
    "\n",
    "data = array([0.5, 2.0, 1.0, 1.5, 7.5])\n",
    "time = array([0, 1, 2, 3, 4])\n",
    "\n",
    "interactive_line_fit()"
   ]
  },
  {
   "cell_type": "markdown",
   "metadata": {},
   "source": [
    "### Exercise 2.18: Fit sines to straightline  "
   ]
  },
  {
   "cell_type": "code",
   "execution_count": null,
   "metadata": {
    "collapsed": true
   },
   "outputs": [],
   "source": [
    "from numpy import zeros, linspace, sin, sqrt, pi, copy, arange\n",
    "import matplotlib.pyplot as plt\n",
    "\n",
    "def sinesum(t, b):\n",
    "    \"\"\"\n",
    "    Computes S as the sum over n of b_n * sin(n*t).\n",
    "    For each point in time (M) we loop over all b_n to\n",
    "    produce one element S[M], i.e. one element in\n",
    "    S corresponds to one point in time.\n",
    "    \"\"\"\n",
    "    S = zeros(len(t))\n",
    "    for M in range(0, len(t), 1):\n",
    "        for n in range(1, len(b)+1, 1):\n",
    "            S[M] += b[n-1]*sin(n*t[M])\n",
    "    return S\n",
    "\n",
    "def test_sinesum():\n",
    "    t = zeros(2); t[0] = -pi/2;  t[1] = pi/4\n",
    "    b = zeros(2); b[0] = 4.0;  b[1] = -3\n",
    "    print sinesum(t, b)\n",
    "\n",
    "def plot_compare(f, N, M):\n",
    "    time = linspace(left_end, right_end, M)\n",
    "    y = f(time)\n",
    "    S = sinesum(time, b)\n",
    "    plt.plot(time, y, 'b-', time, S, 'r--')\n",
    "    plt.xlabel('Time')\n",
    "    plt.ylabel('f (blue) and S (red)')\n",
    "    plt.show()\n",
    "\n",
    "def error(b, f, M):\n",
    "    time = linspace(left_end, right_end, M)\n",
    "    y = f(time)\n",
    "    S = sinesum(time, b)\n",
    "    E = 0\n",
    "    for i in range(len(time)):\n",
    "        E += sqrt((y[i] - S[i])**2)\n",
    "    return E\n",
    "\n",
    "def trial(f, N):\n",
    "    M = 500\n",
    "    new_trial = True\n",
    "    while new_trial:\n",
    "        for i in range(N):\n",
    "            text = 'Give b' + str(i+1) + ' : '\n",
    "            b[i] = input(text)\n",
    "        plot_compare(f, N, M)\n",
    "        print 'The error is: ', error(b, f, M)\n",
    "        answer = raw_input('Another trial (y/n)? ')\n",
    "        if answer == 'n':\n",
    "            new_trial = False\n",
    "\n",
    "def f(t):\n",
    "    return (1/pi)*t\n",
    "\n",
    "def automatic_fit(f, N):\n",
    "    \"\"\"Search for b-values, - just pick limits and step\"\"\"\n",
    "    global b\n",
    "    M = 500\n",
    "    # Produce and store an initially \"smallest\" error\n",
    "    b[0] = -1; b[1] = -1; b[2] = -1\n",
    "    test_b = copy(b)\n",
    "    smallest_E = error(test_b, f, M)\n",
    "    db = 0.1\n",
    "    for b1 in arange(-1, 1+db, db):\n",
    "        for b2 in arange(-1, 1+db, db):\n",
    "            for b3 in arange(-1, 1+db, db):\n",
    "                test_b[0] = b1; test_b[1] = b2;\n",
    "                test_b[2] = b3\n",
    "                E = error(test_b, f, M)\n",
    "                if E < smallest_E:\n",
    "                    b = copy(test_b)\n",
    "                    smallest_E = E\n",
    "    plot_compare(f, N, M)\n",
    "    print 'The b coeffiecients: ', b\n",
    "    print 'The smallest error found: ', smallest_E\n",
    "\n",
    "left_end = -pi;  right_end = pi\n",
    "N = 3\n",
    "b = zeros(N)\n",
    "#test_sinesum()\n",
    "#trial(f, N)\n",
    "automatic_fit(f, N)"
   ]
  },
  {
   "cell_type": "markdown",
   "metadata": {},
   "source": [
    "### Exercise 2.19: Count occurrences of a string in a string"
   ]
  },
  {
   "cell_type": "code",
   "execution_count": null,
   "metadata": {
    "collapsed": true
   },
   "outputs": [],
   "source": [
    "gene = 'AGTCAATGGAATAGGCCAAGCGAATATTTGGGCTACCA'\n",
    "\n",
    "def freq(letter, text):\n",
    "    counter = 0\n",
    "    for i in text:\n",
    "        if i == letter:\n",
    "            counter += 1\n",
    "    return counter/float(len(text))\n",
    "\n",
    "def pairs(letter, text):\n",
    "    counter = 0\n",
    "    for i in range(len(text)):\n",
    "        if i < len(text)-1 and \\\n",
    "               text[i] == letter and text[i+1] == letter:\n",
    "            counter += 1\n",
    "    return counter\n",
    "\n",
    "def mystruct(text):\n",
    "    counter = 0\n",
    "    for i in range(len(text)):\n",
    "        # Search for the structure from position i\n",
    "        if text[i] == 'G':\n",
    "            print 'found G at', i\n",
    "            # Search among A and T letters\n",
    "            j = i + 1\n",
    "            while text[j] == 'A' or text[j] == 'T':\n",
    "                print 'next is ok:', text[j]\n",
    "                j = j + 1\n",
    "            print 'ending is', text[j:j+2]\n",
    "            if text[j:j+2] == 'GG':\n",
    "                # Correct ending of structure\n",
    "                counter += 1\n",
    "                print 'yes'\n",
    "    return counter\n",
    "\n",
    "print 'frequency of C: %.1f' % freq('C', gene)\n",
    "print 'frequency of G: %.1f' % freq('G', gene)\n",
    "print 'no of pairs AA: %d' % pairs('A', gene)\n",
    "print 'no of structures: %d' % mystruct(gene)"
   ]
  },
  {
   "cell_type": "code",
   "execution_count": null,
   "metadata": {
    "collapsed": true
   },
   "outputs": [],
   "source": []
  }
 ],
 "metadata": {
  "kernelspec": {
   "display_name": "Python 2",
   "language": "python",
   "name": "python2"
  },
  "language_info": {
   "codemirror_mode": {
    "name": "ipython",
    "version": 2
   },
   "file_extension": ".py",
   "mimetype": "text/x-python",
   "name": "python",
   "nbconvert_exporter": "python",
   "pygments_lexer": "ipython2",
   "version": "2.7.13"
  }
 },
 "nbformat": 4,
 "nbformat_minor": 1
}
