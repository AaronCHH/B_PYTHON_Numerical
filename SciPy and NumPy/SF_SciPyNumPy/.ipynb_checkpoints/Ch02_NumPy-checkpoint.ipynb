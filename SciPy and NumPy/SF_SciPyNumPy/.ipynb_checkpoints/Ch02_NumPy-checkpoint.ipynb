{
 "cells": [
  {
   "cell_type": "markdown",
   "metadata": {},
   "source": [
    "# Chapter 2 NumPy"
   ]
  },
  {
   "cell_type": "markdown",
   "metadata": {},
   "source": [
    "<div id=\"toc\"></div>"
   ]
  },
  {
   "cell_type": "markdown",
   "metadata": {},
   "source": [
    "\n",
    "## 2.1 NumPy Arrays"
   ]
  },
  {
   "cell_type": "code",
   "execution_count": null,
   "metadata": {
    "collapsed": false,
    "scrolled": true
   },
   "outputs": [],
   "source": [
    "import numpy as np\n",
    "# Create an array with 10^7 elements.\n",
    "arr = np.arange(1e7)\n",
    "# Converting ndarray to list\n",
    "larr = arr.tolist()\n",
    "# Lists cannot by default broadcast,\n",
    "# so a function is coded to emulate\n",
    "# what an ndarray can do.\n",
    "\n",
    "def list_times(alist, scalar):\n",
    "    for i, val in enumerate(alist):\n",
    "        alist[i] = val * scalar\n",
    "        return alist    "
   ]
  },
  {
   "cell_type": "code",
   "execution_count": null,
   "metadata": {
    "collapsed": false,
    "scrolled": false
   },
   "outputs": [],
   "source": [
    "# Using IPython's magic timeit command\n",
    "timeit arr * 1.1\n",
    "# >>> 1 loops, best of 3: 76.9 ms per loop"
   ]
  },
  {
   "cell_type": "code",
   "execution_count": null,
   "metadata": {
    "collapsed": false
   },
   "outputs": [],
   "source": [
    "timeit list_times(larr, 1.1)\n",
    "# >>> 1 loops, best of 3: 2.03 s per loop"
   ]
  },
  {
   "cell_type": "code",
   "execution_count": 7,
   "metadata": {
    "collapsed": true
   },
   "outputs": [
    {
     "ename": "ValueError",
     "evalue": "shape too large to be a matrix.",
     "output_type": "error",
     "traceback": [
      "\u001b[1;31m---------------------------------------------------------------------------\u001b[0m",
      "\u001b[1;31mValueError\u001b[0m                                Traceback (most recent call last)",
      "\u001b[1;32m<ipython-input-7-319b9cb85414>\u001b[0m in \u001b[0;36m<module>\u001b[1;34m()\u001b[0m\n\u001b[0;32m      3\u001b[0m \u001b[0marr\u001b[0m \u001b[1;33m=\u001b[0m \u001b[0mnp\u001b[0m\u001b[1;33m.\u001b[0m\u001b[0mzeros\u001b[0m\u001b[1;33m(\u001b[0m\u001b[1;33m(\u001b[0m\u001b[1;36m3\u001b[0m\u001b[1;33m,\u001b[0m\u001b[1;36m3\u001b[0m\u001b[1;33m,\u001b[0m\u001b[1;36m3\u001b[0m\u001b[1;33m)\u001b[0m\u001b[1;33m)\u001b[0m\u001b[1;33m\u001b[0m\u001b[0m\n\u001b[0;32m      4\u001b[0m \u001b[1;31m# Trying to convert array to a matrix, which will not work\u001b[0m\u001b[1;33m\u001b[0m\u001b[1;33m\u001b[0m\u001b[0m\n\u001b[1;32m----> 5\u001b[1;33m \u001b[0mmat\u001b[0m \u001b[1;33m=\u001b[0m \u001b[0mnp\u001b[0m\u001b[1;33m.\u001b[0m\u001b[0mmatrix\u001b[0m\u001b[1;33m(\u001b[0m\u001b[0marr\u001b[0m\u001b[1;33m)\u001b[0m\u001b[1;33m\u001b[0m\u001b[0m\n\u001b[0m\u001b[0;32m      6\u001b[0m \u001b[1;31m# \"ValueError: shape too large to be a matrix.\"\u001b[0m\u001b[1;33m\u001b[0m\u001b[1;33m\u001b[0m\u001b[0m\n",
      "\u001b[1;32mC:\\Anaconda\\lib\\site-packages\\numpy\\matrixlib\\defmatrix.pyc\u001b[0m in \u001b[0;36m__new__\u001b[1;34m(subtype, data, dtype, copy)\u001b[0m\n\u001b[0;32m    256\u001b[0m             \u001b[1;32melse\u001b[0m\u001b[1;33m:\u001b[0m\u001b[1;33m\u001b[0m\u001b[0m\n\u001b[0;32m    257\u001b[0m                 \u001b[0mintype\u001b[0m \u001b[1;33m=\u001b[0m \u001b[0mN\u001b[0m\u001b[1;33m.\u001b[0m\u001b[0mdtype\u001b[0m\u001b[1;33m(\u001b[0m\u001b[0mdtype\u001b[0m\u001b[1;33m)\u001b[0m\u001b[1;33m\u001b[0m\u001b[0m\n\u001b[1;32m--> 258\u001b[1;33m             \u001b[0mnew\u001b[0m \u001b[1;33m=\u001b[0m \u001b[0mdata\u001b[0m\u001b[1;33m.\u001b[0m\u001b[0mview\u001b[0m\u001b[1;33m(\u001b[0m\u001b[0msubtype\u001b[0m\u001b[1;33m)\u001b[0m\u001b[1;33m\u001b[0m\u001b[0m\n\u001b[0m\u001b[0;32m    259\u001b[0m             \u001b[1;32mif\u001b[0m \u001b[0mintype\u001b[0m \u001b[1;33m!=\u001b[0m \u001b[0mdata\u001b[0m\u001b[1;33m.\u001b[0m\u001b[0mdtype\u001b[0m\u001b[1;33m:\u001b[0m\u001b[1;33m\u001b[0m\u001b[0m\n\u001b[0;32m    260\u001b[0m                 \u001b[1;32mreturn\u001b[0m \u001b[0mnew\u001b[0m\u001b[1;33m.\u001b[0m\u001b[0mastype\u001b[0m\u001b[1;33m(\u001b[0m\u001b[0mintype\u001b[0m\u001b[1;33m)\u001b[0m\u001b[1;33m\u001b[0m\u001b[0m\n",
      "\u001b[1;32mC:\\Anaconda\\lib\\site-packages\\numpy\\matrixlib\\defmatrix.pyc\u001b[0m in \u001b[0;36m__array_finalize__\u001b[1;34m(self, obj)\u001b[0m\n\u001b[0;32m    301\u001b[0m                 \u001b[1;32mreturn\u001b[0m\u001b[1;33m\u001b[0m\u001b[0m\n\u001b[0;32m    302\u001b[0m             \u001b[1;32melif\u001b[0m \u001b[1;33m(\u001b[0m\u001b[0mndim\u001b[0m \u001b[1;33m>\u001b[0m \u001b[1;36m2\u001b[0m\u001b[1;33m)\u001b[0m\u001b[1;33m:\u001b[0m\u001b[1;33m\u001b[0m\u001b[0m\n\u001b[1;32m--> 303\u001b[1;33m                 \u001b[1;32mraise\u001b[0m \u001b[0mValueError\u001b[0m\u001b[1;33m(\u001b[0m\u001b[1;34m\"shape too large to be a matrix.\"\u001b[0m\u001b[1;33m)\u001b[0m\u001b[1;33m\u001b[0m\u001b[0m\n\u001b[0m\u001b[0;32m    304\u001b[0m         \u001b[1;32melse\u001b[0m\u001b[1;33m:\u001b[0m\u001b[1;33m\u001b[0m\u001b[0m\n\u001b[0;32m    305\u001b[0m             \u001b[0mnewshape\u001b[0m \u001b[1;33m=\u001b[0m \u001b[0mself\u001b[0m\u001b[1;33m.\u001b[0m\u001b[0mshape\u001b[0m\u001b[1;33m\u001b[0m\u001b[0m\n",
      "\u001b[1;31mValueError\u001b[0m: shape too large to be a matrix."
     ]
    }
   ],
   "source": [
    "import numpy as np\n",
    "\n",
    "# Creating a 3D numpy array\n",
    "arr = np.zeros((3,3,3))\n",
    "\n",
    "# Trying to convert array to a matrix, which will not work\n",
    "mat = np.matrix(arr)\n",
    "\n",
    "# \"ValueError: shape too large to be a matrix.\""
   ]
  },
  {
   "cell_type": "markdown",
   "metadata": {
    "collapsed": true
   },
   "source": [
    "### 2.1.1 Array Creation and Data Typing"
   ]
  },
  {
   "cell_type": "code",
   "execution_count": 6,
   "metadata": {
    "collapsed": false
   },
   "outputs": [],
   "source": [
    "import numpy as np\n",
    "\n",
    "# First we create a list and then\n",
    "# wrap it with the np.array() function.\n",
    "alist = [1, 2, 3]\n",
    "arr = np.array(alist)\n",
    "\n",
    "# Creating an array of zeros with five elements\n",
    "arr = np.zeros(5)\n",
    "\n",
    "# What if we want to create an array going from 0 to 100?\n",
    "arr = np.arange(100)\n",
    "\n",
    "# Or 10 to 100?\n",
    "arr = np.arange(10,100)\n",
    "\n",
    "# If you want 100 steps from 0 to 1...\n",
    "arr = np.linspace(0, 1, 100)\n",
    "\n",
    "# Or if you want to generate an array from 1 to 10\n",
    "# in log10 space in 100 steps...\n",
    "arr = np.logspace(0, 1, 100, base=10.0)\n",
    "\n",
    "# Creating a 5x5 array of zeros (an image)\n",
    "image = np.zeros((5,5))\n",
    "\n",
    "# Creating a 5x5x5 cube of 1's\n",
    "# The astype() method sets the array with integer elements.\n",
    "cube = np.zeros((5,5,5)).astype(int) + 1\n",
    "\n",
    "# Or even simpler with 16-bit floating-point precision...\n",
    "cube = np.ones((5, 5, 5)).astype(np.float16)"
   ]
  },
  {
   "cell_type": "code",
   "execution_count": 7,
   "metadata": {
    "collapsed": true
   },
   "outputs": [],
   "source": [
    "# Array of zero integers\n",
    "arr = np.zeros(2, dtype=int)\n",
    "\n",
    "# Array of zero floats\n",
    "arr = np.zeros(2, dtype=np.float32)"
   ]
  },
  {
   "cell_type": "code",
   "execution_count": null,
   "metadata": {
    "collapsed": false
   },
   "outputs": [],
   "source": [
    "# Creating an array with elements from 0 to 999\n",
    "arr1d = np.arange(1000)\n",
    "\n",
    "# Now reshaping the array to a 10x10x10 3D array\n",
    "arr3d = arr1d.reshape((10,10,10))\n",
    "\n",
    "# The reshape command can alternatively be called this way\n",
    "arr3d = np.reshape(arr1s, (10, 10, 10))\n",
    "\n",
    "# Inversely, we can flatten arrays\n",
    "arr4d = np.zeros((10, 10, 10, 10))\n",
    "arr1d = arr4d.ravel()\n",
    "\n",
    "print(arr1d.shape)\n",
    "(1000,)"
   ]
  },
  {
   "cell_type": "markdown",
   "metadata": {
    "collapsed": true
   },
   "source": [
    "### 2.1.2 Record Arrays"
   ]
  },
  {
   "cell_type": "code",
   "execution_count": 11,
   "metadata": {
    "collapsed": true
   },
   "outputs": [],
   "source": [
    "# Creating an array of zeros and defining column types\n",
    "recarr = np.zeros((2,), dtype=('i4,f4,a10'))\n",
    "toadd = [(1,2.,'Hello'),(2,3.,\"World\")]\n",
    "recarr[:] = toadd"
   ]
  },
  {
   "cell_type": "code",
   "execution_count": null,
   "metadata": {
    "collapsed": false
   },
   "outputs": [],
   "source": [
    "# Creating an array of zeros and defining column types\n",
    "recarr = np.zeros((2,), dtype=('i4,f4,a10'))\n",
    "\n",
    "# Now creating the columns we want to put\n",
    "# in the recarray\n",
    "col1 = np.arange(2) + 1\n",
    "col2 = np.arange(2, dtype=np.float32)\n",
    "col3 = ['Hello', 'World']\n",
    "\n",
    "# Here we create a list of tuples that is\n",
    "# identical to the previous toadd list.\n",
    "toadd = zip(col1, col2, col3)\n",
    "\n",
    "# Assigning values to recarr\n",
    "recarr[:] = toadd\n",
    "\n",
    "# Assigning names to each column, which\n",
    "# are now by default called 'f0', 'f1', and 'f2'.\n",
    "recarr.dtype.names = ('Integers' , 'Floats', 'Strings')\n",
    "\n",
    "# If we want to access one of the columns by its name, we\n",
    "# can do the following.\n",
    "recarr('Integers')\n",
    "\n",
    "# array([1, 2], dtype=int32)"
   ]
  },
  {
   "cell_type": "markdown",
   "metadata": {},
   "source": [
    "1 http://docs.scipy.org/doc/numpy/user/basics.rec.html"
   ]
  },
  {
   "cell_type": "markdown",
   "metadata": {},
   "source": [
    "### 2.1.3 Indexing and Slicing"
   ]
  },
  {
   "cell_type": "code",
   "execution_count": 15,
   "metadata": {
    "collapsed": false
   },
   "outputs": [
    {
     "data": {
      "text/plain": [
       "2"
      ]
     },
     "execution_count": 15,
     "metadata": {},
     "output_type": "execute_result"
    }
   ],
   "source": [
    "alist=[[1,2],[3,4]]\n",
    "\n",
    "# To return the (0,1) element we must index as shown below.\n",
    "alist[0][1]"
   ]
  },
  {
   "cell_type": "code",
   "execution_count": 19,
   "metadata": {
    "collapsed": false,
    "scrolled": true
   },
   "outputs": [
    {
     "name": "stdout",
     "output_type": "stream",
     "text": [
      "(array([3, 4], dtype=int64),)\n"
     ]
    }
   ],
   "source": [
    "# Converting the list defined above into an array\n",
    "arr = np.array(alist)\n",
    "\n",
    "# To return the (0,1) element we use ...\n",
    "arr[0,1]\n",
    "\n",
    "# Now to access the last column, we simply use ...\n",
    "arr[:,1]\n",
    "\n",
    "# Accessing the columns is achieved in the same way,\n",
    "# which is the bottom row.\n",
    "arr[1,:]\n",
    "\n",
    "# Creating an array\n",
    "arr = np.arange(5)\n",
    "# Creating the index array\n",
    "index = np.where(arr > 2)\n",
    "print(index)\n",
    "# (array([3, 4]),)\n",
    "# Creating the desired array\n",
    "new_arr = arr[index]"
   ]
  },
  {
   "cell_type": "code",
   "execution_count": 20,
   "metadata": {
    "collapsed": true
   },
   "outputs": [],
   "source": [
    "# We use the previous array\n",
    "new_arr = np.delete(arr, index)"
   ]
  },
  {
   "cell_type": "code",
   "execution_count": 22,
   "metadata": {
    "collapsed": false
   },
   "outputs": [
    {
     "name": "stdout",
     "output_type": "stream",
     "text": [
      "[False False False  True  True]\n"
     ]
    }
   ],
   "source": [
    "index = arr > 2\n",
    "print(index)\n",
    "#     [False False True True True]\n",
    "new_arr = arr[index]"
   ]
  },
  {
   "cell_type": "markdown",
   "metadata": {},
   "source": [
    "2 http://atpy.github.com"
   ]
  },
  {
   "cell_type": "markdown",
   "metadata": {},
   "source": [
    "## 2.2 Boolean Statements and NumPy Arrays"
   ]
  },
  {
   "cell_type": "code",
   "execution_count": 23,
   "metadata": {
    "collapsed": true
   },
   "outputs": [],
   "source": [
    "# Creating an image\n",
    "img1 = np.zeros((20, 20)) + 3\n",
    "img1[4:-4, 4:-4] = 6\n",
    "img1[7:-7, 7:-7] = 9\n",
    "# See Plot A\n",
    "# Let's filter out all values larger than 2 and less than 6.\n",
    "index1 = img1 > 2\n",
    "index2 = img1 < 6\n",
    "compound_index = index1 & index2\n",
    "# The compound statement can alternatively be written as\n",
    "compound_index = (img1 > 3) & (img1 < 7)\n",
    "img2 = np.copy(img1)\n",
    "img2[compound_index] = 0\n",
    "# See Plot B.\n",
    "# Making the boolean arrays even more complex\n",
    "index3 = img1 == 9\n",
    "index4 = (index1 & index2) | index3\n",
    "img3 = np.copy(img1)\n",
    "img3[index4] = 0\n",
    "# See Plot C."
   ]
  },
  {
   "cell_type": "code",
   "execution_count": 24,
   "metadata": {
    "collapsed": true
   },
   "outputs": [],
   "source": [
    "import numpy as np\n",
    "import numpy.random as rand\n",
    "# Creating a 100-element array with random values\n",
    "# from a standard normal distribution or, in other\n",
    "# words, a Gaussian distribution.\n",
    "# The sigma is 1 and the mean is 0.\n",
    "a = rand.randn(100)\n",
    "# Here we generate an index for filtering\n",
    "# out undesired elements.\n",
    "index = a > 0.2\n",
    "b = a[index]\n",
    "# We execute some operation on the desired elements.\n",
    "b = b ** 2 - 2\n",
    "# Then we put the modified elements back into the\n",
    "# original array.\n",
    "a[index] = b"
   ]
  },
  {
   "cell_type": "markdown",
   "metadata": {},
   "source": [
    "## 2.3 Read and Write"
   ]
  },
  {
   "cell_type": "markdown",
   "metadata": {
    "collapsed": true
   },
   "source": [
    "### 2.3.1 Text Files"
   ]
  },
  {
   "cell_type": "code",
   "execution_count": null,
   "metadata": {
    "collapsed": true
   },
   "outputs": [],
   "source": [
    "# Opening the text file with the 'r' option,\n",
    "# which only allows reading capability\n",
    "f = open('somefile.txt', 'r')\n",
    "# Parsing the file and splitting each line,\n",
    "# which creates a list where each element of\n",
    "# it is one line\n",
    "alist = f.readlines()\n",
    "# Closing file\n",
    "f.close()\n",
    "...\n",
    "\n",
    "# After a few operations, we open a new text file\n",
    "# to write the data with the 'w' option. If there\n",
    "# was data already existing in the file, it will be overwritten.\n",
    "f = open('newtextfile.txt', 'w')\n",
    "# Writing data to file\n",
    "f.writelines(newdata)\n",
    "# Closing file\n",
    "f.close()"
   ]
  },
  {
   "cell_type": "code",
   "execution_count": null,
   "metadata": {
    "collapsed": true
   },
   "outputs": [],
   "source": [
    "import numpy as np\n",
    "arr = np.loadtxt('somefile.txt')\n",
    "np.savetxt('somenewfile.txt')"
   ]
  },
  {
   "cell_type": "code",
   "execution_count": null,
   "metadata": {
    "collapsed": false
   },
   "outputs": [],
   "source": [
    "# example.txt file looks like the following\n",
    "#\n",
    "# XR21 32.789 1\n",
    "# XR22 33.091 2\n",
    "table = np.loadtxt('example.txt',\n",
    "                   dtype='names': ('ID', 'Result', 'Type'),\n",
    "                   'formats': ('S4', 'f4', 'i2'))\n",
    "# array([('XR21', 32.78900146484375, 1),\n",
    "# ('XR22', 33.090999603271484, 2)],\n",
    "# dtype=[('ID', '|S4'), ('Result', '<f4'), ('Type', '<i2')])"
   ]
  },
  {
   "cell_type": "markdown",
   "metadata": {},
   "source": [
    "### 2.3.2 Binary Files"
   ]
  },
  {
   "cell_type": "code",
   "execution_count": 26,
   "metadata": {
    "collapsed": true
   },
   "outputs": [],
   "source": [
    "import numpy as np\n",
    "# Creating a large array\n",
    "data = np.empty((1000, 1000))\n",
    "\n",
    "# Saving the array with numpy.save\n",
    "np.save('test.npy', data)\n",
    "# If space is an issue for large files, then\n",
    "# use numpy.savez instead. It is slower than\n",
    "# numpy.save because it compresses the binary\n",
    "# file.\n",
    "\n",
    "np.savez('test.npz', data)\n",
    "# Loading the data array\n",
    "newdata = np.load('test.npy')"
   ]
  },
  {
   "cell_type": "markdown",
   "metadata": {},
   "source": [
    "3 http://matplotlib.sourceforge.net/api/mlab_api.html  \n",
    "4 http://cxc.harvard.edu/contrib/asciitable/  "
   ]
  },
  {
   "cell_type": "markdown",
   "metadata": {},
   "source": [
    "## 2.4 Math"
   ]
  },
  {
   "cell_type": "markdown",
   "metadata": {
    "collapsed": true
   },
   "source": [
    "### 2.4.1 Linear Algebra"
   ]
  },
  {
   "cell_type": "code",
   "execution_count": 28,
   "metadata": {
    "collapsed": false
   },
   "outputs": [
    {
     "name": "stdout",
     "output_type": "stream",
     "text": [
      "[[ 1.75]\n",
      " [ 1.75]\n",
      " [ 0.75]]\n"
     ]
    }
   ],
   "source": [
    "import numpy as np\n",
    "\n",
    "# Defining the matrices\n",
    "A = np.matrix([[3, 6, -5],\n",
    "               [1, -3, 2],\n",
    "               [5, -1, 4]])\n",
    "B = np.matrix([[12],\n",
    "               [-2],\n",
    "               [10]])\n",
    "\n",
    "# Solving for the variables, where we invert A\n",
    "X = A ** (-1) * B\n",
    "print(X)\n",
    "\n",
    "# matrix([[ 1.75],\n",
    "# [ 1.75],\n",
    "# [ 0.75]])"
   ]
  },
  {
   "cell_type": "code",
   "execution_count": 29,
   "metadata": {
    "collapsed": false
   },
   "outputs": [
    {
     "name": "stdout",
     "output_type": "stream",
     "text": [
      "[ 1.75  1.75  0.75]\n"
     ]
    }
   ],
   "source": [
    "import numpy as np\n",
    "a = np.array([[3, 6, -5],\n",
    "              [1, -3, 2],\n",
    "              [5, -1, 4]])\n",
    "\n",
    "# Defining the array\n",
    "b = np.array([12, -2, 10])\n",
    "\n",
    "# Solving for the variables, where we invert A\n",
    "x = np.linalg.inv(a).dot(b)\n",
    "\n",
    "print(x)\n",
    "# array([ 1.75, 1.75, 0.75])"
   ]
  },
  {
   "cell_type": "markdown",
   "metadata": {},
   "source": [
    "5 http://docs.scipy.org/doc/numpy/reference/generated/numpy.linalg.svd.html"
   ]
  }
 ],
 "metadata": {
  "kernelspec": {
   "display_name": "Python 3",
   "language": "python",
   "name": "python3"
  },
  "language_info": {
   "codemirror_mode": {
    "name": "ipython",
    "version": 3
   },
   "file_extension": ".py",
   "mimetype": "text/x-python",
   "name": "python",
   "nbconvert_exporter": "python",
   "pygments_lexer": "ipython3",
   "version": "3.6.0"
  }
 },
 "nbformat": 4,
 "nbformat_minor": 0
}
