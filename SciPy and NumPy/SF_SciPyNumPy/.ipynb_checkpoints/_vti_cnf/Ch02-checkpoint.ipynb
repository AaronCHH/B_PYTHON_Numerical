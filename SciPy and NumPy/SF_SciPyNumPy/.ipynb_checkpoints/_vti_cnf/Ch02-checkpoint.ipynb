vti_encoding:SR|utf8-nl
vti_timelastmodified:TR|30 Aug 2015 08:15:04 -0000
vti_extenderversion:SR|12.0.0.0
vti_cacheddtm:TX|30 Aug 2015 08:15:04 -0000
vti_filesize:IR|8390
vti_backlinkinfo:VX|
