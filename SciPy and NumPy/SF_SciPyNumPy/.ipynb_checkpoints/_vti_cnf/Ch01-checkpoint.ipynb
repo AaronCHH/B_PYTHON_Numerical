vti_encoding:SR|utf8-nl
vti_timelastmodified:TR|30 Aug 2015 08:09:49 -0000
vti_extenderversion:SR|12.0.0.0
vti_cacheddtm:TX|30 Aug 2015 08:09:49 -0000
vti_filesize:IR|78
vti_backlinkinfo:VX|
