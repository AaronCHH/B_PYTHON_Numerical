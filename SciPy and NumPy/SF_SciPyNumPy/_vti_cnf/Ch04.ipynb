vti_encoding:SR|utf8-nl
vti_timelastmodified:TR|30 Aug 2015 08:46:48 -0000
vti_extenderversion:SR|12.0.0.0
vti_cacheddtm:TX|30 Aug 2015 08:46:48 -0000
vti_filesize:IR|17497
vti_backlinkinfo:VX|
