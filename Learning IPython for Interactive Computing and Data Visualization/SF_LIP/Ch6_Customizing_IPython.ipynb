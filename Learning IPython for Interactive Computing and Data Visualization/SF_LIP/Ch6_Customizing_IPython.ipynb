{
 "cells": [
  {
   "cell_type": "markdown",
   "metadata": {},
   "source": [
    "# Chapter 6: Customizing IPython"
   ]
  },
  {
   "cell_type": "markdown",
   "metadata": {},
   "source": [
    "<div id=\"toc\"></div>"
   ]
  },
  {
   "cell_type": "markdown",
   "metadata": {},
   "source": [
    "## 6.1 IPython profiles\n",
    "### 6.1.1 Profile locations\n",
    "### 6.1.2 The IPython configuration files\n",
    "### 6.1.3 Loading scripts when IPython starts\n",
    "## 6.2 IPython extensions\n",
    "### 6.2.1 Example – line-by-line profiling\n",
    "### 6.2.2 Creating new extensions\n",
    "#### Example – executing C++ code in IPython\n",
    "## 6.3 Rich representations in the frontend\n",
    "## 6.4 Embedding IPython\n",
    "## 6.5 Final words\n",
    "## 6.6 Summary"
   ]
  },
  {
   "cell_type": "code",
   "execution_count": null,
   "metadata": {
    "collapsed": true
   },
   "outputs": [],
   "source": []
  }
 ],
 "metadata": {
  "kernelspec": {
   "display_name": "Python 3",
   "language": "python",
   "name": "python3"
  },
  "language_info": {
   "codemirror_mode": {
    "name": "ipython",
    "version": 3
   },
   "file_extension": ".py",
   "mimetype": "text/x-python",
   "name": "python",
   "nbconvert_exporter": "python",
   "pygments_lexer": "ipython3",
   "version": "3.6.0"
  }
 },
 "nbformat": 4,
 "nbformat_minor": 1
}
