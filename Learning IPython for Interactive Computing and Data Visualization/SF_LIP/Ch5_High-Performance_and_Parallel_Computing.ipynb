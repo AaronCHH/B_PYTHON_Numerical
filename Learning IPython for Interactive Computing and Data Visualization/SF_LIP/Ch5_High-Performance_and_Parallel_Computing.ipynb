{
 "cells": [
  {
   "cell_type": "markdown",
   "metadata": {},
   "source": [
    "# Chapter 5: High-Performance and Parallel Computing"
   ]
  },
  {
   "cell_type": "markdown",
   "metadata": {},
   "source": [
    "<div id=\"toc\"></div>"
   ]
  },
  {
   "cell_type": "markdown",
   "metadata": {},
   "source": [
    "## 5.1 Interactive task parallelization\n",
    "### 5.1.1 Parallel computing in Python\n",
    "### 5.1.2 Distributing tasks on multiple cores\n",
    "#### Starting the engines\n",
    "#### Creating a Client instance\n",
    "#### Using the parallel magic\n",
    "#### Parallel map\n",
    "### 5.1.3 A practical example – Monte Carlo simulations\n",
    "### 5.1.4 Using MPI with IPython\n",
    "### 5.1.5 Advanced parallel computing features of IPython\n",
    "## 5.2 Using C in IPython with Cython\n",
    "### 5.2.1 Installing and configuring Cython\n",
    "### 5.2.2 Using Cython from IPython\n",
    "### 5.2.3 Accelerating a pure Python algorithm with Cython\n",
    "#### Pure Python version\n",
    "#### Naïve Cython conversion\n",
    "#### Adding C types\n",
    "### 5.2.4 Using NumPy and Cython\n",
    "#### Python version\n",
    "#### Cython version\n",
    "### 5.2.5 More advanced options for accelerating Python code\n",
    "## 5.3 Summary"
   ]
  },
  {
   "cell_type": "code",
   "execution_count": null,
   "metadata": {
    "collapsed": true
   },
   "outputs": [],
   "source": []
  }
 ],
 "metadata": {
  "kernelspec": {
   "display_name": "Python 3",
   "language": "python",
   "name": "python3"
  },
  "language_info": {
   "codemirror_mode": {
    "name": "ipython",
    "version": 3
   },
   "file_extension": ".py",
   "mimetype": "text/x-python",
   "name": "python",
   "nbconvert_exporter": "python",
   "pygments_lexer": "ipython3",
   "version": "3.6.0"
  }
 },
 "nbformat": 4,
 "nbformat_minor": 1
}
