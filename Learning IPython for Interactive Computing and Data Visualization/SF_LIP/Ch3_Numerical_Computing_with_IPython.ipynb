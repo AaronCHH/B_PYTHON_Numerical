{
 "cells": [
  {
   "cell_type": "markdown",
   "metadata": {},
   "source": [
    "# Chapter 3: Numerical Computing with IPython"
   ]
  },
  {
   "cell_type": "markdown",
   "metadata": {},
   "source": [
    "<div id=\"toc\"></div>"
   ]
  },
  {
   "cell_type": "markdown",
   "metadata": {},
   "source": [
    "## 3.1 A primer to vector computing\n",
    "### 3.1.1 An example of computation with Python loops\n",
    "### 3.1.2 What an array is\n",
    "### 3.1.3 Reimplementing the example with arrays\n",
    "## 3.2 Creating and loading arrays\n",
    "### 3.2.1 Creating arrays\n",
    "#### From scratch, element by element\n",
    "#### From scratch, using predefined templates\n",
    "#### From random values\n",
    "### 3.2.2 Loading arrays\n",
    "#### From a native Python object\n",
    "#### From a buffer or an external file\n",
    "#### Using Pandas\n",
    "## 3.3 Working with arrays\n",
    "### 3.3.1 Selection\n",
    "#### Using Pandas\n",
    "#### Using NumPy\n",
    "#### More indexing possibilities\n",
    "### 3.3.2 Manipulation\n",
    "#### Reshaping\n",
    "#### Repeating and concatenating\n",
    "#### Broadcasting\n",
    "#### Permuting\n",
    "### 3.3.3 Computation\n",
    "## 3.4 Advanced mathematical processing\n",
    "## 3.5 Summary"
   ]
  }
 ],
 "metadata": {
  "kernelspec": {
   "display_name": "Python 3",
   "language": "python",
   "name": "python3"
  },
  "language_info": {
   "codemirror_mode": {
    "name": "ipython",
    "version": 3
   },
   "file_extension": ".py",
   "mimetype": "text/x-python",
   "name": "python",
   "nbconvert_exporter": "python",
   "pygments_lexer": "ipython3",
   "version": "3.6.0"
  }
 },
 "nbformat": 4,
 "nbformat_minor": 2
}
