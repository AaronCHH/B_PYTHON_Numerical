{
 "cells": [
  {
   "cell_type": "markdown",
   "metadata": {},
   "source": [
    "# Chapter 1: Getting Started with IPython"
   ]
  },
  {
   "cell_type": "markdown",
   "metadata": {},
   "source": [
    "<div id=\"toc\"></div>"
   ]
  },
  {
   "cell_type": "markdown",
   "metadata": {},
   "source": [
    "## 1.1 Installing IPython and the recommended packages\n",
    "### 1.1.1 Prerequisites for IPython\n",
    "### 1.1.2 Installing an all-in-one distribution\n",
    "### 1.1.3 Installing the packages one by one\n",
    "#### Packages websites\n",
    "#### Getting binary installers\n",
    "#### Using the Python packaging system\n",
    "### 1.1.4 Installing the development versions\n",
    "## 1.2 Ten IPython essentials\n",
    "### 1.2.1 Running the IPython console\n",
    "### 1.2.2 Using IPython as a system shell\n",
    "### 1.2.3 Using the history\n",
    "### 1.2.4 Tab completion\n",
    "### 1.2.5 Executing a script with the %run command\n",
    "### 1.2.6 Quick benchmarking with the %timeit command\n",
    "### 1.2.7 Quick debugging with the %debug command\n",
    "### 1.2.8 Interactive computing with Pylab\n",
    "### 1.2.9 Using the IPython Notebook\n",
    "### 1.2.10 Customizing IPython\n",
    "## 1.3 Summary"
   ]
  },
  {
   "cell_type": "code",
   "execution_count": null,
   "metadata": {
    "collapsed": true
   },
   "outputs": [],
   "source": []
  }
 ],
 "metadata": {
  "kernelspec": {
   "display_name": "Python 3",
   "language": "python",
   "name": "python3"
  },
  "language_info": {
   "codemirror_mode": {
    "name": "ipython",
    "version": 3
   },
   "file_extension": ".py",
   "mimetype": "text/x-python",
   "name": "python",
   "nbconvert_exporter": "python",
   "pygments_lexer": "ipython3",
   "version": "3.6.0"
  }
 },
 "nbformat": 4,
 "nbformat_minor": 2
}
