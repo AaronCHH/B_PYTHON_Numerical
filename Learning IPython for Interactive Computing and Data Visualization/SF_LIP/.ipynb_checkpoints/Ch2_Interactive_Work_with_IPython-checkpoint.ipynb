{
 "cells": [
  {
   "cell_type": "markdown",
   "metadata": {},
   "source": [
    "# Chapter 2: Interactive Work with IPython"
   ]
  },
  {
   "cell_type": "markdown",
   "metadata": {},
   "source": [
    "<div id=\"toc\"></div>"
   ]
  },
  {
   "cell_type": "markdown",
   "metadata": {},
   "source": [
    "## 2.1 The extended shell\n",
    "### 2.1.1 Navigating through the filesystem\n",
    "### 2.1.2 Accessing the system shell from IPython\n",
    "## 2.2 The extended Python console\n",
    "### 2.2.1 Exploring the history\n",
    "### 2.2.2 Import/export of Python code\n",
    "#### Importing code in IPython\n",
    "#### Exporting code to a file\n",
    "### 2.2.3 Dynamic introspection\n",
    "#### Tab completion\n",
    "#### Source code introspection\n",
    "### 2.2.4 Using the interactive debugger\n",
    "### 2.2.5 Interactive benchmarking and profiling\n",
    "#### Controlling the execution time of a command\n",
    "#### Profiling a script\n",
    "## 2.3 Using the IPython notebook\n",
    "### 2.3.1 Installation\n",
    "### 2.3.2 The notebook dashboard\n",
    "### 2.3.3 Working with cells\n",
    "### 2.3.4 Cell magics\n",
    "### 2.3.5 Managing notebooks\n",
    "### 2.3.6 Multimedia and rich text editing\n",
    "### 2.3.7 Graph plotting\n",
    "## 2.4 Summary"
   ]
  },
  {
   "cell_type": "code",
   "execution_count": null,
   "metadata": {
    "collapsed": true
   },
   "outputs": [],
   "source": []
  }
 ],
 "metadata": {
  "kernelspec": {
   "display_name": "Python 3",
   "language": "python",
   "name": "python3"
  },
  "language_info": {
   "codemirror_mode": {
    "name": "ipython",
    "version": 3
   },
   "file_extension": ".py",
   "mimetype": "text/x-python",
   "name": "python",
   "nbconvert_exporter": "python",
   "pygments_lexer": "ipython3",
   "version": "3.6.0"
  }
 },
 "nbformat": 4,
 "nbformat_minor": 2
}
