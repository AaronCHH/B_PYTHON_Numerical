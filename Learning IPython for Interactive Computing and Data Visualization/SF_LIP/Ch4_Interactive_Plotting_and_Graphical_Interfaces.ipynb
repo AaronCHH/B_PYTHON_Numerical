{
 "cells": [
  {
   "cell_type": "markdown",
   "metadata": {},
   "source": [
    "# Chapter 4: Interactive Plotting and Graphical Interfaces"
   ]
  },
  {
   "cell_type": "markdown",
   "metadata": {},
   "source": [
    "<div id=\"toc\"></div>"
   ]
  },
  {
   "cell_type": "markdown",
   "metadata": {},
   "source": [
    "## 4.1 Figures with Matplotlib\n",
    "### 4.1.1 Setting up IPython for interactive visualization\n",
    "#### Using Matplotlib\n",
    "#### Interactive navigation\n",
    "#### Matplotlib in the IPython notebook\n",
    "### 4.1.2 Standard plots\n",
    "#### Curves\n",
    "#### Scatter plots\n",
    "#### Bar graphs\n",
    "### 4.1.3 Plot customization\n",
    "#### Styles and colors\n",
    "#### Grid, axes, and legends\n",
    "#### Interaction from IPython\n",
    "#### Drawing multiple plots\n",
    "## 4.2 Advanced figures and graphics\n",
    "### 4.2.1 Image processing\n",
    "#### Loading images\n",
    "#### Showing images\n",
    "#### Using PIL\n",
    "#### Advanced image processing – color quantization\n",
    "### 4.2.2 Maps\n",
    "### 4.2.3 3D plots\n",
    "### 4.2.4 Animations\n",
    "### 4.2.5 Other visualization packages\n",
    "## 4.3 Graphical User Interfaces (GUI\n",
    "### 4.3.1 Setting up IPython for interactive GUIs\n",
    "### 4.3.2 A \"Hello World\" example\n",
    "## 4.4 Summary"
   ]
  },
  {
   "cell_type": "code",
   "execution_count": null,
   "metadata": {
    "collapsed": true
   },
   "outputs": [],
   "source": []
  },
  {
   "cell_type": "code",
   "execution_count": null,
   "metadata": {
    "collapsed": true
   },
   "outputs": [],
   "source": []
  }
 ],
 "metadata": {
  "kernelspec": {
   "display_name": "Python 3",
   "language": "python",
   "name": "python3"
  },
  "language_info": {
   "codemirror_mode": {
    "name": "ipython",
    "version": 3
   },
   "file_extension": ".py",
   "mimetype": "text/x-python",
   "name": "python",
   "nbconvert_exporter": "python",
   "pygments_lexer": "ipython3",
   "version": "3.6.0"
  }
 },
 "nbformat": 4,
 "nbformat_minor": 2
}
