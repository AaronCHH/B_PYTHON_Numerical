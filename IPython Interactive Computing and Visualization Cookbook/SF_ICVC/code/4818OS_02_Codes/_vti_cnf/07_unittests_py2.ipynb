vti_encoding:SR|utf8-nl
vti_timelastmodified:TR|11 Jun 2014 15:55:44 -0000
vti_extenderversion:SR|12.0.0.0
vti_cacheddtm:TX|11 Jun 2014 15:55:44 -0000
vti_filesize:IR|7347
vti_backlinkinfo:VX|
