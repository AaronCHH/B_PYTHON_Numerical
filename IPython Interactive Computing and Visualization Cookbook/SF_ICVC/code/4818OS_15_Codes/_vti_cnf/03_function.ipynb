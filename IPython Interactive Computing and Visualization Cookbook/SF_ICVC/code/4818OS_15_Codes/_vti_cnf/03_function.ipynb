vti_encoding:SR|utf8-nl
vti_timelastmodified:TR|23 Jul 2014 20:02:57 -0000
vti_extenderversion:SR|12.0.0.0
vti_cacheddtm:TX|23 Jul 2014 20:02:57 -0000
vti_filesize:IR|4318
vti_backlinkinfo:VX|
