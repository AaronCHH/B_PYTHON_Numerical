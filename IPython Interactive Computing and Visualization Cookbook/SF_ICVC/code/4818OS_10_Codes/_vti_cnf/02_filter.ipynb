vti_encoding:SR|utf8-nl
vti_timelastmodified:TR|09 Jul 2014 16:45:04 -0000
vti_extenderversion:SR|12.0.0.0
vti_cacheddtm:TX|09 Jul 2014 16:45:04 -0000
vti_filesize:IR|6393
vti_backlinkinfo:VX|
