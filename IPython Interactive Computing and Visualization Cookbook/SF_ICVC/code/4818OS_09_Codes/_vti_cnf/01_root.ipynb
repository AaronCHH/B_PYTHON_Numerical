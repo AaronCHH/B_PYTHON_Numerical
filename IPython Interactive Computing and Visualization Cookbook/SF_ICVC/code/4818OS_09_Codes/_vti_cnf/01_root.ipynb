vti_encoding:SR|utf8-nl
vti_timelastmodified:TR|09 Jul 2014 16:44:25 -0000
vti_extenderversion:SR|12.0.0.0
vti_cacheddtm:TX|09 Jul 2014 16:44:25 -0000
vti_filesize:IR|4868
vti_backlinkinfo:VX|
