{
 "cells": [
  {
   "cell_type": "markdown",
   "metadata": {},
   "source": [
    "# Chapter 1: A Tour of Interactive Computing with IPython"
   ]
  },
  {
   "cell_type": "markdown",
   "metadata": {},
   "source": [
    "<div id=\"toc\"></div>"
   ]
  },
  {
   "cell_type": "markdown",
   "metadata": {},
   "source": [
    "## 1.1 Introduction"
   ]
  },
  {
   "cell_type": "markdown",
   "metadata": {},
   "source": [
    "> It is worth noting that Python as a platform for scientifi computing was built slowly, step-by-step, on top of a programming language that was not originally designed for this purpose.  \n",
    "This fact might explain a few minor inconsistencies or weaknesses of the platform, which do not preclude it from being one of the most popular open frameworks for scientifi computing at this time.  \n",
    "(You can also refer to http://cyrille.rossant.net/whats-wrong-with-scientific-python/.)  \n",
    "Notable competing open source platforms for numerical computing and data analysis include R (which focuses on statistics) and Julia (a young, high-level language that focuses on high performance and parallel computing).  \n",
    "We will see these two languages very briefl in this book, as they can be used from the IPython notebook.  \n"
   ]
  },
  {
   "cell_type": "markdown",
   "metadata": {},
   "source": [
    "### References  \n",
    "Here are a few references:  \n",
    "* The Python webpage at http://www.python.org  \n",
    "* Python on Wikipedia at http://en.wikipedia.org/wiki/Python_%28programming_language%29  \n",
    "* Python's standard library present at https://docs.python.org/2/library/  \n",
    "* Guido van Rossum on Wikipedia at http://en.wikipedia.org/wiki/Guido_van_Rossum  \n",
    "* Conversation with Guido van Rossum on the birth of Python available at http://www.artima.com/intv/pythonP.html  \n",
    "* History of scientifi Python available at http://fr.slideshare.net/shoheihido/sci-pyhistory  \n",
    "* What's new in IPython 2.0 at http://ipython.org/ipython-doc/2/whatsnew/version2.0.html  \n",
    "* IPython on Wikipedia at http://en.wikipedia.org/wiki/IPython  \n",
    "* History of the IPython notebook at http://blog.fperez.org/2012/01/ipython-notebook-historical.html  "
   ]
  },
  {
   "cell_type": "markdown",
   "metadata": {},
   "source": [
    "## 1.2 Introducing the IPython notebook"
   ]
  },
  {
   "cell_type": "markdown",
   "metadata": {},
   "source": [
    "## 1.3 Getting started with exploratory data analysis in IPython"
   ]
  },
  {
   "cell_type": "markdown",
   "metadata": {},
   "source": [
    "## 1.4 Introducing the multidimensional array in NumPy for fast array computations"
   ]
  },
  {
   "cell_type": "markdown",
   "metadata": {},
   "source": [
    "## 1.5 Creating an IPython extension with custom magic commands"
   ]
  },
  {
   "cell_type": "markdown",
   "metadata": {},
   "source": [
    "## 1.6 Mastering IPython's configuration system"
   ]
  },
  {
   "cell_type": "markdown",
   "metadata": {},
   "source": [
    "## 1.7 Creating a simple kernel for IPython"
   ]
  },
  {
   "cell_type": "code",
   "execution_count": null,
   "metadata": {
    "collapsed": true
   },
   "outputs": [],
   "source": []
  }
 ],
 "metadata": {
  "kernelspec": {
   "display_name": "Python 3",
   "language": "python",
   "name": "python3"
  },
  "language_info": {
   "codemirror_mode": {
    "name": "ipython",
    "version": 3
   },
   "file_extension": ".py",
   "mimetype": "text/x-python",
   "name": "python",
   "nbconvert_exporter": "python",
   "pygments_lexer": "ipython3",
   "version": "3.6.0"
  }
 },
 "nbformat": 4,
 "nbformat_minor": 1
}
