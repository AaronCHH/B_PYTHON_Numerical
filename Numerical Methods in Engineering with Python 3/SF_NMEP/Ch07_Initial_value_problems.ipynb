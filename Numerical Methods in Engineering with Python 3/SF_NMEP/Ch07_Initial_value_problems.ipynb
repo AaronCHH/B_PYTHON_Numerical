{
 "cells": [
  {
   "cell_type": "markdown",
   "metadata": {},
   "source": [
    "# 7 Initial Value Problems"
   ]
  },
  {
   "cell_type": "markdown",
   "metadata": {},
   "source": [
    "# 7.1 Introduction"
   ]
  },
  {
   "cell_type": "markdown",
   "metadata": {},
   "source": [
    "# 7.2 Euler's Method"
   ]
  },
  {
   "cell_type": "markdown",
   "metadata": {},
   "source": [
    "## euler"
   ]
  },
  {
   "cell_type": "code",
   "execution_count": null,
   "metadata": {
    "collapsed": true
   },
   "outputs": [],
   "source": [
    "# %load code/euler.py\n",
    "## module euler\n",
    "''' X,Y = integrate(F,x,y,xStop,h).\n",
    "    Euler's method for solving the\n",
    "    initial value problem {y}' = {F(x,{y})}, where\n",
    "    {y} = {y[0],y[1],...y[n-1]}.\n",
    "    x,y   = initial conditions\n",
    "    xStop = terminal value of x\n",
    "    h     = increment of x used in integration\n",
    "    F     = user-supplied function that returns the\n",
    "            array F(x,y) = {y'[0],y'[1],...,y'[n-1]}.\n",
    "'''\n",
    "import numpy as np\n",
    "def integrate(F,x,y,xStop,h):    \n",
    "    X = []\n",
    "    Y = []\n",
    "    X.append(x)\n",
    "    Y.append(y)\n",
    "    while x < xStop:\n",
    "        h = min(h,xStop - x)\n",
    "        y = y + h*F(x,y)\n",
    "        x = x + h\n",
    "        X.append(x)\n",
    "        Y.append(y)\n",
    "    return np.array(X),np.array(Y)\n",
    "\n",
    "\n",
    "          \n",
    "\n",
    "\n",
    "    \n"
   ]
  },
  {
   "cell_type": "markdown",
   "metadata": {},
   "source": [
    "## printSoln"
   ]
  },
  {
   "cell_type": "code",
   "execution_count": null,
   "metadata": {
    "collapsed": true
   },
   "outputs": [],
   "source": [
    "# %load code/printSoln.py\n",
    "## module printSoln\n",
    "''' printSoln(X,Y,freq).\n",
    "    Prints X and Y returned from the differential\n",
    "    equation solvers using printput frequency 'freq'.\n",
    "        freq = n prints every nth step.\n",
    "        freq = 0 prints initial and final values only.\n",
    "'''\n",
    "def printSoln(X,Y,freq):\n",
    "\n",
    "    def printHead(n):\n",
    "        print(\"\\n        x  \",end=\" \")\n",
    "        for i in range (n):\n",
    "            print(\"      y[\",i,\"] \",end=\" \")\n",
    "        print()\n",
    "\n",
    "    def printLine(x,y,n):\n",
    "        print(\"{:13.4e}\".format(x),end=\" \")\n",
    "        for i in range (n):\n",
    "            print(\"{:13.4e}\".format(y[i]),end=\" \")\n",
    "        print()\n",
    "    \n",
    "    m = len(Y)\n",
    "    try: n = len(Y[0])\n",
    "    except TypeError: n = 1\n",
    "    if freq == 0: freq = m\n",
    "    printHead(n)\n",
    "    for i in range(0,m,freq):\n",
    "        printLine(X[i],Y[i],n)\n",
    "    if i != m - 1: printLine(X[m - 1],Y[m - 1],n)\n"
   ]
  },
  {
   "cell_type": "markdown",
   "metadata": {},
   "source": [
    "## EXAMPLE7.2"
   ]
  },
  {
   "cell_type": "code",
   "execution_count": 4,
   "metadata": {
    "collapsed": false
   },
   "outputs": [
    {
     "data": {
      "image/png": "[encoded data removed]",
      "text/plain": [
       "<matplotlib.figure.Figure at 0xee2eb2c5f8>"
      ]
     },
     "metadata": {},
     "output_type": "display_data"
    },
    {
     "name": "stdout",
     "output_type": "stream",
     "text": [
      "Press return to exit\n"
     ]
    },
    {
     "data": {
      "text/plain": [
       "''"
      ]
     },
     "execution_count": 4,
     "metadata": {},
     "output_type": "execute_result"
    }
   ],
   "source": [
    "#!/usr/bin/python\n",
    "## example7_2\n",
    "import numpy as np\n",
    "from euler import *\n",
    "import matplotlib.pyplot as plt\n",
    "\n",
    "def F(x,y):\n",
    "    F = np.zeros(2)\n",
    "    F[0] = y[1]\n",
    "    F[1] = -0.1*y[1] - x\n",
    "    return F\n",
    "\n",
    "x = 0.0 # Start of integration\n",
    "xStop = 2.0 # End of integration\n",
    "y = np.array([0.0, 1.0]) # Initial values of {y}\n",
    "h = 0.05 # Step size\n",
    "X,Y = integrate(F,x,y,xStop,h)\n",
    "yExact = 100.0*X - 5.0*X**2 + 990.0*(np.exp(-0.1*X) - 1.0)\n",
    "plt.plot(X,Y[:,0],'o',X,yExact,'-')\n",
    "plt.grid(True)\n",
    "plt.xlabel('x'); plt.ylabel('y')\n",
    "plt.legend(('Numerical','Exact'),loc=0)\n",
    "plt.show()\n",
    "input(\"Press return to exit\")"
   ]
  },
  {
   "cell_type": "markdown",
   "metadata": {},
   "source": [
    "# 7.3 Runge-Kutta Methods"
   ]
  },
  {
   "cell_type": "markdown",
   "metadata": {},
   "source": [
    "## Second-Order Runge-Kutta Method"
   ]
  },
  {
   "cell_type": "markdown",
   "metadata": {},
   "source": [
    "## Fourth-Order Runge-Kutta Method"
   ]
  },
  {
   "cell_type": "markdown",
   "metadata": {},
   "source": [
    "### run kut4"
   ]
  },
  {
   "cell_type": "code",
   "execution_count": null,
   "metadata": {
    "collapsed": true
   },
   "outputs": [],
   "source": [
    "# %load code/run_kut4.py\n",
    "## module run_kut4\n",
    "''' X,Y = integrate(F,x,y,xStop,h).\n",
    "    4th-order Runge-Kutta method for solving the\n",
    "    initial value problem {y}' = {F(x,{y})}, where\n",
    "    {y} = {y[0],y[1],...y[n-1]}.\n",
    "    x,y   = initial conditions\n",
    "    xStop = terminal value of x\n",
    "    h     = increment of x used in integration\n",
    "    F     = user-supplied function that returns the\n",
    "            array F(x,y) = {y'[0],y'[1],...,y'[n-1]}.\n",
    "'''\n",
    "import numpy as np\n",
    "def integrate(F,x,y,xStop,h):\n",
    "    \n",
    "    def run_kut4(F,x,y,h):\n",
    "        K0 = h*F(x,y)\n",
    "        K1 = h*F(x + h/2.0, y + K0/2.0)\n",
    "        K2 = h*F(x + h/2.0, y + K1/2.0)\n",
    "        K3 = h*F(x + h, y + K2)\n",
    "        return (K0 + 2.0*K1 + 2.0*K2 + K3)/6.0    \n",
    "    \n",
    "    X = []\n",
    "    Y = []\n",
    "    X.append(x)\n",
    "    Y.append(y)\n",
    "    while x < xStop:\n",
    "        h = min(h,xStop - x)\n",
    "        y = y + run_kut4(F,x,y,h)\n",
    "        x = x + h\n",
    "        X.append(x)\n",
    "        Y.append(y)\n",
    "    return np.array(X),np.array(Y)\n",
    "\n",
    "\n",
    "          \n",
    "\n",
    "\n",
    "    \n"
   ]
  },
  {
   "cell_type": "markdown",
   "metadata": {},
   "source": [
    "### EXAMPLE7.4"
   ]
  },
  {
   "cell_type": "code",
   "execution_count": 8,
   "metadata": {
    "collapsed": false
   },
   "outputs": [
    {
     "data": {
      "image/png": "[encoded data removed]",
      "text/plain": [
       "<matplotlib.figure.Figure at 0xee35d9b320>"
      ]
     },
     "metadata": {},
     "output_type": "display_data"
    },
    {
     "name": "stdout",
     "output_type": "stream",
     "text": [
      "Press return to exit\n"
     ]
    },
    {
     "data": {
      "text/plain": [
       "''"
      ]
     },
     "execution_count": 8,
     "metadata": {},
     "output_type": "execute_result"
    }
   ],
   "source": [
    "#!/usr/bin/python\n",
    "## example7_4\n",
    "import numpy as np\n",
    "from printSoln import *\n",
    "from run_kut4 import *\n",
    "import matplotlib.pyplot as plt\n",
    "\n",
    "def F(x,y):\n",
    "    F = np.zeros(2)\n",
    "    F[0] = y[1]\n",
    "    F[1] = -0.1*y[1] - x\n",
    "    return F\n",
    "\n",
    "x = 0.0 # Start of integration\n",
    "xStop = 2.0 # End of integration\n",
    "y = np.array([0.0, 1.0]) # Initial values of {y}\n",
    "h = 0.2 # Step size\n",
    "X,Y = integrate(F,x,y,xStop,h)\n",
    "yExact = 100.0*X - 5.0*X**2 + 990.0*(np.exp(-0.1*X) - 1.0)\n",
    "plt.plot(X,Y[:,0],'o',X,yExact,'-')\n",
    "plt.grid(True)\n",
    "plt.xlabel('x'); plt.ylabel('y')\n",
    "plt.legend(('Numerical','Exact'),loc=0)\n",
    "plt.show()\n",
    "input(\"Press return to exit\")"
   ]
  },
  {
   "cell_type": "markdown",
   "metadata": {},
   "source": [
    "### EXAMPLE7.5"
   ]
  },
  {
   "cell_type": "code",
   "execution_count": 9,
   "metadata": {
    "collapsed": false
   },
   "outputs": [
    {
     "name": "stdout",
     "output_type": "stream",
     "text": [
      "\n",
      "        x         y[ 0 ]  \n",
      "   0.0000e+00    1.0000e+00 \n",
      "   2.0000e+00    1.3250e-01 \n",
      "   4.0000e+00   -1.1237e+00 \n",
      "   6.0000e+00   -4.6056e+02 \n",
      "   8.0000e+00   -1.8575e+05 \n",
      "   1.0000e+01   -7.4912e+07 \n",
      "   1.0000e+01   -7.4912e+07 \n",
      "\n",
      "Press return to exit\n"
     ]
    },
    {
     "data": {
      "text/plain": [
       "''"
      ]
     },
     "execution_count": 9,
     "metadata": {},
     "output_type": "execute_result"
    }
   ],
   "source": [
    "#!/usr/bin/python\n",
    "## example7_5\n",
    "import numpy as np\n",
    "from run_kut4 import *\n",
    "from printSoln import *\n",
    "from math import exp\n",
    "\n",
    "def F(x,y):\n",
    "    F = np.zeros(1)\n",
    "    F[0] = 3.0*y[0] - 4.0*exp(-x)\n",
    "    return F\n",
    "\n",
    "x = 0.0 # Start of integration\n",
    "xStop = 10.0 # End of integration\n",
    "y = np.array([1.0]) # Initial values of {y}\n",
    "h = 0.1 # Step size\n",
    "freq = 20 # Printout frequency\n",
    "X,Y = integrate(F,x,y,xStop,h)\n",
    "printSoln(X,Y,freq)\n",
    "input(\"\\nPress return to exit\")"
   ]
  },
  {
   "cell_type": "markdown",
   "metadata": {},
   "source": [
    "### EXAMPLE7.6"
   ]
  },
  {
   "cell_type": "code",
   "execution_count": 10,
   "metadata": {
    "collapsed": false
   },
   "outputs": [
    {
     "name": "stdout",
     "output_type": "stream",
     "text": [
      "\n",
      "        x         y[ 0 ]        y[ 1 ]        y[ 2 ]        y[ 3 ]  \n",
      "   0.0000e+00    7.1501e+06    0.0000e+00    0.0000e+00    9.3704e-04 \n",
      "   1.0000e+02    7.1426e+06   -1.5173e+02    9.3771e-02    9.3904e-04 \n",
      "   2.0000e+02    7.1198e+06   -3.0276e+02    1.8794e-01    9.4504e-04 \n",
      "   3.0000e+02    7.0820e+06   -4.5236e+02    2.8292e-01    9.5515e-04 \n",
      "   4.0000e+02    7.0294e+06   -5.9973e+02    3.7911e-01    9.6951e-04 \n",
      "   5.0000e+02    6.9622e+06   -7.4393e+02    4.7697e-01    9.8832e-04 \n",
      "   6.0000e+02    6.8808e+06   -8.8389e+02    5.7693e-01    1.0118e-03 \n",
      "   7.0000e+02    6.7856e+06   -1.0183e+03    6.7950e-01    1.0404e-03 \n",
      "   8.0000e+02    6.6773e+06   -1.1456e+03    7.8520e-01    1.0744e-03 \n",
      "   9.0000e+02    6.5568e+06   -1.2639e+03    8.9459e-01    1.1143e-03 \n",
      "   1.0000e+03    6.4250e+06   -1.3708e+03    1.0083e+00    1.1605e-03 \n",
      "   1.1000e+03    6.2831e+06   -1.4634e+03    1.1269e+00    1.2135e-03 \n",
      "   1.2000e+03    6.1329e+06   -1.5384e+03    1.2512e+00    1.2737e-03 \n",
      "\n",
      "Press return to exit\n"
     ]
    },
    {
     "data": {
      "text/plain": [
       "''"
      ]
     },
     "execution_count": 10,
     "metadata": {},
     "output_type": "execute_result"
    }
   ],
   "source": [
    "#!/usr/bin/python\n",
    "## example7_6\n",
    "import numpy as np\n",
    "from run_kut4 import *\n",
    "from printSoln import *\n",
    "def F(x,y):\n",
    "    F = np.zeros(4)\n",
    "    F[0] = y[1]\n",
    "    F[1] = y[0]*(y[3]**2) - 3.9860e14/(y[0]**2)\n",
    "    F[2] = y[3]\n",
    "    F[3] = -2.0*y[1]*y[3]/y[0]\n",
    "    return F\n",
    "\n",
    "x = 0.0\n",
    "xStop = 1200.0\n",
    "y = np.array([7.15014e6, 0.0, 0.0, 0.937045e-3])\n",
    "h = 50.0\n",
    "freq = 2\n",
    "X,Y = integrate(F,x,y,xStop,h)\n",
    "printSoln(X,Y,freq)\n",
    "input(\"\\nPress return to exit\")"
   ]
  },
  {
   "cell_type": "markdown",
   "metadata": {},
   "source": [
    "# 7.4 Stability and Stiffness"
   ]
  },
  {
   "cell_type": "markdown",
   "metadata": {},
   "source": [
    "## Stability of Euler’s Method"
   ]
  },
  {
   "cell_type": "markdown",
   "metadata": {},
   "source": [
    "## Stiffness"
   ]
  },
  {
   "cell_type": "markdown",
   "metadata": {},
   "source": [
    "# 7.5 Adaptive Runge-Kutta Method"
   ]
  },
  {
   "cell_type": "markdown",
   "metadata": {},
   "source": [
    "### run kut5"
   ]
  },
  {
   "cell_type": "code",
   "execution_count": null,
   "metadata": {
    "collapsed": true
   },
   "outputs": [],
   "source": [
    "# %load code/run_kut5.py\n",
    "## module run_kut5\n",
    "''' X,Y = integrate(F,x,y,xStop,h,tol=1.0e-6).\n",
    "    Adaptive Runge-Kutta method with Dormand-Price\n",
    "    coefficients for solving the\n",
    "    initial value problem {y}' = {F(x,{y})}, where\n",
    "    {y} = {y[0],y[1],...y[n-1]}.\n",
    "    \n",
    "    x,y   = initial conditions\n",
    "    xStop = terminal value of x\n",
    "    h     = initial increment of x used in integration\n",
    "    tol   = per-step error tolerance\n",
    "    F     = user-supplied function that returns the\n",
    "            array F(x,y) = {y'[0],y'[1],...,y'[n-1]}.\n",
    "'''\n",
    "import math\n",
    "import numpy as np\n",
    "\n",
    "def integrate(F,x,y,xStop,h,tol=1.0e-6):\n",
    "    \n",
    "    a1 = 0.2; a2 = 0.3; a3 = 0.8; a4 = 8/9; a5 = 1.0\n",
    "    a6 = 1.0\n",
    "     \n",
    "    c0 = 35/384; c2 = 500/1113; c3 = 125/192 \n",
    "    c4 = -2187/6784; c5 = 11/84\n",
    "         \n",
    "    d0 = 5179/57600; d2 = 7571/16695; d3 = 393/640\n",
    "    d4 = -92097/339200; d5 = 187/2100; d6 = 1/40\n",
    "    \n",
    "    b10 = 0.2\n",
    "    b20 = 0.075; b21 = 0.225\n",
    "    b30 = 44/45; b31 = -56/15; b32 = 32/9\n",
    "    b40 = 19372/6561; b41 = -25360/2187; b42 = 64448/6561\n",
    "    b43 = -212/729\n",
    "    b50 = 9017/3168; b51 =-355/33; b52 = 46732/5247\n",
    "    b53 = 49/176; b54 = -5103/18656\n",
    "    b60 = 35/384; b62 = 500/1113; b63 = 125/192;\n",
    "    b64 = -2187/6784; b65 = 11/84\n",
    "\n",
    "    X = []\n",
    "    Y = []\n",
    "    X.append(x)\n",
    "    Y.append(y)\n",
    "    stopper = 0  # Integration stopper(0 = off, 1 = on)\n",
    "    k0 = h*F(x,y)\n",
    "\n",
    "    for i in range(10000):\n",
    "        k1 = h*F(x + a1*h, y + b10*k0)\n",
    "        k2 = h*F(x + a2*h, y + b20*k0 + b21*k1)\n",
    "        k3 = h*F(x + a3*h, y + b30*k0 + b31*k1 + b32*k2)\n",
    "        k4 = h*F(x + a4*h, y + b40*k0 + b41*k1 + b42*k2 + b43*k3)\n",
    "        k5 = h*F(x + a5*h, y + b50*k0 + b51*k1 + b52*k2 + b53*k3 \\\n",
    "               + b54*k4)\n",
    "        k6 = h*F(x + a6*h, y + b60*k0 + b62*k2 + b63*k3 + b64*k4 \\\n",
    "               + b65*k5)  \n",
    "        \n",
    "        dy = c0*k0 + c2*k2 + c3*k3 + c4*k4 + c5*k5\n",
    "        E = (c0 - d0)*k0 + (c2 - d2)*k2 + (c3 - d3)*k3  \\\n",
    "               + (c4 - d4)*k4 + (c5 - d5)*k5 - d6*k6    \n",
    "        e = math.sqrt(np.sum(E**2)/len(y))\n",
    "        hNext = 0.9*h*(tol/e)**0.2\n",
    "        \n",
    "      # Accept integration step if error e is within tolerance\n",
    "        if  e <= tol:\n",
    "            y = y + dy\n",
    "            x = x + h\n",
    "            X.append(x)\n",
    "            Y.append(y)  \n",
    "            if stopper == 1: break  # Reached end of x-range\n",
    "            if abs(hNext) > 10.0*abs(h): hNext = 10.0*h\n",
    "            \n",
    "          # Check if next step is the last one; if so, adjust h\n",
    "            if (h > 0.0) == ((x + hNext) >= xStop):\n",
    "                hNext = xStop - x\n",
    "                stopper = 1\n",
    "            k0 = k6*hNext/h\n",
    "        else:\n",
    "            if abs(hNext) < 0.1*abs(h): hNext = 0.1*h\n",
    "            k0 = k0*hNext/h\n",
    "        \n",
    "        h = hNext\n",
    "    return np.array(X),np.array(Y)\n",
    "\n"
   ]
  },
  {
   "cell_type": "markdown",
   "metadata": {},
   "source": [
    "### EXAMPLE7.8"
   ]
  },
  {
   "cell_type": "code",
   "execution_count": 13,
   "metadata": {
    "collapsed": false
   },
   "outputs": [
    {
     "name": "stdout",
     "output_type": "stream",
     "text": [
      "\n",
      "        x         y[ 0 ]        y[ 1 ]  \n",
      "   0.0000e+00    9.0000e+03    0.0000e+00 \n",
      "   5.0000e-01    8.9988e+03   -4.8043e+00 \n",
      "   2.4229e+00    8.9763e+03   -1.6440e+01 \n",
      "   3.4146e+00    8.9589e+03   -1.8388e+01 \n",
      "   4.6318e+00    8.9359e+03   -1.9245e+01 \n",
      "   5.9739e+00    8.9098e+03   -1.9501e+01 \n",
      "   7.6199e+00    8.8777e+03   -1.9549e+01 \n",
      "   9.7063e+00    8.8369e+03   -1.9524e+01 \n",
      "   1.0000e+01    8.8312e+03   -1.9519e+01 \n",
      "\n",
      "Press return to exit\n"
     ]
    },
    {
     "data": {
      "text/plain": [
       "''"
      ]
     },
     "execution_count": 13,
     "metadata": {},
     "output_type": "execute_result"
    }
   ],
   "source": [
    "#!/usr/bin/python\n",
    "## example7_8\n",
    "import numpy as np\n",
    "import math\n",
    "from run_kut5 import *\n",
    "from printSoln import *\n",
    "\n",
    "def F(x,y):\n",
    "    F = np.zeros(2)\n",
    "    F[0] = y[1]\n",
    "    F[1] = -9.80665 + 65.351e-3 * y[1]**2 * math.exp(-10.53e-5*y[0])\n",
    "    return F\n",
    "\n",
    "x = 0.0\n",
    "xStop = 10.0\n",
    "y = np.array([9000, 0.0])\n",
    "h = 0.5\n",
    "freq = 1\n",
    "X,Y = integrate(F,x,y,xStop,h,1.0e-2)\n",
    "printSoln(X,Y,freq)\n",
    "input(\"\\nPress return to exit\")"
   ]
  },
  {
   "cell_type": "markdown",
   "metadata": {},
   "source": [
    "### EXAMPLE7.9"
   ]
  },
  {
   "cell_type": "code",
   "execution_count": 16,
   "metadata": {
    "collapsed": false
   },
   "outputs": [
    {
     "name": "stdout",
     "output_type": "stream",
     "text": [
      "\n",
      "        x         y[ 0 ]        y[ 1 ]  \n",
      "   0.0000e+00   -9.0000e+00    0.0000e+00 \n",
      "   7.7774e-02   -8.8988e+00    2.2999e+00 \n",
      "   1.6855e-01   -8.6314e+00    3.4083e+00 \n",
      "   2.7656e-01   -8.2370e+00    3.7933e+00 \n",
      "   4.0945e-01   -7.7311e+00    3.7735e+00 \n",
      "   5.8108e-01   -7.1027e+00    3.5333e+00 \n",
      "   8.2045e-01   -6.3030e+00    3.1497e+00 \n",
      "   1.2036e+00   -5.2043e+00    2.6021e+00 \n",
      "   2.0486e+00   -3.4110e+00    1.7055e+00 \n",
      "   3.5357e+00   -1.6216e+00    8.1081e-01 \n",
      "   4.9062e+00   -8.1724e-01    4.0862e-01 \n",
      "   6.3008e+00   -4.0694e-01    2.0347e-01 \n",
      "   7.7202e+00   -2.0012e-01    1.0006e-01 \n",
      "   9.1023e+00   -1.0028e-01    5.0137e-02 \n",
      "   1.0000e+01   -6.4010e-02    3.2005e-02 \n"
     ]
    },
    {
     "data": {
      "image/png": "[encoded data removed]",
      "text/plain": [
       "<matplotlib.figure.Figure at 0xee344a7e80>"
      ]
     },
     "metadata": {},
     "output_type": "display_data"
    },
    {
     "name": "stdout",
     "output_type": "stream",
     "text": [
      "\n",
      "Press return to exit\n"
     ]
    },
    {
     "data": {
      "text/plain": [
       "''"
      ]
     },
     "execution_count": 16,
     "metadata": {},
     "output_type": "execute_result"
    }
   ],
   "source": [
    "## example7_9\n",
    "import numpy as np\n",
    "import matplotlib.pyplot as plt\n",
    "from run_kut5 import *\n",
    "from printSoln import *\n",
    "\n",
    "def F(x,y):\n",
    "    F = np.zeros(2)\n",
    "    F[0] = y[1]\n",
    "    F[1] = -4.75*y[0] - 10.0*y[1]\n",
    "    return F\n",
    "\n",
    "x = 0.0\n",
    "xStop = 10.0\n",
    "y = np.array([-9.0, 0.0])\n",
    "h = 0.1\n",
    "freq = 4\n",
    "X,Y = integrate(F,x,y,xStop,h)\n",
    "printSoln(X,Y,freq)\n",
    "plt.plot(X,Y[:,0],'o-',X,Y[:,1],'^-')\n",
    "plt.xlabel('x')\n",
    "plt.legend(('y','dy/dx'),loc=0)\n",
    "plt.grid(True)\n",
    "plt.show()\n",
    "input(\"\\nPress return to exit\")"
   ]
  },
  {
   "cell_type": "markdown",
   "metadata": {},
   "source": [
    "# 7.6 Bulirsch-Stoer Method"
   ]
  },
  {
   "cell_type": "markdown",
   "metadata": {},
   "source": [
    "## Richardson Extrapolation"
   ]
  },
  {
   "cell_type": "markdown",
   "metadata": {},
   "source": [
    "### midpoint"
   ]
  },
  {
   "cell_type": "code",
   "execution_count": null,
   "metadata": {
    "collapsed": true
   },
   "outputs": [],
   "source": [
    "# %load code/midpoint.py\n",
    "## module midpoint\n",
    "''' yStop = integrate (F,x,y,xStop,tol=1.0e-6)\n",
    "    Modified midpoint method for solving the\n",
    "    initial value problem y' = F(x,y}.\n",
    "    x,y   = initial conditions\n",
    "    xStop = terminal value of x\n",
    "    yStop = y(xStop)\n",
    "    F     = user-supplied function that returns the\n",
    "            array F(x,y) = {y'[0],y'[1],...,y'[n-1]}.\n",
    "'''\n",
    "import numpy as np\n",
    "import math\n",
    "def integrate(F,x,y,xStop,tol):\n",
    "\n",
    "    def midpoint(F,x,y,xStop,nSteps):\n",
    "        \n",
    "  # Midpoint formulas\n",
    "        h = (xStop - x)/nSteps\n",
    "        y0 = y\n",
    "        y1 = y0 + h*F(x,y0)\n",
    "        for i in range(nSteps-1):\n",
    "            x = x + h\n",
    "            y2 = y0 + 2.0*h*F(x,y1)\n",
    "            y0 = y1\n",
    "            y1 = y2\n",
    "        return 0.5*(y1 + y0 + h*F(x,y2))\n",
    "\n",
    "    def richardson(r,k):\n",
    "  # Richardson's extrapolation      \n",
    "        for j in range(k-1,0,-1):\n",
    "            const = (k/(k - 1.0))**(2.0*(k-j))\n",
    "            r[j] = (const*r[j+1] - r[j])/(const - 1.0)\n",
    "        return\n",
    "    \n",
    "    kMax = 51\n",
    "    n = len(y)\n",
    "    r = np.zeros((kMax,n))\n",
    "  # Start with two integration steps\n",
    "    nSteps = 2\n",
    "    r[1] = midpoint(F,x,y,xStop,nSteps)\n",
    "    r_old = r[1].copy()\n",
    "  # Increase the number of integration points by 2\n",
    "  # and refine result by Richardson extrapolation\n",
    "    for k in range(2,kMax):\n",
    "        nSteps = 2*k\n",
    "        r[k] = midpoint(F,x,y,xStop,nSteps)\n",
    "        richardson(r,k)\n",
    "      # Compute RMS change in solution\n",
    "        e = math.sqrt(np.sum((r[1] - r_old)**2)/n)\n",
    "      # Check for convergence\n",
    "        if e < tol: return r[1]\n",
    "        r_old = r[1].copy()\n",
    "    print(\"Midpoint method did not converge\")\n",
    "            \n",
    "\n"
   ]
  },
  {
   "cell_type": "markdown",
   "metadata": {},
   "source": [
    "## Bulirsch-Stoer Algorithm"
   ]
  },
  {
   "cell_type": "markdown",
   "metadata": {},
   "source": [
    "### bulStoer"
   ]
  },
  {
   "cell_type": "code",
   "execution_count": null,
   "metadata": {
    "collapsed": true
   },
   "outputs": [],
   "source": [
    "# %load code/bulStoer.py\n",
    "## module bulStoer\n",
    "''' X,Y = bulStoer(F,x,y,xStop,H,tol=1.0e-6).\n",
    "    Simplified Bulirsch-Stoer method for solving the\n",
    "    initial value problem {y}' = {F(x,{y})}, where\n",
    "    {y} = {y[0],y[1],...y[n-1]}.\n",
    "    x,y   = initial conditions\n",
    "    xStop = terminal value of x\n",
    "    H     = increment of x at which results are stored\n",
    "    F     = user-supplied function that returns the\n",
    "            array F(x,y) = {y'[0],y'[1],...,y'[n-1]}.\n",
    "'''\n",
    "import numpy as np\n",
    "from midpoint import *\n",
    "\n",
    "def bulStoer(F,x,y,xStop,H,tol=1.0e-6):\n",
    "    X = []\n",
    "    Y = []\n",
    "    X.append(x)\n",
    "    Y.append(y)\n",
    "    while x < xStop:\n",
    "        H = min(H,xStop - x)\n",
    "        y = integrate(F,x,y,x + H,tol) # Midpoint method\n",
    "        x = x + H\n",
    "        X.append(x)\n",
    "        Y.append(y)\n",
    "    return np.array(X),np.array(Y)\n"
   ]
  },
  {
   "cell_type": "markdown",
   "metadata": {},
   "source": [
    "### EXAMPLE7.11"
   ]
  },
  {
   "cell_type": "code",
   "execution_count": 2,
   "metadata": {
    "collapsed": false
   },
   "outputs": [
    {
     "data": {
      "image/png": "[encoded data removed]",
      "text/plain": [
       "<matplotlib.figure.Figure at 0x7b8ef70390>"
      ]
     },
     "metadata": {},
     "output_type": "display_data"
    },
    {
     "name": "stdout",
     "output_type": "stream",
     "text": [
      "\n",
      "Press return to exit\n"
     ]
    },
    {
     "data": {
      "text/plain": [
       "''"
      ]
     },
     "execution_count": 2,
     "metadata": {},
     "output_type": "execute_result"
    }
   ],
   "source": [
    "#!/usr/bin/python\n",
    "## example7_11\n",
    "from bulStoer import *\n",
    "import numpy as np\n",
    "import matplotlib.pyplot as plt\n",
    "\n",
    "def F(x,y):\n",
    "    F = np.zeros(2)\n",
    "    F[0] = y[1]\n",
    "    F[1] =(-y[1] - y[0]/0.45 + 9.0)/2.0\n",
    "    return F\n",
    "\n",
    "H = 0.25\n",
    "xStop = 10.0\n",
    "x = 0.0\n",
    "y = np.array([0.0, 0.0])\n",
    "X,Y = bulStoer(F,x,y,xStop,H)\n",
    "plt.plot(X,Y[:,1],'o-')\n",
    "plt.xlabel('Time (s)')\n",
    "plt.ylabel('Current (A)')\n",
    "plt.grid(True)\n",
    "plt.show()\n",
    "input(\"\\nPress return to exit\")"
   ]
  },
  {
   "cell_type": "markdown",
   "metadata": {},
   "source": [
    "# 7.7 Other Methods"
   ]
  }
 ],
 "metadata": {
  "kernelspec": {
   "display_name": "Python [default]",
   "language": "python",
   "name": "python3"
  },
  "language_info": {
   "codemirror_mode": {
    "name": "ipython",
    "version": 3
   },
   "file_extension": ".py",
   "mimetype": "text/x-python",
   "name": "python",
   "nbconvert_exporter": "python",
   "pygments_lexer": "ipython3",
   "version": "3.5.2"
  }
 },
 "nbformat": 4,
 "nbformat_minor": 1
}
