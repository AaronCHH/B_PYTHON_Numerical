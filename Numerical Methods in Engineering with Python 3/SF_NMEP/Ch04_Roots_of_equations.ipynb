{
 "cells": [
  {
   "cell_type": "markdown",
   "metadata": {},
   "source": [
    "# 4 Roots of Equations"
   ]
  },
  {
   "cell_type": "markdown",
   "metadata": {},
   "source": [
    "# 4.1 Introduction"
   ]
  },
  {
   "cell_type": "markdown",
   "metadata": {},
   "source": [
    "# 4.2 Incremental Search Method"
   ]
  },
  {
   "cell_type": "code",
   "execution_count": null,
   "metadata": {
    "collapsed": true
   },
   "outputs": [],
   "source": [
    "# %load code/rootsearch.py\n",
    "## module rootsearch\n",
    "''' x1,x2 = rootsearch(f,a,b,dx).\n",
    "    Searches the interval (a,b) in increments dx for\n",
    "    the bounds (x1,x2) of the smallest root of f(x). \n",
    "    Returns x1 = x2 = None if no roots were detected.\n",
    "'''\n",
    "from numpy import sign\n",
    "\n",
    "def rootsearch(f,a,b,dx):\n",
    "    x1 = a; f1 = f(a)\n",
    "    x2 = a + dx; f2 = f(x2)\n",
    "    while sign(f1) == sign(f2):\n",
    "        if x1  >=  b: return None,None\n",
    "        x1 = x2; f1 = f2\n",
    "        x2 = x1 + dx; f2 = f(x2)\n",
    "    else:\n",
    "        return x1,x2\n"
   ]
  },
  {
   "cell_type": "markdown",
   "metadata": {},
   "source": [
    "# 4.3 Method of Bisection"
   ]
  },
  {
   "cell_type": "code",
   "execution_count": null,
   "metadata": {
    "collapsed": true
   },
   "outputs": [],
   "source": [
    "# %load code/bisection.py\n",
    "## module bisection\n",
    "''' root = bisection(f,x1,x2,switch=0,tol=1.0e-9).\n",
    "    Finds a root of f(x) = 0 by bisection.\n",
    "    The root must be bracketed in (x1,x2).\n",
    "    Setting switch = 1 returns root = None if\n",
    "    f(x) increases upon bisection.\n",
    "'''    \n",
    "import math\n",
    "import error\n",
    "from numpy import sign\n",
    "\n",
    "def bisection(f,x1,x2,switch=1,tol=1.0e-9):\n",
    "    f1 = f(x1)\n",
    "    if f1 == 0.0: return x1\n",
    "    f2 = f(x2)\n",
    "    if f2 == 0.0: return x2\n",
    "    if sign(f1) == sign(f2):\n",
    "        error.err('Root is not bracketed')\n",
    "    n = int(math.ceil(math.log(abs(x2 - x1)/tol)/math.log(2.0)))\n",
    "    \n",
    "    for i in range(n):\n",
    "        x3 = 0.5*(x1 + x2); f3 = f(x3)\n",
    "        if (switch == 1) and (abs(f3) > abs(f1)) \\\n",
    "                         and (abs(f3) > abs(f2)):\n",
    "            return None   \n",
    "        if f3 == 0.0: return x3\n",
    "        if sign(f2)!= sign(f3): x1 = x3; f1 = f3\n",
    "        else: x2 = x3; f2 = f3\n",
    "    return (x1 + x2)/2.0\n"
   ]
  },
  {
   "cell_type": "markdown",
   "metadata": {},
   "source": [
    "### EXAMPLE4.2"
   ]
  },
  {
   "cell_type": "code",
   "execution_count": 4,
   "metadata": {
    "collapsed": false
   },
   "outputs": [
    {
     "name": "stdout",
     "output_type": "stream",
     "text": [
      "x = 0.7346\n",
      "Press return to exit\n"
     ]
    },
    {
     "data": {
      "text/plain": [
       "''"
      ]
     },
     "execution_count": 4,
     "metadata": {},
     "output_type": "execute_result"
    }
   ],
   "source": [
    "#!/usr/bin/python\n",
    "## example4_2\n",
    "from bisection import *\n",
    "def f(x): return x**3 - 10.0*x**2 + 5.0\n",
    "x = bisection(f, 0.0, 1.0, tol = 1.0e-4)\n",
    "print('x =', '{:6.4f}'.format(x))\n",
    "input(\"Press return to exit\")"
   ]
  },
  {
   "cell_type": "markdown",
   "metadata": {},
   "source": [
    "### EXAMPLE4.3"
   ]
  },
  {
   "cell_type": "code",
   "execution_count": 5,
   "metadata": {
    "collapsed": false
   },
   "outputs": [
    {
     "name": "stdout",
     "output_type": "stream",
     "text": [
      "The roots are:\n",
      "0.0\n",
      "4.493409458100745\n",
      "7.725251837074637\n",
      "10.904121659695917\n",
      "14.06619391292308\n",
      "17.220755272209537\n",
      "\n",
      "Done\n",
      "Press return to exit\n"
     ]
    },
    {
     "data": {
      "text/plain": [
       "''"
      ]
     },
     "execution_count": 5,
     "metadata": {},
     "output_type": "execute_result"
    }
   ],
   "source": [
    "#!/usr/bin/python\n",
    "## example4_3\n",
    "import math\n",
    "from rootsearch import *\n",
    "from bisection import *\n",
    "def f(x): return x - math.tan(x)\n",
    "a,b,dx = (0.0, 20.0, 0.01)\n",
    "print(\"The roots are:\")\n",
    "while True:\n",
    "    x1,x2 = rootsearch(f,a,b,dx)\n",
    "    if x1 != None:\n",
    "        a = x2\n",
    "        root = bisection(f,x1,x2,1)\n",
    "        if root != None: print(root)\n",
    "    else:\n",
    "        print(\"\\nDone\")\n",
    "        break\n",
    "input(\"Press return to exit\")"
   ]
  },
  {
   "cell_type": "markdown",
   "metadata": {},
   "source": [
    "# 4.4 Methods Based on Linear Interpolation"
   ]
  },
  {
   "cell_type": "markdown",
   "metadata": {},
   "source": [
    "## Secant and False Position Methods"
   ]
  },
  {
   "cell_type": "markdown",
   "metadata": {},
   "source": [
    "## Ridder’s Method"
   ]
  },
  {
   "cell_type": "code",
   "execution_count": null,
   "metadata": {
    "collapsed": true
   },
   "outputs": [],
   "source": [
    "# %load code/ridder.py\n",
    "## module ridder\n",
    "''' root = ridder(f,a,b,tol=1.0e-9).\n",
    "    Finds a root of f(x) = 0 with Ridder's method.\n",
    "    The root must be bracketed in (a,b).\n",
    "'''\n",
    "import error\n",
    "import math\n",
    "from numpy import sign\n",
    "\n",
    "def ridder(f,a,b,tol=1.0e-9):   \n",
    "    fa = f(a)\n",
    "    if fa == 0.0: return a\n",
    "    fb = f(b)\n",
    "    if fb == 0.0: return b\n",
    "    if sign(fa) == sign(fb): error.err('Root is not bracketed')\n",
    "    for i in range(30):\n",
    "      # Compute the improved root x from Ridder's formula\n",
    "        c = 0.5*(a + b); fc = f(c)\n",
    "        s = math.sqrt(fc**2 - fa*fb)\n",
    "        if s == 0.0: return None\n",
    "        dx = (c - a)*fc/s\n",
    "        if (fa - fb) < 0.0: dx = -dx \n",
    "        x = c + dx; fx = f(x)\n",
    "      # Test for convergence\n",
    "        if i > 0:\n",
    "            if abs(x - xOld) < tol*max(abs(x),1.0): return x\n",
    "        xOld = x\n",
    "      # Re-bracket the root as tightly as possible\n",
    "        if sign(fc) == sign(fx): \n",
    "            if sign(fa)!= sign(fx): b = x; fb = fx\n",
    "            else: a = x; fa = fx\n",
    "        else:\n",
    "            a = c; b = x; fa = fc; fb = fx\n",
    "    return None\n",
    "    print('Too many iterations')\n",
    "\n"
   ]
  },
  {
   "cell_type": "markdown",
   "metadata": {},
   "source": [
    "### EXAMPLE4.5"
   ]
  },
  {
   "cell_type": "code",
   "execution_count": 8,
   "metadata": {
    "collapsed": false
   },
   "outputs": [
    {
     "name": "stdout",
     "output_type": "stream",
     "text": [
      "root = 0.5800000000000001\n",
      "Press return to exit\n"
     ]
    },
    {
     "data": {
      "text/plain": [
       "''"
      ]
     },
     "execution_count": 8,
     "metadata": {},
     "output_type": "execute_result"
    }
   ],
   "source": [
    "#!/usr/bin/python\n",
    "## example4_5\n",
    "from ridder import *\n",
    "def f(x):\n",
    "    a = (x - 0.3)**2 + 0.01\n",
    "    b = (x - 0.8)**2 + 0.04\n",
    "    return 1.0/a - 1.0/b\n",
    "print(\"root =\",ridder(f,0.0,1.0))\n",
    "input(\"Press return to exit\")"
   ]
  },
  {
   "cell_type": "markdown",
   "metadata": {},
   "source": [
    "# 4.5 Newton-Raphson Method"
   ]
  },
  {
   "cell_type": "code",
   "execution_count": null,
   "metadata": {
    "collapsed": true
   },
   "outputs": [],
   "source": [
    "# %load code/newtonRaphson.py\n",
    "## module newtonRaphson\n",
    "''' root = newtonRaphson(f,df,a,b,tol=1.0e-9).\n",
    "    Finds a root of f(x) = 0 by combining the Newton-Raphson\n",
    "    method with bisection. The root must be bracketed in (a,b).\n",
    "    Calls user-supplied functions f(x) and its derivative df(x).   \n",
    "'''    \n",
    "def newtonRaphson(f,df,a,b,tol=1.0e-9):\n",
    "    import error\n",
    "    from numpy import sign\n",
    "    \n",
    "    fa = f(a)\n",
    "    if fa == 0.0: return a\n",
    "    fb = f(b)\n",
    "    if fb == 0.0: return b\n",
    "    if sign(fa) == sign(fb): error.err('Root is not bracketed')\n",
    "    x = 0.5*(a + b)                    \n",
    "    for i in range(30):\n",
    "        fx = f(x)\n",
    "        if fx == 0.0: return x\n",
    "      # Tighten the brackets on the root \n",
    "        if sign(fa) != sign(fx): b = x  \n",
    "        else: a = x\n",
    "      # Try a Newton-Raphson step    \n",
    "        dfx = df(x)\n",
    "      # If division by zero, push x out of bounds\n",
    "        try: dx = -fx/dfx\n",
    "        except ZeroDivisionError: dx = b - a\n",
    "        x = x + dx\n",
    "      # If the result is outside the brackets, use bisection  \n",
    "        if (b - x)*(x - a) < 0.0:  \n",
    "            dx = 0.5*(b - a)                      \n",
    "            x = a + dx\n",
    "      # Check for convergence     \n",
    "        if abs(dx) < tol*max(abs(b),1.0): return x\n",
    "    print('Too many iterations in Newton-Raphson')\n"
   ]
  },
  {
   "cell_type": "markdown",
   "metadata": {},
   "source": [
    "### EXAMPLE4.8"
   ]
  },
  {
   "cell_type": "markdown",
   "metadata": {},
   "source": [
    "# 4.6 Systems of Equations"
   ]
  },
  {
   "cell_type": "markdown",
   "metadata": {},
   "source": [
    "## Newton-Raphson Method"
   ]
  },
  {
   "cell_type": "code",
   "execution_count": 11,
   "metadata": {
    "collapsed": true
   },
   "outputs": [],
   "source": [
    "# %load code/newtonRaphson2.py\n",
    "## module newtonRaphson2\n",
    "''' soln = newtonRaphson2(f,x,tol=1.0e-9).\n",
    "    Solves the simultaneous equations f(x) = 0 by\n",
    "    the Newton-Raphson method using {x} as the initial\n",
    "    guess. Note that {f} and {x} are vectors.\n",
    "'''\n",
    "import numpy as np\n",
    "from gaussPivot import *\n",
    "import math\n",
    "def newtonRaphson2(f,x,tol=1.0e-9):\n",
    "    \n",
    "    def jacobian(f,x):\n",
    "        h = 1.0e-4\n",
    "        n = len(x)\n",
    "        jac = np.zeros((n,n))\n",
    "        f0 = f(x)\n",
    "        for i in range(n):\n",
    "            temp = x[i]\n",
    "            x[i] = temp + h\n",
    "            f1 = f(x)\n",
    "            x[i] = temp\n",
    "            jac[:,i] = (f1 - f0)/h\n",
    "        return jac,f0\n",
    "    \n",
    "    for i in range(30):\n",
    "        jac,f0 = jacobian(f,x)\n",
    "        if math.sqrt(np.dot(f0,f0)/len(x)) < tol:\n",
    "            return x\n",
    "        dx = gaussPivot(jac,-f0)\n",
    "        x = x + dx\n",
    "        if math.sqrt(np.dot(dx,dx)) < tol*max(max(abs(x)),1.0): return x\n",
    "    print('Too many iterations')\n"
   ]
  },
  {
   "cell_type": "markdown",
   "metadata": {},
   "source": [
    "### EXAMPLE4.9"
   ]
  },
  {
   "cell_type": "code",
   "execution_count": 13,
   "metadata": {
    "collapsed": false
   },
   "outputs": [],
   "source": [
    "#!/usr/bin/python\n",
    "## example4_10\n",
    "import numpy as np\n",
    "import math\n",
    "from newtonRaphson2 import *\n",
    "def f(x):\n",
    "    f = np.zeros(len(x))\n",
    "    f[0] = math.sin(x[0]) + x[1]**2 + math.log(x[2]) - 7.0\n",
    "    f[1] = 3.0*x[0] + 2.0**x[1] - x[2]**3 + 1.0\n",
    "    f[2] = x[0] + x[1] + x[2] - 5.0\n",
    "    return f"
   ]
  },
  {
   "cell_type": "markdown",
   "metadata": {},
   "source": [
    "# 4.7 Zeros of Polynomials"
   ]
  },
  {
   "cell_type": "markdown",
   "metadata": {},
   "source": [
    "## Introduction"
   ]
  },
  {
   "cell_type": "markdown",
   "metadata": {},
   "source": [
    "## Evaluation of Polynomials"
   ]
  },
  {
   "cell_type": "markdown",
   "metadata": {},
   "source": [
    "## Deflation of Polynomials"
   ]
  },
  {
   "cell_type": "markdown",
   "metadata": {},
   "source": [
    "## Laguerre’s Method"
   ]
  },
  {
   "cell_type": "code",
   "execution_count": null,
   "metadata": {
    "collapsed": true
   },
   "outputs": [],
   "source": [
    "# %load code/polyRoots.py\n",
    "## module polyRoots\n",
    "''' roots = polyRoots(a).\n",
    "    Uses Laguerre's method to compute all the roots of\n",
    "    a[0] + a[1]*x + a[2]*x^2 +...+ a[n]*x^n = 0.\n",
    "    The roots are returned in the array 'roots',\n",
    "'''    \n",
    "from evalPoly import *\n",
    "import numpy as np\n",
    "import cmath\n",
    "from random import random\n",
    "\n",
    "def polyRoots(a,tol=1.0e-12):\n",
    "\n",
    "    def laguerre(a,tol):\n",
    "        x = random()   # Starting value (random number)\n",
    "        n = len(a) - 1\n",
    "        for i in range(30):\n",
    "            p,dp,ddp = evalPoly(a,x)\n",
    "            if abs(p) < tol: return x\n",
    "            g = dp/p\n",
    "            h = g*g - ddp/p\n",
    "            f = cmath.sqrt((n - 1)*(n*h - g*g))\n",
    "            if abs(g + f) > abs(g - f): dx = n/(g + f)\n",
    "            else: dx = n/(g - f)\n",
    "            x = x - dx\n",
    "            if abs(dx) < tol: return x\n",
    "        print('Too many iterations')\n",
    "\n",
    "    def deflPoly(a,root):  # Deflates a polynomial\n",
    "        n = len(a)-1\n",
    "        b = [(0.0 + 0.0j)]*n\n",
    "        b[n-1] = a[n]\n",
    "        for i in range(n-2,-1,-1):\n",
    "            b[i] = a[i+1] + root*b[i+1]\n",
    "        return b\n",
    "\n",
    "    n = len(a) - 1\n",
    "    roots = np.zeros((n),dtype=complex)\n",
    "    for i in range(n):\n",
    "        x = laguerre(a,tol)\n",
    "        if abs(x.imag) < tol: x = x.real\n",
    "        roots[i] = x\n",
    "        a = deflPoly(a,x)\n",
    "    return roots\n"
   ]
  },
  {
   "cell_type": "markdown",
   "metadata": {},
   "source": [
    "### EXAMPLE4.12"
   ]
  },
  {
   "cell_type": "code",
   "execution_count": 3,
   "metadata": {
    "collapsed": false
   },
   "outputs": [
    {
     "name": "stdout",
     "output_type": "stream",
     "text": [
      "Roots are:\n",
      " [ 2.+0.j  4.-3.j  4.+3.j -5.+0.j]\n",
      "Press return to exit\n"
     ]
    },
    {
     "data": {
      "text/plain": [
       "''"
      ]
     },
     "execution_count": 3,
     "metadata": {},
     "output_type": "execute_result"
    }
   ],
   "source": [
    "#!/usr/bin/python\n",
    "## example4_12\n",
    "from polyRoots import *\n",
    "import numpy as np\n",
    "c = np.array([-250.0,155.0,-9.0,-5.0,1.0])\n",
    "print('Roots are:\\n',polyRoots(c))\n",
    "input('Press return to exit')"
   ]
  },
  {
   "cell_type": "markdown",
   "metadata": {},
   "source": [
    "# 4.8 Other Methods"
   ]
  }
 ],
 "metadata": {
  "kernelspec": {
   "display_name": "Python [default]",
   "language": "python",
   "name": "python3"
  },
  "language_info": {
   "codemirror_mode": {
    "name": "ipython",
    "version": 3
   },
   "file_extension": ".py",
   "mimetype": "text/x-python",
   "name": "python",
   "nbconvert_exporter": "python",
   "pygments_lexer": "ipython3",
   "version": "3.5.2"
  }
 },
 "nbformat": 4,
 "nbformat_minor": 1
}
