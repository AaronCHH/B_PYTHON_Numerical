{
 "cells": [
  {
   "cell_type": "markdown",
   "metadata": {},
   "source": [
    "# 2 Systems of Linear Algebraic Equations"
   ]
  },
  {
   "cell_type": "markdown",
   "metadata": {},
   "source": [
    "# 2.1 Introduction"
   ]
  },
  {
   "cell_type": "markdown",
   "metadata": {},
   "source": [
    "## Notation"
   ]
  },
  {
   "cell_type": "markdown",
   "metadata": {},
   "source": [
    "## Uniqueness of Solution"
   ]
  },
  {
   "cell_type": "markdown",
   "metadata": {},
   "source": [
    "## Ill Conditioning"
   ]
  },
  {
   "cell_type": "markdown",
   "metadata": {},
   "source": [
    "## Linear Systems"
   ]
  },
  {
   "cell_type": "markdown",
   "metadata": {},
   "source": [
    "## Methods of Solution"
   ]
  },
  {
   "cell_type": "markdown",
   "metadata": {},
   "source": [
    "## Overview of Direct Methods"
   ]
  },
  {
   "cell_type": "markdown",
   "metadata": {},
   "source": [
    "# 2.2 Gauss Elimination Method"
   ]
  },
  {
   "cell_type": "markdown",
   "metadata": {},
   "source": [
    "## Introduction"
   ]
  },
  {
   "cell_type": "markdown",
   "metadata": {},
   "source": [
    "## Algorithm for Gauss Elimination Method"
   ]
  },
  {
   "cell_type": "code",
   "execution_count": null,
   "metadata": {
    "collapsed": true
   },
   "outputs": [],
   "source": [
    "# %load code/gaussElimin.py\n",
    "## module gaussElimin\n",
    "''' x = gaussElimin(a,b).\n",
    "    Solves [a]{b} = {x} by Gauss elimination.\n",
    "'''\n",
    "import numpy as np\n",
    "\n",
    "def gaussElimin(a,b):\n",
    "    n = len(b)\n",
    "  # Elimination Phase\n",
    "    for k in range(0,n-1):\n",
    "        for i in range(k+1,n):\n",
    "           if a[i,k] != 0.0:\n",
    "               lam = a [i,k]/a[k,k]\n",
    "               a[i,k+1:n] = a[i,k+1:n] - lam*a[k,k+1:n]\n",
    "               b[i] = b[i] - lam*b[k]\n",
    "  # Back substitution\n",
    "    for k in range(n-1,-1,-1):\n",
    "        b[k] = (b[k] - np.dot(a[k,k+1:n],b[k+1:n]))/a[k,k]\n",
    "    return b\n"
   ]
  },
  {
   "cell_type": "markdown",
   "metadata": {},
   "source": [
    "## Multiple Sets of Equations"
   ]
  },
  {
   "cell_type": "code",
   "execution_count": null,
   "metadata": {
    "collapsed": false
   },
   "outputs": [
    {
     "name": "stdout",
     "output_type": "stream",
     "text": [
      "x =\n",
      " [   416.66666667  -3125.00000004   9250.00000012 -13500.00000017\n",
      "   9709.33333345  -2751.00000003]\n",
      "\n",
      "det = -1.13246207999e-06\n",
      "\n",
      "Check result: [a]{x} - b =\n",
      " [  0.00000000e+00   0.00000000e+00   1.81898940e-12   1.09139364e-11\n",
      "  -1.81898940e-11   4.36557457e-11]\n"
     ]
    }
   ],
   "source": [
    "#!/usr/bin/python\n",
    "## example2_4\n",
    "import numpy as np\n",
    "from gaussElimin import *\n",
    "def vandermode(v):\n",
    "    n = len(v)\n",
    "    a = np.zeros((n,n))\n",
    "    for j in range(n):\n",
    "        a[:,j] = v**(n-j-1)\n",
    "    return a\n",
    "v = np.array([1.0, 1.2, 1.4, 1.6, 1.8, 2.0])\n",
    "b = np.array([0.0, 1.0, 0.0, 1.0, 0.0, 1.0])\n",
    "a = vandermode(v)\n",
    "aOrig = a.copy() # Save original matrix\n",
    "bOrig = b.copy() # and the constant vector\n",
    "x = gaussElimin(a,b)\n",
    "det = np.prod(np.diagonal(a))\n",
    "print('x =\\n',x)\n",
    "print('\\ndet =',det)\n",
    "print('\\nCheck result: [a]{x} - b =\\n',np.dot(aOrig,x) - bOrig)\n",
    "input(\"\\nPress return to exit\")"
   ]
  },
  {
   "cell_type": "markdown",
   "metadata": {},
   "source": [
    "# 2.3 LU Decomposition Methods"
   ]
  },
  {
   "cell_type": "markdown",
   "metadata": {},
   "source": [
    "## Introduction"
   ]
  },
  {
   "cell_type": "markdown",
   "metadata": {},
   "source": [
    "## Doolittle’s Decomposition Method"
   ]
  },
  {
   "cell_type": "markdown",
   "metadata": {},
   "source": [
    "**Decomposition phase**"
   ]
  },
  {
   "cell_type": "markdown",
   "metadata": {},
   "source": [
    "**Solution phase**"
   ]
  },
  {
   "cell_type": "code",
   "execution_count": null,
   "metadata": {
    "collapsed": true
   },
   "outputs": [],
   "source": [
    "# %load code/LUdecomp.py\n",
    "## module LUdecomp\n",
    "''' a = LUdecomp(a)\n",
    "    LUdecomposition: [L][U] = [a]\n",
    "\n",
    "    x = LUsolve(a,b)\n",
    "    Solution phase: solves [L][U]{x} = {b}\n",
    "'''\n",
    "import numpy as np\n",
    "\n",
    "def LUdecomp(a):\n",
    "    n = len(a)\n",
    "    for k in range(0,n-1):\n",
    "        for i in range(k+1,n):\n",
    "           if a[i,k] != 0.0:\n",
    "               lam = a [i,k]/a[k,k]\n",
    "               a[i,k+1:n] = a[i,k+1:n] - lam*a[k,k+1:n]\n",
    "               a[i,k] = lam\n",
    "    return a\n",
    "\n",
    "def LUsolve(a,b):\n",
    "    n = len(a)\n",
    "    for k in range(1,n):\n",
    "        b[k] = b[k] - np.dot(a[k,0:k],b[0:k])\n",
    "    b[n-1] = b[n-1]/a[n-1,n-1]    \n",
    "    for k in range(n-2,-1,-1):\n",
    "       b[k] = (b[k] - np.dot(a[k,k+1:n],b[k+1:n]))/a[k,k]\n",
    "    return b\n",
    "\n"
   ]
  },
  {
   "cell_type": "markdown",
   "metadata": {},
   "source": [
    "## Choleski’s Decomposition Method"
   ]
  },
  {
   "cell_type": "code",
   "execution_count": null,
   "metadata": {
    "collapsed": true
   },
   "outputs": [],
   "source": [
    "# %load code/choleski.py\n",
    "## module choleski\n",
    "''' L = choleski(a)\n",
    "    Choleski decomposition: [L][L]transpose = [a]\n",
    "\n",
    "    x = choleskiSol(L,b)\n",
    "    Solution phase of Choleski's decomposition method\n",
    "'''\n",
    "import numpy as np\n",
    "import math\n",
    "import error\n",
    "\n",
    "def choleski(a):\n",
    "    n = len(a)\n",
    "    for k in range(n):\n",
    "        try:\n",
    "            a[k,k] = math.sqrt(a[k,k] - np.dot(a[k,0:k],a[k,0:k]))\n",
    "        except ValueError:\n",
    "            error.err('Matrix is not positive definite')\n",
    "        for i in range(k+1,n):\n",
    "            a[i,k] = (a[i,k] - np.dot(a[i,0:k],a[k,0:k]))/a[k,k]\n",
    "    for k in range(1,n): a[0:k,k] = 0.0\n",
    "    return a\n",
    "\n",
    "def choleskiSol(L,b):\n",
    "    n = len(b)\n",
    "  # Solution of [L]{y} = {b}  \n",
    "    for k in range(n):\n",
    "        b[k] = (b[k] - np.dot(L[k,0:k],b[0:k]))/L[k,k]\n",
    "  # Solution of [L_transpose]{x} = {y}      \n",
    "    for k in range(n-1,-1,-1):\n",
    "        b[k] = (b[k] - np.dot(L[k+1:n,k],b[k+1:n]))/L[k,k]\n",
    "    return b\n",
    "\n"
   ]
  },
  {
   "cell_type": "markdown",
   "metadata": {},
   "source": [
    "## Other Methods"
   ]
  },
  {
   "cell_type": "markdown",
   "metadata": {},
   "source": [
    "### Crout’s decomposition"
   ]
  },
  {
   "cell_type": "markdown",
   "metadata": {},
   "source": [
    "### Gauss-Jordan Elimination"
   ]
  },
  {
   "cell_type": "markdown",
   "metadata": {},
   "source": [
    "# 2.4 Symmetric and Banded Coefficient Matrices"
   ]
  },
  {
   "cell_type": "markdown",
   "metadata": {},
   "source": [
    "### Introduction"
   ]
  },
  {
   "cell_type": "markdown",
   "metadata": {},
   "source": [
    "### Tridiagonal Coefficient Matrix"
   ]
  },
  {
   "cell_type": "code",
   "execution_count": null,
   "metadata": {
    "collapsed": true
   },
   "outputs": [],
   "source": [
    "# %load code/LUdecomp3.py\n",
    "## module LUdecomp3\n",
    "''' c,d,e = LUdecomp3(c,d,e).\n",
    "    LU decomposition of tridiagonal matrix [a], where {c}, {d}\n",
    "    and {e} are the diagonals of [a]. On output\n",
    "    {c},{d} and {e} are the diagonals of the decomposed matrix.\n",
    "\n",
    "    x = LUsolve3(c,d,e,b).\n",
    "    Solution of [a]{x} {b}, where {c}, {d} and {e} are the\n",
    "    vectors returned from LUdecomp3.\n",
    "'''\n",
    "\n",
    "def LUdecomp3(c,d,e):\n",
    "    n = len(d)\n",
    "    for k in range(1,n):\n",
    "        lam = c[k-1]/d[k-1]\n",
    "        d[k] = d[k] - lam*e[k-1]\n",
    "        c[k-1] = lam\n",
    "    return c,d,e\n",
    "\n",
    "def LUsolve3(c,d,e,b):\n",
    "    n = len(d)\n",
    "    for k in range(1,n):\n",
    "        b[k] = b[k] - c[k-1]*b[k-1]\n",
    "    b[n-1] = b[n-1]/d[n-1]\n",
    "    for k in range(n-2,-1,-1):\n",
    "        b[k] = (b[k] - e[k]*b[k+1])/d[k]\n",
    "    return b   \n",
    "        \n",
    "\n"
   ]
  },
  {
   "cell_type": "markdown",
   "metadata": {},
   "source": [
    "### Symmetric Coefficient Matrices"
   ]
  },
  {
   "cell_type": "markdown",
   "metadata": {},
   "source": [
    "### Symmetric, Pentadiagonal Coefficient Matrices"
   ]
  },
  {
   "cell_type": "code",
   "execution_count": null,
   "metadata": {
    "collapsed": true
   },
   "outputs": [],
   "source": [
    "# %load code/LUdecomp5.py\n",
    "## module LUdecomp5\n",
    "''' d,e,f = LUdecomp5(d,e,f).\n",
    "    LU decomposition of symetric pentadiagonal matrix [a], where\n",
    "    {f}, {e} and {d} are the diagonals of [a]. On output\n",
    "    {d},{e} and {f} are the diagonals of the decomposed matrix.\n",
    "    \n",
    "    x = LUsolve5(d,e,f,b).\n",
    "    Solves [a]{x} = {b}, where {d}, {e} and {f} are the vectors\n",
    "    returned from LUdecomp5.\n",
    "    '''\n",
    "def LUdecomp5(d,e,f):\n",
    "    n = len(d)\n",
    "    for k in range(n-2):\n",
    "        lam = e[k]/d[k]\n",
    "        d[k+1] = d[k+1] - lam*e[k]\n",
    "        e[k+1] = e[k+1] - lam*f[k]\n",
    "        e[k] = lam\n",
    "        lam = f[k]/d[k]\n",
    "        d[k+2] = d[k+2] - lam*f[k]\n",
    "        f[k] = lam\n",
    "    lam = e[n-2]/d[n-2]\n",
    "    d[n-1] = d[n-1] - lam*e[n-2]\n",
    "    e[n-2] = lam\n",
    "    return d,e,f\n",
    "\n",
    "def LUsolve5(d,e,f,b):\n",
    "    n = len(d)\n",
    "    b[1] = b[1] - e[0]*b[0]\n",
    "    for k in range(2,n):\n",
    "        b[k] = b[k] - e[k-1]*b[k-1] - f[k-2]*b[k-2]\n",
    "        \n",
    "    b[n-1] = b[n-1]/d[n-1]\n",
    "    b[n-2] = b[n-2]/d[n-2] - e[n-2]*b[n-1]\n",
    "    for k in range(n-3,-1,-1):\n",
    "        b[k] = b[k]/d[k] - e[k]*b[k+1] - f[k]*b[k+2]\n",
    "    return b\n",
    "\n",
    "\n",
    "\n",
    "\n",
    "        \n"
   ]
  },
  {
   "cell_type": "code",
   "execution_count": 6,
   "metadata": {
    "collapsed": false
   },
   "outputs": [
    {
     "name": "stdout",
     "output_type": "stream",
     "text": [
      "\n",
      "x =\n",
      " [ 2. -1.  1. -1.  2.]\n",
      "\n",
      "Press return to exit\n"
     ]
    },
    {
     "data": {
      "text/plain": [
       "''"
      ]
     },
     "execution_count": 6,
     "metadata": {},
     "output_type": "execute_result"
    }
   ],
   "source": [
    "#!/usr/bin/python\n",
    "## example2_11\n",
    "import numpy as np\n",
    "from LUdecomp3 import *\n",
    "d = np.ones((5))*2.0\n",
    "c = np.ones((4))*(-1.0)\n",
    "b = np.array([5.0, -5.0, 4.0, -5.0, 5.0])\n",
    "e = c.copy()\n",
    "c,d,e = LUdecomp3(c,d,e)\n",
    "x = LUsolve3(c,d,e,b)\n",
    "print(\"\\nx =\\n\",x)\n",
    "input(\"\\nPress return to exit\")"
   ]
  },
  {
   "cell_type": "markdown",
   "metadata": {},
   "source": [
    "# 2.5 Pivoting"
   ]
  },
  {
   "cell_type": "markdown",
   "metadata": {},
   "source": [
    "## Introduction"
   ]
  },
  {
   "cell_type": "markdown",
   "metadata": {},
   "source": [
    "## Diagonal Dominance"
   ]
  },
  {
   "cell_type": "markdown",
   "metadata": {},
   "source": [
    "## Gauss Elimination with Scaled Row Pivoting"
   ]
  },
  {
   "cell_type": "code",
   "execution_count": null,
   "metadata": {
    "collapsed": false,
    "scrolled": true
   },
   "outputs": [],
   "source": [
    "for k in range(0,n-1):\n",
    "    \n",
    "    # Find row containing element with largest relative size\n",
    "    p = argmax(abs(a[k:n,k])/s[k:n]) + k\n",
    "    \n",
    "    # If this element is very small, matrix is singular    \n",
    "    if abs(a[p,k]) < tol: error.err('Matrix is singular')\n",
    "        \n",
    "    # Check whether rows k and p must be interchanged\n",
    "    if p != k:\n",
    "        # Interchange rows if needed\n",
    "        swap.swapRows(b,k,p)\n",
    "        swap.swapRows(s,k,p)\n",
    "        swap.swapRows(a,k,p)\n",
    "    # Proceed with elimination"
   ]
  },
  {
   "cell_type": "markdown",
   "metadata": {},
   "source": [
    "**swap**"
   ]
  },
  {
   "cell_type": "code",
   "execution_count": null,
   "metadata": {
    "collapsed": true
   },
   "outputs": [],
   "source": [
    "# %load code/swap.py\n",
    "## module swap\n",
    "''' swapRows(v,i,j).\n",
    "    Swaps rows i and j of a vector or matrix [v].\n",
    "\n",
    "    swapCols(v,i,j).\n",
    "    Swaps columns of matrix [v].\n",
    "'''\n",
    "def swapRows(v,i,j):\n",
    "    if len(v.shape) == 1:\n",
    "        v[i],v[j] = v[j],v[i]\n",
    "    else:\n",
    "        v[[i,j],:] = v[[j,i],:]\n",
    "        \n",
    "def swapCols(v,i,j):\n",
    "    v[:,[i,j]] = v[:,[j,i]]\n"
   ]
  },
  {
   "cell_type": "markdown",
   "metadata": {},
   "source": [
    "**gaussPivot**"
   ]
  },
  {
   "cell_type": "code",
   "execution_count": null,
   "metadata": {
    "collapsed": true
   },
   "outputs": [],
   "source": [
    "# %load code/gaussPivot.py\n",
    "## module gaussPivot\n",
    "''' x = gaussPivot(a,b,tol=1.0e-12).\n",
    "    Solves [a]{x} = {b} by Gauss elimination with\n",
    "    scaled row pivoting\n",
    "'''    \n",
    "import numpy as np\n",
    "import swap \n",
    "import error\n",
    "\n",
    "def gaussPivot(a,b,tol=1.0e-12):\n",
    "    n = len(b)\n",
    "    \n",
    "  # Set up scale factors\n",
    "    s = np.zeros(n)\n",
    "    for i in range(n):\n",
    "        s[i] = max(np.abs(a[i,:]))\n",
    "            \n",
    "    for k in range(0,n-1):\n",
    "        \n",
    "      # Row interchange, if needed\n",
    "        p = np.argmax(np.abs(a[k:n,k])/s[k:n]) + k\n",
    "        if abs(a[p,k]) < tol: error.err('Matrix is singular')\n",
    "        if p != k:\n",
    "            swap.swapRows(b,k,p)\n",
    "            swap.swapRows(s,k,p)\n",
    "            swap.swapRows(a,k,p)\n",
    "            \n",
    "      # Elimination\n",
    "        for i in range(k+1,n):\n",
    "            if a[i,k] != 0.0:\n",
    "                lam = a[i,k]/a[k,k]\n",
    "                a[i,k+1:n] = a[i,k+1:n] - lam*a[k,k+1:n]\n",
    "                b[i] = b[i] - lam*b[k]\n",
    "    if abs(a[n-1,n-1]) < tol: error.err('Matrix is singular')\n",
    "                   \n",
    "  # Back substitution\n",
    "    b[n-1] = b[n-1]/a[n-1,n-1]\n",
    "    for k in range(n-2,-1,-1):\n",
    "        b[k] = (b[k] - np.dot(a[k,k+1:n],b[k+1:n]))/a[k,k]\n",
    "    return b\n",
    "\n",
    "\n",
    "\n",
    "        \n"
   ]
  },
  {
   "cell_type": "markdown",
   "metadata": {},
   "source": [
    "**LUpivot**"
   ]
  },
  {
   "cell_type": "code",
   "execution_count": null,
   "metadata": {
    "collapsed": true
   },
   "outputs": [],
   "source": [
    "# %load code/LUpivot.py\n",
    "## module LUpivot\n",
    "''' a,seq = LUdecomp(a,tol=1.0e-9).\n",
    "    LU decomposition of matrix [a] using scaled row pivoting.\n",
    "    The returned matrix [a] = contains [U] in the upper\n",
    "    triangle and the nondiagonal terms of [L] in the lower triangle.\n",
    "    Note that [L][U] is a row-wise permutation of the original [a];\n",
    "    the permutations are recorded in the vector {seq}.\n",
    "    \n",
    "    x = LUsolve(a,b,seq).\n",
    "    Solves [L][U]{x} = {b}, where the matrix [a] = and the\n",
    "    permutation vector {seq} are returned from LUdecomp.\n",
    "'''\n",
    "import numpy as np\n",
    "import swap\n",
    "import error\n",
    "\n",
    "def LUdecomp(a,tol=1.0e-9):\n",
    "    n = len(a)\n",
    "    seq = np.array(range(n))\n",
    "    \n",
    "  # Set up scale factors\n",
    "    s = np.zeros((n))\n",
    "    for i in range(n):\n",
    "        s[i] = max(abs(a[i,:]))        \n",
    "    \n",
    "    for k in range(0,n-1):\n",
    "        \n",
    "      # Row interchange, if needed\n",
    "        p = np.argmax(np.abs(a[k:n,k])/s[k:n]) + k\n",
    "        if abs(a[p,k]) <  tol: error.err('Matrix is singular')\n",
    "        if p != k:\n",
    "            swap.swapRows(s,k,p)\n",
    "            swap.swapRows(a,k,p)\n",
    "            swap.swapRows(seq,k,p)\n",
    "            \n",
    "      # Elimination            \n",
    "        for i in range(k+1,n):\n",
    "            if a[i,k] != 0.0:\n",
    "                lam = a[i,k]/a[k,k]\n",
    "                a[i,k+1:n] = a[i,k+1:n] - lam*a[k,k+1:n]\n",
    "                a[i,k] = lam\n",
    "    return a,seq\n",
    "\n",
    "def LUsolve(a,b,seq):\n",
    "    n = len(a)\n",
    "    \n",
    "  # Rearrange constant vector; store it in [x]\n",
    "    x = b.copy()\n",
    "    for i in range(n):\n",
    "        x[i] = b[seq[i]]\n",
    "        \n",
    "  # Solution\n",
    "    for k in range(1,n):\n",
    "        x[k] = x[k] - np.dot(a[k,0:k],x[0:k])\n",
    "    x[n-1] = x[n-1]/a[n-1,n-1]    \n",
    "    for k in range(n-2,-1,-1):\n",
    "       x[k] = (x[k] - np.dot(a[k,k+1:n],x[k+1:n]))/a[k,k]\n",
    "    return x\n",
    "\n",
    "\n"
   ]
  },
  {
   "cell_type": "markdown",
   "metadata": {},
   "source": [
    "### When to Pivot"
   ]
  },
  {
   "cell_type": "markdown",
   "metadata": {},
   "source": [
    "## When to Pivot"
   ]
  },
  {
   "cell_type": "markdown",
   "metadata": {},
   "source": [
    "# 2.6 Matrix Inversion"
   ]
  },
  {
   "cell_type": "code",
   "execution_count": 3,
   "metadata": {
    "collapsed": false,
    "scrolled": true
   },
   "outputs": [
    {
     "name": "stdout",
     "output_type": "stream",
     "text": [
      "\n",
      "aInv =\n",
      " [[ 1.66666667 -2.22222222 -1.11111111]\n",
      " [ 1.25       -0.83333333 -1.66666667]\n",
      " [ 0.5         1.          0.        ]]\n",
      "\n",
      "Check: a*aInv =\n",
      " [[  1.00000000e+00  -4.44089210e-16  -1.18423789e-16]\n",
      " [  0.00000000e+00   1.00000000e+00   5.92118946e-17]\n",
      " [  0.00000000e+00  -3.33066907e-16   1.00000000e+00]]\n",
      "\n",
      "Press return to exit\n"
     ]
    },
    {
     "data": {
      "text/plain": [
       "''"
      ]
     },
     "execution_count": 3,
     "metadata": {},
     "output_type": "execute_result"
    }
   ],
   "source": [
    "#!/usr/bin/python\n",
    "## example2_13\n",
    "import numpy as np\n",
    "from LUpivot import *\n",
    "\n",
    "def matInv(a):\n",
    "    n = len(a[0])\n",
    "    aInv = np.identity(n)\n",
    "    a,seq = LUdecomp(a)\n",
    "    \n",
    "    for i in range(n):\n",
    "        aInv[:,i] = LUsolve(a,aInv[:,i],seq)\n",
    "    return aInv\n",
    "\n",
    "a = np.array([[ 0.6, -0.4, 1.0],\\\n",
    "              [-0.3, 0.2, 0.5],\\\n",
    "              [ 0.6, -1.0, 0.5]])\n",
    "\n",
    "aOrig = a.copy() # Save original [a]\n",
    "aInv = matInv(a) # Invert [a] (original [a] is destroyed)\n",
    "\n",
    "print(\"\\naInv =\\n\",aInv)\n",
    "print(\"\\nCheck: a*aInv =\\n\", np.dot(aOrig,aInv))\n",
    "input(\"\\nPress return to exit\")"
   ]
  },
  {
   "cell_type": "code",
   "execution_count": 4,
   "metadata": {
    "collapsed": false
   },
   "outputs": [
    {
     "name": "stdout",
     "output_type": "stream",
     "text": [
      "\n",
      "The inverse matrix is:\n",
      " [[ 0.84  0.68  0.52  0.36  0.2   0.04]\n",
      " [ 0.68  1.36  1.04  0.72  0.4   0.08]\n",
      " [ 0.52  1.04  1.56  1.08  0.6   0.12]\n",
      " [ 0.36  0.72  1.08  1.44  0.8   0.16]\n",
      " [ 0.2   0.4   0.6   0.8   1.    0.2 ]\n",
      " [ 0.04  0.08  0.12  0.16  0.2   0.24]]\n",
      "\n",
      "Press return to exit\n"
     ]
    },
    {
     "data": {
      "text/plain": [
       "''"
      ]
     },
     "execution_count": 4,
     "metadata": {},
     "output_type": "execute_result"
    }
   ],
   "source": [
    "#!/usr/bin/python\n",
    "## example2_14\n",
    "import numpy as np\n",
    "from LUdecomp3 import *\n",
    "n = 6\n",
    "d = np.ones((n))*2.0\n",
    "e = np.ones((n-1))*(-1.0)\n",
    "c = e.copy()\n",
    "d[n-1] = 5.0\n",
    "aInv = np.identity(n)\n",
    "c,d,e = LUdecomp3(c,d,e)\n",
    "\n",
    "for i in range(n):\n",
    "    aInv[:,i] = LUsolve3(c,d,e,aInv[:,i])\n",
    "print(\"\\nThe inverse matrix is:\\n\",aInv)\n",
    "\n",
    "input(\"\\nPress return to exit\")"
   ]
  },
  {
   "cell_type": "markdown",
   "metadata": {},
   "source": [
    "# 2.7 Iterative Methods"
   ]
  },
  {
   "cell_type": "markdown",
   "metadata": {},
   "source": [
    "## Intrduction"
   ]
  },
  {
   "cell_type": "markdown",
   "metadata": {},
   "source": [
    "## Gauss-Seidel Method"
   ]
  },
  {
   "cell_type": "code",
   "execution_count": null,
   "metadata": {
    "collapsed": true
   },
   "outputs": [],
   "source": [
    "# %load code/gaussSeidel.py\n",
    "## module gaussSeidel\n",
    "''' x,numIter,omega = gaussSeidel(iterEqs,x,tol = 1.0e-9)\n",
    "    Gauss-Seidel method for solving [A]{x} = {b}.\n",
    "    The matrix [A] should be sparse. User must supply the\n",
    "    function iterEqs(x,omega) that returns the improved {x},\n",
    "    given the current {x} ('omega' is the relaxation factor).\n",
    "'''\n",
    "import numpy as np\n",
    "import math\n",
    "\n",
    "def gaussSeidel(iterEqs,x,tol = 1.0e-9):\n",
    "    omega = 1.0\n",
    "    k = 10\n",
    "    p = 1\n",
    "    for i in range(1,501):\n",
    "        xOld = x.copy()\n",
    "        x = iterEqs(x,omega)\n",
    "        dx = math.sqrt(np.dot(x-xOld,x-xOld))\n",
    "        if dx < tol: return x,i,omega\n",
    "      # Compute relaxation factor after k+p iterations\n",
    "        if i == k: dx1 = dx\n",
    "        if i == k + p:\n",
    "            dx2 = dx\n",
    "            omega = 2.0/(1.0 + math.sqrt(1.0 - (dx2/dx1)**(1.0/p)))\n",
    "    print('Gauss-Seidel failed to converge')\n"
   ]
  },
  {
   "cell_type": "markdown",
   "metadata": {},
   "source": [
    "## Conjugate Gradient Method"
   ]
  },
  {
   "cell_type": "code",
   "execution_count": null,
   "metadata": {
    "collapsed": true
   },
   "outputs": [],
   "source": [
    "# %load code/conjGrad.py\n",
    "## module conjGrad\n",
    "''' x, numIter = conjGrad(Av,x,b,tol=1.0e-9)\n",
    "    Conjugate gradient method for solving [A]{x} = {b}.\n",
    "    The matrix [A] should be sparse. User must supply\n",
    "    the function Av(v) that returns the vector [A]{v}\n",
    "    and the starting vector x.\n",
    "'''    \n",
    "import numpy as np\n",
    "import math\n",
    "\n",
    "def conjGrad(Av,x,b,tol=1.0e-9):\n",
    "    n = len(b)\n",
    "    r = b - Av(x)\n",
    "    s = r.copy()\n",
    "    for i in range(n):\n",
    "        u = Av(s)\n",
    "        alpha = np.dot(s,r)/np.dot(s,u)\n",
    "        x = x + alpha*s\n",
    "        r = b - Av(x)\n",
    "        if(math.sqrt(np.dot(r,r))) < tol:\n",
    "            break\n",
    "        else:\n",
    "            beta = -np.dot(r,u)/np.dot(s,u)\n",
    "            s = r + beta*s\n",
    "    return x,i\n",
    "\n",
    "\n",
    "    \n"
   ]
  },
  {
   "cell_type": "markdown",
   "metadata": {},
   "source": [
    "# 2.8 Other Methods"
   ]
  },
  {
   "cell_type": "code",
   "execution_count": null,
   "metadata": {
    "collapsed": true
   },
   "outputs": [],
   "source": []
  }
 ],
 "metadata": {
  "anaconda-cloud": {},
  "kernelspec": {
   "display_name": "Python [default]",
   "language": "python",
   "name": "python3"
  },
  "language_info": {
   "codemirror_mode": {
    "name": "ipython",
    "version": 3
   },
   "file_extension": ".py",
   "mimetype": "text/x-python",
   "name": "python",
   "nbconvert_exporter": "python",
   "pygments_lexer": "ipython3",
   "version": "3.5.2"
  }
 },
 "nbformat": 4,
 "nbformat_minor": 1
}
