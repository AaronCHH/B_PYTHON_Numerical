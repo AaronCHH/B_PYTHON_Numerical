{
 "cells": [
  {
   "cell_type": "markdown",
   "metadata": {},
   "source": [
    "# 3 Interpolation and Curve Fitting"
   ]
  },
  {
   "cell_type": "markdown",
   "metadata": {},
   "source": [
    "# 3.1 Introduction"
   ]
  },
  {
   "cell_type": "markdown",
   "metadata": {},
   "source": [
    "# 3.2 Polynomial Interpolation"
   ]
  },
  {
   "cell_type": "markdown",
   "metadata": {},
   "source": [
    "## Newton’s Method"
   ]
  },
  {
   "cell_type": "code",
   "execution_count": null,
   "metadata": {
    "collapsed": true
   },
   "outputs": [],
   "source": [
    "# %load code/newtonPoly.py\n",
    "## module newtonPoly\n",
    "''' p = evalPoly(a,xData,x).\n",
    "    Evaluates Newton's polynomial p at x. The coefficient\n",
    "    vector 'a' can be computed by the function 'coeffts'.\n",
    "\n",
    "    a = coeffts(xData,yData).\n",
    "    Computes the coefficients of Newton's polynomial.\n",
    "'''    \n",
    "def evalPoly(a,xData,x):\n",
    "    n = len(xData) - 1  # Degree of polynomial\n",
    "    p = a[n]\n",
    "    for k in range(1,n+1):\n",
    "        p = a[n-k] + (x -xData[n-k])*p\n",
    "    return p\n",
    "\n",
    "def coeffts(xData,yData):\n",
    "    m = len(xData)  # Number of data points\n",
    "    a = yData.copy()\n",
    "    for k in range(1,m):\n",
    "        a[k:m] = (a[k:m] - a[k-1])/(xData[k:m] - xData[k-1])\n",
    "    return a\n"
   ]
  },
  {
   "cell_type": "markdown",
   "metadata": {},
   "source": [
    "## Neville’s Method"
   ]
  },
  {
   "cell_type": "code",
   "execution_count": null,
   "metadata": {
    "collapsed": true
   },
   "outputs": [],
   "source": [
    "# %load code/neville.py\n",
    "## module neville\n",
    "''' p = neville(xData,yData,x).\n",
    "    Evaluates the polynomial interpolant p(x) that passes\n",
    "    trough the specified data points by Neville's method.\n",
    "'''    \n",
    "def neville(xData,yData,x):\n",
    "    m = len(xData)   # number of data points\n",
    "    y = yData.copy()\n",
    "    for k in range(1,m):\n",
    "        y[0:m-k] = ((x - xData[k:m])*y[0:m-k] +      \\\n",
    "                    (xData[0:m-k] - x)*y[1:m-k+1])/  \\\n",
    "                    (xData[0:m-k] - xData[k:m])\n",
    "    return y[0]\n",
    "\n"
   ]
  },
  {
   "cell_type": "markdown",
   "metadata": {},
   "source": [
    "## Limitations of Polynomial Interpolation"
   ]
  },
  {
   "cell_type": "markdown",
   "metadata": {},
   "source": [
    "## Rational Function Interpolation"
   ]
  },
  {
   "cell_type": "code",
   "execution_count": null,
   "metadata": {
    "collapsed": true
   },
   "outputs": [],
   "source": [
    "# %load code/rational.py\n",
    "## module rational\n",
    "''' p = rational(xData,yData,x)\n",
    "    Evaluates the diagonal rational function interpolant p(x)\n",
    "    that passes through he data points\n",
    "'''    \n",
    "import numpy as np\n",
    "\n",
    "def rational(xData,yData,x):\n",
    "    m = len(xData)\n",
    "    r = yData.copy()\n",
    "    rOld = np.zeros(m)\n",
    "    for k in range(m-1):\n",
    "        for i in range(m-k-1):\n",
    "            if abs(x - xData[i+k+1]) < 1.0e-9:\n",
    "                return yData[i+k+1]\n",
    "            else:\n",
    "                c1 = r[i+1] - r[i]\n",
    "                c2 = r[i+1] - rOld[i+1]\n",
    "                c3 = (x - xData[i])/(x - xData[i+k+1])\n",
    "                r[i] = r[i+1] + c1/(c3*(1.0 - c1/c2) - 1.0)\n",
    "                rOld[i+1] = r[i+1]\n",
    "    return r[0]\n",
    "                \n"
   ]
  },
  {
   "cell_type": "markdown",
   "metadata": {},
   "source": [
    "## example3_6"
   ]
  },
  {
   "cell_type": "code",
   "execution_count": 5,
   "metadata": {
    "collapsed": false
   },
   "outputs": [
    {
     "data": {
      "image/png": "[encoded data removed]",
      "text/plain": [
       "<matplotlib.figure.Figure at 0xb5f5c1c630>"
      ]
     },
     "metadata": {},
     "output_type": "display_data"
    },
    {
     "name": "stdout",
     "output_type": "stream",
     "text": [
      "\n",
      "Press return to exit\n"
     ]
    },
    {
     "data": {
      "text/plain": [
       "''"
      ]
     },
     "execution_count": 5,
     "metadata": {},
     "output_type": "execute_result"
    }
   ],
   "source": [
    "#!/usr/bin/python\n",
    "## example 3_6\n",
    "import numpy as np\n",
    "from rational import *\n",
    "from neville import *\n",
    "import matplotlib.pyplot as plt\n",
    "\n",
    "xData = np.array([0.1,0.2,0.5,0.6,0.8,1.2,1.5])\n",
    "yData = np.array([-1.5342,-1.0811,-0.4445,-0.3085, \\\n",
    "                  -0.0868,0.2281,0.3824])\n",
    "x = np.arange(0.1,1.55,0.05)\n",
    "n = len(x)\n",
    "y = np.zeros((n,2))\n",
    "\n",
    "for i in range(n):\n",
    "    y[i,0] = rational(xData,yData,x[i])\n",
    "    y[i,1] = neville(xData,yData,x[i])\n",
    "    \n",
    "plt.plot(xData,yData,'o',x,y[:,0],'-',x,y[:,1],'--')\n",
    "plt.xlabel('x')\n",
    "plt.legend(('Data','Rational','Neville'),loc = 0)\n",
    "plt.show()\n",
    "input(\"\\nPress return to exit\")"
   ]
  },
  {
   "cell_type": "markdown",
   "metadata": {},
   "source": [
    "# 3.3 Interpolation with Cubic Spline"
   ]
  },
  {
   "cell_type": "code",
   "execution_count": null,
   "metadata": {
    "collapsed": true
   },
   "outputs": [],
   "source": [
    "# %load code/cubicSpline.py\n",
    "## module cubicSpline\n",
    "''' k = curvatures(xData,yData).\n",
    "    Returns the curvatures of cubic spline at its knots.\n",
    "\n",
    "    y = evalSpline(xData,yData,k,x).\n",
    "    Evaluates cubic spline at x. The curvatures k can be\n",
    "    computed with the function 'curvatures'.\n",
    "'''   \n",
    "import numpy as np\n",
    "from LUdecomp3 import *\n",
    "\n",
    "def curvatures(xData,yData):\n",
    "    n = len(xData) - 1\n",
    "    c = np.zeros(n)\n",
    "    d = np.ones(n+1)\n",
    "    e = np.zeros(n)\n",
    "    k = np.zeros(n+1)\n",
    "    c[0:n-1] = xData[0:n-1] - xData[1:n]\n",
    "    d[1:n] = 2.0*(xData[0:n-1] - xData[2:n+1])\n",
    "    e[1:n] = xData[1:n] - xData[2:n+1]\n",
    "    k[1:n] =6.0*(yData[0:n-1] - yData[1:n]) \\\n",
    "                 /(xData[0:n-1] - xData[1:n]) \\\n",
    "             -6.0*(yData[1:n] - yData[2:n+1])   \\\n",
    "                 /(xData[1:n] - xData[2:n+1])\n",
    "    LUdecomp3(c,d,e)\n",
    "    LUsolve3(c,d,e,k)\n",
    "    return k\n",
    "\n",
    "def evalSpline(xData,yData,k,x):\n",
    "    \n",
    "    def findSegment(xData,x):\n",
    "        iLeft = 0\n",
    "        iRight = len(xData)- 1\n",
    "        while 1:\n",
    "            if (iRight-iLeft) <= 1: return iLeft\n",
    "            i =(iLeft + iRight)/2\n",
    "            if x < xData[i]: iRight = i\n",
    "            else: iLeft = i\n",
    "    \n",
    "    i = findSegment(xData,x)\n",
    "    h = xData[i] - xData[i+1]\n",
    "    y = ((x - xData[i+1])**3/h - (x - xData[i+1])*h)*k[i]/6.0 \\\n",
    "      - ((x - xData[i])**3/h - (x - xData[i])*h)*k[i+1]/6.0   \\\n",
    "      + (yData[i]*(x - xData[i+1])                            \\\n",
    "       - yData[i+1]*(x - xData[i]))/h\n",
    "    return y\n",
    "        \n",
    "\n",
    "\n"
   ]
  },
  {
   "cell_type": "markdown",
   "metadata": {},
   "source": [
    "## EXAMPLE3.9"
   ]
  },
  {
   "cell_type": "code",
   "execution_count": null,
   "metadata": {
    "collapsed": false
   },
   "outputs": [],
   "source": [
    "#!/usr/bin/python\n",
    "## example3_9\n",
    "import numpy as np\n",
    "from cubicSpline import *\n",
    "\n",
    "xData = np.array([1,2,3,4,5],float)\n",
    "yData = np.array([0,1,0,1,0],float)\n",
    "k = curvatures(xData,yData)\n",
    "\n",
    "while True:\n",
    "    try: x = eval(input(\"\\nx ==> \"))\n",
    "    except SyntaxError: break\n",
    "    print(\"y =\",evalSpline(xData,yData,k,x))\n",
    "input(\"Done. Press return to exit\")"
   ]
  },
  {
   "cell_type": "markdown",
   "metadata": {},
   "source": [
    "# 3.4 Least-Squares Fit"
   ]
  },
  {
   "cell_type": "markdown",
   "metadata": {},
   "source": [
    "## Overview"
   ]
  },
  {
   "cell_type": "markdown",
   "metadata": {},
   "source": [
    "## Fitting a Straight Line"
   ]
  },
  {
   "cell_type": "markdown",
   "metadata": {},
   "source": [
    "## Fitting Linear Forms"
   ]
  },
  {
   "cell_type": "markdown",
   "metadata": {},
   "source": [
    "## Polynomial Fit"
   ]
  },
  {
   "cell_type": "code",
   "execution_count": null,
   "metadata": {
    "collapsed": true
   },
   "outputs": [],
   "source": [
    "# %load code/polyFit.py\n",
    "## module polyFit\n",
    "''' c = polyFit(xData,yData,m).\n",
    "    Returns coefficients of the polynomial\n",
    "    p(x) = c[0] + c[1]x + c[2]x^2 +...+ c[m]x^m\n",
    "    that fits the specified data in the least\n",
    "    squares sense.\n",
    "\n",
    "    sigma = stdDev(c,xData,yData).\n",
    "    Computes the std. deviation between p(x)\n",
    "    and the data.\n",
    "'''    \n",
    "import numpy as np\n",
    "import math\n",
    "from gaussPivot import *\n",
    "\n",
    "def polyFit(xData,yData,m):\n",
    "    a = np.zeros((m+1,m+1))\n",
    "    b = np.zeros(m+1)\n",
    "    s = np.zeros(2*m+1)\n",
    "    for i in range(len(xData)):\n",
    "        temp = yData[i]\n",
    "        for j in range(m+1):\n",
    "            b[j] = b[j] + temp\n",
    "            temp = temp*xData[i]\n",
    "        temp = 1.0\n",
    "        for j in range(2*m+1):\n",
    "            s[j] = s[j] + temp\n",
    "            temp = temp*xData[i]\n",
    "    for i in range(m+1):\n",
    "        for j in range(m+1):\n",
    "            a[i,j] = s[i+j]\n",
    "    return gaussPivot(a,b)\n",
    "\n",
    "def stdDev(c,xData,yData):\n",
    "    \n",
    "    def evalPoly(c,x):\n",
    "        m = len(c) - 1\n",
    "        p = c[m]\n",
    "        for j in range(m):\n",
    "            p = p*x + c[m-j-1]\n",
    "        return p    \n",
    "    \n",
    "    n = len(xData) - 1\n",
    "    m = len(c) - 1\n",
    "    sigma = 0.0\n",
    "    for i in range(n+1):\n",
    "        p = evalPoly(c,xData[i])\n",
    "        sigma = sigma + (yData[i] - p)**2\n",
    "    sigma = math.sqrt(sigma/(n - m))\n",
    "    return sigma\n",
    "\n",
    "\n",
    "        \n",
    "             \n",
    "\n"
   ]
  },
  {
   "cell_type": "code",
   "execution_count": null,
   "metadata": {
    "collapsed": true
   },
   "outputs": [],
   "source": [
    "# %load code/plotPoly.py\n",
    "## module plotPoly\n",
    "''' plotPoly(xData,yData,coeff,xlab='x',ylab='y')\n",
    "    Plots data points and the fitting\n",
    "    polynomial defined by its coefficient\n",
    "    array coeff = [a0, a1. ...]\n",
    "    xlab and ylab are optional axis labels\n",
    "'''    \n",
    "import numpy as np\n",
    "import matplotlib.pyplot as plt\n",
    "\n",
    "def plotPoly(xData,yData,coeff,xlab='x',ylab='y'):\n",
    "    m = len(coeff)\n",
    "    x1 = min(xData)\n",
    "    x2 = max(xData)\n",
    "    dx = (x2 - x1)/20.0   \n",
    "    x = np.arange(x1,x2 + dx/10.0,dx)\n",
    "    y = np.zeros((len(x)))*1.0\n",
    "    for i in range(m):\n",
    "        y = y + coeff[i]*x**i\n",
    "    plt.plot(xData,yData,'o',x,y,'-')\n",
    "    plt.xlabel(xlab); plt.ylabel(ylab)\n",
    "    plt.grid (True)\n",
    "    plt.show()\n"
   ]
  },
  {
   "cell_type": "markdown",
   "metadata": {},
   "source": [
    "## Weighting of Data"
   ]
  },
  {
   "cell_type": "markdown",
   "metadata": {},
   "source": [
    "### Weighted linear regression"
   ]
  },
  {
   "cell_type": "markdown",
   "metadata": {},
   "source": [
    "### Fitting exponential functions."
   ]
  },
  {
   "cell_type": "markdown",
   "metadata": {},
   "source": [
    "**EXAMPLE3.12**"
   ]
  },
  {
   "cell_type": "code",
   "execution_count": null,
   "metadata": {
    "collapsed": false
   },
   "outputs": [],
   "source": [
    "#!/usr/bin/python\n",
    "## example3_12\n",
    "import numpy as np\n",
    "from polyFit import *\n",
    "xData = np.array([-0.04,0.93,1.95,2.90,3.83,5.0, \\\n",
    "                  5.98,7.05,8.21,9.08,10.09])\n",
    "yData = np.array([-8.66,-6.44,-4.36,-3.27,-0.88,0.87, \\\n",
    "                  3.31,4.63,6.19,7.4,8.85])\n",
    "while True:\n",
    "    try:\n",
    "        m = eval(input(\"\\nDegree of polynomial ==> \"))\n",
    "        coeff = polyFit(xData,yData,m)\n",
    "        print(\"Coefficients are:\\n\",coeff)\n",
    "        print(\"Std. deviation =\",stdDev(coeff,xData,yData))\n",
    "    except SyntaxError: break\n",
    "input(\"Finished. Press return to exit\")"
   ]
  },
  {
   "cell_type": "code",
   "execution_count": null,
   "metadata": {
    "collapsed": true
   },
   "outputs": [],
   "source": []
  }
 ],
 "metadata": {
  "kernelspec": {
   "display_name": "Python [default]",
   "language": "python",
   "name": "python3"
  },
  "language_info": {
   "codemirror_mode": {
    "name": "ipython",
    "version": 3
   },
   "file_extension": ".py",
   "mimetype": "text/x-python",
   "name": "python",
   "nbconvert_exporter": "python",
   "pygments_lexer": "ipython3",
   "version": "3.5.2"
  }
 },
 "nbformat": 4,
 "nbformat_minor": 1
}
