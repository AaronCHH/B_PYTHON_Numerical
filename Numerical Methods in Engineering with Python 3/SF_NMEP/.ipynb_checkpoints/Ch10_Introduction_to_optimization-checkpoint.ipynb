{
 "cells": [
  {
   "cell_type": "markdown",
   "metadata": {},
   "source": [
    "# 10 Introduction to Optimization"
   ]
  },
  {
   "cell_type": "markdown",
   "metadata": {},
   "source": [
    "# 10.1 Introduction"
   ]
  },
  {
   "cell_type": "markdown",
   "metadata": {},
   "source": [
    "# 10.2 Minimization Along a Line"
   ]
  },
  {
   "cell_type": "markdown",
   "metadata": {},
   "source": [
    "## Bracketing"
   ]
  },
  {
   "cell_type": "markdown",
   "metadata": {},
   "source": [
    "## Golden Section Search"
   ]
  },
  {
   "cell_type": "markdown",
   "metadata": {},
   "source": [
    "### goldSearch"
   ]
  },
  {
   "cell_type": "code",
   "execution_count": null,
   "metadata": {
    "collapsed": true
   },
   "outputs": [],
   "source": [
    "# %load code/goldSearch.py\n",
    "## module goldSearch\n",
    "''' a,b = bracket(f,xStart,h)\n",
    "    Finds the brackets (a,b) of a minimum point of the\n",
    "    user-supplied scalar function f(x).\n",
    "    The search starts downhill from xStart with a step\n",
    "    length h.\n",
    "\n",
    "    x,fMin = search(f,a,b,tol=1.0e-6)\n",
    "    Golden section method for determining x that minimizes\n",
    "    the user-supplied scalar function f(x).\n",
    "    The minimum must be bracketed in (a,b).\n",
    "'''       \n",
    "import math\n",
    "def bracket(f,x1,h):\n",
    "    c = 1.618033989 \n",
    "    f1 = f(x1)\n",
    "    x2 = x1 + h; f2 = f(x2)\n",
    "  # Determine downhill direction and change sign of h if needed\n",
    "    if f2 > f1:\n",
    "        h = -h\n",
    "        x2 = x1 + h; f2 = f(x2)\n",
    "      # Check if minimum between x1 - h and x1 + h\n",
    "        if f2 > f1: return x2,x1 - h \n",
    "  # Search loop\n",
    "    for i in range (100):    \n",
    "        h = c*h\n",
    "        x3 = x2 + h; f3 = f(x3)\n",
    "        if f3 > f2: return x1,x3\n",
    "        x1 = x2; x2 = x3\n",
    "        f1 = f2; f2 = f3\n",
    "    print(\"Bracket did not find a mimimum\")\n",
    "\n",
    "def search(f,a,b,tol=1.0e-9):\n",
    "    nIter = int(math.ceil(-2.078087*math.log(tol/abs(b-a))))\n",
    "    R = 0.618033989\n",
    "    C = 1.0 - R\n",
    "  # First telescoping\n",
    "    x1 = R*a + C*b; x2 = C*a + R*b\n",
    "    f1 = f(x1); f2 = f(x2)\n",
    "  # Main loop\n",
    "    for i in range(nIter):\n",
    "        if f1 > f2:\n",
    "            a = x1\n",
    "            x1 = x2; f1 = f2\n",
    "            x2 = C*a + R*b; f2 = f(x2)\n",
    "        else:\n",
    "            b = x2\n",
    "            x2 = x1; f2 = f1\n",
    "            x1 = R*a + C*b; f1 = f(x1)\n",
    "    if f1 < f2: return x1,f1\n",
    "    else: return x2,f2\n"
   ]
  },
  {
   "cell_type": "markdown",
   "metadata": {},
   "source": [
    "### example10_1"
   ]
  },
  {
   "cell_type": "code",
   "execution_count": 3,
   "metadata": {
    "collapsed": false
   },
   "outputs": [
    {
     "name": "stdout",
     "output_type": "stream",
     "text": [
      "x = 0.2734941131714084\n",
      "f(x) = -0.28985978554959224\n",
      "\n",
      "Press return to exit\n"
     ]
    },
    {
     "data": {
      "text/plain": [
       "''"
      ]
     },
     "execution_count": 3,
     "metadata": {},
     "output_type": "execute_result"
    }
   ],
   "source": [
    "#!/usr/bin/python\n",
    "## example10_1\n",
    "from goldSearch import *\n",
    "\n",
    "def f(x):\n",
    "    lam = 1.0 # Constraint multiplier\n",
    "    c = min(0.0, x) # Constraint function\n",
    "    return 1.6*x**3 + 3.0*x**2 - 2.0*x + lam*c**2\n",
    "\n",
    "xStart = 1.0\n",
    "h = 0.01\n",
    "x1,x2 = bracket(f,xStart,h)\n",
    "x,fMin = search(f,x1,x2)\n",
    "print(\"x =\",x)\n",
    "print(\"f(x) =\",fMin)\n",
    "input (\"\\nPress return to exit\")"
   ]
  },
  {
   "cell_type": "markdown",
   "metadata": {},
   "source": [
    "### example10_2"
   ]
  },
  {
   "cell_type": "code",
   "execution_count": 4,
   "metadata": {
    "collapsed": false
   },
   "outputs": [
    {
     "name": "stdout",
     "output_type": "stream",
     "text": [
      "Optimal y = 52.17627387056691\n",
      "Optimal S = 7864.430941364856\n",
      "S of triangle = 7200.0\n",
      "Press return to exit\n"
     ]
    },
    {
     "data": {
      "text/plain": [
       "''"
      ]
     },
     "execution_count": 4,
     "metadata": {},
     "output_type": "execute_result"
    }
   ],
   "source": [
    "#!/usr/bin/python\n",
    "## example10_2\n",
    "from goldSearch import *\n",
    "\n",
    "def f(y):\n",
    "    B = 48.0\n",
    "    H = 60.0\n",
    "    a = B*(H - y)/H\n",
    "    b = (B - a)/2.0\n",
    "    A = (B + a)*y/2.0\n",
    "    Q = (a*y**2)/2.0 + (b*y**2)/3.0\n",
    "    d = Q/A\n",
    "    c = y - d\n",
    "    I = (a*y**3)/3.0 + (b*y**3)/6.0\n",
    "    Ibar = I - A*d**2\n",
    "    return -Ibar/c\n",
    "\n",
    "yStart = 60.0 # Starting value of y\n",
    "h = 1.0 # Size of first step used in bracketing\n",
    "a,b = bracket(f,yStart,h)\n",
    "yOpt,fOpt = search(f,a,b)\n",
    "print(\"Optimal y =\",yOpt)\n",
    "print(\"Optimal S =\",-fOpt)\n",
    "print(\"S of triangle =\",-f(60.0))\n",
    "input(\"Press return to exit\")"
   ]
  },
  {
   "cell_type": "markdown",
   "metadata": {},
   "source": [
    "# 10.3 Powell's Method"
   ]
  },
  {
   "cell_type": "markdown",
   "metadata": {},
   "source": [
    "## Introduction"
   ]
  },
  {
   "cell_type": "markdown",
   "metadata": {},
   "source": [
    "## Conjugate Directions"
   ]
  },
  {
   "cell_type": "markdown",
   "metadata": {},
   "source": [
    "## Powell’s Algorithm"
   ]
  },
  {
   "cell_type": "markdown",
   "metadata": {},
   "source": [
    "### powell"
   ]
  },
  {
   "cell_type": "code",
   "execution_count": null,
   "metadata": {
    "collapsed": true
   },
   "outputs": [],
   "source": [
    "# %load code/powell.py\n",
    "## module powell\n",
    "''' xMin,nCyc = powell(F,x,h=0.1,tol=1.0e-6)\n",
    "    Powell's method of minimizing user-supplied function F(x).\n",
    "    x    = starting point\n",
    "    h   = initial search increment used in 'bracket'\n",
    "    xMin = mimimum point\n",
    "    nCyc = number of cycles\n",
    "'''\n",
    "import numpy as np\n",
    "from goldSearch import *\n",
    "import math\n",
    "\n",
    "def powell(F,x,h=0.1,tol=1.0e-6):\n",
    "    \n",
    "    def f(s): return F(x + s*v)    # F in direction of v\n",
    "\n",
    "    n = len(x)                     # Number of design variables\n",
    "    df = np.zeros(n)               # Decreases of F stored here\n",
    "    u = np.identity(n)             # Vectors v stored here by rows\n",
    "    for j in range(30):            # Allow for 30 cycles:\n",
    "        xOld = x.copy()            # Save starting point\n",
    "        fOld = F(xOld)\n",
    "      # First n line searches record decreases of F\n",
    "        for i in range(n):\n",
    "            v = u[i]\n",
    "            a,b = bracket(f,0.0,h)\n",
    "            s,fMin = search(f,a,b)\n",
    "            df[i] = fOld - fMin\n",
    "            fOld = fMin\n",
    "            x = x + s*v\n",
    "      # Last line search in the cycle    \n",
    "        v = x - xOld\n",
    "        a,b = bracket(f,0.0,h)\n",
    "        s,fLast = search(f,a,b)\n",
    "        x = x + s*v\n",
    "      # Check for convergence\n",
    "        if math.sqrt(np.dot(x-xOld,x-xOld)/n) < tol: return x,j+1\n",
    "      # Identify biggest decrease & update search directions\n",
    "        iMax = np.argmax(df)\n",
    "        for i in range(iMax,n-1):\n",
    "            u[i] = u[i+1]\n",
    "        u[n-1] = v\n",
    "    print(\"Powell did not converge\")\n",
    "        \n",
    "    \n",
    "\n",
    "    \n"
   ]
  },
  {
   "cell_type": "markdown",
   "metadata": {},
   "source": [
    "### example10_3"
   ]
  },
  {
   "cell_type": "code",
   "execution_count": 7,
   "metadata": {
    "collapsed": false
   },
   "outputs": [
    {
     "name": "stdout",
     "output_type": "stream",
     "text": [
      "x = [ 1.  1.]\n",
      "F(x) = 3.71750701585e-29\n",
      "Number of cycles = 12\n",
      "Press return to exit\n"
     ]
    },
    {
     "data": {
      "text/plain": [
       "''"
      ]
     },
     "execution_count": 7,
     "metadata": {},
     "output_type": "execute_result"
    }
   ],
   "source": [
    "#!/usr/bin/python\n",
    "## example10_3\n",
    "from powell import *\n",
    "from numpy import array\n",
    "def F(x): return 100.0*(x[1] - x[0]**2)**2 + (1 - x[0])**2\n",
    "xStart = array([-1.0, 1.0])\n",
    "xMin,nIter = powell(F,xStart)\n",
    "print(\"x =\",xMin)\n",
    "print(\"F(x) =\",F(xMin))\n",
    "print(\"Number of cycles =\",nIter)\n",
    "input (\"Press return to exit\")"
   ]
  },
  {
   "cell_type": "markdown",
   "metadata": {},
   "source": [
    "### example10_4"
   ]
  },
  {
   "cell_type": "code",
   "execution_count": 8,
   "metadata": {
    "collapsed": false
   },
   "outputs": [
    {
     "name": "stdout",
     "output_type": "stream",
     "text": [
      "Intersection point = [ 0.73306761  7.58776385]\n",
      "Minimum distance = 4.28679958766998\n",
      "xy = 5.56234387462\n",
      "Number of cycles = 5\n",
      "Press return to exit\n"
     ]
    },
    {
     "data": {
      "text/plain": [
       "''"
      ]
     },
     "execution_count": 8,
     "metadata": {},
     "output_type": "execute_result"
    }
   ],
   "source": [
    "## example10_4\n",
    "from powell import *\n",
    "from numpy import array\n",
    "from math import sqrt\n",
    "\n",
    "def F(x):\n",
    "    lam = 1.0 # Penalty multiplier\n",
    "    c = x[0]*x[1] - 5.0 # Constraint equation\n",
    "    return distSq(x) + lam*c**2 # Penalized merit function\n",
    "\n",
    "def distSq(x): return (x[0] - 5)**2 + (x[1] - 8)**2\n",
    "\n",
    "xStart = array([ 1.0,5.0])\n",
    "x,numIter = powell(F,xStart,0.1)\n",
    "print(\"Intersection point =\",x)\n",
    "print(\"Minimum distance =\", sqrt(distSq(x)))\n",
    "print(\"xy =\", x[0]*x[1])\n",
    "print(\"Number of cycles =\",numIter)\n",
    "input (\"Press return to exit\")"
   ]
  },
  {
   "cell_type": "markdown",
   "metadata": {},
   "source": [
    "### example10_4_check"
   ]
  },
  {
   "cell_type": "code",
   "execution_count": 9,
   "metadata": {
    "collapsed": false
   },
   "outputs": [
    {
     "name": "stdout",
     "output_type": "stream",
     "text": [
      "x =  [ 0.6556053   7.62653992  1.13928328]\n",
      "Press return to exit\n"
     ]
    },
    {
     "data": {
      "text/plain": [
       "''"
      ]
     },
     "execution_count": 9,
     "metadata": {},
     "output_type": "execute_result"
    }
   ],
   "source": [
    "#!/usr/bin/python\n",
    "## example10_4_check\n",
    "import numpy as np\n",
    "from newtonRaphson2 import *\n",
    "\n",
    "def F(x):\n",
    "    return np.array([2.0*(x[0] - 5.0) + x[2]*x[1], \\\n",
    "                     2.0*(x[1] - 8.0) + x[2]*x[0], \\\n",
    "                     x[0]*x[1] - 5.0])\n",
    "\n",
    "xStart = np.array([1.0, 5.0, 1.0])\n",
    "\n",
    "print(\"x = \", newtonRaphson2(F,xStart))\n",
    "input(\"Press return to exit\")"
   ]
  },
  {
   "cell_type": "markdown",
   "metadata": {},
   "source": [
    "### example10_5"
   ]
  },
  {
   "cell_type": "code",
   "execution_count": 10,
   "metadata": {
    "collapsed": false
   },
   "outputs": [
    {
     "name": "stdout",
     "output_type": "stream",
     "text": [
      "x =  [ 3.73870376  3.73870366  5.28732564]\n",
      "v =  [-0.26747239 -1.06988953 -0.26747238]\n",
      "Relative weight F =  14.9548150471\n",
      "Number of cycles =  10\n",
      "Press return to exit\n"
     ]
    },
    {
     "data": {
      "text/plain": [
       "''"
      ]
     },
     "execution_count": 10,
     "metadata": {},
     "output_type": "execute_result"
    }
   ],
   "source": [
    "#!/usr/bin/python\n",
    "## example10_5\n",
    "from powell import *\n",
    "from numpy import array\n",
    "from math import sqrt\n",
    "from gaussElimin import *\n",
    "\n",
    "def F(x):\n",
    "    global v, weight\n",
    "    lam = 100.0\n",
    "    c = 2.0*sqrt(2.0)\n",
    "    A = array([[c*x[1] + x[2], -x[2], x[2]], \\\n",
    "               [-x[2], x[2], -x[2]], \\\n",
    "               [ x[2], -x[2], c*x[0] + x[2]]])/c\n",
    "    b = array([0.0, -1.0, 0.0])\n",
    "    \n",
    "    v = gaussElimin(A,b)\n",
    "    weight = x[0] + x[1] + sqrt(2.0)*x[2]\n",
    "    penalty = max(0.0,abs(v[1]) - 1.0)**2 \\\n",
    "            + max(0.0,-x[0])**2 \\\n",
    "            + max(0.0,-x[1])**2 \\\n",
    "            + max(0.0,-x[2])**2\n",
    "    return weight + penalty*lam\n",
    "\n",
    "xStart = array([1.0, 1.0, 1.0])\n",
    "x,numIter = powell(F,xStart)\n",
    "print(\"x = \",x)\n",
    "print(\"v = \",v)\n",
    "print(\"Relative weight F = \",weight)\n",
    "print(\"Number of cycles = \",numIter)\n",
    "input(\"Press return to exit\")"
   ]
  },
  {
   "cell_type": "markdown",
   "metadata": {},
   "source": [
    "# 10.4 Downhill Simplex Method"
   ]
  },
  {
   "cell_type": "markdown",
   "metadata": {},
   "source": [
    "### downhill"
   ]
  },
  {
   "cell_type": "code",
   "execution_count": null,
   "metadata": {
    "collapsed": true
   },
   "outputs": [],
   "source": [
    "# %load code/downhill.py\n",
    "## module downhill\n",
    "''' x = downhill(F,xStart,side=0.1,tol=1.0e-6)\n",
    "    Downhill simplex method for minimizing the user-supplied\n",
    "    scalar function F(x) with respect to the vector x.\n",
    "    xStart = starting vector x.\n",
    "    side   = side length of the starting simplex (default is 0.1)\n",
    "'''\n",
    "import numpy as np\n",
    "import math\n",
    "\n",
    "def downhill(F,xStart,side=0.1,tol=1.0e-6):\n",
    "    n = len(xStart)                 # Number of variables\n",
    "    x = np.zeros((n+1,n)) \n",
    "    f = np.zeros(n+1)\n",
    "    \n",
    "  # Generate starting simplex\n",
    "    x[0] = xStart\n",
    "    for i in range(1,n+1):\n",
    "        x[i] = xStart\n",
    "        x[i,i-1] = xStart[i-1] + side        \n",
    "  # Compute values of F at the vertices of the simplex     \n",
    "    for i in range(n+1): f[i] = F(x[i])\n",
    "    \n",
    "  # Main loop\n",
    "    for k in range(500):\n",
    "      # Find highest and lowest vertices\n",
    "        iLo = np.argmin(f)\n",
    "        iHi = np.argmax(f)       \n",
    "      # Compute the move vector d\n",
    "        d = (-(n+1)*x[iHi] + np.sum(x,axis=0))/n\n",
    "      # Check for convergence\n",
    "        if math.sqrt(np.dot(d,d)/n) < tol: return x[iLo]\n",
    "        \n",
    "      # Try reflection\n",
    "        xNew = x[iHi] + 2.0*d              \n",
    "        fNew = F(xNew)        \n",
    "        if fNew <= f[iLo]:        # Accept reflection \n",
    "            x[iHi] = xNew\n",
    "            f[iHi] = fNew\n",
    "          # Try expanding the reflection\n",
    "            xNew = x[iHi] + d               \n",
    "            fNew = F(xNew)\n",
    "            if fNew <= f[iLo]:    # Accept expansion\n",
    "                x[iHi] = xNew\n",
    "                f[iHi] = fNew\n",
    "        else:\n",
    "          # Try reflection again\n",
    "            if fNew <= f[iHi]:    # Accept reflection\n",
    "                x[iHi] = xNew\n",
    "                f[iHi] = fNew\n",
    "            else:\n",
    "              # Try contraction\n",
    "                xNew = x[iHi] + 0.5*d\n",
    "                fNew = F(xNew)\n",
    "                if fNew <= f[iHi]: # Accept contraction\n",
    "                    x[iHi] = xNew\n",
    "                    f[iHi] = fNew\n",
    "                else:\n",
    "                  # Use shrinkage\n",
    "                    for i in range(len(x)):\n",
    "                        if i != iLo:\n",
    "                            x[i] = (x[i] - x[iLo])*0.5\n",
    "                            f[i] = F(x[i])\n",
    "    print(\"Too many iterations in downhill\")\n",
    "    return x[iLo]\n"
   ]
  },
  {
   "cell_type": "markdown",
   "metadata": {},
   "source": [
    "### example10_7"
   ]
  },
  {
   "cell_type": "code",
   "execution_count": 13,
   "metadata": {
    "collapsed": false
   },
   "outputs": [
    {
     "name": "stdout",
     "output_type": "stream",
     "text": [
      "b =  2.4816069148\n",
      "h =  2.14913738694\n",
      "theta (deg) =  30.0000185796\n",
      "area =  7.99997671775\n",
      "perimeter =  7.44482803952\n",
      "Finished. Press return to exit\n"
     ]
    },
    {
     "data": {
      "text/plain": [
       "''"
      ]
     },
     "execution_count": 13,
     "metadata": {},
     "output_type": "execute_result"
    }
   ],
   "source": [
    "#!/usr/bin/python\n",
    "## example10_7\n",
    "import numpy as np\n",
    "import math\n",
    "from downhill import *\n",
    "\n",
    "def S(x):\n",
    "    global perimeter,area\n",
    "    lam = 10000.0\n",
    "    perimeter = x[0] + 2.0*x[1]/math.cos(x[2])\n",
    "    area = (x[0] + x[1]*math.tan(x[2]))*x[1]\n",
    "    return perimeter + lam*(area - 8.0)**2\n",
    "\n",
    "xStart = np.array([4.0, 2.0, 0.0])\n",
    "x = downhill(S,xStart)\n",
    "area = (x[0] + x[1]*math.tan(x[2]))*x[1]\n",
    "print(\"b = \",x[0])\n",
    "print(\"h = \",x[1])\n",
    "print(\"theta (deg) = \",x[2]*180.0/math.pi)\n",
    "print(\"area = \",area)\n",
    "print(\"perimeter = \",perimeter)\n",
    "input(\"Finished. Press return to exit\")"
   ]
  },
  {
   "cell_type": "markdown",
   "metadata": {},
   "source": [
    "### example10_7_check"
   ]
  },
  {
   "cell_type": "code",
   "execution_count": 14,
   "metadata": {
    "collapsed": false
   },
   "outputs": [
    {
     "name": "stdout",
     "output_type": "stream",
     "text": [
      "x = [ 2.48161296  2.14913986  0.52359878 -0.46530243]\n",
      "Press return to exit\n"
     ]
    },
    {
     "data": {
      "text/plain": [
       "''"
      ]
     },
     "execution_count": 14,
     "metadata": {},
     "output_type": "execute_result"
    }
   ],
   "source": [
    "#!/usr/bin/python\n",
    "## example10_7_check\n",
    "import numpy as np\n",
    "import math\n",
    "from newtonRaphson2 import *\n",
    "\n",
    "def f(x):\n",
    "    f = np.zeros(4)    \n",
    "    f[0] = 1.0 + x[3]*x[1]    \n",
    "    f[1] = 2.0/math.cos(x[2]) + x[3]*(x[0] \\\n",
    "         + 2.0*x[1]*math.tan(x[2]))    \n",
    "    f[2] = 2.0*x[1]*math.tan(x[2])/math.cos(x[2]) \\\n",
    "         + x[3]*(x[1]/math.cos(x[2]))**2\n",
    "    f[3] = (x[0] + x[1]*math.tan(x[2]))*x[1] - 8.0\n",
    "    return f\n",
    "\n",
    "xStart = np.array([3.0, 2.0, 0.0, 1.0])\n",
    "print(\"x =\",newtonRaphson2(f,xStart))\n",
    "input(\"Press return to exit\")"
   ]
  },
  {
   "cell_type": "markdown",
   "metadata": {},
   "source": [
    "### example10_8"
   ]
  },
  {
   "cell_type": "code",
   "execution_count": 16,
   "metadata": {
    "collapsed": false
   },
   "outputs": [
    {
     "name": "stdout",
     "output_type": "stream",
     "text": [
      "x =  [ 1.07512696  0.79924677]\n",
      "eigenvalue =  0.39999775723766057\n",
      "Press return to exit\n"
     ]
    },
    {
     "data": {
      "text/plain": [
       "''"
      ]
     },
     "execution_count": 16,
     "metadata": {},
     "output_type": "execute_result"
    }
   ],
   "source": [
    "#!/usr/bin/python\n",
    "## example10_8\n",
    "import numpy as np\n",
    "from stdForm import *\n",
    "from inversePower import *\n",
    "from downhill import *\n",
    "\n",
    "def F(x):\n",
    "    global eVal\n",
    "    lam = 1.0e6\n",
    "    eVal_min = 0.4\n",
    "    A = np.array([[4.0*(x[0]**4 + x[1]**4), 2.0*x[1]**4], \\\n",
    "                  [2.0*x[1]**4, 4.0*x[1]**4]])\n",
    "    B = np.array([[4.0*(x[0]**2 + x[1]**2), -3.0*x[1]**2], \\\n",
    "                  [-3*x[1]**2, 4.0*x[1]**2]])\n",
    "    H,t = stdForm(A,B)\n",
    "    eVal,eVec = inversePower(H,0.0)\n",
    "    return x[0]**2 + x[1]**2 + lam*(max(0.0,eVal_min - eVal))**2\n",
    "\n",
    "xStart = np.array([1.0,1.0])\n",
    "x = downhill(F,xStart,0.1)\n",
    "print(\"x = \", x)\n",
    "print(\"eigenvalue = \",eVal)\n",
    "input (\"Press return to exit\")"
   ]
  },
  {
   "cell_type": "code",
   "execution_count": null,
   "metadata": {
    "collapsed": true
   },
   "outputs": [],
   "source": []
  }
 ],
 "metadata": {
  "kernelspec": {
   "display_name": "Python [default]",
   "language": "python",
   "name": "python3"
  },
  "language_info": {
   "codemirror_mode": {
    "name": "ipython",
    "version": 3
   },
   "file_extension": ".py",
   "mimetype": "text/x-python",
   "name": "python",
   "nbconvert_exporter": "python",
   "pygments_lexer": "ipython3",
   "version": "3.5.2"
  }
 },
 "nbformat": 4,
 "nbformat_minor": 1
}
