{
 "cells": [
  {
   "cell_type": "markdown",
   "metadata": {},
   "source": [
    "# 9 Symmetric Matrix Eigenvalue Problems"
   ]
  },
  {
   "cell_type": "markdown",
   "metadata": {},
   "source": [
    "# 9.1 Introduction"
   ]
  },
  {
   "cell_type": "markdown",
   "metadata": {},
   "source": [
    "# 9.2 Jacobi Method"
   ]
  },
  {
   "cell_type": "markdown",
   "metadata": {},
   "source": [
    "## Similarity Transformation and Diagonalization"
   ]
  },
  {
   "cell_type": "markdown",
   "metadata": {},
   "source": [
    "## Jacobi Rotation"
   ]
  },
  {
   "cell_type": "markdown",
   "metadata": {},
   "source": [
    "## Jacobi Diagonalization"
   ]
  },
  {
   "cell_type": "markdown",
   "metadata": {},
   "source": [
    "### jacobi"
   ]
  },
  {
   "cell_type": "code",
   "execution_count": null,
   "metadata": {
    "collapsed": true
   },
   "outputs": [],
   "source": [
    "# %load code/jacobi.py\n",
    "## module jacobi\n",
    "''' lam,x = jacobi(a,tol = 1.0e-8).\n",
    "    Solution of std. eigenvalue problem [a]{x} = lam{x}\n",
    "    by Jacobi's method. Returns eigenvalues in vector {lam}\n",
    "    and the eigenvectors as columns of matrix [x].\n",
    "'''\n",
    "import numpy as np\n",
    "import math\n",
    "\n",
    "def jacobi(a,tol = 1.0e-8): # Jacobi method\n",
    "\n",
    "    def threshold(a):\n",
    "        sum = 0.0\n",
    "        for i in range(n-1):\n",
    "            for j in range (i+1,n):\n",
    "                sum = sum + abs(a[i,j])\n",
    "        return 0.5*sum/n/(n-1)\n",
    "\n",
    "    def rotate(a,p,k,l): # Rotate to make a[k,l] = 0\n",
    "        aDiff = a[l,l] - a[k,k]\n",
    "        if abs(a[k,l]) < abs(aDiff)*1.0e-36: t = a[k,l]/aDiff\n",
    "        else:\n",
    "            phi = aDiff/(2.0*a[k,l])\n",
    "            t = 1.0/(abs(phi) + math.sqrt(phi**2 + 1.0))\n",
    "            if phi < 0.0: t = -t\n",
    "        c = 1.0/math.sqrt(t**2 + 1.0); s = t*c\n",
    "        tau = s/(1.0 + c)\n",
    "        temp = a[k,l]\n",
    "        a[k,l] = 0.0\n",
    "        a[k,k] = a[k,k] - t*temp\n",
    "        a[l,l] = a[l,l] + t*temp\n",
    "        for i in range(k):      # Case of i < k\n",
    "            temp = a[i,k]\n",
    "            a[i,k] = temp - s*(a[i,l] + tau*temp)\n",
    "            a[i,l] = a[i,l] + s*(temp - tau*a[i,l])\n",
    "        for i in range(k+1,l):  # Case of k < i < l\n",
    "            temp = a[k,i]\n",
    "            a[k,i] = temp - s*(a[i,l] + tau*a[k,i])\n",
    "            a[i,l] = a[i,l] + s*(temp - tau*a[i,l])\n",
    "        for i in range(l+1,n):  # Case of i > l\n",
    "            temp = a[k,i]\n",
    "            a[k,i] = temp - s*(a[l,i] + tau*temp)\n",
    "            a[l,i] = a[l,i] + s*(temp - tau*a[l,i])\n",
    "        for i in range(n):      # Update transformation matrix\n",
    "            temp = p[i,k]\n",
    "            p[i,k] = temp - s*(p[i,l] + tau*p[i,k])\n",
    "            p[i,l] = p[i,l] + s*(temp - tau*p[i,l])\n",
    "        \n",
    "    n = len(a)        \n",
    "    p = np.identity(n,float)\n",
    "    for k in range(20):\n",
    "        mu = threshold(a)       # Compute new threshold\n",
    "        for i in range(n-1):    # Sweep through matrix\n",
    "            for j in range(i+1,n):   \n",
    "                if abs(a[i,j]) >= mu:\n",
    "                    rotate(a,p,i,j)\n",
    "        if mu <= tol: return np.diagonal(a),p\n",
    "    print('Jacobi method did not converge')\n",
    "        \n"
   ]
  },
  {
   "cell_type": "markdown",
   "metadata": {},
   "source": [
    "### sortJacobi"
   ]
  },
  {
   "cell_type": "code",
   "execution_count": null,
   "metadata": {
    "collapsed": true
   },
   "outputs": [],
   "source": [
    "# %load code/sortJacobi.py\n",
    "## module sortJacobi\n",
    "''' sortJacobi(lam,x).\n",
    "    Sorts the eigenvalues {lam} and eigenvectors [x]\n",
    "    in order of ascending eigenvalues.\n",
    "'''    \n",
    "import swap\n",
    "\n",
    "def sortJacobi(lam,x):\n",
    "    n = len(lam)\n",
    "    for i in range(n-1):\n",
    "        index = i\n",
    "        val = lam[i]\n",
    "        for j in range(i+1,n):\n",
    "            if lam[j] < val:\n",
    "                index = j\n",
    "                val = lam[j]\n",
    "        if index != i:\n",
    "            swap.swapRows(lam,i,index)\n",
    "            swap.swapCols(x,i,index)\n"
   ]
  },
  {
   "cell_type": "markdown",
   "metadata": {},
   "source": [
    "## Transformation to Standard Form"
   ]
  },
  {
   "cell_type": "markdown",
   "metadata": {},
   "source": [
    "### stdForm"
   ]
  },
  {
   "cell_type": "code",
   "execution_count": null,
   "metadata": {
    "collapsed": true
   },
   "outputs": [],
   "source": [
    "# %load code/stdForm.py\n",
    "## module stdForm\n",
    "''' h,t = stdForm(a,b).\n",
    "    Transforms the eigenvalue problem [a]{x} = lam[b]{x}\n",
    "    to the standard form [h]{z} = lam{z}. The eigenvectors\n",
    "    are related by {x} = [t]{z}.\n",
    "'''    \n",
    "import numpy as np\n",
    "from choleski import *\n",
    "\n",
    "def stdForm(a,b):\n",
    "\n",
    "    def invert(L): # Inverts lower triangular matrix L\n",
    "        n = len(L)\n",
    "        for j in range(n-1):\n",
    "            L[j,j] = 1.0/L[j,j]\n",
    "            for i in range(j+1,n):\n",
    "                L[i,j] = -np.dot(L[i,j:i],L[j:i,j])/L[i,i]\n",
    "        L[n-1,n-1] = 1.0/L[n-1,n-1]\n",
    "\n",
    "    n = len(a)\n",
    "    L = choleski(b)          \n",
    "    invert(L)\n",
    "    h = np.dot(b,np.inner(a,L))\n",
    "    return h,np.transpose(L)\n",
    "\n",
    "\n",
    "           \n",
    "                       \n",
    "\n",
    "\n"
   ]
  },
  {
   "cell_type": "markdown",
   "metadata": {},
   "source": [
    "### EXAMPLE9.3"
   ]
  },
  {
   "cell_type": "code",
   "execution_count": null,
   "metadata": {
    "collapsed": false,
    "scrolled": true
   },
   "outputs": [],
   "source": [
    "#!/usr/bin/python\n",
    "## example9_3\n",
    "import numpy\n",
    "from jacobi import *\n",
    "import math\n",
    "from sortJacobi import *\n",
    "from stdForm import *\n",
    "\n",
    "A = np.array([[ 1/3, -1/3, 0.0], \\\n",
    "              [-1/3, 4/3, -1.0], \\\n",
    "              [ 0.0, -1.0, 2.0]])\n",
    "B = np.array([[1.0, 0.0, 0.0], \\\n",
    "              [0.0, 1.0, 0.0], \\\n",
    "              [0.0, 0.0, 2.0]])\n",
    "\n",
    "H,T = stdForm(A,B) # Transform into std. form\n",
    "lam,Z = jacobi(H) # Z = eigenvecs. of H\n",
    "X = np.dot(T,Z) # Eigenvecs. of original problem\n",
    "sortJacobi(lam,X) # Arrange in ascending order of eigenvecs.\n",
    "\n",
    "for i in range(3): # Normalize eigenvecs.\n",
    "    X[:,i] = X[:,i]/math.sqrt(np.dot(X[:,i],X[:,i]))\n",
    "    \n",
    "print('Eigenvalues:\\n',lam)\n",
    "print('Eigenvectors:\\n',X)\n",
    "input (\"Press return to exit\")"
   ]
  },
  {
   "cell_type": "markdown",
   "metadata": {},
   "source": [
    "# 9.3 Power and Inverse Power Methods"
   ]
  },
  {
   "cell_type": "markdown",
   "metadata": {},
   "source": [
    "## Eigenvalue Shifting"
   ]
  },
  {
   "cell_type": "markdown",
   "metadata": {},
   "source": [
    "## Power Method"
   ]
  },
  {
   "cell_type": "markdown",
   "metadata": {},
   "source": [
    "### inversePower"
   ]
  },
  {
   "cell_type": "code",
   "execution_count": null,
   "metadata": {
    "collapsed": true
   },
   "outputs": [],
   "source": [
    "# %load code/inversePower.py\n",
    "## module inversePower\n",
    "''' lam,x = inversePower(a,s,tol=1.0e-6).\n",
    "    Inverse power method for solving the eigenvalue problem\n",
    "    [a]{x} = lam{x}. Returns 'lam' closest to 's' and the\n",
    "    corresponding eigenvector {x}.\n",
    "'''\n",
    "import numpy as np\n",
    "from LUdecomp import *\n",
    "import math\n",
    "from random import random\n",
    "def inversePower(a,s,tol=1.0e-6):\n",
    "    n = len(a)\n",
    "    aStar = a - np.identity(n)*s  # Form [a*] = [a] - s[I]\n",
    "    aStar = LUdecomp(aStar)       # Decompose [a*]\n",
    "    x = np.zeros(n)\n",
    "    for i in range(n):            # Seed [x] with random numbers\n",
    "        x[i] = random()\n",
    "    xMag = math.sqrt(np.dot(x,x)) # Normalize [x]\n",
    "    x =x/xMag\n",
    "    for i in range(50):           # Begin iterations      \n",
    "        xOld = x.copy()           # Save current [x]\n",
    "        x = LUsolve(aStar,x)      # Solve [a*][x] = [xOld]\n",
    "        xMag = math.sqrt(np.dot(x,x)) # Normalize [x]\n",
    "        x = x/xMag\n",
    "        if np.dot(xOld,x) < 0.0:  # Detect change in sign of [x]\n",
    "            sign = -1.0\n",
    "            x = -x\n",
    "        else: sign = 1.0\n",
    "        if math.sqrt(np.dot(xOld - x,xOld - x)) < tol:\n",
    "            return s + sign/xMag,x\n",
    "    print('Inverse power method did not converge')\n"
   ]
  },
  {
   "cell_type": "markdown",
   "metadata": {},
   "source": [
    "### EXAMPLE9.4"
   ]
  },
  {
   "cell_type": "code",
   "execution_count": 3,
   "metadata": {
    "collapsed": false
   },
   "outputs": [
    {
     "name": "stdout",
     "output_type": "stream",
     "text": [
      "Number of iterations = 92\n",
      "Eigenvalue = 70.94348330679053\n",
      "Press return to exit\n"
     ]
    },
    {
     "data": {
      "text/plain": [
       "''"
      ]
     },
     "execution_count": 3,
     "metadata": {},
     "output_type": "execute_result"
    }
   ],
   "source": [
    "#!/usr/bin/python\n",
    "## example9_4\n",
    "import numpy as np\n",
    "import math\n",
    "\n",
    "s = np.array([[-30.0, 10.0, 20.0], \\\n",
    "              [ 10.0, 40.0, -50.0], \\\n",
    "              [ 20.0, -50.0, -10.0]])\n",
    "\n",
    "v = np.array([1.0, 0.0, 0.0])\n",
    "\n",
    "for i in range(100):\n",
    "    vOld = v.copy()\n",
    "    z = np.dot(s,v)\n",
    "    zMag = math.sqrt(np.dot(z,z))\n",
    "    v = z/zMag\n",
    "    \n",
    "    if np.dot(vOld,v) < 0.0:\n",
    "        sign = -1.0\n",
    "        v = -v\n",
    "    else: sign = 1.0\n",
    "    \n",
    "    if math.sqrt(np.dot(vOld - v,vOld - v)) < 1.0e-6: break\n",
    "        \n",
    "lam = sign*zMag\n",
    "print(\"Number of iterations =\",i)\n",
    "print(\"Eigenvalue =\",lam)\n",
    "input(\"Press return to exit\")"
   ]
  },
  {
   "cell_type": "markdown",
   "metadata": {},
   "source": [
    "### EXAMPLE9.5"
   ]
  },
  {
   "cell_type": "code",
   "execution_count": 6,
   "metadata": {
    "collapsed": false
   },
   "outputs": [
    {
     "name": "stdout",
     "output_type": "stream",
     "text": [
      "Eigenvalue = 4.8739463786491815\n",
      "\n",
      "Eigenvector:\n",
      " [ 0.26726605 -0.74142853 -0.05017272  0.59491453 -0.14970634]\n",
      "\n",
      "Print press return to exit\n"
     ]
    },
    {
     "data": {
      "text/plain": [
       "''"
      ]
     },
     "execution_count": 6,
     "metadata": {},
     "output_type": "execute_result"
    }
   ],
   "source": [
    "#!/usr/bin/python\n",
    "## example9_5\n",
    "import numpy as np\n",
    "from inversePower import *\n",
    "\n",
    "s = 5.0\n",
    "a = np.array([[ 11.0, 2.0, 3.0, 1.0, 4.0], \\\n",
    "              [ 2.0, 9.0, 3.0, 5.0, 2.0], \\\n",
    "              [ 3.0, 3.0, 15.0, 4.0, 3.0], \\\n",
    "              [ 1.0, 5.0, 4.0, 12.0, 4.0], \\\n",
    "              [ 4.0, 2.0, 3.0, 4.0, 17.0]])\n",
    "\n",
    "lam,x = inversePower(a,s)\n",
    "print(\"Eigenvalue =\",lam)\n",
    "print(\"\\nEigenvector:\\n\",x)\n",
    "input(\"\\nPrint press return to exit\")"
   ]
  },
  {
   "cell_type": "markdown",
   "metadata": {},
   "source": [
    "## inversePower5"
   ]
  },
  {
   "cell_type": "code",
   "execution_count": 7,
   "metadata": {
    "collapsed": false
   },
   "outputs": [
    {
     "name": "stdout",
     "output_type": "stream",
     "text": [
      "Eigenvalue = 4.873946378649211\n",
      "\n",
      "Eigenvector:\n",
      " [-0.26726603  0.74142854  0.05017272 -0.59491453  0.14970633]\n",
      "\n",
      "Print press return to exit\n"
     ]
    },
    {
     "data": {
      "text/plain": [
       "''"
      ]
     },
     "execution_count": 7,
     "metadata": {},
     "output_type": "execute_result"
    }
   ],
   "source": [
    "#!/usr/bin/python\n",
    "## example9_5\n",
    "import numpy as np\n",
    "from inversePower import *\n",
    "\n",
    "s = 5.0\n",
    "a = np.array([[ 11.0, 2.0, 3.0, 1.0, 4.0], \\\n",
    "              [ 2.0, 9.0, 3.0, 5.0, 2.0], \\\n",
    "              [ 3.0, 3.0, 15.0, 4.0, 3.0], \\\n",
    "              [ 1.0, 5.0, 4.0, 12.0, 4.0], \\\n",
    "              [ 4.0, 2.0, 3.0, 4.0, 17.0]])\n",
    "\n",
    "lam,x = inversePower(a,s)\n",
    "print(\"Eigenvalue =\",lam)\n",
    "print(\"\\nEigenvector:\\n\",x)\n",
    "input(\"\\nPrint press return to exit\")"
   ]
  },
  {
   "cell_type": "markdown",
   "metadata": {},
   "source": [
    "### EXAMPLE9.6"
   ]
  },
  {
   "cell_type": "code",
   "execution_count": 11,
   "metadata": {
    "collapsed": false
   },
   "outputs": [
    {
     "name": "stdout",
     "output_type": "stream",
     "text": [
      "PL^2/EI = 20.18673210142833\n",
      "\n",
      "Press return to exit\n"
     ]
    },
    {
     "data": {
      "text/plain": [
       "''"
      ]
     },
     "execution_count": 11,
     "metadata": {},
     "output_type": "execute_result"
    }
   ],
   "source": [
    "#!/usr/bin/python\n",
    "## example9_6\n",
    "import numpy as np\n",
    "from inversePower5 import *\n",
    "\n",
    "def Bv(v): # Compute {z} = [B]{v}\n",
    "    n = len(v)\n",
    "    z = np.zeros(n)\n",
    "    z[0] = 2.0*v[0] - v[1]\n",
    "    \n",
    "    for i in range(1,n-1):\n",
    "        z[i] = -v[i-1] + 2.0*v[i] - v[i+1]\n",
    "    z[n-1] = -v[n-2] + 2.0*v[n-1]\n",
    "    return z\n",
    "\n",
    "n = 100 # Number of interior nodes\n",
    "d = np.ones(n)*6.0 # Specify diagonals of [A] = [f\\e\\d\\e\\f]\n",
    "d[0] = 5.0\n",
    "d[n-1] = 7.0\n",
    "e = np.ones(n-1)*(-4.0)\n",
    "f = np.ones(n-2)*1.0\n",
    "lam,x = inversePower5(Bv,d,e,f)\n",
    "print(\"PL^2/EI =\",lam*(n+1)**2)\n",
    "input(\"\\nPress return to exit\")"
   ]
  },
  {
   "cell_type": "markdown",
   "metadata": {},
   "source": [
    "# 9.4 Householder Reduction to Tridiagonal Form"
   ]
  },
  {
   "cell_type": "markdown",
   "metadata": {},
   "source": [
    "## Householder Matrix"
   ]
  },
  {
   "cell_type": "markdown",
   "metadata": {},
   "source": [
    "## Householder Reduction of a Symmetric Matrix"
   ]
  },
  {
   "cell_type": "markdown",
   "metadata": {},
   "source": [
    "## Accumulated Transformation Matrix"
   ]
  },
  {
   "cell_type": "markdown",
   "metadata": {},
   "source": [
    "### householder"
   ]
  },
  {
   "cell_type": "code",
   "execution_count": null,
   "metadata": {
    "collapsed": true
   },
   "outputs": [],
   "source": [
    "# %load code/householder.py\n",
    "## module householder\n",
    "''' d,c = householder(a).\n",
    "    Householder similarity transformation of matrix [a] to \n",
    "    tridiagonal form].\n",
    "\n",
    "    p = computeP(a).\n",
    "    Computes the acccumulated transformation matrix [p]\n",
    "    after calling householder(a).\n",
    "'''    \n",
    "import numpy as np\n",
    "import math\n",
    "\n",
    "def householder(a): \n",
    "    n = len(a)\n",
    "    for k in range(n-2):\n",
    "        u = a[k+1:n,k]\n",
    "        uMag = math.sqrt(np.dot(u,u))\n",
    "        if u[0] < 0.0: uMag = -uMag\n",
    "        u[0] = u[0] + uMag\n",
    "        h = np.dot(u,u)/2.0\n",
    "        v = np.dot(a[k+1:n,k+1:n],u)/h\n",
    "        g = np.dot(u,v)/(2.0*h)\n",
    "        v = v - g*u\n",
    "        a[k+1:n,k+1:n] = a[k+1:n,k+1:n] - np.outer(v,u) \\\n",
    "                         - np.outer(u,v)\n",
    "        a[k,k+1] = -uMag\n",
    "    return np.diagonal(a),np.diagonal(a,1)\n",
    "\n",
    "def computeP(a): \n",
    "    n = len(a)\n",
    "    p = np.identity(n)*1.0\n",
    "    for k in range(n-2):\n",
    "        u = a[k+1:n,k]\n",
    "        h = np.dot(u,u)/2.0\n",
    "        v = np.dot(p[1:n,k+1:n],u)/h           \n",
    "        p[1:n,k+1:n] = p[1:n,k+1:n] - np.outer(v,u)\n",
    "    return p\n",
    "      \n",
    "                \n",
    "\n"
   ]
  },
  {
   "cell_type": "markdown",
   "metadata": {},
   "source": [
    "### EXAMPLE9.8"
   ]
  },
  {
   "cell_type": "code",
   "execution_count": null,
   "metadata": {
    "collapsed": true
   },
   "outputs": [],
   "source": [
    "#!/usr/bin/python\n",
    "## example9_8\n",
    "import numpy as np\n",
    "from householder import *\n",
    "a = np.array([[ 7.0, 2.0, 3.0, -1.0], \\\n",
    "              [ 2.0, 8.0, 5.0, 1.0], \\\n",
    "              [ 3.0, 5.0, 12.0, 9.0], \\\n",
    "              [-1.0, 1.0, 9.0, 7.0]])\n",
    "\n",
    "d,c = householder(a)\n",
    "print(\"Principal diagonal {d}:\\n\", d)\n",
    "print(\"\\nSubdiagonal {c}:\\n\",c)\n",
    "print(\"\\nTransformation matrix [P]:\")\n",
    "print(computeP(a))\n",
    "input(\"\\nPress return to exit\")"
   ]
  },
  {
   "cell_type": "markdown",
   "metadata": {},
   "source": [
    "# 9.5 Eigenvalues of Symmetric Tridiagonal Matrices"
   ]
  },
  {
   "cell_type": "markdown",
   "metadata": {},
   "source": [
    "### sturmSeq"
   ]
  },
  {
   "cell_type": "code",
   "execution_count": null,
   "metadata": {
    "collapsed": true
   },
   "outputs": [],
   "source": [
    "# %load code/sturmSeq.py\n",
    "## module sturmSeq\n",
    "''' p = sturmSeq(c,d,lam).\n",
    "    Returns the Sturm sequence {p[0],p[1],...,p[n]}\n",
    "    associated with the characteristic polynomial\n",
    "    |[A] - lam[I]| = 0, where [A] is a n x n\n",
    "    tridiagonal matrix.\n",
    "\n",
    "    numLam = numLambdas(p).\n",
    "    Returns the number of eigenvalues of a tridiagonal\n",
    "    matrix that are smaller than 'lam'.\n",
    "    Uses the Sturm sequence {p} obtained from 'sturmSeq'.\n",
    "'''\n",
    "import numpy as np\n",
    "\n",
    "def sturmSeq(d,c,lam):\n",
    "    n = len(d) + 1\n",
    "    p = np.ones(n)\n",
    "    p[1] = d[0] - lam\n",
    "    for i in range(2,n):\n",
    "        p[i] = (d[i-1] - lam)*p[i-1] - (c[i-2]**2)*p[i-2]\n",
    "    return p\n",
    "\n",
    "def numLambdas(p):\n",
    "    n = len(p)\n",
    "    signOld = 1\n",
    "    numLam = 0\n",
    "    for i in range(1,n):\n",
    "        if p[i] > 0.0: sign = 1\n",
    "        elif p[i] < 0.0: sign = -1\n",
    "        else: sign = -signOld\n",
    "        if sign*signOld < 0: numLam = numLam + 1\n",
    "        signOld = sign\n",
    "    return numLam\n"
   ]
  },
  {
   "cell_type": "markdown",
   "metadata": {},
   "source": [
    "## Gerschgorin’s Theorem"
   ]
  },
  {
   "cell_type": "markdown",
   "metadata": {},
   "source": [
    "### gerschgorin"
   ]
  },
  {
   "cell_type": "code",
   "execution_count": null,
   "metadata": {
    "collapsed": true
   },
   "outputs": [],
   "source": [
    "# %load code/gerschgorin.py\n",
    "## module gerschgorin\n",
    "''' lamMin,lamMax = gerschgorin(d,c).\n",
    "    Applies Gerschgorin's theorem to find the global bounds on\n",
    "    the eigenvalues of a symmetric tridiagonal matrix.\n",
    "'''\n",
    "def gerschgorin(d,c):\n",
    "    n = len(d)\n",
    "    lamMin = d[0] - abs(c[0])\n",
    "    lamMax = d[0] + abs(c[0])\n",
    "    for i in range(1,n-1):\n",
    "        lam = d[i] - abs(c[i]) - abs(c[i-1])\n",
    "        if lam < lamMin: lamMin = lam\n",
    "        lam = d[i] + abs(c[i]) + abs(c[i-1])\n",
    "        if lam > lamMax: lamMax = lam\n",
    "    lam = d[n-1] - abs(c[n-2])\n",
    "    if lam < lamMin: lamMin = lam\n",
    "    lam = d[n-1] + abs(c[n-2])\n",
    "    if lam > lamMax: lamMax = lam\n",
    "    return lamMin,lamMax\n"
   ]
  },
  {
   "cell_type": "markdown",
   "metadata": {},
   "source": [
    "### lamRange"
   ]
  },
  {
   "cell_type": "code",
   "execution_count": null,
   "metadata": {
    "collapsed": true
   },
   "outputs": [],
   "source": [
    "# %load code/lamRange.py\n",
    "## module lamRange\n",
    "''' r = lamRange(d,c,N).\n",
    "    Returns the sequence {r[0],r[1],...,r[N]} that\n",
    "    separates the N lowest eigenvalues of the tridiagonal\n",
    "    matrix; that is, r[i] < lam[i] < r[i+1].\n",
    "'''\n",
    "import numpy as np\n",
    "from sturmSeq import *\n",
    "from gerschgorin import *\n",
    "\n",
    "def lamRange(d,c,N):\n",
    "    lamMin,lamMax = gerschgorin(d,c)\n",
    "    r = np.ones(N+1)\n",
    "    r[0] = lamMin\n",
    "  # Search for eigenvalues in descending order  \n",
    "    for k in range(N,0,-1):\n",
    "      # First bisection of interval(lamMin,lamMax)\n",
    "        lam = (lamMax + lamMin)/2.0\n",
    "        h = (lamMax - lamMin)/2.0\n",
    "        for i in range(1000):\n",
    "          # Find number of eigenvalues less than lam\n",
    "            p = sturmSeq(d,c,lam)\n",
    "            numLam = numLambdas(p)\n",
    "          # Bisect again & find the half containing lam \n",
    "            h = h/2.0\n",
    "            if numLam < k: lam = lam + h\n",
    "            elif numLam > k: lam = lam - h\n",
    "            else: break\n",
    "      # If eigenvalue located, change the upper limit\n",
    "      # of search and record it in [r]\n",
    "        lamMax = lam\n",
    "        r[k] = lam\n",
    "    return r\n"
   ]
  },
  {
   "cell_type": "markdown",
   "metadata": {},
   "source": [
    "## Computation of Eigenvalues"
   ]
  },
  {
   "cell_type": "markdown",
   "metadata": {},
   "source": [
    "### eigenvals3"
   ]
  },
  {
   "cell_type": "code",
   "execution_count": null,
   "metadata": {
    "collapsed": true
   },
   "outputs": [],
   "source": [
    "# %load code/eigenvals3.py\n",
    "## module eigenvals3\n",
    "''' lam = eigenvals3(d,c,N).\n",
    "    Returns the N smallest eigenvalues of a symmetric\n",
    "    tridiagonal matrix defined by its diagonals d and c.\n",
    "'''    \n",
    "from lamRange import *\n",
    "from ridder import *\n",
    "from sturmSeq import sturmSeq\n",
    "from numpy import zeros\n",
    "\n",
    "def eigenvals3(d,c,N):\n",
    "\n",
    "    def f(x):             # f(x) = |[A] - x[I]|\n",
    "        p = sturmSeq(d,c,x)\n",
    "        return p[len(p)-1]\n",
    "\n",
    "    lam = zeros(N)\n",
    "    r = lamRange(d,c,N)   # Bracket eigenvalues\n",
    "    for i in range(N):    # Solve by Brent's method\n",
    "        lam[i] = ridder(f,r[i],r[i+1])\n",
    "    return lam   \n",
    "\n"
   ]
  },
  {
   "cell_type": "markdown",
   "metadata": {},
   "source": [
    "### EXAMPLE9.12"
   ]
  },
  {
   "cell_type": "code",
   "execution_count": 22,
   "metadata": {
    "collapsed": false
   },
   "outputs": [
    {
     "name": "stdout",
     "output_type": "stream",
     "text": [
      "[ 0.00096744  0.00386881  0.0087013 ]\n",
      "\n",
      "Press return to exit\n"
     ]
    },
    {
     "data": {
      "text/plain": [
       "''"
      ]
     },
     "execution_count": 22,
     "metadata": {},
     "output_type": "execute_result"
    }
   ],
   "source": [
    "#!/usr/bin/python\n",
    "## example9_12\n",
    "import numpy as np\n",
    "from eigenvals3 import *\n",
    "N = 3\n",
    "n = 100\n",
    "d = np.ones(n)*2.0\n",
    "c = np.ones(n-1)*(-1.0)\n",
    "\n",
    "lambdas = eigenvals3(d,c,N)\n",
    "\n",
    "print(lambdas)\n",
    "input(\"\\nPress return to exit\")"
   ]
  },
  {
   "cell_type": "markdown",
   "metadata": {},
   "source": [
    "## Computation of Eigenvectors"
   ]
  },
  {
   "cell_type": "markdown",
   "metadata": {},
   "source": [
    "### inversePower3"
   ]
  },
  {
   "cell_type": "code",
   "execution_count": null,
   "metadata": {
    "collapsed": true
   },
   "outputs": [],
   "source": [
    "# %load code/inversePower3.py\n",
    "## module inversePower3\n",
    "''' lam,x = inversePower3(d,c,s,tol=1.0e-6)\n",
    "    Inverse power method applied to a symmetric tridiagonal\n",
    "    matrix. Returns the eigenvalue closest to s\n",
    "    and the corresponding eigenvector.\n",
    "'''\n",
    "from LUdecomp3 import *\n",
    "import math\n",
    "import numpy as np\n",
    "from numpy.random import rand\n",
    "\n",
    "def inversePower3(d,c,s,tol=1.0e-6):\n",
    "    n = len(d)\n",
    "    e = c.copy()\n",
    "    cc = c.copy()\n",
    "    dStar = d - s                  # Form [A*] = [A] - s[I]\n",
    "    LUdecomp3(cc,dStar,e)          # Decompose [A*]\n",
    "    x = rand(n)                    # Seed x with random numbers\n",
    "    xMag = math.sqrt(np.dot(x,x))  # Normalize [x]\n",
    "    x = x/xMag\n",
    "    \n",
    "    for i in range(30):               # Begin iterations    \n",
    "        xOld = x.copy()               # Save current [x]\n",
    "        LUsolve3(cc,dStar,e,x)        # Solve [A*][x] = [xOld]\n",
    "        xMag = math.sqrt(np.dot(x,x)) # Normalize [x]\n",
    "        x = x/xMag\n",
    "        if np.dot(xOld,x) < 0.0:   # Detect change in sign of [x]\n",
    "            sign = -1.0\n",
    "            x = -x\n",
    "        else: sign = 1.0\n",
    "        if math.sqrt(np.dot(xOld - x,xOld - x)) < tol:\n",
    "            return s + sign/xMag,x\n",
    "    print('Inverse power method did not converge')\n",
    "    return\n"
   ]
  },
  {
   "cell_type": "markdown",
   "metadata": {},
   "source": [
    "### EXAMPLE9.13"
   ]
  },
  {
   "cell_type": "code",
   "execution_count": 24,
   "metadata": {
    "collapsed": false
   },
   "outputs": [
    {
     "name": "stdout",
     "output_type": "stream",
     "text": [
      "Eigenvalue No. 10  = 0.0959737849345\n",
      "\n",
      "Press return to exit\n"
     ]
    },
    {
     "data": {
      "text/plain": [
       "''"
      ]
     },
     "execution_count": 24,
     "metadata": {},
     "output_type": "execute_result"
    }
   ],
   "source": [
    "#!/usr/bin/python\n",
    "## example9_13\n",
    "import numpy as np\n",
    "from lamRange import *\n",
    "from inversePower3 import *\n",
    "N = 10\n",
    "n = 100\n",
    "d = np.ones(n)*2.0\n",
    "c = np.ones(n-1)*(-1.0)\n",
    "r = lamRange(d,c,N) # Bracket N smallest eigenvalues\n",
    "s = (r[N-1] + r[N])/2.0 # Shift to midpoint of Nth bracket\n",
    "lam,x = inversePower3(d,c,s) # Inverse power method\n",
    "print(\"Eigenvalue No.\",N,\" =\",lam)\n",
    "input(\"\\nPress return to exit\")"
   ]
  },
  {
   "cell_type": "markdown",
   "metadata": {},
   "source": [
    "### EXAMPLE9.14"
   ]
  },
  {
   "cell_type": "code",
   "execution_count": 26,
   "metadata": {
    "collapsed": false
   },
   "outputs": [
    {
     "name": "stdout",
     "output_type": "stream",
     "text": [
      "Eigenvalues:\n",
      " [  4.87394638   8.66356791  10.93677451]\n",
      "\n",
      "Eigenvectors:\n",
      " [[ 0.26726603  0.72910002  0.50579164]\n",
      " [-0.74142854  0.41391448 -0.31882387]\n",
      " [-0.05017271 -0.4298639   0.52077788]\n",
      " [ 0.59491453  0.06955611 -0.60290543]\n",
      " [-0.14970633 -0.32782151 -0.08843985]]\n",
      "Press return to exit\n"
     ]
    },
    {
     "data": {
      "text/plain": [
       "''"
      ]
     },
     "execution_count": 26,
     "metadata": {},
     "output_type": "execute_result"
    }
   ],
   "source": [
    "#!/usr/bin/python\n",
    "## example9_14\n",
    "from householder import *\n",
    "from eigenvals3 import *\n",
    "from inversePower3 import *\n",
    "import numpy as np\n",
    "N = 3 # Number of eigenvalues requested\n",
    "\n",
    "a = np.array([[ 11.0, 2.0, 3.0, 1.0, 4.0], \\\n",
    "              [ 2.0, 9.0, 3.0, 5.0, 2.0], \\\n",
    "              [ 3.0, 3.0, 15.0, 4.0, 3.0], \\\n",
    "              [ 1.0, 5.0, 4.0, 12.0, 4.0], \\\n",
    "              [ 4.0, 2.0, 3.0, 4.0, 17.0]])\n",
    "\n",
    "xx = np.zeros((len(a),N))\n",
    "d,c = householder(a) # Tridiagonalize [A]\n",
    "p = computeP(a) # Compute transformation matrix\n",
    "\n",
    "lambdas = eigenvals3(d,c,N) # Compute eigenvalues\n",
    "\n",
    "for i in range(N):\n",
    "    s = lambdas[i]*1.0000001 # Shift very close to eigenvalue\n",
    "    lam,x = inversePower3(d,c,s) # Compute eigenvector [x]\n",
    "    xx[:,i] = x # Place [x] in array [xx]\n",
    "\n",
    "xx = np.dot(p,xx) # Recover eigenvectors of [A]\n",
    "print(\"Eigenvalues:\\n\",lambdas)\n",
    "print(\"\\nEigenvectors:\\n\",xx)\n",
    "input(\"Press return to exit\")"
   ]
  },
  {
   "cell_type": "markdown",
   "metadata": {},
   "source": [
    "# 9.6 Other Methods"
   ]
  }
 ],
 "metadata": {
  "kernelspec": {
   "display_name": "Python [default]",
   "language": "python",
   "name": "python3"
  },
  "language_info": {
   "codemirror_mode": {
    "name": "ipython",
    "version": 3
   },
   "file_extension": ".py",
   "mimetype": "text/x-python",
   "name": "python",
   "nbconvert_exporter": "python",
   "pygments_lexer": "ipython3",
   "version": "3.5.2"
  }
 },
 "nbformat": 4,
 "nbformat_minor": 1
}
