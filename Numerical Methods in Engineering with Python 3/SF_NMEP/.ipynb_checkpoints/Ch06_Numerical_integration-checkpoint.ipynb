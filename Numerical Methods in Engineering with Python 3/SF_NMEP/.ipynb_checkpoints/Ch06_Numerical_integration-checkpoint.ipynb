{
 "cells": [
  {
   "cell_type": "markdown",
   "metadata": {},
   "source": [
    "# 6 Numerical Integration"
   ]
  },
  {
   "cell_type": "markdown",
   "metadata": {},
   "source": [
    "# 6.1 Introduction"
   ]
  },
  {
   "cell_type": "code",
   "execution_count": null,
   "metadata": {
    "collapsed": true
   },
   "outputs": [],
   "source": []
  },
  {
   "cell_type": "markdown",
   "metadata": {},
   "source": [
    "# 6.2 Newton-Cotes Formulas"
   ]
  },
  {
   "cell_type": "markdown",
   "metadata": {},
   "source": [
    "## Trapezoidal Rule"
   ]
  },
  {
   "cell_type": "markdown",
   "metadata": {},
   "source": [
    "## Composite Trapezoidal Rule"
   ]
  },
  {
   "cell_type": "markdown",
   "metadata": {},
   "source": [
    "## Recursive Trapezoidal Rule"
   ]
  },
  {
   "cell_type": "code",
   "execution_count": null,
   "metadata": {
    "collapsed": true
   },
   "outputs": [],
   "source": [
    "# %load code/trapezoid.py\n",
    "## module trapezoid\n",
    "''' Inew = trapezoid(f,a,b,Iold,k).\n",
    "    Recursive trapezoidal rule:\n",
    "    Iold = Integral of f(x) from x = a to b computed by\n",
    "    trapezoidal rule with 2^(k-1) panels.\n",
    "    Inew = Same integral computed with 2^k panels.\n",
    "'''\n",
    "def trapezoid(f,a,b,Iold,k):\n",
    "    if k == 1:Inew = (f(a) + f(b))*(b - a)/2.0\n",
    "    else:\n",
    "        n = 2**(k -2 )      # Number of new points\n",
    "        h = (b - a)/n       # Spacing of new points\n",
    "        x = a + h/2.0       # Coord. of 1st new point\n",
    "        sum = 0.0\n",
    "        for i in range(n):\n",
    "            sum = sum + f(x)\n",
    "            x = x + h\n",
    "        Inew = (Iold + h*sum)/2.0\n",
    "    return Inew\n"
   ]
  },
  {
   "cell_type": "markdown",
   "metadata": {},
   "source": [
    "### EXAMPLE6.4"
   ]
  },
  {
   "cell_type": "code",
   "execution_count": 3,
   "metadata": {
    "collapsed": false
   },
   "outputs": [
    {
     "name": "stdout",
     "output_type": "stream",
     "text": [
      "Integral = -0.8948316648532865\n",
      "nPanels = 32768\n",
      "\n",
      "Press return to exit\n"
     ]
    },
    {
     "data": {
      "text/plain": [
       "''"
      ]
     },
     "execution_count": 3,
     "metadata": {},
     "output_type": "execute_result"
    }
   ],
   "source": [
    "#!/usr/bin/python\n",
    "## example6_4\n",
    "import math\n",
    "from trapezoid import *\n",
    "def f(x): return math.sqrt(x)*math.cos(x)\n",
    "Iold = 0.0\n",
    "for k in range(1,21):\n",
    "    Inew = trapezoid(f,0.0,math.pi,Iold,k)\n",
    "    if (k > 1) and (abs(Inew - Iold)) < 1.0e-6: break\n",
    "    Iold = Inew\n",
    "print(\"Integral =\",Inew)\n",
    "print(\"nPanels =\",2**(k-1))\n",
    "input(\"\\nPress return to exit\")"
   ]
  },
  {
   "cell_type": "markdown",
   "metadata": {},
   "source": [
    "# 6.3 Romberg Integration"
   ]
  },
  {
   "cell_type": "code",
   "execution_count": 5,
   "metadata": {
    "collapsed": true
   },
   "outputs": [],
   "source": [
    "# %load code/romberg.py\n",
    "## module romberg\n",
    "''' I,nPanels = romberg(f,a,b,tol=1.0e-6).\n",
    "    Romberg intergration of f(x) from x = a to b.\n",
    "    Returns the integral and the number of panels used.\n",
    "'''\n",
    "import numpy as np\n",
    "from trapezoid import *\n",
    "\n",
    "def romberg(f,a,b,tol=1.0e-6):\n",
    "    \n",
    "    def richardson(r,k):\n",
    "        for j in range(k-1,0,-1):\n",
    "            const = 4.0**(k-j)\n",
    "            r[j] = (const*r[j+1] - r[j])/(const - 1.0)\n",
    "        return r\n",
    "     \n",
    "    r = np.zeros(21)\n",
    "    r[1] = trapezoid(f,a,b,0.0,1)\n",
    "    r_old = r[1]\n",
    "    for k in range(2,21):\n",
    "        r[k] = trapezoid(f,a,b,r[k-1],k)\n",
    "        r = richardson(r,k)\n",
    "        if abs(r[1]-r_old) < tol*max(abs(r[1]),1.0):\n",
    "            return r[1],2**(k-1)\n",
    "        r_old = r[1]\n",
    "    print(\"Romberg quadrature did not converge\")\n",
    "\n",
    "\n",
    "\n"
   ]
  },
  {
   "cell_type": "markdown",
   "metadata": {},
   "source": [
    "### EXAMPLE6.7"
   ]
  },
  {
   "cell_type": "code",
   "execution_count": 6,
   "metadata": {
    "collapsed": false
   },
   "outputs": [
    {
     "name": "stdout",
     "output_type": "stream",
     "text": [
      "Integral = -0.894831469504\n",
      "numEvals = 64\n",
      "\n",
      "Press return to exit\n"
     ]
    },
    {
     "data": {
      "text/plain": [
       "''"
      ]
     },
     "execution_count": 6,
     "metadata": {},
     "output_type": "execute_result"
    }
   ],
   "source": [
    "#!usr/bin/python\n",
    "## example6_7\n",
    "import math\n",
    "from romberg import *\n",
    "def f(x): return 2.0*(x**2)*math.cos(x**2)\n",
    "I,n = romberg(f,0,math.sqrt(math.pi))\n",
    "print(\"Integral =\",I)\n",
    "print(\"numEvals =\",n)\n",
    "input(\"\\nPress return to exit\")"
   ]
  },
  {
   "cell_type": "markdown",
   "metadata": {},
   "source": [
    "# 6.4 Gaussian Integration"
   ]
  },
  {
   "cell_type": "markdown",
   "metadata": {},
   "source": [
    "## Gaussian Integration Formulas"
   ]
  },
  {
   "cell_type": "markdown",
   "metadata": {},
   "source": [
    "## Orthogonal Polynomials"
   ]
  },
  {
   "cell_type": "markdown",
   "metadata": {},
   "source": [
    "## Determination of Nodal Abscissas and Weights"
   ]
  },
  {
   "cell_type": "markdown",
   "metadata": {},
   "source": [
    "## Abscissas and Weights for Classical Gaussian Quadratures"
   ]
  },
  {
   "cell_type": "markdown",
   "metadata": {},
   "source": [
    "## Gauss-Legendre Quadrature"
   ]
  },
  {
   "cell_type": "markdown",
   "metadata": {},
   "source": [
    "## Gauss-Chebyshev Quadrature"
   ]
  },
  {
   "cell_type": "markdown",
   "metadata": {},
   "source": [
    "## Gauss-Laguerre Quadrature"
   ]
  },
  {
   "cell_type": "markdown",
   "metadata": {},
   "source": [
    "## Gauss-Hermite Quadrature"
   ]
  },
  {
   "cell_type": "markdown",
   "metadata": {},
   "source": [
    "## Gauss Quadrature with Logarithmic Singularity"
   ]
  },
  {
   "cell_type": "code",
   "execution_count": null,
   "metadata": {
    "collapsed": true
   },
   "outputs": [],
   "source": [
    "# %load code/gaussNodes.py\n",
    "## module gaussNodes\n",
    "''' x,A = gaussNodes(m,tol=10e-9)\n",
    "    Returns nodal abscissas {x} and weights {A} of\n",
    "    Gauss-Legendre m-point quadrature.\n",
    "'''\n",
    "import math\n",
    "import numpy as np\n",
    "\n",
    "def gaussNodes(m,tol=10e-9):\n",
    "\n",
    "    def legendre(t,m):\n",
    "        p0 = 1.0; p1 = t\n",
    "        for k in range(1,m):\n",
    "            p = ((2.0*k + 1.0)*t*p1 - k*p0)/(1.0 + k )\n",
    "            p0 = p1; p1 = p\n",
    "        dp = m*(p0 - t*p1)/(1.0 - t**2)\n",
    "        return p,dp\n",
    "\n",
    "    A = np.zeros(m)   \n",
    "    x = np.zeros(m)   \n",
    "    nRoots = int((m + 1)/2)         # Number of non-neg. roots\n",
    "    for i in range(nRoots):\n",
    "        t = math.cos(math.pi*(i + 0.75)/(m + 0.5))# Approx. root\n",
    "        for j in range(30): \n",
    "            p,dp = legendre(t,m)    # Newton-Raphson\n",
    "            dt = -p/dp; t = t + dt  # method         \n",
    "            if abs(dt) < tol:\n",
    "                x[i] = t; x[m-i-1] = -t\n",
    "                A[i] = 2.0/(1.0 - t**2)/(dp**2) # Eq.(6.25)\n",
    "                A[m-i-1] = A[i]\n",
    "                break\n",
    "    return x,A\n"
   ]
  },
  {
   "cell_type": "code",
   "execution_count": null,
   "metadata": {
    "collapsed": true
   },
   "outputs": [],
   "source": [
    "# %load code/gaussQuad.py\n",
    "## module gaussQuad\n",
    "''' I = gaussQuad(f,a,b,m).\n",
    "    Computes the integral of f(x) from x = a to b\n",
    "    with Gauss-Legendre quadrature using m nodes.\n",
    "'''\n",
    "from gaussNodes import *\n",
    "\n",
    "def gaussQuad(f,a,b,m): \n",
    "    c1 = (b + a)/2.0\n",
    "    c2 = (b - a)/2.0\n",
    "    x,A = gaussNodes(m)\n",
    "    sum = 0.0\n",
    "    for i in range(len(x)):\n",
    "        sum = sum + A[i]*f(c1 + c2*x[i])\n",
    "    return c2*sum    \n"
   ]
  },
  {
   "cell_type": "markdown",
   "metadata": {},
   "source": [
    "### EXAMPLE6.11"
   ]
  },
  {
   "cell_type": "code",
   "execution_count": 11,
   "metadata": {
    "collapsed": false
   },
   "outputs": [
    {
     "name": "stdout",
     "output_type": "stream",
     "text": [
      "Number of nodes = 5\n",
      "Integral = 1.41815026778\n",
      "\n",
      "Press return to exit\n"
     ]
    },
    {
     "data": {
      "text/plain": [
       "''"
      ]
     },
     "execution_count": 11,
     "metadata": {},
     "output_type": "execute_result"
    }
   ],
   "source": [
    "## example 6_11\n",
    "import math\n",
    "from gaussQuad import *\n",
    "def f(x): return (math.sin(x)/x)**2\n",
    "a = 0.0; b = math.pi;\n",
    "Iexact = 1.41815\n",
    "for m in range(2,12):\n",
    "    I = gaussQuad(f,a,b,m)\n",
    "    if abs(I - Iexact) < 0.00001:\n",
    "        print(\"Number of nodes =\",m)\n",
    "        print(\"Integral =\", gaussQuad(f,a,b,m))\n",
    "        break\n",
    "input(\"\\nPress return to exit\")"
   ]
  },
  {
   "cell_type": "markdown",
   "metadata": {},
   "source": [
    "# 6.5 Multiple Integrals"
   ]
  },
  {
   "cell_type": "markdown",
   "metadata": {},
   "source": [
    "## Gauss-Legendre Quadrature over a Quadrilateral Element"
   ]
  },
  {
   "cell_type": "code",
   "execution_count": null,
   "metadata": {
    "collapsed": true
   },
   "outputs": [],
   "source": [
    "# %load code/gaussQuad2.py\n",
    "## module gaussQuad2\n",
    "''' I = gaussQuad2(f,xc,yc,m).\n",
    "    Gauss-Legendre integration of f(x,y) over a\n",
    "    quadrilateral using integration order m.\n",
    "    {xc},{yc} are the corner coordinates of the quadrilateral.\n",
    "'''\n",
    "from gaussNodes import *\n",
    "import numpy as np\n",
    "def gaussQuad2(f,x,y,m):\n",
    "\n",
    "    def jac(x,y,s,t):\n",
    "        J = np.zeros((2,2))\n",
    "        J[0,0] = -(1.0 - t)*x[0] + (1.0 - t)*x[1]  \\\n",
    "                + (1.0 + t)*x[2] - (1.0 + t)*x[3]\n",
    "        J[0,1] = -(1.0 - t)*y[0] + (1.0 - t)*y[1]  \\\n",
    "                + (1.0 + t)*y[2] - (1.0 + t)*y[3]\n",
    "        J[1,0] = -(1.0 - s)*x[0] - (1.0 + s)*x[1]  \\\n",
    "                + (1.0 + s)*x[2] + (1.0 - s)*x[3]\n",
    "        J[1,1] = -(1.0 - s)*y[0] - (1.0 + s)*y[1]  \\\n",
    "                + (1.0 + s)*y[2] + (1.0 - s)*y[3]\n",
    "        return (J[0,0]*J[1,1] - J[0,1]*J[1,0])/16.0\n",
    "\n",
    "    def map(x,y,s,t):\n",
    "        N = np.zeros(4)\n",
    "        N[0] = (1.0 - s)*(1.0 - t)/4.0\n",
    "        N[1] = (1.0 + s)*(1.0 - t)/4.0\n",
    "        N[2] = (1.0 + s)*(1.0 + t)/4.0\n",
    "        N[3] = (1.0 - s)*(1.0 + t)/4.0\n",
    "        xCoord = np.dot(N,x)\n",
    "        yCoord = np.dot(N,y)\n",
    "        return xCoord,yCoord\n",
    "\n",
    "    s,A = gaussNodes(m)\n",
    "    sum = 0.0\n",
    "    for i in range(m):\n",
    "        for j in range(m):\n",
    "            xCoord,yCoord = map(x,y,s[i],s[j])\n",
    "            sum = sum + A[i]*A[j]*jac(x,y,s[i],s[j])  \\\n",
    "                       *f(xCoord,yCoord)\n",
    "    return sum\n",
    "\n",
    "\n",
    "                               \n",
    "    \n"
   ]
  },
  {
   "cell_type": "markdown",
   "metadata": {},
   "source": [
    "## example 6_15"
   ]
  },
  {
   "cell_type": "code",
   "execution_count": 15,
   "metadata": {
    "collapsed": false
   },
   "outputs": [
    {
     "name": "stdout",
     "output_type": "stream",
     "text": [
      "Integration order ==> 2\n",
      "Integral = 10.4722216832\n",
      "\n",
      "Press return to exit\n"
     ]
    },
    {
     "data": {
      "text/plain": [
       "''"
      ]
     },
     "execution_count": 15,
     "metadata": {},
     "output_type": "execute_result"
    }
   ],
   "source": [
    "#!/usr/bin/python\n",
    "## example 6_15\n",
    "from gaussQuad2 import *\n",
    "import numpy as np\n",
    "def f(x,y): return ((x - 2.0)**2)*((y - 2.0)**2)\n",
    "x = np.array([0.0, 4.0, 4.0, 1.0])\n",
    "y = np.array([0.0, 1.0, 4.0, 3.0])\n",
    "m = eval(input(\"Integration order ==> \"))\n",
    "print(\"Integral =\", gaussQuad2(f,x,y,m))\n",
    "input(\"\\nPress return to exit\")"
   ]
  },
  {
   "cell_type": "markdown",
   "metadata": {},
   "source": [
    "## Quadrature over a Triangular Element"
   ]
  },
  {
   "cell_type": "code",
   "execution_count": null,
   "metadata": {
    "collapsed": true
   },
   "outputs": [],
   "source": [
    "# %load code/triangleQuad.py\n",
    "## module triangleQuad\n",
    "''' integral = triangleQuad(f,xc,yc).\n",
    "    Integration of f(x,y) over a triangle using\n",
    "    the cubic formula.\n",
    "    {xc},{yc} are the corner coordinates of the triangle.\n",
    "'''\n",
    "import numpy as np\n",
    "\n",
    "def triangleQuad(f,xc,yc):\n",
    "    alpha = np.array([[1.0/3, 1.0/3.0, 1.0/3.0],  \\\n",
    "                      [0.2, 0.2, 0.6],            \\\n",
    "                      [0.6, 0.2, 0.2],            \\\n",
    "                      [0.2, 0.6, 0.2]])\n",
    "    W = np.array([-27.0/48.0,25.0/48.0,25.0/48.0,25.0/48.0])\n",
    "    x = np.dot(alpha,xc)\n",
    "    y = np.dot(alpha,yc)\n",
    "    A = (xc[1]*yc[2] - xc[2]*yc[1]      \\\n",
    "       - xc[0]*yc[2] + xc[2]*yc[0]      \\\n",
    "       + xc[0]*yc[1] - xc[1]*yc[0])/2.0\n",
    "    sum = 0.0\n",
    "    for i in range(4):\n",
    "        sum = sum + W[i] * f(x[i],y[i])\n",
    "    return A*sum\n"
   ]
  },
  {
   "cell_type": "markdown",
   "metadata": {},
   "source": [
    "### example6_16a"
   ]
  },
  {
   "cell_type": "code",
   "execution_count": 17,
   "metadata": {
    "collapsed": false,
    "scrolled": true
   },
   "outputs": [
    {
     "name": "stdout",
     "output_type": "stream",
     "text": [
      "Integration order ==> 3\n",
      "Integral = -1.55884572681\n",
      "\n",
      "Press return to exit\n"
     ]
    },
    {
     "data": {
      "text/plain": [
       "''"
      ]
     },
     "execution_count": 17,
     "metadata": {},
     "output_type": "execute_result"
    }
   ],
   "source": [
    "#!/usr/bin/python\n",
    "## example6_16a\n",
    "from gaussQuad2 import *\n",
    "import numpy as np\n",
    "import math\n",
    "\n",
    "def f(x,y):\n",
    "    return (x**2 + y**2)/2.0 - (x**3 - 3.0*x*y**2)/6.0 - 2.0/3.0\n",
    "\n",
    "x = np.array([-1.0,-1.0,2.0,2.0])\n",
    "y = np.array([math.sqrt(3.0),-math.sqrt(3.0),0.0,0.0])\n",
    "m = eval(input(\"Integration order ==> \"))\n",
    "print(\"Integral =\", gaussQuad2(f,x,y,m))\n",
    "input(\"\\nPress return to exit\")"
   ]
  },
  {
   "cell_type": "markdown",
   "metadata": {},
   "source": [
    "### example6_16b"
   ]
  },
  {
   "cell_type": "code",
   "execution_count": 18,
   "metadata": {
    "collapsed": false
   },
   "outputs": [
    {
     "name": "stdout",
     "output_type": "stream",
     "text": [
      "Integral = -1.55884572681\n",
      "Press return to exit\n"
     ]
    },
    {
     "data": {
      "text/plain": [
       "''"
      ]
     },
     "execution_count": 18,
     "metadata": {},
     "output_type": "execute_result"
    }
   ],
   "source": [
    "#!/usr/bin/python\n",
    "## example6_16b\n",
    "import numpy as np\n",
    "import math\n",
    "from triangleQuad import *\n",
    "\n",
    "def f(x,y):\n",
    "    return (x**2 + y**2)/2.0 -(x**3 - 3.0*x*y**2)/6.0 -2.0/3.0\n",
    "\n",
    "xCorner = np.array([-1.0, -1.0, 2.0])\n",
    "yCorner = np.array([math.sqrt(3.0), -math.sqrt(3.0), 0.0])\n",
    "print(\"Integral =\",triangleQuad(f,xCorner,yCorner))\n",
    "input(\"Press return to exit\")"
   ]
  },
  {
   "cell_type": "code",
   "execution_count": null,
   "metadata": {
    "collapsed": true
   },
   "outputs": [],
   "source": []
  }
 ],
 "metadata": {
  "kernelspec": {
   "display_name": "Python [default]",
   "language": "python",
   "name": "python3"
  },
  "language_info": {
   "codemirror_mode": {
    "name": "ipython",
    "version": 3
   },
   "file_extension": ".py",
   "mimetype": "text/x-python",
   "name": "python",
   "nbconvert_exporter": "python",
   "pygments_lexer": "ipython3",
   "version": "3.5.2"
  }
 },
 "nbformat": 4,
 "nbformat_minor": 1
}
