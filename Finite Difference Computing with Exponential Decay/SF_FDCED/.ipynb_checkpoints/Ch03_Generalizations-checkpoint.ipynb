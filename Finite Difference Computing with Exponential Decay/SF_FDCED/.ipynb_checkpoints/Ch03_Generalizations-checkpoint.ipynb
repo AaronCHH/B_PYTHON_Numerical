{
 "cells": [
  {
   "cell_type": "markdown",
   "metadata": {},
   "source": [
    "# 3 Generalizations"
   ]
  },
  {
   "cell_type": "markdown",
   "metadata": {},
   "source": [
    "<div id=\"toc\"></div>"
   ]
  },
  {
   "cell_type": "code",
   "execution_count": null,
   "metadata": {
    "collapsed": true
   },
   "outputs": [],
   "source": []
  },
  {
   "cell_type": "markdown",
   "metadata": {},
   "source": [
    "## 3.1 Model Extensions"
   ]
  },
  {
   "cell_type": "markdown",
   "metadata": {},
   "source": [
    "### 3.1.1 Generalization: Including a Variable Coefficient"
   ]
  },
  {
   "cell_type": "markdown",
   "metadata": {},
   "source": [
    "### 3.1.2 Generalization: Including a Source Term"
   ]
  },
  {
   "cell_type": "markdown",
   "metadata": {},
   "source": [
    "### 3.1.3 Implementation of the Generalized Model Problem"
   ]
  },
  {
   "cell_type": "code",
   "execution_count": null,
   "metadata": {
    "collapsed": false,
    "scrolled": false
   },
   "outputs": [],
   "source": [
    "# %load genz/decay_vc.py\n",
    "from numpy import *\n",
    "from matplotlib.pyplot import *\n",
    "\n",
    "def solver(I, a, b, T, dt, theta):\n",
    "    \"\"\"\n",
    "    Solve u'=-a(t)*u + b(t), u(0)=I,\n",
    "    for t in (0,T] with steps of dt.\n",
    "    a and b are Python functions of t.\n",
    "    \"\"\"\n",
    "    dt = float(dt)            # avoid integer division\n",
    "    Nt = int(round(T/dt))     # no of time intervals\n",
    "    T = Nt*dt                 # adjust T to fit time step dt\n",
    "    u = zeros(Nt+1)           # array of u[n] values\n",
    "    t = linspace(0, T, Nt+1)  # time mesh\n",
    "\n",
    "    u[0] = I                  # assign initial condition\n",
    "    for n in range(0, Nt):    # n=0,1,...,Nt-1\n",
    "        u[n+1] = ((1 - dt*(1-theta)*a(t[n]))*u[n] + \\\n",
    "                  dt*(theta*b(t[n+1]) + (1-theta)*b(t[n])))/\\\n",
    "                  (1 + dt*theta*a(t[n+1]))\n",
    "    return u, t\n",
    "\n",
    "def test_constant_solution():\n",
    "    \"\"\"\n",
    "    Test problem where u=u_const is the exact solution, to be\n",
    "    reproduced (to machine precision) by any relevant method.\n",
    "    \"\"\"\n",
    "    def u_exact(t):\n",
    "        return u_const\n",
    "\n",
    "    def a(t):\n",
    "        return 2.5*(1+t**3)  # can be arbitrary\n",
    "\n",
    "    def b(t):\n",
    "        return a(t)*u_const\n",
    "\n",
    "    u_const = 2.15\n",
    "    theta = 0.4; I = u_const; dt = 4\n",
    "    Nt = 4  # enough with a few steps\n",
    "    u, t = solver(I=I, a=a, b=b, T=Nt*dt, dt=dt, theta=theta)\n",
    "    print u\n",
    "    u_e = u_exact(t)\n",
    "    difference = abs(u_e - u).max()  # max deviation\n",
    "    tol = 1E-14\n",
    "    assert difference < tol\n",
    "\n",
    "def test_linear_solution():\n",
    "    \"\"\"\n",
    "    Test problem where u=c*t+I is the exact solution, to be\n",
    "    reproduced (to machine precision) by any relevant method.\n",
    "    \"\"\"\n",
    "    def u_exact(t):\n",
    "        return c*t + I\n",
    "\n",
    "    def a(t):\n",
    "        return t**0.5  # can be arbitrary\n",
    "\n",
    "    def b(t):\n",
    "        return c + a(t)*u_exact(t)\n",
    "\n",
    "    theta = 0.4; I = 0.1; dt = 0.1; c = -0.5\n",
    "    T = 4\n",
    "    Nt = int(T/dt)  # no of steps\n",
    "    u, t = solver(I=I, a=a, b=b, T=Nt*dt, dt=dt, theta=theta)\n",
    "    u_e = u_exact(t)\n",
    "    difference = abs(u_e - u).max()  # max deviation\n",
    "    print difference\n",
    "    tol = 1E-14  # depends on c!\n",
    "    assert difference < tol\n",
    "\n",
    "def test_convergence_rates():\n",
    "    # Create a manufactured solution with sympy\n",
    "    import sympy as sym\n",
    "    t = sym.symbols('t')\n",
    "    u_e = sym.sin(t)*sym.exp(-2*t)\n",
    "    a = t**2\n",
    "    b = sym.diff(u_e, t) + a*u_exact\n",
    "\n",
    "    # Turn sympy expressions into Python function\n",
    "    u_exact = sym.lambdify([t], u_e, modules='numpy')\n",
    "    a = sym.lambdify([t], a, modules='numpy')\n",
    "    b = sym.lambdify([t], b, modules='numpy')\n",
    "\n",
    "    def compute_rates(dt_values, E_values):\n",
    "        m = len(dt_values)\n",
    "        r = [log(E_values[i-1]/E_values[i])/\n",
    "             log(dt_values[i-1]/dt_values[i])\n",
    "             for i in range(1, m, 1)]\n",
    "        # Round to two decimals\n",
    "        r = [round(r_, 2) for r_ in r]\n",
    "        return r\n",
    "\n",
    "    dt_values = [0.1*2**(-i) for i in range(7)]\n",
    "    I = u_exact(0)\n",
    "\n",
    "    for theta in (0, 1, 0.5):\n",
    "        E_values = []\n",
    "        for dt in dt_values:\n",
    "            u, t = solver(I=I, a=a, b=b, T=6, dt=dt, theta=theta)\n",
    "            u_e = u_exact(t)\n",
    "            e = u_e - u\n",
    "            E = sqrt(dt*sum(e**2))\n",
    "            E_values.append(E)\n",
    "        r = compute_rates(dt_values, E_values)\n",
    "        print 'theta=%g, r: %s' % (theta, r)\n",
    "        expected_rate = 2 if theta == 0.5 else 1\n",
    "        tol = 0.1\n",
    "        diff = abs(expected_rate - r[-1])\n",
    "        assert diff < tol\n",
    "\n",
    "if __name__ == '__main__':\n",
    "    test_constant_solution()\n",
    "    test_linear_solution()\n",
    "    test_convergence_rates()\n"
   ]
  },
  {
   "cell_type": "markdown",
   "metadata": {},
   "source": [
    "### 3.1.4 Verifying a Constant Solution"
   ]
  },
  {
   "cell_type": "markdown",
   "metadata": {},
   "source": [
    "### 3.1.5 Verification via Manufactured Solutions"
   ]
  },
  {
   "cell_type": "code",
   "execution_count": 7,
   "metadata": {
    "collapsed": false
   },
   "outputs": [
    {
     "name": "stdout",
     "output_type": "stream",
     "text": [
      "4.4408920985e-16\n"
     ]
    }
   ],
   "source": [
    "def test_linear_solution():\n",
    "    \"\"\"\n",
    "    Test problem where u=c*t+I is the exact solution, to be\n",
    "    reproduced (to machine precision) by any relevant method.    \n",
    "    \"\"\"\n",
    "def u_exact(t):\n",
    "    return c*t + I\n",
    "\n",
    "def a(t):\n",
    "    return t**0.5 # can be arbitrary\n",
    "\n",
    "def b(t):\n",
    "    return c + a(t)*u_exact(t)\n",
    "\n",
    "theta = 0.4; I = 0.1; dt = 0.1; c = -0.5\n",
    "T = 4\n",
    "Nt = int(T/dt) # no of steps\n",
    "u, t = solver(I=I, a=a, b=b, T=Nt*dt, dt=dt, theta=theta)\n",
    "u_e = u_exact(t)\n",
    "difference = abs(u_e - u).max() # max deviation\n",
    "print difference\n",
    "tol = 1E-14 # depends on c!\n",
    "assert difference < tol"
   ]
  },
  {
   "cell_type": "markdown",
   "metadata": {},
   "source": [
    "### 3.1.6 Computing Convergence Rates"
   ]
  },
  {
   "cell_type": "code",
   "execution_count": null,
   "metadata": {
    "collapsed": false
   },
   "outputs": [],
   "source": [
    "def compute_rates(dt_values, E_values):\n",
    "    m = len(dt_values)\n",
    "    r = [log(E_values[i-1]/E_values[i])/\n",
    "    log(dt_values[i-1]/dt_values[i])\n",
    "    for i in range(1, m, 1)]\n",
    "        # Round to two decimals\n",
    "        r = [round(r_, 2) for r_ in r]\n",
    "    return r"
   ]
  },
  {
   "cell_type": "code",
   "execution_count": 9,
   "metadata": {
    "collapsed": true
   },
   "outputs": [],
   "source": [
    "def test_convergence_rates():\n",
    "    # Create a manufactured solution\n",
    "    # define u_exact(t), a(t), b(t)\n",
    "    dt_values = [0.1*2**(-i) for i in range(7)]\n",
    "    I = u_exact(0)\n",
    "    for theta in (0, 1, 0.5):\n",
    "        E_values = []\n",
    "        for dt in dt_values:\n",
    "            u, t = solver(I=I, a=a, b=b, T=6, dt=dt, theta=theta)\n",
    "            u_e = u_exact(t)\n",
    "            e = u_e - u\n",
    "            E = sqrt(dt*sum(e**2))\n",
    "            E_values.append(E)\n",
    "        r = compute_rates(dt_values, E_values)\n",
    "        print 'theta=%g, r: %s' % (theta, r)\n",
    "        expected_rate = 2 if theta == 0.5 else 1\n",
    "        tol = 0.1\n",
    "        diff = abs(expected_rate - r[-1])\n",
    "        assert diff < tol"
   ]
  },
  {
   "cell_type": "code",
   "execution_count": null,
   "metadata": {
    "collapsed": false,
    "scrolled": true
   },
   "outputs": [],
   "source": [
    "# Create a manufactured solution with sympy\n",
    "import sympy as sym\n",
    "t = sym.symbols('t')\n",
    "u_e = sym.sin(t)*sym.exp(-2*t)\n",
    "a = t**2\n",
    "b = sym.diff(u_e, t) + a*u_exact\n",
    "# Turn sympy expressions into Python function\n",
    "u_exact = sym.lambdify([t], u_e, modules='numpy')\n",
    "a = sym.lambdify([t], a, modules='numpy')\n",
    "b = sym.lambdify([t], b, modules='numpy')"
   ]
  },
  {
   "cell_type": "markdown",
   "metadata": {},
   "source": [
    "### 3.1.7 Extension to Systems of ODEs"
   ]
  },
  {
   "cell_type": "markdown",
   "metadata": {},
   "source": [
    "## 3.2 General First-Order ODEs"
   ]
  },
  {
   "cell_type": "markdown",
   "metadata": {},
   "source": [
    "### 3.2.1 Generic Form of First-Order ODEs"
   ]
  },
  {
   "cell_type": "markdown",
   "metadata": {},
   "source": [
    "### 3.2.2 The theta-Rule"
   ]
  },
  {
   "cell_type": "markdown",
   "metadata": {},
   "source": [
    "### 3.2.3 An Implicit 2-Step Backward Scheme"
   ]
  },
  {
   "cell_type": "markdown",
   "metadata": {},
   "source": [
    "### 3.2.4 Leapfrog Schemes"
   ]
  },
  {
   "cell_type": "markdown",
   "metadata": {},
   "source": [
    "### 3.2.5 The 2nd-Order Runge–Kutta Method"
   ]
  },
  {
   "cell_type": "markdown",
   "metadata": {},
   "source": [
    "### 3.2.6 A 2nd-Order Taylor-Series Method"
   ]
  },
  {
   "cell_type": "markdown",
   "metadata": {},
   "source": [
    "### 3.2.7 The 2nd- and 3rd-Order Adams–Bashforth Schemes"
   ]
  },
  {
   "cell_type": "markdown",
   "metadata": {},
   "source": [
    "### 3.2.8 The 4th-Order Runge–Kutta Method"
   ]
  },
  {
   "cell_type": "markdown",
   "metadata": {},
   "source": [
    "### 3.2.9 The Odespy Software"
   ]
  },
  {
   "cell_type": "code",
   "execution_count": null,
   "metadata": {
    "collapsed": true
   },
   "outputs": [],
   "source": [
    "def f(u, t):\n",
    "    return -a*u\n",
    "\n",
    "import odespy\n",
    "import numpy as np\n",
    "\n",
    "I = 1; a = 0.5; Nt = 6; dt = 1\n",
    "solver = odespy.RK4(f)\n",
    "solver.set_initial_condition(I)\n",
    "t_mesh = np.linspace(0, Nt*dt, Nt+1)\n",
    "u, t = solver.solve(t_mesh)"
   ]
  },
  {
   "cell_type": "markdown",
   "metadata": {},
   "source": [
    "* https://github.com/hplgit/odespy\n",
    "* https://computation.llnl.gov/casc/odepack/odepack_home.html\n",
    "* https://computation.llnl.gov/casc/odepack/odepack_home.html\n",
    "* http://www.netlib.org/ode/rkc.f\n",
    "* http://www.netlib.org/ode/rkf45.f\n",
    "* http://docs.scipy.org/doc/scipy/reference/generated/scipy.integrate.ode.html\n",
    "* http://docs.sympy.org/dev/modules/mpmath/calculus/odes.html\n",
    "* http://olivierverdier.github.com/odelab/"
   ]
  },
  {
   "cell_type": "markdown",
   "metadata": {},
   "source": [
    "### 3.2.10 Example: Runge–Kutta Methods"
   ]
  },
  {
   "cell_type": "code",
   "execution_count": null,
   "metadata": {
    "collapsed": false
   },
   "outputs": [],
   "source": [
    "# %load genz/decay_odespy.py\n",
    "import odespy\n",
    "import numpy as np\n",
    "import matplotlib.pyplot as plt\n",
    "import sys\n",
    "\n",
    "def f(u, t):\n",
    "    return -a*u\n",
    "\n",
    "I = 1; a = 2; T = 6\n",
    "dt = float(sys.argv[1]) if len(sys.argv) >= 2 else 0.75\n",
    "Nt = int(round(T/dt))\n",
    "t_mesh = np.linspace(0, Nt*dt, Nt+1)\n",
    "\n",
    "solvers = [odespy.RK2(f),\n",
    "           odespy.RK3(f),\n",
    "           odespy.RK4(f),\n",
    "           odespy.BackwardEuler(\n",
    "               f, f_is_linear=True, jac=lambda u, t: -a)]\n",
    "\n",
    "# (If f_is_linear is not specified in BackwardEuler, a\n",
    "# nonlinear solver is invoked and this must be Newton\n",
    "# (nonlinear_solver='Newton') since the default choice,\n",
    "# nonlinear_solver='Picard', diverges in this problem.)\n",
    "\n",
    "legends = []\n",
    "for solver in solvers:\n",
    "    solver.set_initial_condition(I)\n",
    "    u, t = solver.solve(t_mesh)\n",
    "\n",
    "    plt.plot(t, u)\n",
    "    plt.hold('on')\n",
    "    legends.append(solver.__class__.__name__)\n",
    "\n",
    "# Compare with exact solution plotted on a very fine mesh\n",
    "t_fine = np.linspace(0, T, 10001)\n",
    "u_e = I*np.exp(-a*t_fine)\n",
    "plt.plot(t_fine, u_e, '-') # avoid markers by specifying line type\n",
    "legends.append('exact')\n",
    "\n",
    "plt.legend(legends)\n",
    "plt.title('Time step: %g' % dt)\n",
    "plt.savefig('odespy1_dt_%g.png' % dt)\n",
    "plt.savefig('odespy1_dt_%g.pdf' % dt)\n",
    "plt.show()\n"
   ]
  },
  {
   "cell_type": "code",
   "execution_count": null,
   "metadata": {
    "collapsed": false
   },
   "outputs": [],
   "source": [
    "# Compare with exact solution plotted on a very fine mesh\n",
    "t_fine = np.linspace(0, T, 10001)\n",
    "u_e = I*np.exp(-a*t_fine)\n",
    "plt.plot(t_fine, u_e, '-') # avoid markers by specifying line type\n",
    "legends.append('exact')\n",
    "plt.legend(legends)\n",
    "plt.title('Time step: %g' % dt)\n",
    "plt.show()"
   ]
  },
  {
   "cell_type": "markdown",
   "metadata": {},
   "source": [
    "### 3.2.11 Example: Adaptive Runge–Kutta Methods"
   ]
  },
  {
   "cell_type": "code",
   "execution_count": null,
   "metadata": {
    "collapsed": false,
    "scrolled": true
   },
   "outputs": [],
   "source": [
    "import odespy\n",
    "import numpy as np\n",
    "import decay_mod\n",
    "import sys\n",
    "#import matplotlib.pyplot as plt\n",
    "import scitools.std as plt\n",
    "\n",
    "def f(u, t):\n",
    "    return -a*u\n",
    "\n",
    "def u_exact(t):\n",
    "    return I*np.exp(-a*t)\n",
    "\n",
    "I = 1; a = 2; T = 5\n",
    "tol = float(sys.argv[1])\n",
    "solver = odespy.DormandPrince(f, atol=tol, rtol=0.1*tol)\n",
    "\n",
    "Nt = 1 # just one step - let the scheme find\n",
    "# its intermediate points\n",
    "\n",
    "t_mesh = np.linspace(0, T, Nt+1)\n",
    "t_fine = np.linspace(0, T, 10001)\n",
    "\n",
    "solver.set_initial_condition(I)\n",
    "u, t = solver.solve(t_mesh)\n",
    "\n",
    "# u and t will only consist of [I, u^Nt] and [0,T]\n",
    "# solver.u_all and solver.t_all contains all computed points\n",
    "plt.plot(solver.t_all, solver.u_all, 'ko')\n",
    "plt.hold('on')\n",
    "plt.plot(t_fine, u_exact(t_fine), 'b-')\n",
    "plt.legend(['tol=%.0E' % tol, 'exact'])\n",
    "plt.savefig('tmp_odespy_adaptive.png')\n",
    "plt.show()"
   ]
  },
  {
   "cell_type": "code",
   "execution_count": null,
   "metadata": {
    "collapsed": true
   },
   "outputs": [],
   "source": [
    "%matplotlib inline"
   ]
  },
  {
   "cell_type": "code",
   "execution_count": 4,
   "metadata": {
    "collapsed": false
   },
   "outputs": [
    {
     "data": {
      "image/png": "[encoded data removed]",
      "text/plain": [
       "<matplotlib.figure.Figure at 0xc673c18>"
      ]
     },
     "metadata": {},
     "output_type": "display_data"
    }
   ],
   "source": [
    "%run pg3_2_11.py 0.001"
   ]
  },
  {
   "cell_type": "markdown",
   "metadata": {},
   "source": [
    "## 3.3 Exercises"
   ]
  },
  {
   "cell_type": "markdown",
   "metadata": {},
   "source": [
    "### Exercise 3.1: Experiment with precision in tests and the size of u  "
   ]
  },
  {
   "cell_type": "markdown",
   "metadata": {},
   "source": [
    "### Exercise 3.2: Implement the 2-step backward scheme  "
   ]
  },
  {
   "cell_type": "markdown",
   "metadata": {},
   "source": [
    "### Exercise 3.3: Implement the 2nd-order Adams–Bashforth scheme  "
   ]
  },
  {
   "cell_type": "markdown",
   "metadata": {},
   "source": [
    "### Exercise 3.4: Implement the 3rd-order Adams–Bashforth scheme  "
   ]
  },
  {
   "cell_type": "markdown",
   "metadata": {},
   "source": [
    "### Exercise 3.5: Analyze explicit 2nd-order methods  "
   ]
  },
  {
   "cell_type": "markdown",
   "metadata": {},
   "source": [
    "### Exercise 3.6: Implement and investigate the Leapfrog scheme"
   ]
  },
  {
   "cell_type": "code",
   "execution_count": null,
   "metadata": {
    "collapsed": false,
    "scrolled": true
   },
   "outputs": [],
   "source": [
    "import sympy as sym\n",
    "def  analyze(u):\n",
    "    t, dt, a = sym.symbols('t dt a')\n",
    "    print 'Analyzing u_e(t)=%s'%u(t) \n",
    "    print 'u(0)=%s'%u(t).subs(t,  0)\n",
    "    # Fit source term to the given u(t) b  =  sym.diff(u(t),  t)  +  a*u(t)\n",
    "    b  =  sym.simplify(b)\n",
    "    print 'Source term b:', b\n",
    "    # Residual in discrete equations; Forward Euler step R_step1  =  (u(t+dt)  - u(t))/dt  +  a*u(t)  - b\n",
    "    R_step1 = sym.simplify(R_step1)\n",
    "    print 'Residual Forward Euler step:', R_step1\n",
    "    # Residual in discrete equations; Leapfrog steps R  =  (u(t+dt)  -  u(t-dt))/(2*dt)  +  a*u(t)  -  b\n",
    "    R = sym.simplify(R)\n",
    "    print 'Residual  Leapfrog  steps:',  R\n",
    "\n",
    "def u_e(t):\n",
    "    return c*t + I\n",
    "analyze(u_e)\n",
    "# or short form: analyze(lambda t: c*t + I)"
   ]
  },
  {
   "cell_type": "markdown",
   "metadata": {},
   "source": [
    "### Exercise 3.7: Make a unified implementation of many schemes"
   ]
  },
  {
   "cell_type": "code",
   "execution_count": null,
   "metadata": {
    "collapsed": true
   },
   "outputs": [],
   "source": []
  }
 ],
 "metadata": {
  "kernelspec": {
   "display_name": "Python 2",
   "language": "python",
   "name": "python2"
  },
  "language_info": {
   "codemirror_mode": {
    "name": "ipython",
    "version": 2
   },
   "file_extension": ".py",
   "mimetype": "text/x-python",
   "name": "python",
   "nbconvert_exporter": "python",
   "pygments_lexer": "ipython2",
   "version": "2.7.13"
  }
 },
 "nbformat": 4,
 "nbformat_minor": 1
}
