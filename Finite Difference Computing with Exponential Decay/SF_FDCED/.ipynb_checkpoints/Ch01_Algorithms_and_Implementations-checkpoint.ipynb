{
 "cells": [
  {
   "cell_type": "markdown",
   "metadata": {},
   "source": [
    "# 1 Algorithms and Implementations"
   ]
  },
  {
   "cell_type": "markdown",
   "metadata": {},
   "source": [
    "<div id=\"toc\"></div>"
   ]
  },
  {
   "cell_type": "markdown",
   "metadata": {},
   "source": [
    "## 1.1 Finite Difference Methods"
   ]
  },
  {
   "cell_type": "markdown",
   "metadata": {},
   "source": [
    "## 1.2 Implementations"
   ]
  },
  {
   "cell_type": "markdown",
   "metadata": {},
   "source": [
    "### 1.2.1 Computer Language: Python"
   ]
  },
  {
   "cell_type": "markdown",
   "metadata": {},
   "source": [
    "### 1.2.2 Making a Solver Function"
   ]
  },
  {
   "cell_type": "code",
   "execution_count": null,
   "metadata": {
    "collapsed": false,
    "scrolled": true
   },
   "outputs": [],
   "source": [
    "u, t = solver(I, a, T, dt, theta)"
   ]
  },
  {
   "cell_type": "code",
   "execution_count": 6,
   "metadata": {
    "collapsed": false
   },
   "outputs": [],
   "source": [
    "from numpy import *\n",
    "def solver(I, a, T, dt, theta):\n",
    "    \"\"\"Solve u'=-a*u, u(0)=I, for t in (0,T] with steps of dt.\"\"\"\n",
    "    Nt = int(T/dt)           # no of time intervals\n",
    "    T = Nt*dt                # adjust T to fit time step dt\n",
    "    u = zeros(Nt+1)          # array of u[n] values\n",
    "    t = linspace(0, T, Nt+1) # time mesh\n",
    "    \n",
    "    u[0] = I                 # assign initial condition\n",
    "    for n in range(0, Nt):   # n=0,1,...,Nt-1\n",
    "        u[n+1] = (1 - (1-theta)*a*dt)/(1 + theta*dt*a)*u[n]\n",
    "    return u, t"
   ]
  },
  {
   "cell_type": "markdown",
   "metadata": {},
   "source": [
    "### 1.2.3 Integer Division"
   ]
  },
  {
   "cell_type": "code",
   "execution_count": 8,
   "metadata": {
    "collapsed": true
   },
   "outputs": [],
   "source": [
    "from numpy import *\n",
    "def solver(I, a, T, dt, theta):\n",
    "    \"\"\"Solve u’=-a*u, u(0)=I, for t in (0,T] with steps of dt.\"\"\"\n",
    "    dt = float(dt)              # avoid integer division\n",
    "    Nt = int(round(T/dt))       # no of time intervals\n",
    "    T = Nt*dt                   # adjust T to fit time step dt\n",
    "    u = zeros(Nt+1)             # array of u[n] values\n",
    "    t = linspace(0, T, Nt+1)    # time mesh\n",
    "    \n",
    "    u[0] = I                    # assign initial condition\n",
    "    for n in range(0, Nt):      # n=0,1,...,Nt-1\n",
    "        u[n+1] = (1 - (1-theta)*a*dt)/(1 + theta*dt*a)*u[n]\n",
    "    return u, t"
   ]
  },
  {
   "cell_type": "markdown",
   "metadata": {},
   "source": [
    "### 1.2.4 Doc Strings"
   ]
  },
  {
   "cell_type": "code",
   "execution_count": null,
   "metadata": {
    "collapsed": true
   },
   "outputs": [],
   "source": []
  },
  {
   "cell_type": "markdown",
   "metadata": {},
   "source": [
    "### 1.2.5 Formatting Numbers"
   ]
  },
  {
   "cell_type": "code",
   "execution_count": null,
   "metadata": {
    "collapsed": false,
    "scrolled": false
   },
   "outputs": [],
   "source": [
    "# Write out a table of t and u values:\n",
    "for i in range(len(t)):\n",
    "    print t[i], u[i]"
   ]
  },
  {
   "cell_type": "code",
   "execution_count": null,
   "metadata": {
    "collapsed": false
   },
   "outputs": [],
   "source": [
    "print('t=%6.3f u=%g'%(t[i], u[i]))"
   ]
  },
  {
   "cell_type": "code",
   "execution_count": null,
   "metadata": {
    "collapsed": false
   },
   "outputs": [],
   "source": [
    "print('t={t:6.3f} u={u:g}'.format(t=t[i], u=u[i]))"
   ]
  },
  {
   "cell_type": "code",
   "execution_count": null,
   "metadata": {
    "collapsed": false
   },
   "outputs": [],
   "source": [
    "print('t={t:6.3f} u={u:g}'.format(t[i], [i]))"
   ]
  },
  {
   "cell_type": "markdown",
   "metadata": {},
   "source": [
    "### 1.2.6 Running the Program"
   ]
  },
  {
   "cell_type": "code",
   "execution_count": null,
   "metadata": {
    "collapsed": false
   },
   "outputs": [],
   "source": [
    "# %load alg/decay_v1.py\n",
    "from numpy import *\n",
    "\n",
    "def solver(I, a, T, dt, theta):\n",
    "    \"\"\"Solve u'=-a*u, u(0)=I, for t in (0,T] with steps of dt.\"\"\"\n",
    "    Nt = int(T/dt)            # no of time intervals\n",
    "    T = Nt*dt                 # adjust T to fit time step dt\n",
    "    u = zeros(Nt+1)           # array of u[n] values\n",
    "    t = linspace(0, T, Nt+1)  # time mesh\n",
    "\n",
    "    u[0] = I                  # assign initial condition\n",
    "    for n in range(0, Nt):    # n=0,1,...,Nt-1\n",
    "        u[n+1] = (1 - (1-theta)*a*dt)/(1 + theta*dt*a)*u[n]\n",
    "    return u, t\n",
    "\n",
    "u, t = solver(I=1, a=2, T=8, dt=0.8, theta=1)\n",
    "\n",
    "# Write out a table of t and u values:\n",
    "for i in range(len(t)):\n",
    "    print('t=%6.3f u=%g' % (t[i], u[i]))\n",
    "    # or print 't={t:6.3f} u={u:g}'.format(t=t[i], u=u[i])\n",
    "\n",
    "# Plot the solution only\n",
    "import matplotlib.pyplot as plt\n",
    "plt.plot(t, u)\n",
    "plt.show()\n"
   ]
  },
  {
   "cell_type": "code",
   "execution_count": 22,
   "metadata": {
    "collapsed": false
   },
   "outputs": [
    {
     "name": "stdout",
     "output_type": "stream",
     "text": [
      "t= 0.000 u=1\n",
      "t= 0.800 u=0.384615\n",
      "t= 1.600 u=0.147929\n",
      "t= 2.400 u=0.0568958\n",
      "t= 3.200 u=0.021883\n",
      "t= 4.000 u=0.00841653\n",
      "t= 4.800 u=0.00323713\n",
      "t= 5.600 u=0.00124505\n",
      "t= 6.400 u=0.000478865\n",
      "t= 7.200 u=0.000184179\n",
      "t= 8.000 u=7.0838e-05\n"
     ]
    },
    {
     "data": {
      "image/png": "[encoded data removed]",
      "text/plain": [
       "<matplotlib.figure.Figure at 0x99a4b93710>"
      ]
     },
     "metadata": {},
     "output_type": "display_data"
    }
   ],
   "source": [
    "%run alg/decay_v1.py"
   ]
  },
  {
   "cell_type": "markdown",
   "metadata": {},
   "source": [
    "### 1.2.7 Plotting the Solution"
   ]
  },
  {
   "cell_type": "code",
   "execution_count": null,
   "metadata": {
    "collapsed": true
   },
   "outputs": [],
   "source": [
    "# %load alg/decay_v2.py\n",
    "from numpy import *\n",
    "\n",
    "def solver(I, a, T, dt, theta):\n",
    "    \"\"\"Solve u'=-a*u, u(0)=I, for t in (0,T] with steps of dt.\"\"\"\n",
    "    dt = float(dt)            # avoid integer division\n",
    "    Nt = int(round(T/dt))     # no of time intervals\n",
    "    T = Nt*dt                 # adjust T to fit time step dt\n",
    "    u = zeros(Nt+1)           # array of u[n] values\n",
    "    t = linspace(0, T, Nt+1)  # time mesh\n",
    "\n",
    "    u[0] = I                  # assign initial condition\n",
    "    for n in range(0, Nt):    # n=0,1,...,Nt-1\n",
    "        u[n+1] = (1 - (1-theta)*a*dt)/(1 + theta*dt*a)*u[n]\n",
    "    return u, t\n",
    "\n",
    "def u_exact(t, I, a):\n",
    "    return I*exp(-a*t)\n",
    "\n",
    "from matplotlib.pyplot import *\n",
    "\n",
    "def plot_numerical_and_exact(theta, I, a, T, dt):\n",
    "    \"\"\"Compare the numerical and exact solution in a plot.\"\"\"\n",
    "    u, t = solver(I=I, a=a, T=T, dt=dt, theta=theta)\n",
    "\n",
    "    t_e = linspace(0, T, 1001)        # fine mesh for u_e\n",
    "    u_e = u_exact(t_e, I, a)\n",
    "\n",
    "    plot(t,   u,   'r--o',            # red dashes w/circles\n",
    "         t_e, u_e, 'b-')              # blue line for exact sol.\n",
    "    legend(['numerical', 'exact'])\n",
    "    xlabel('t')\n",
    "    ylabel('u')\n",
    "    title('theta=%g, dt=%g' % (theta, dt))\n",
    "    savefig('plot_%s_%g.png' % (theta, dt))\n",
    "\n",
    "plot_numerical_and_exact(I=1, a=2, T=8, dt=0.8, theta=1)\n",
    "show()\n"
   ]
  },
  {
   "cell_type": "code",
   "execution_count": 25,
   "metadata": {
    "collapsed": false
   },
   "outputs": [
    {
     "data": {
      "image/png": "[encoded data removed]",
      "text/plain": [
       "<matplotlib.figure.Figure at 0x99a5705630>"
      ]
     },
     "metadata": {},
     "output_type": "display_data"
    }
   ],
   "source": [
    "%run alg/decay_v2.py"
   ]
  },
  {
   "cell_type": "markdown",
   "metadata": {},
   "source": [
    "### 1.2.8 Verifying the Implementation"
   ]
  },
  {
   "cell_type": "markdown",
   "metadata": {},
   "source": [
    "### 1.2.9 Computing the Numerical Error as a Mesh Function"
   ]
  },
  {
   "cell_type": "markdown",
   "metadata": {},
   "source": [
    "### 1.2.10 Computing the Norm of the Error Mesh Function"
   ]
  },
  {
   "cell_type": "markdown",
   "metadata": {},
   "source": [
    "### 1.2.11 Experiments with Computing and Plotting"
   ]
  },
  {
   "cell_type": "markdown",
   "metadata": {},
   "source": [
    "### 1.2.12 Memory-Saving Implementation"
   ]
  },
  {
   "cell_type": "markdown",
   "metadata": {},
   "source": [
    "## 1.3 Exercises"
   ]
  },
  {
   "cell_type": "markdown",
   "metadata": {},
   "source": [
    "### Exercise 1.1: Define a mesh function and visualize it"
   ]
  },
  {
   "cell_type": "markdown",
   "metadata": {},
   "source": [
    "### Exercise 1.2: Differentiate a function"
   ]
  },
  {
   "cell_type": "code",
   "execution_count": null,
   "metadata": {
    "collapsed": true
   },
   "outputs": [],
   "source": [
    "d[1:-1] = (u[2:] - u[0:-2])/(2*dt)\n",
    "# or\n",
    "d[1:N_t] = (u[2:N_t+1] - u[0:N_t-1])/(2*dt)"
   ]
  },
  {
   "cell_type": "markdown",
   "metadata": {},
   "source": [
    "### Exercise 1.3: Experiment with divisions"
   ]
  },
  {
   "cell_type": "code",
   "execution_count": 1,
   "metadata": {
    "collapsed": false
   },
   "outputs": [
    {
     "data": {
      "text/plain": [
       "0"
      ]
     },
     "execution_count": 1,
     "metadata": {},
     "output_type": "execute_result"
    }
   ],
   "source": [
    "dt = 3\n",
    "T = 8\n",
    "Nt = T/dt\n",
    "Nt\n",
    "theta = 1; a = 1\n",
    "(1 - (1-theta)*a*dt)/(1 + theta*dt*a)"
   ]
  },
  {
   "cell_type": "markdown",
   "metadata": {},
   "source": [
    "### Exercise 1.4: Experiment with wrong computations"
   ]
  },
  {
   "cell_type": "code",
   "execution_count": null,
   "metadata": {
    "collapsed": true
   },
   "outputs": [],
   "source": [
    "u, t = solver(I=1, a=1, T=7, dt=2, theta=1)"
   ]
  },
  {
   "cell_type": "code",
   "execution_count": null,
   "metadata": {
    "collapsed": false
   },
   "outputs": [],
   "source": [
    "%run decay_v1.py"
   ]
  },
  {
   "cell_type": "markdown",
   "metadata": {},
   "source": [
    "### Exercise 1.5: Plot the error function"
   ]
  },
  {
   "cell_type": "code",
   "execution_count": null,
   "metadata": {
    "collapsed": true
   },
   "outputs": [],
   "source": []
  },
  {
   "cell_type": "markdown",
   "metadata": {
    "collapsed": true
   },
   "source": [
    "### Exercise 1.6: Change formatting of numbers and debug"
   ]
  },
  {
   "cell_type": "code",
   "execution_count": null,
   "metadata": {
    "collapsed": true
   },
   "outputs": [],
   "source": []
  }
 ],
 "metadata": {
  "anaconda-cloud": {},
  "kernelspec": {
   "display_name": "Python 2",
   "language": "python",
   "name": "python2"
  },
  "language_info": {
   "codemirror_mode": {
    "name": "ipython",
    "version": 2
   },
   "file_extension": ".py",
   "mimetype": "text/x-python",
   "name": "python",
   "nbconvert_exporter": "python",
   "pygments_lexer": "ipython2",
   "version": "2.7.13"
  }
 },
 "nbformat": 4,
 "nbformat_minor": 1
}
