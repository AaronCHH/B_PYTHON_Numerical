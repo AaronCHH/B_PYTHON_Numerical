{
 "cells": [
  {
   "cell_type": "markdown",
   "metadata": {},
   "source": [
    "# Reference"
   ]
  },
  {
   "cell_type": "markdown",
   "metadata": {},
   "source": [
    "1.  W. Gander, M. J. Gander, and F. Kwok, Scientific Computing - An Introducting Using Maple and MATLAB. Texts in Computational Science and Engineering. Springer, 2015  \n",
    "2.  D. Griffiths, F. David, and D. J. Higham, Numerical Methods for Ordinary Differential Equa- tions: Initial Value Problems. Springer, 2010  \n",
    "3.  E. Hairer, S. P. Nørsett, and G. Wanner,  Solving Ordinary Differential Equations I. Nonstiff Problems. Springer, 1993  \n",
    "4.  G. Hairer and E. Wanner, Solving Ordinary Differential Equations II. Springer, 2010  \n",
    "5.  J. D. Hunter, D. Dale, E. Firing, and M. Droettboom, Matplotlib documentation, 2012. http://matplotlib.org/users/  \n",
    "6.  H. P. Langtangen,  Quick intro to version control systems and project hosting sites.  http://hplgit.github.io/teamods/bitgit/html/  \n",
    "7.  __H. P. Langtangen,   SciTools documentation.   http://hplgit.github.io/scitools/doc/web/index.html__  \n",
    "8.  H. P. Langtangen, A Primer on Scientific Programming with Python. Texts in Computational Science and Engineering. Springer, fourth edition, 2014  \n",
    "9.  H. P. Langtangen and G. K. Pedersen, Scaling of Differential Equations. SimulaSpringerBrief. Springer, 2015. http://tinyurl.com/qfjgxmf/web  \n",
    "10. __H. P. Langtangen and L. Wang, Odespy software package. https://github.com/hplgit/odespy__  \n",
    "11. D. B. Meade and A. A. Struthers, Differential equations in the new millenium: the parachute problem. International Journal of Engineering Education, 15(6):417–424, 1999  \n",
    "12. L. Petzold and U. M. Ascher,  Computer Methods for Ordinary Differential Equations and Differential-Algebraic Equations, volume 61. SIAM, 1998  \n",
    "13. L. N. Trefethen,   Trefethen’s index cards - Forty years of notes about People, Words and Mathematics. World Scientific, 2011  \n"
   ]
  }
 ],
 "metadata": {
  "kernelspec": {
   "display_name": "Python 3",
   "language": "python",
   "name": "python3"
  },
  "language_info": {
   "codemirror_mode": {
    "name": "ipython",
    "version": 3
   },
   "file_extension": ".py",
   "mimetype": "text/x-python",
   "name": "python",
   "nbconvert_exporter": "python",
   "pygments_lexer": "ipython3",
   "version": "3.6.0"
  }
 },
 "nbformat": 4,
 "nbformat_minor": 2
}
