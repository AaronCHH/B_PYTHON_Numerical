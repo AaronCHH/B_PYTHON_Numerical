{
 "cells": [
  {
   "cell_type": "markdown",
   "metadata": {},
   "source": [
    "# Ch06 Solving Nonlinear Algebraic Equations"
   ]
  },
  {
   "cell_type": "markdown",
   "metadata": {},
   "source": [
    "<div id=\"toc\"></div>"
   ]
  },
  {
   "cell_type": "markdown",
   "metadata": {},
   "source": [
    "## 6.1 Brute Force Methods"
   ]
  },
  {
   "cell_type": "markdown",
   "metadata": {},
   "source": [
    "### 6.1.1 Brute Force Root Finding"
   ]
  },
  {
   "cell_type": "code",
   "execution_count": 2,
   "metadata": {
    "collapsed": false
   },
   "outputs": [
    {
     "name": "stdout",
     "output_type": "stream",
     "text": [
      "Find (the first) root as x=0.392699\n"
     ]
    }
   ],
   "source": [
    "# %load py/brute_force_root_finder_flat.py\n",
    "from numpy import linspace, exp, cos\n",
    "\n",
    "def f(x):\n",
    "    return exp(-x**2)*cos(4*x)\n",
    "\n",
    "x = linspace(0, 4, 10001)\n",
    "y = f(x)\n",
    "\n",
    "root = None  # Initialization\n",
    "for i in range(len(x)-1):\n",
    "    if y[i]*y[i+1] < 0:\n",
    "         root = x[i] - (x[i+1] - x[i])/(y[i+1] - y[i])*y[i]\n",
    "         break  # Jump out of loop\n",
    "\n",
    "if root is None:\n",
    "    print 'Could not find any root in [%g, %g]' % (x[0], x[-1])\n",
    "else:\n",
    "    print 'Find (the first) root as x=%g' % root\n"
   ]
  },
  {
   "cell_type": "code",
   "execution_count": null,
   "metadata": {
    "collapsed": true
   },
   "outputs": [],
   "source": [
    "# %load py/brute_force_root_finder_function.py\n",
    "def brute_force_root_finder(f, a, b, n):\n",
    "    from numpy import linspace\n",
    "    x = linspace(a, b, n)\n",
    "    y = f(x)\n",
    "    roots = []\n",
    "    for i in range(n-1):\n",
    "        if y[i]*y[i+1] < 0:\n",
    "            root = x[i] - (x[i+1] - x[i])/(y[i+1] - y[i])*y[i]\n",
    "            roots.append(root)\n",
    "    return roots\n",
    "\n",
    "def demo():\n",
    "    from numpy import exp, cos\n",
    "    roots = brute_force_root_finder(\n",
    "        lambda x: exp(-x**2)*cos(4*x), 0, 4, 1001)\n",
    "    if roots:\n",
    "        print roots\n",
    "    else:\n",
    "        print 'Could not find any roots'\n",
    "\n",
    "if __name__ == '__main__':\n",
    "    demo()\n"
   ]
  },
  {
   "cell_type": "markdown",
   "metadata": {},
   "source": [
    "### 6.1.2 Brute Force Optimization"
   ]
  },
  {
   "cell_type": "code",
   "execution_count": null,
   "metadata": {
    "collapsed": true
   },
   "outputs": [],
   "source": [
    "# %load py/brute_force_optimizer.py\n",
    "def brute_force_optimizer(f, a, b, n):\n",
    "    from numpy import linspace\n",
    "    x = linspace(a, b, n)\n",
    "    y = f(x)\n",
    "    # Let maxima and minima hold the indices corresponding\n",
    "    # to (local) maxima and minima points\n",
    "    minima = []\n",
    "    maxima = []\n",
    "    for i in range(n-1):\n",
    "        if y[i-1] < y[i] > y[i+1]:\n",
    "            maxima.append(i)\n",
    "        if y[i-1] > y[i] < y[i+1]:\n",
    "            minima.append(i)\n",
    "\n",
    "    # What about the end points?\n",
    "    y_max_inner = max([y[i] for i in maxima])\n",
    "    y_min_inner = min([y[i] for i in minima])\n",
    "    if y[0] > y_max_inner:\n",
    "        maxima.append(0)\n",
    "    if y[len(x)-1] > y_max_inner:\n",
    "        maxima.append(len(x)-1)\n",
    "    if y[0] < y_min_inner:\n",
    "        minima.append(0)\n",
    "    if y[len(x)-1] < y_min_inner:\n",
    "        minima.append(len(x)-1)\n",
    "\n",
    "    # Return x and y values\n",
    "    return [(x[i], y[i]) for i in minima], \\\n",
    "           [(x[i], y[i]) for i in maxima]\n",
    "\n",
    "def demo():\n",
    "    from numpy import exp, cos\n",
    "    minima, maxima = brute_force_optimizer(\n",
    "        lambda x: exp(-x**2)*cos(4*x), 0, 4, 1001)\n",
    "    print 'Minima:', minima\n",
    "    print 'Maxima:', maxima\n",
    "\n",
    "if __name__ == '__main__':\n",
    "    demo()\n"
   ]
  },
  {
   "cell_type": "markdown",
   "metadata": {},
   "source": [
    "### 6.1.3 Model Problem for Algebraic Equations"
   ]
  },
  {
   "cell_type": "markdown",
   "metadata": {},
   "source": [
    "## 6.2 Newton’s Method"
   ]
  },
  {
   "cell_type": "markdown",
   "metadata": {},
   "source": [
    "### 6.2.1 Deriving and Implementing Newton’s Method"
   ]
  },
  {
   "cell_type": "markdown",
   "metadata": {},
   "source": [
    "### 6.2.2 Making a More Efficient and Robust Implementation"
   ]
  },
  {
   "cell_type": "code",
   "execution_count": null,
   "metadata": {
    "collapsed": true
   },
   "outputs": [],
   "source": [
    "# %load py/Newtons_method.py\n",
    "def Newton(f, dfdx, x, eps):\n",
    "    f_value = f(x)\n",
    "    iteration_counter = 0\n",
    "    while abs(f_value) > eps and iteration_counter < 100:\n",
    "        try:\n",
    "            x = x - float(f_value)/dfdx(x)\n",
    "        except ZeroDivisionError:\n",
    "            print \"Error! - derivative zero for x = \", x\n",
    "            sys.exit(1)     # Abort with error\n",
    "\n",
    "        f_value = f(x)\n",
    "        iteration_counter += 1\n",
    "\n",
    "    # Here, either a solution is found, or too many iterations\n",
    "    if abs(f_value) > eps:\n",
    "        iteration_counter = -1\n",
    "    return x, iteration_counter\n",
    "\n",
    "def f(x):\n",
    "    return x**2 - 9\n",
    "\n",
    "def dfdx(x):\n",
    "    return 2*x\n",
    "\n",
    "solution, no_iterations = Newton(f, dfdx, x=1000, eps=1.0e-6)\n",
    "\n",
    "if no_iterations > 0:    # Solution found\n",
    "    print \"Number of function calls: %d\" % (1 + 2*no_iterations)\n",
    "    print \"A solution is: %f\" % (solution)\n",
    "else:\n",
    "    print \"Solution not found!\"\n",
    "\n"
   ]
  },
  {
   "cell_type": "markdown",
   "metadata": {},
   "source": [
    "## 6.3 The Secant Method"
   ]
  },
  {
   "cell_type": "code",
   "execution_count": null,
   "metadata": {
    "collapsed": true
   },
   "outputs": [],
   "source": [
    "# %load py/secant_method.py\n",
    "def secant(f, x0, x1, eps):\n",
    "    f_x0 = f(x0)\n",
    "    f_x1 = f(x1)\n",
    "    iteration_counter = 0\n",
    "    while abs(f_x1) > eps and iteration_counter < 100:\n",
    "        try:\n",
    "            denominator = float(f_x1 - f_x0)/(x1 - x0)\n",
    "            x = x1 - float(f_x1)/denominator\n",
    "        except ZeroDivisionError:\n",
    "            print \"Error! - denominator zero for x = \", x\n",
    "            sys. exit(1) # Abort with error\n",
    "        x0 = x1\n",
    "        x1 = x\n",
    "        f_x0 = f_x1\n",
    "        f_x1 = f(x1)\n",
    "        iteration_counter += 1\n",
    "\n",
    "    # Here, either a solution is found, or too many iterations\n",
    "    if abs(f_x1) > eps:\n",
    "        iteration_counter = -1\n",
    "    return x, iteration_counter\n",
    "\n",
    "def f(x):\n",
    "    return x**2 - 9\n",
    "\n",
    "x0 = 1000; x1 = x0 - 1\n",
    "\n",
    "solution, no_iterations = secant(f, x0, x1, eps=1.0e-6)\n",
    "\n",
    "if no_iterations > 0: # Solution found\n",
    "    print \"Number of function calls: %d\" % (2 + no_iterations)\n",
    "    print \"A solution is: %f\" % (solution)\n",
    "else:\n",
    "    print \"Solution not found!\""
   ]
  },
  {
   "cell_type": "markdown",
   "metadata": {},
   "source": [
    "## 6.4 The Bisection Method"
   ]
  },
  {
   "cell_type": "code",
   "execution_count": null,
   "metadata": {
    "collapsed": true
   },
   "outputs": [],
   "source": [
    "# %load py/bisection_method.py\n",
    "def bisection(f, x_L, x_R, eps, return_x_list=False):\n",
    "    f_L = f(x_L)\n",
    "    if f_L*f(x_R) > 0:\n",
    "        print \"Error! Function does not have opposite \\\n",
    "                 signs at interval endpoints!\"\n",
    "        sys.exit(1)\n",
    "    x_M = float(x_L + x_R)/2.0\n",
    "    f_M = f(x_M)\n",
    "    iteration_counter = 1\n",
    "    if return_x_list:\n",
    "        x_list = []\n",
    "\n",
    "    while abs(f_M) > eps:\n",
    "        if f_L*f_M > 0:   # i.e. same sign\n",
    "            x_L = x_M\n",
    "            f_L = f_M\n",
    "        else:\n",
    "            x_R = x_M\n",
    "        x_M = float(x_L + x_R)/2\n",
    "        f_M = f(x_M)\n",
    "        iteration_counter += 1\n",
    "        if return_x_list:\n",
    "            x_list.append(x_M)\n",
    "    if return_x_list:\n",
    "        return x_list, iteration_counter\n",
    "    else:\n",
    "        return x_M, iteration_counter\n",
    "\n",
    "def f(x):\n",
    "    return x**2 - 9\n",
    "\n",
    "a = 0;   b = 1000\n",
    "\n",
    "solution, no_iterations = bisection(f, a, b, eps=1.0e-6)\n",
    "\n",
    "print \"Number of function calls: %d\" % (1 + 2*no_iterations)\n",
    "print \"A solution is: %f\" % (solution)\n"
   ]
  },
  {
   "cell_type": "markdown",
   "metadata": {},
   "source": [
    "## 6.5 Rate of Convergence"
   ]
  },
  {
   "cell_type": "code",
   "execution_count": null,
   "metadata": {
    "collapsed": true
   },
   "outputs": [],
   "source": [
    "# %load py/nonlinear_solvers.py\n",
    "import sys\n",
    "\n",
    "def bisection(f, x_L, x_R, eps, return_x_list=False):\n",
    "    f_L = f(x_L)\n",
    "    if f_L*f(x_R) > 0:\n",
    "        print \"Error! Function does not have opposite \\\n",
    "                 signs at interval endpoints!\"\n",
    "        sys.exit(1)\n",
    "    x_M = float(x_L + x_R)/2\n",
    "    f_M = f(x_M)\n",
    "    iteration_counter = 1\n",
    "    if return_x_list:\n",
    "        x_list = []\n",
    "\n",
    "    while abs(f_M) > eps:\n",
    "        if f_L*f_M > 0:   # i.e., same sign\n",
    "            x_L = x_M\n",
    "            f_L = f_M\n",
    "        else:\n",
    "            x_R = x_M\n",
    "        x_M = float(x_L + x_R)/2\n",
    "        f_M = f(x_M)\n",
    "        iteration_counter += 1\n",
    "        if return_x_list:\n",
    "            x_list.append(x_M)\n",
    "    if return_x_list:\n",
    "        return x_list, iteration_counter\n",
    "    else:\n",
    "        return x_M, iteration_counter\n",
    "\n",
    "def Newton(f, dfdx, x, eps, return_x_list=False):\n",
    "    f_value = f(x)\n",
    "    iteration_counter = 0\n",
    "    if return_x_list:\n",
    "        x_list = []\n",
    "\n",
    "    while abs(f_value) > eps and iteration_counter < 100:\n",
    "        try:\n",
    "            x = x - float(f_value)/dfdx(x)\n",
    "        except ZeroDivisionError:\n",
    "            print \"Error! - derivative zero for x = \", x\n",
    "            sys.exit(1)     # Abort with error\n",
    "\n",
    "        f_value = f(x)\n",
    "        iteration_counter += 1\n",
    "        if return_x_list:\n",
    "            x_list.append(x)\n",
    "\n",
    "    # Here, either a solution is found, or too many iterations\n",
    "    if abs(f_value) > eps:\n",
    "        iteration_counter = -1  # i.e., lack of convergence\n",
    "\n",
    "    if return_x_list:\n",
    "        return x_list, iteration_counter\n",
    "    else:\n",
    "        return x, iteration_counter\n",
    "\n",
    "def secant(f, x0, x1, eps, return_x_list=False):\n",
    "    f_x0 = f(x0)\n",
    "    f_x1 = f(x1)\n",
    "    iteration_counter = 0\n",
    "    if return_x_list:\n",
    "        x_list = []\n",
    "\n",
    "    while abs(f_x1) > eps and iteration_counter < 100:\n",
    "        try:\n",
    "            denominator = float(f_x1 - f_x0)/(x1 - x0)\n",
    "            x = x1 - float(f_x1)/denominator\n",
    "        except ZeroDivisionError:\n",
    "            print \"Error! - denominator zero for x = \", x\n",
    "            sys.exit(1)     # Abort with error\n",
    "        x0 = x1\n",
    "        x1 = x\n",
    "        f_x0 = f_x1\n",
    "        f_x1 = f(x1)\n",
    "        iteration_counter += 1\n",
    "        if return_x_list:\n",
    "            x_list.append(x)\n",
    "    # Here, either a solution is found, or too many iterations\n",
    "    if abs(f_x1) > eps:\n",
    "        iteration_counter = -1\n",
    "\n",
    "    if return_x_list:\n",
    "        return x_list, iteration_counter\n",
    "    else:\n",
    "        return x, iteration_counter\n",
    "\n",
    "from math import log\n",
    "\n",
    "def rate(x, x_exact):\n",
    "    e = [abs(x_ - x_exact) for x_ in x]\n",
    "    q = [log(e[n+1]/e[n])/log(e[n]/e[n-1])\n",
    "         for n in range(1, len(e)-1, 1)]\n",
    "    return q\n"
   ]
  },
  {
   "cell_type": "markdown",
   "metadata": {},
   "source": [
    "## 6.6 Solving Multiple Nonlinear Algebraic Equations"
   ]
  },
  {
   "cell_type": "markdown",
   "metadata": {},
   "source": [
    "### 6.6.1 Abstract Notation"
   ]
  },
  {
   "cell_type": "markdown",
   "metadata": {},
   "source": [
    "### 6.6.2 Taylor Expansions for Multi-Variable Functions"
   ]
  },
  {
   "cell_type": "code",
   "execution_count": 11,
   "metadata": {
    "collapsed": false
   },
   "outputs": [
    {
     "data": {
      "text/plain": [
       "x0 - exp(-x1)"
      ]
     },
     "execution_count": 11,
     "metadata": {},
     "output_type": "execute_result"
    }
   ],
   "source": [
    "from sympy import *\n",
    "x0, x1 = symbols('x0 x1' )\n",
    "F0 = x0**2 - x1 + x0*cos(pi*x0)\n",
    "F1 = x0*x1 + exp(-x1) - x0**(-1)\n",
    "diff(F0, x0)\n",
    "diff(F0, x1)\n",
    "diff(F1, x0)\n",
    "diff(F1, x1)"
   ]
  },
  {
   "cell_type": "markdown",
   "metadata": {},
   "source": [
    "### 6.6.3 Newton’s Method"
   ]
  },
  {
   "cell_type": "code",
   "execution_count": null,
   "metadata": {
    "collapsed": true
   },
   "outputs": [],
   "source": []
  },
  {
   "cell_type": "markdown",
   "metadata": {},
   "source": [
    "### 6.6.4 Implementation"
   ]
  },
  {
   "cell_type": "markdown",
   "metadata": {},
   "source": [
    "## 6.7 Exercises"
   ]
  },
  {
   "cell_type": "markdown",
   "metadata": {},
   "source": [
    "### Exercise 6.1: Understand why Newton's method can fail  "
   ]
  },
  {
   "cell_type": "code",
   "execution_count": null,
   "metadata": {
    "collapsed": false
   },
   "outputs": [
    {
     "name": "stdout",
     "output_type": "stream",
     "text": [
      "Current x value:  1.09\n"
     ]
    }
   ],
   "source": [
    "from numpy import tanh, linspace\n",
    "import matplotlib.pyplot as plt\n",
    "\n",
    "def Newton_failure(f, dfdx, x, eps):\n",
    "    f_value = f(x)\n",
    "    iteration_counter = 0\n",
    "    while abs(f_value) > eps and iteration_counter < 100:\n",
    "        try:\n",
    "            print 'Current x value: ', x\n",
    "            plot_line(f, x, f_value, dfdx(x))\n",
    "            raw_input('...press enter to continue')\n",
    "            x = x - float(f_value)/dfdx(x)\n",
    "        except ZeroDivisionError:\n",
    "            print \"Error! - derivative zero for x = \", x\n",
    "            sys.exit(1)     # Abort with error\n",
    "\n",
    "        f_value = f(x)\n",
    "        iteration_counter += 1\n",
    "\n",
    "    # Here, either a solution is found, or too many iterations\n",
    "    if abs(f_value) > eps:\n",
    "        iteration_counter = -1\n",
    "    return x, iteration_counter\n",
    "\n",
    "def f(x):\n",
    "    return tanh(x)\n",
    "\n",
    "def dfdx(x):\n",
    "    return 1 - tanh(x)**2\n",
    "\n",
    "def plot_line(f, xn, f_xn, slope):\n",
    "    # Plot both f(x) and the tangent\n",
    "    x_f = linspace(-2,2,100)\n",
    "    y_f = f(x_f)\n",
    "    x_t = linspace(xn-2,xn+2,10)\n",
    "    y_t = slope*x_t + (f_xn - slope*xn)  # Straight line: ax + b\n",
    "    plt.figure()\n",
    "    plt.plot(x_t, y_t, 'r-', x_f, y_f, 'b-');    plt.grid('on')\n",
    "    plt.xlabel('x');    plt.ylabel('f(x)')\n",
    "    plt.show()\n",
    "\n",
    "def application():\n",
    "    solution, no_iterations = \\\n",
    "                      Newton_failure(f, dfdx, x=1.09, eps=0.001)\n",
    "\n",
    "    if no_iterations > 0:    # Solution found\n",
    "        print \"Number of function calls: %d\" % (1 + 2*no_iterations)\n",
    "        print \"A solution is: %f\" % (solution)\n",
    "    else:\n",
    "        print \"Solution not found!\"\n",
    "\n",
    "if __name__ == '__main__':\n",
    "    application()"
   ]
  },
  {
   "cell_type": "markdown",
   "metadata": {},
   "source": [
    "### Exercise 6.2: See if the secant method fails  "
   ]
  },
  {
   "cell_type": "code",
   "execution_count": null,
   "metadata": {
    "collapsed": true
   },
   "outputs": [],
   "source": [
    "import sys\n",
    "from Newton_failure import f, dfdx, plot_line\n",
    "\n",
    "def secant_failure(f, x0, x1, eps):\n",
    "    f_x0 = f(x0)\n",
    "    f_x1 = f(x1)\n",
    "    iteration_counter = 0\n",
    "\n",
    "    while abs(f_x1) > eps and iteration_counter < 100:\n",
    "        try:\n",
    "            print 'Current x value: ', x1\n",
    "            denominator = float(f_x1 - f_x0)/(x1 - x0)\n",
    "            plot_line(f, x1, f_x1, denominator)\n",
    "            raw_input('...press enter to continue')\n",
    "            x = x1 - float(f_x1)/denominator\n",
    "        except ZeroDivisionError:\n",
    "            print \"Error! - denominator zero for x = \", x\n",
    "            sys.exit(1)     # Abort with error\n",
    "        x0 = x1;\n",
    "        x1 = x\n",
    "        f_x0 = f_x1;\n",
    "        f_x1 = f(x1)\n",
    "        iteration_counter += 1\n",
    "\n",
    "    # Here, either a solution is found, or too many iterations\n",
    "    if abs(f_x1) > eps:\n",
    "        iteration_counter = -1\n",
    "    return x, iteration_counter\n",
    "\n",
    "#x0 = 1.08;   x1 = 1.09\n",
    "#x0 = 1.09;   x1 = 1.1\n",
    "#x0 = 1.0;   x1 = 2.3\n",
    "x0 = 1.0;   x1 = 2.4\n",
    "error_limit = 1e-6\n",
    "\n",
    "solution, no_iterations = secant_failure(f, x0, x1, eps=1.0e-6)\n",
    "\n",
    "if no_iterations > 0:    # Solution found\n",
    "    print \"Number of function calls: %d\" % (2 + no_iterations)\n",
    "    print \"A solution is: %f\" % (solution)\n",
    "else:\n",
    "    print \"Solution not found!\""
   ]
  },
  {
   "cell_type": "markdown",
   "metadata": {},
   "source": [
    "### Exercise 6.3: Understand why the bisection method cannot fail"
   ]
  },
  {
   "cell_type": "code",
   "execution_count": null,
   "metadata": {
    "collapsed": true
   },
   "outputs": [],
   "source": [
    "from math import tanh\n",
    "\n",
    "def bisection_nonfailure(f, x_L, x_R, eps, return_x_list=False):\n",
    "    f_L = f(x_L)\n",
    "    if f_L*f(x_R) > 0:\n",
    "        print \"Error! Function dow not have opposite \\\n",
    "                  signs at interval endpoints!\"\n",
    "        sys.exit(1)\n",
    "    x_M = float(x_L + x_R)/2.0\n",
    "    f_M = f(x_M)\n",
    "    iteration_counter = 1\n",
    "    if return_x_list:\n",
    "        x_list = []\n",
    "\n",
    "    while abs(f_M) > eps:\n",
    "        if f_L*f_M > 0:   # i.e. same sign\n",
    "            x_L = x_M\n",
    "            f_L = f_M\n",
    "        else:\n",
    "            x_R = x_M\n",
    "        print 'interval: [%f, %f]' % (x_L, x_R) # print new interval\n",
    "        x_M = float(x_L + x_R)/2\n",
    "        f_M = f(x_M)\n",
    "        iteration_counter += 1\n",
    "        if return_x_list:\n",
    "            x_list, append(x_M)\n",
    "    if return_x_list:\n",
    "        return x_list, iteration_counter\n",
    "    else:\n",
    "        return x_M, iteration_counter\n",
    "\n",
    "def f(x):\n",
    "    return tanh(x)\n",
    "\n",
    "a = -5;  b = 3\n",
    "\n",
    "solution, no_iterations = bisection_nonfailure(f, a, b, eps=1.0e-6)\n",
    "\n",
    "print \"Number of function calls: %d\" % (1 + 2*no_iterations)\n",
    "print \"A solution is: %f\" % (solution)"
   ]
  },
  {
   "cell_type": "markdown",
   "metadata": {},
   "source": [
    "### Exercise 6.4: Combine the bisection method with Newton's method  "
   ]
  },
  {
   "cell_type": "code",
   "execution_count": null,
   "metadata": {
    "collapsed": true
   },
   "outputs": [],
   "source": [
    "from numpy import tanh\n",
    "from Newtons_method import Newton\n",
    "\n",
    "def bisection_Newton(f, dfdx, x_L, x_R, eps, s=0.1):\n",
    "    f_L = f(x_L)\n",
    "    if f_L*f(x_R) > 0:\n",
    "        print \"Error! Function does not have opposite \\\n",
    "                  signs at interval endpoints!\"\n",
    "        sys.exit(1)\n",
    "    x_M = float(x_L + x_R)/2.0\n",
    "    f_M = f(x_M)\n",
    "    iteration_counter = 1\n",
    "    interval_Newton = s*(x_R - x_L)    # Limit for swith to Newton\n",
    "\n",
    "    while (x_R - x_L) > interval_Newton:\n",
    "        if f_L*f_M > 0:   # i.e. same sign\n",
    "            x_L = x_M\n",
    "            f_L = f_M\n",
    "        else:\n",
    "            x_R = x_M\n",
    "        x_M = float(x_L + x_R)/2\n",
    "        f_M = f(x_M)\n",
    "        iteration_counter += 1\n",
    "    solution, no_iterations = Newton(f, dfdx, x_M, eps)\n",
    "    return solution, (iteration_counter + no_iterations)\n",
    "\n",
    "def f(x):\n",
    "    return tanh(x)\n",
    "\n",
    "def dfdx(x):\n",
    "    return 1 - tanh(x)**2\n",
    "\n",
    "eps = 1e-6\n",
    "a = -10;   b = 15\n",
    "\n",
    "solution, no_iterations = \\\n",
    "                     bisection_Newton(f, dfdx, a, b, eps)\n",
    "print \"A solution x = %f was reached in %d iterations\" % \\\n",
    "                                   (solution,no_iterations)"
   ]
  },
  {
   "cell_type": "markdown",
   "metadata": {},
   "source": [
    "### Exercise 6.5: Write a test function for Newton's method  "
   ]
  },
  {
   "cell_type": "code",
   "execution_count": null,
   "metadata": {
    "collapsed": true
   },
   "outputs": [],
   "source": [
    "from nonlinear_solvers import Newton\n",
    "\n",
    "def test_Newton():\n",
    "    # Construct test problem and run two iterations\n",
    "    import sympy as sp\n",
    "    x = sp.symbols('x')\n",
    "    f = sp.cos(x) + sp.sin(x)  # equation f(x)=0\n",
    "    dfdx = sp.diff(f, x)\n",
    "    x0 = 2                     # initial guess\n",
    "    # Run two iterations with Newton's method\n",
    "    x1 = x0 - f.subs(x, x0)/dfdx.subs(x, x0)\n",
    "    x_expected = [x1.evalf()]  # convert to float\n",
    "    x2 = x1 - f.subs(x, x1)/dfdx.subs(x, x1)\n",
    "    x_expected.append(x2.evalf())\n",
    "    f = sp.lambdify([x], f)\n",
    "    eps = f(x_expected[-1])  # this eps gives two iterations\n",
    "\n",
    "    dfdx = sp.lambdify([x], dfdx)\n",
    "    x_computed, it_counter = Newton(f, dfdx, x0, eps, True)\n",
    "    assert it_counter == 2\n",
    "    tol = 1E-15\n",
    "    assert abs(x_computed[0] - x_expected[0]) < tol\n",
    "    assert abs(x_computed[1] - x_expected[1]) < tol\n",
    "\n",
    "if __name__ == '__main__':\n",
    "    test_Newton()"
   ]
  },
  {
   "cell_type": "markdown",
   "metadata": {},
   "source": [
    "### Exercise 6.6: Solve nonlinear equation for a vibrating beam  "
   ]
  },
  {
   "cell_type": "code",
   "execution_count": null,
   "metadata": {
    "collapsed": true
   },
   "outputs": [],
   "source": [
    "from numpy import *\n",
    "from matplotlib.pyplot import *\n",
    "\n",
    "def f(beta):\n",
    "    return cosh(beta)*cos(beta) + 1\n",
    "\n",
    "def damped(beta):\n",
    "    \"\"\"Damp the amplitude of f. It grows like cosh, i.e. exp.\"\"\"\n",
    "    return exp(-beta)*f(beta)\n",
    "\n",
    "def plot_f():\n",
    "    beta = linspace(0, 20, 501)\n",
    "    #y = f(x)\n",
    "    y = damped(beta)\n",
    "    plot(beta, y, 'r', [beta[0], beta[-1]], [0, 0], 'b--')\n",
    "    grid('on')\n",
    "    xlabel(r'$\\beta$')\n",
    "    ylabel(r'$e^{-\\beta}(\\cosh\\beta\\cos\\beta +1)$')\n",
    "    savefig('tmp1.png'); savefig('tmp1.pdf')\n",
    "    show()\n",
    "\n",
    "plot_f()\n",
    "\n",
    "from nonlinear_solvers import bisection\n",
    "# Set up suitable intervals\n",
    "intervals = [[1, 3], [4, 6], [7, 9]]\n",
    "betas = []  # roots\n",
    "for beta_L, beta_R in intervals:\n",
    "    beta, it = bisection(f, beta_L, beta_R, eps=1E-6)\n",
    "    betas.append(beta)\n",
    "    print f(beta)\n",
    "print betas\n",
    "\n",
    "# Find corresponding frequencies\n",
    "\n",
    "def omega(beta, rho, A, E, I):\n",
    "    return sqrt(beta**4/(rho*A/(E*I)))\n",
    "\n",
    "rho = 7850  # kg/m^3\n",
    "E = 1.0E+11 # Pa\n",
    "b = 0.025   # m\n",
    "h = 0.008   # m\n",
    "A = b*h\n",
    "I = b*h**3/12\n",
    "\n",
    "for beta in betas:\n",
    "    print omega(beta, rho, A, E, I)"
   ]
  }
 ],
 "metadata": {
  "kernelspec": {
   "display_name": "Python 2",
   "language": "python",
   "name": "python2"
  },
  "language_info": {
   "codemirror_mode": {
    "name": "ipython",
    "version": 2
   },
   "file_extension": ".py",
   "mimetype": "text/x-python",
   "name": "python",
   "nbconvert_exporter": "python",
   "pygments_lexer": "ipython2",
   "version": "2.7.13"
  }
 },
 "nbformat": 4,
 "nbformat_minor": 1
}
