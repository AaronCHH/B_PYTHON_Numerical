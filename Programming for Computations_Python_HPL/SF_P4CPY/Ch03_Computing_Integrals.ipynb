{
 "cells": [
  {
   "cell_type": "markdown",
   "metadata": {
    "deletable": true,
    "editable": true
   },
   "source": [
    "# 3 Computing Integrals"
   ]
  },
  {
   "cell_type": "markdown",
   "metadata": {
    "deletable": true,
    "editable": true
   },
   "source": [
    "<div id=\"toc\"></div>"
   ]
  },
  {
   "cell_type": "code",
   "execution_count": 2,
   "metadata": {
    "collapsed": true,
    "deletable": true,
    "editable": true
   },
   "outputs": [],
   "source": [
    "import os, sys"
   ]
  },
  {
   "cell_type": "code",
   "execution_count": 5,
   "metadata": {
    "collapsed": false,
    "deletable": true,
    "editable": true
   },
   "outputs": [],
   "source": [
    "sys.path.append('./py')"
   ]
  },
  {
   "cell_type": "code",
   "execution_count": 6,
   "metadata": {
    "collapsed": false,
    "deletable": true,
    "editable": true
   },
   "outputs": [
    {
     "data": {
      "text/plain": [
       "['',\n",
       " 'C:\\\\Anaconda27\\\\python27.zip',\n",
       " 'C:\\\\Anaconda27\\\\DLLs',\n",
       " 'C:\\\\Anaconda27\\\\lib',\n",
       " 'C:\\\\Anaconda27\\\\lib\\\\plat-win',\n",
       " 'C:\\\\Anaconda27\\\\lib\\\\lib-tk',\n",
       " 'C:\\\\Anaconda27',\n",
       " 'C:\\\\Anaconda27\\\\lib\\\\site-packages',\n",
       " 'C:\\\\Anaconda27\\\\lib\\\\site-packages\\\\win32',\n",
       " 'C:\\\\Anaconda27\\\\lib\\\\site-packages\\\\win32\\\\lib',\n",
       " 'C:\\\\Anaconda27\\\\lib\\\\site-packages\\\\Pythonwin',\n",
       " 'C:\\\\Anaconda27\\\\lib\\\\site-packages\\\\setuptools-27.2.0-py2.7.egg',\n",
       " 'C:\\\\Anaconda27\\\\lib\\\\site-packages\\\\IPython\\\\extensions',\n",
       " 'C:\\\\Users\\\\AaronHsu\\\\.ipython',\n",
       " './py']"
      ]
     },
     "execution_count": 6,
     "metadata": {},
     "output_type": "execute_result"
    }
   ],
   "source": [
    "sys.path"
   ]
  },
  {
   "cell_type": "markdown",
   "metadata": {
    "deletable": true,
    "editable": true
   },
   "source": [
    "## 3.1 Basic Ideas of Numerical Integration"
   ]
  },
  {
   "cell_type": "markdown",
   "metadata": {
    "deletable": true,
    "editable": true
   },
   "source": [
    "## 3.2 The Composite Trapezoidal Rule"
   ]
  },
  {
   "cell_type": "markdown",
   "metadata": {
    "deletable": true,
    "editable": true
   },
   "source": [
    "### 3.2.1 The General Formula"
   ]
  },
  {
   "cell_type": "markdown",
   "metadata": {
    "deletable": true,
    "editable": true
   },
   "source": [
    "### 3.2.2 Implementation"
   ]
  },
  {
   "cell_type": "code",
   "execution_count": null,
   "metadata": {
    "collapsed": true,
    "deletable": true,
    "editable": true
   },
   "outputs": [],
   "source": [
    "# %load py/trapezoidal.py\n",
    "def trapezoidal(f, a, b, n):\n",
    "    h = float(b-a)/float(n)\n",
    "    result = 0.5*f(a) + 0.5*f(b)\n",
    "    for i in range(1, n):\n",
    "        result += f(a + i*h)\n",
    "    result *= h\n",
    "    return result\n",
    "\n",
    "def application():\n",
    "    from math import exp\n",
    "    v = lambda t: 3*(t**2)*exp(t**3)\n",
    "    n = input('n: ')\n",
    "    numerical = trapezoidal(v, 0, 1, n)\n",
    "\n",
    "    # Compare with exact result\n",
    "    V = lambda t: exp(t**3)\n",
    "    exact = V(1) - V(0)\n",
    "    error = exact - numerical\n",
    "    print('n=%d: %.16f, error: %g' % (n, numerical, error))\n",
    "\n",
    "if __name__ == '__main__':\n",
    "    application()\n"
   ]
  },
  {
   "cell_type": "code",
   "execution_count": null,
   "metadata": {
    "collapsed": false,
    "deletable": true,
    "editable": true,
    "scrolled": true
   },
   "outputs": [],
   "source": [
    "%run py/trapezoidal.py"
   ]
  },
  {
   "cell_type": "code",
   "execution_count": 6,
   "metadata": {
    "collapsed": false,
    "deletable": true,
    "editable": true,
    "scrolled": true
   },
   "outputs": [
    {
     "name": "stdout",
     "output_type": "stream",
     "text": [
      "n: 4\n",
      "n=4: 1.0669688595121429, error: 0.651313\n",
      "n=4: 0.4792075498280657, error: 1.23907\n",
      "n=4: 0.7630844434624198, error: 0.955197\n"
     ]
    }
   ],
   "source": [
    "from math import exp\n",
    "a = 0.0; b = 1.0\n",
    "n = int(input('n: ' ))\n",
    "dt = float(b - a)/n\n",
    "\n",
    "# Integral by the trapezoidal method\n",
    "numerical = 0.5*3*(a**2)*exp(a**3) + 0.5*3*(b**2)*exp(b**3)\n",
    "\n",
    "for i in range(1, n):\n",
    "    numerical += 3*((a + i*dt)**2)*exp((a + i*dt)**3)\n",
    "    numerical *= dt\n",
    "    exact_value = exp(1**3) - exp(0**3)\n",
    "    error = abs(exact_value - numerical)\n",
    "    rel_error = (error/exact_value)*100\n",
    "    print('n=%d: %.16f, error: %g' % (n, numerical, error))"
   ]
  },
  {
   "cell_type": "code",
   "execution_count": 9,
   "metadata": {
    "collapsed": false,
    "deletable": true,
    "editable": true,
    "scrolled": true
   },
   "outputs": [
    {
     "name": "stdout",
     "output_type": "stream",
     "text": [
      "n: 4\n",
      "n=4: 1.9227167504675762, error: 0.204435\n"
     ]
    }
   ],
   "source": [
    "from math import exp\n",
    "v = lambda t: 3*(t**2)*exp(t**3) # Function to be integrated\n",
    "a = 0.0; b = 1.0\n",
    "n = int(input('n: ' ))\n",
    "dt = float(b - a)/n\n",
    "\n",
    "# Integral by the trapezoidal method\n",
    "numerical = 0.5*v(a) + 0.5*v(b)\n",
    "for i in range(1, n):\n",
    "    numerical += v(a + i*dt)\n",
    "numerical *= dt\n",
    "\n",
    "F = lambda t: exp(t**3)\n",
    "exact_value = F(b) - F(a)\n",
    "error = abs(exact_value - numerical)\n",
    "rel_error = (error/exact_value)*100\n",
    "print('n=%d: %.16f, error: %g' % (n, numerical, error))"
   ]
  },
  {
   "cell_type": "code",
   "execution_count": null,
   "metadata": {
    "collapsed": false,
    "deletable": true,
    "editable": true,
    "scrolled": true
   },
   "outputs": [],
   "source": [
    "from trapezoidal import trapezoidal\n",
    "from math import exp\n",
    "trapezoidal(lambda x: exp(-x**2), -1, 1.1, 400)"
   ]
  },
  {
   "cell_type": "markdown",
   "metadata": {
    "deletable": true,
    "editable": true
   },
   "source": [
    "### 3.2.3 Making a Module"
   ]
  },
  {
   "cell_type": "markdown",
   "metadata": {
    "deletable": true,
    "editable": true
   },
   "source": [
    "### 3.2.4 Alternative Flat Special-Purpose Implementation"
   ]
  },
  {
   "cell_type": "markdown",
   "metadata": {
    "deletable": true,
    "editable": true
   },
   "source": [
    "## 3.3 The Composite Midpoint Method"
   ]
  },
  {
   "cell_type": "markdown",
   "metadata": {
    "deletable": true,
    "editable": true
   },
   "source": [
    "### 3.3.1 The General Formula"
   ]
  },
  {
   "cell_type": "markdown",
   "metadata": {
    "deletable": true,
    "editable": true
   },
   "source": [
    "### 3.3.2 Implementation"
   ]
  },
  {
   "cell_type": "code",
   "execution_count": null,
   "metadata": {
    "collapsed": true,
    "deletable": true,
    "editable": true
   },
   "outputs": [],
   "source": [
    "def midpoint(f, a, b, n):\n",
    "    h = float(b-a)/n\n",
    "    result = 0\n",
    "    for i in range(n):\n",
    "        result += f((a + h/2.0) + i*h)\n",
    "    result *= h\n",
    "    return result"
   ]
  },
  {
   "cell_type": "markdown",
   "metadata": {
    "deletable": true,
    "editable": true
   },
   "source": [
    "### 3.3.3 Comparing the Trapezoidal and the Midpoint Methods"
   ]
  },
  {
   "cell_type": "code",
   "execution_count": 2,
   "metadata": {
    "collapsed": true,
    "deletable": true,
    "editable": true
   },
   "outputs": [],
   "source": [
    "import sys\n",
    "sys.path.append(\"./py\")"
   ]
  },
  {
   "cell_type": "code",
   "execution_count": 3,
   "metadata": {
    "collapsed": false,
    "deletable": true,
    "editable": true
   },
   "outputs": [
    {
     "name": "stdout",
     "output_type": "stream",
     "text": [
      "    n        midpoint          trapezoidal\n",
      "      2 0.8842000076332692 0.8770372606158094\n",
      "      4 0.8827889485397279 0.8806186341245393\n",
      "      8 0.8822686991994210 0.8817037913321336\n",
      "     16 0.8821288703366458 0.8819862452657772\n",
      "     32 0.8820933014203766 0.8820575578012112\n",
      "     64 0.8820843709743319 0.8820754296107942\n",
      "    128 0.8820821359746071 0.8820799002925637\n",
      "    256 0.8820815770754198 0.8820810181335849\n",
      "    512 0.8820814373412922 0.8820812976045025\n",
      "   1024 0.8820814024071774 0.8820813674728968\n",
      "   2048 0.8820813936736116 0.8820813849400392\n",
      "   4096 0.8820813914902204 0.8820813893068272\n",
      "   8192 0.8820813909443684 0.8820813903985197\n",
      "  16384 0.8820813908079066 0.8820813906714446\n",
      "  32768 0.8820813907737911 0.8820813907396778\n",
      "  65536 0.8820813907652575 0.8820813907567422\n",
      " 131072 0.8820813907631487 0.8820813907610036\n",
      " 262144 0.8820813907625702 0.8820813907620528\n",
      " 524288 0.8820813907624605 0.8820813907623183\n",
      "1048576 0.8820813907624268 0.8820813907623890\n"
     ]
    }
   ],
   "source": [
    "# %load py/compare_integration_methods.py\n",
    "from trapezoidal import trapezoidal\n",
    "from midpoint import midpoint\n",
    "from math import exp\n",
    "\n",
    "g = lambda y: exp(-y**2)\n",
    "a = 0\n",
    "b = 2\n",
    "print '    n        midpoint          trapezoidal'\n",
    "for i in range(1, 21):\n",
    "    n = 2**i\n",
    "    m = midpoint(g, a, b, n)\n",
    "    t = trapezoidal(g, a, b, n)\n",
    "    print '%7d %.16f %.16f' % (n, m, t)\n"
   ]
  },
  {
   "cell_type": "markdown",
   "metadata": {
    "deletable": true,
    "editable": true
   },
   "source": [
    "## 3.4 Testing"
   ]
  },
  {
   "cell_type": "markdown",
   "metadata": {
    "deletable": true,
    "editable": true
   },
   "source": [
    "### 3.4.1 Problems with Brief Testing Procedures"
   ]
  },
  {
   "cell_type": "markdown",
   "metadata": {
    "deletable": true,
    "editable": true
   },
   "source": [
    "### 3.4.2 Proper Test Procedures"
   ]
  },
  {
   "cell_type": "markdown",
   "metadata": {
    "deletable": true,
    "editable": true
   },
   "source": [
    "### 3.4.3 Finite Precision of Floating-Point Numbers"
   ]
  },
  {
   "cell_type": "code",
   "execution_count": 4,
   "metadata": {
    "collapsed": false,
    "deletable": true,
    "editable": true
   },
   "outputs": [
    {
     "data": {
      "text/plain": [
       "True"
      ]
     },
     "execution_count": 4,
     "metadata": {},
     "output_type": "execute_result"
    }
   ],
   "source": [
    "a = 1; \n",
    "b = 2; \n",
    "expected = 3\n",
    "a + b == expected"
   ]
  },
  {
   "cell_type": "code",
   "execution_count": 5,
   "metadata": {
    "collapsed": false,
    "deletable": true,
    "editable": true
   },
   "outputs": [
    {
     "data": {
      "text/plain": [
       "False"
      ]
     },
     "execution_count": 5,
     "metadata": {},
     "output_type": "execute_result"
    }
   ],
   "source": [
    "a = 0.1; \n",
    "b = 0.2; \n",
    "expected = 0.3\n",
    "a + b == expected"
   ]
  },
  {
   "cell_type": "code",
   "execution_count": 6,
   "metadata": {
    "collapsed": false,
    "deletable": true,
    "editable": true
   },
   "outputs": [
    {
     "name": "stdout",
     "output_type": "stream",
     "text": [
      "0.10000000000000001\n",
      "0.20000000000000001\n",
      "0.30000000000000004\n",
      "0.29999999999999999\n"
     ]
    }
   ],
   "source": [
    "print '%.17f\\n%.17f\\n%.17f\\n%.17f' % (0.1, 0.2, 0.1 + 0.2, 0.3)"
   ]
  },
  {
   "cell_type": "code",
   "execution_count": 7,
   "metadata": {
    "collapsed": false,
    "deletable": true,
    "editable": true
   },
   "outputs": [
    {
     "data": {
      "text/plain": [
       "True"
      ]
     },
     "execution_count": 7,
     "metadata": {},
     "output_type": "execute_result"
    }
   ],
   "source": [
    "a = 0.1; \n",
    "b = 0.2; \n",
    "expected = 0.3\n",
    "computed = a + b\n",
    "diff = abs(expected - computed)\n",
    "tol = 1E-15\n",
    "diff < tol"
   ]
  },
  {
   "cell_type": "markdown",
   "metadata": {
    "deletable": true,
    "editable": true
   },
   "source": [
    "### 3.4.4 Constructing Unit Tests and Writing Test Functions"
   ]
  },
  {
   "cell_type": "markdown",
   "metadata": {
    "deletable": true,
    "editable": true
   },
   "source": [
    "Python has several frameworks for automatically running and checking a potentially very large number of tests for parts of your software by one command.  \n",
    "This is an extremely useful feature during program development: whenever you have done some changes to one or more files, launch the test command and make sure nothing is broken because of your edits.  \n",
    "  \n",
    "The test frameworks nose and py.test are particularly attractive as they are very easy to use.  \n",
    "Tests are placed in special test functions that the frameworks can recognize and run for you.  \n",
    "The requirements to a test function are simple:   the name must start with test_  \n",
    "  \n",
    "* the test function cannot have any arguments  \n",
    "* the tests inside test functions must be boolean expressions  \n",
    "* a boolean expression b must be tested with assert b, msg, where msg is an optional object (string or number) to be written out when b is false  \n"
   ]
  },
  {
   "cell_type": "code",
   "execution_count": null,
   "metadata": {
    "collapsed": true,
    "deletable": true,
    "editable": true
   },
   "outputs": [],
   "source": [
    "def add(a, b):\n",
    "    return a + b"
   ]
  },
  {
   "cell_type": "code",
   "execution_count": null,
   "metadata": {
    "collapsed": true,
    "deletable": true,
    "editable": true
   },
   "outputs": [],
   "source": [
    "def test_add():\n",
    "    expected = 1 + 1\n",
    "    computed = add(1, 1)\n",
    "    assert computed == expected, '1+1=%g' % computed"
   ]
  },
  {
   "cell_type": "code",
   "execution_count": null,
   "metadata": {
    "collapsed": true,
    "deletable": true,
    "editable": true
   },
   "outputs": [],
   "source": [
    "def test_add():\n",
    "    expected = 0.3\n",
    "    computed = add(0.1, 0.2)\n",
    "    tol = 1E-14\n",
    "    diff = abs(expected - computed)\n",
    "    assert diff < tol, 'diff=%g' % diff"
   ]
  },
  {
   "cell_type": "code",
   "execution_count": 9,
   "metadata": {
    "collapsed": true,
    "deletable": true,
    "editable": true
   },
   "outputs": [],
   "source": [
    "# %load py/test_trapezoidal.py\n",
    "from trapezoidal import trapezoidal\n",
    "\n",
    "def test_trapezoidal_one_exact_result():\n",
    "    \"\"\"Compare one hand-computed result.\"\"\"\n",
    "    from math import exp\n",
    "    v = lambda t: 3*(t**2)*exp(t**3)\n",
    "    n = 2\n",
    "    numerical = trapezoidal(v, 0, 1, n)\n",
    "    exact = 2.463642041244344\n",
    "    err = abs(exact - numerical)\n",
    "    tol = 1E-14\n",
    "    success = err < tol\n",
    "    msg = 'error=%g > tol=%g' % (err, tol)\n",
    "    assert success, msg\n",
    "\n",
    "def test_trapezoidal_linear():\n",
    "    \"\"\"Check that linear functions are integrated exactly.\"\"\"\n",
    "    f = lambda x: 6*x - 4\n",
    "    F = lambda x: 3*x**2 - 4*x  # Anti-derivative\n",
    "    a = 1.2; b = 4.4\n",
    "    exact = F(b) - F(a)\n",
    "    tol = 1E-14\n",
    "    for n in 2, 20, 21:\n",
    "        numerical = trapezoidal(f, a, b, n)\n",
    "        err = abs(exact - numerical)\n",
    "        success = err < tol\n",
    "        msg = 'n=%d, err=%g' % (n, err)\n",
    "        assert success, msg\n",
    "\n",
    "def convergence_rates(f, F, a, b, num_experiments=14):\n",
    "    from math import log\n",
    "    from numpy import zeros\n",
    "    exact = F(b) - F(a)\n",
    "    n = zeros(num_experiments, dtype=int)\n",
    "    E = zeros(num_experiments)\n",
    "    r = zeros(num_experiments-1)\n",
    "    for i in range(num_experiments):\n",
    "        n[i] = 2**(i+1)\n",
    "        numerical = trapezoidal(f, a, b, n[i])\n",
    "        E[i] = abs(exact - numerical)\n",
    "        if i > 0:\n",
    "            r_im1 = log(E[i]/E[i-1])/log(float(n[i])/n[i-1])\n",
    "            r[i-1] = float('%.2f' % r_im1)  # Truncate to two decimals\n",
    "    return r\n",
    "\n",
    "def test_trapezoidal_conv_rate():\n",
    "    \"\"\"Check empirical convergence rates against the expected -2.\"\"\"\n",
    "    from math import exp\n",
    "    v = lambda t: 3*(t**2)*exp(t**3)\n",
    "    V = lambda t: exp(t**3)\n",
    "    a = 1.1; b = 1.9\n",
    "    r = convergence_rates(v, V, a, b, 14)\n",
    "    print r\n",
    "    tol = 0.01\n",
    "    assert (abs(r[-1]) - 2) < tol, r[-4:]\n"
   ]
  },
  {
   "cell_type": "markdown",
   "metadata": {
    "deletable": true,
    "editable": true
   },
   "source": [
    "## 3.5 Vectorization"
   ]
  },
  {
   "cell_type": "code",
   "execution_count": 10,
   "metadata": {
    "collapsed": true,
    "deletable": true,
    "editable": true
   },
   "outputs": [],
   "source": [
    "def f(x):\n",
    "    return exp(-x)*sin(x) + 5*x\n",
    "\n",
    "from numpy import exp, sin, linspace\n",
    "x = linspace(0, 4, 101) # coordinates from 100 intervals on [0, 4]\n",
    "y = f(x) # all points evaluated at once"
   ]
  },
  {
   "cell_type": "code",
   "execution_count": null,
   "metadata": {
    "collapsed": true,
    "deletable": true,
    "editable": true
   },
   "outputs": [],
   "source": [
    "from numpy import linspace, sum\n",
    "def midpoint(f, a, b, n):\n",
    "    h = float(b-a)/n\n",
    "    x = linspace(a + h/2, b - h/2, n)\n",
    "    return h*sum(f(x))"
   ]
  },
  {
   "cell_type": "code",
   "execution_count": null,
   "metadata": {
    "collapsed": true,
    "deletable": true,
    "editable": true
   },
   "outputs": [],
   "source": [
    "# %load py/integration_methods_vec.py\n",
    "from numpy import linspace, sum\n",
    "\n",
    "def midpoint(f, a, b, n):\n",
    "    h = float(b-a)/n\n",
    "    x = linspace(a + h/2, b - h/2, n)\n",
    "    return h*sum(f(x))\n",
    "\n",
    "def trapezoidal(f, a, b, n):\n",
    "    h = float(b-a)/n\n",
    "    x = linspace(a, b, n+1)\n",
    "    s = sum(f(x)) - 0.5*f(a) - 0.5*f(b)\n",
    "    return h*s\n"
   ]
  },
  {
   "cell_type": "code",
   "execution_count": 13,
   "metadata": {
    "collapsed": false,
    "deletable": true,
    "editable": true
   },
   "outputs": [
    {
     "data": {
      "text/plain": [
       "1.7014827690091872"
      ]
     },
     "execution_count": 13,
     "metadata": {},
     "output_type": "execute_result"
    }
   ],
   "source": [
    "from integration_methods_vec import midpoint\n",
    "from numpy import exp\n",
    "\n",
    "v = lambda t: 3*t**2*exp(t**3)\n",
    "midpoint(v, 0, 1, 10)"
   ]
  },
  {
   "cell_type": "code",
   "execution_count": null,
   "metadata": {
    "collapsed": true,
    "deletable": true,
    "editable": true
   },
   "outputs": [],
   "source": [
    "def trapezoidal(f, a, b, n):\n",
    "    h = float(b-a)/n\n",
    "    x = linspace(a, b, n+1)\n",
    "    s = sum(f(x)) - 0.5*f(a) - 0.5*f(b)\n",
    "return h*s"
   ]
  },
  {
   "cell_type": "markdown",
   "metadata": {
    "deletable": true,
    "editable": true
   },
   "source": [
    "## 3.6 Measuring Computational Speed"
   ]
  },
  {
   "cell_type": "code",
   "execution_count": 14,
   "metadata": {
    "collapsed": true,
    "deletable": true,
    "editable": true
   },
   "outputs": [],
   "source": [
    "from integration_methods_vec import midpoint as midpoint_vec\n",
    "from midpoint import midpoint\n",
    "from numpy import exp\n",
    "v = lambda t: 3*t**2*exp(t**3)"
   ]
  },
  {
   "cell_type": "code",
   "execution_count": 15,
   "metadata": {
    "collapsed": false,
    "deletable": true,
    "editable": true
   },
   "outputs": [
    {
     "name": "stdout",
     "output_type": "stream",
     "text": [
      "10 loops, best of 3: 100 ms per loop\n"
     ]
    }
   ],
   "source": [
    "%timeit midpoint_vec(v, 0, 1, 1000000)"
   ]
  },
  {
   "cell_type": "code",
   "execution_count": 16,
   "metadata": {
    "collapsed": false,
    "deletable": true,
    "editable": true
   },
   "outputs": [
    {
     "name": "stdout",
     "output_type": "stream",
     "text": [
      "1 loop, best of 3: 1.47 s per loop\n"
     ]
    }
   ],
   "source": [
    "%timeit midpoint(v, 0, 1, 1000000)"
   ]
  },
  {
   "cell_type": "code",
   "execution_count": 17,
   "metadata": {
    "collapsed": false,
    "deletable": true,
    "editable": true
   },
   "outputs": [
    {
     "data": {
      "text/plain": [
       "21.556728232189972"
      ]
     },
     "execution_count": 17,
     "metadata": {},
     "output_type": "execute_result"
    }
   ],
   "source": [
    "8.17/(379*0.001) # efficiency f"
   ]
  },
  {
   "cell_type": "markdown",
   "metadata": {
    "deletable": true,
    "editable": true
   },
   "source": [
    "## 3.7 Double and Triple Integrals"
   ]
  },
  {
   "cell_type": "markdown",
   "metadata": {
    "deletable": true,
    "editable": true
   },
   "source": [
    "### 3.7.1 The Midpoint Rule for a Double Integral"
   ]
  },
  {
   "cell_type": "code",
   "execution_count": null,
   "metadata": {
    "collapsed": true,
    "deletable": true,
    "editable": true
   },
   "outputs": [],
   "source": [
    "def midpoint_double1(f, a, b, c, d, nx, ny):\n",
    "    hx = (b - a)/float(nx)\n",
    "    hy = (d - c)/float(ny)\n",
    "    I = 0\n",
    "    for i in range(nx):\n",
    "        for j in range(ny):\n",
    "            xi = a + hx/2 + i*hx\n",
    "            yj = c + hy/2 + j *hy\n",
    "            I += hx*hy*f(xi, yj )\n",
    "    return I"
   ]
  },
  {
   "cell_type": "code",
   "execution_count": 18,
   "metadata": {
    "collapsed": false,
    "deletable": true,
    "editable": true
   },
   "outputs": [
    {
     "data": {
      "text/plain": [
       "9.000000000000005"
      ]
     },
     "execution_count": 18,
     "metadata": {},
     "output_type": "execute_result"
    }
   ],
   "source": [
    "from midpoint_double import midpoint_double1\n",
    "\n",
    "def f(x, y):\n",
    "    return 2*x + y\n",
    "\n",
    "midpoint_double1(f, 0, 2, 2, 3, 5, 5)"
   ]
  },
  {
   "cell_type": "code",
   "execution_count": null,
   "metadata": {
    "collapsed": true,
    "deletable": true,
    "editable": true
   },
   "outputs": [],
   "source": [
    "def midpoint(f, a, b, n):\n",
    "    h = float(b-a)/n\n",
    "    result = 0\n",
    "    for i in range(n):\n",
    "        result += f((a + h/2.0) + i*h)\n",
    "    result *= h\n",
    "    return result"
   ]
  },
  {
   "cell_type": "code",
   "execution_count": 19,
   "metadata": {
    "collapsed": true,
    "deletable": true,
    "editable": true
   },
   "outputs": [],
   "source": [
    "def midpoint_double2(f, a, b, c, d, nx, ny):\n",
    "    def g(x):\n",
    "        return midpoint(lambda y: f(x, y), c, d, ny)\n",
    "    return midpoint(g, a, b, nx)"
   ]
  },
  {
   "cell_type": "code",
   "execution_count": 20,
   "metadata": {
    "collapsed": true,
    "deletable": true,
    "editable": true
   },
   "outputs": [],
   "source": [
    "def test_midpoint_double():\n",
    "    \"\"\"Test that a linear function is integrated exactly.\"\"\"\n",
    "    def f(x, y):\n",
    "        return 2*x + y\n",
    "    \n",
    "    a = 0; b = 2; c = 2; d = 3\n",
    "    import sympy\n",
    "    x, y = sympy. symbols('x y')\n",
    "    I_expected = sympy. integrate(f(x, y), (x, a, b), (y, c, d))\n",
    "    # Test three cases: nx < ny, nx = ny, nx > ny\n",
    "    for nx, ny in (3, 5), (4, 4), (5, 3):\n",
    "        I_computed1 = midpoint_double1(f, a, b, c, d, nx, ny)\n",
    "        I_computed2 = midpoint_double2(f, a, b, c, d, nx, ny)\n",
    "        tol = 1E-14\n",
    "        #print I_expected, I_computed1, I_computed2\n",
    "        assert abs(I_computed1 - I_expected) < tol\n",
    "        assert abs(I_computed2 - I_expected) < tol"
   ]
  },
  {
   "cell_type": "markdown",
   "metadata": {
    "deletable": true,
    "editable": true
   },
   "source": [
    "### 3.7.2 The Midpoint Rule for a Triple Integral"
   ]
  },
  {
   "cell_type": "code",
   "execution_count": null,
   "metadata": {
    "collapsed": true,
    "deletable": true,
    "editable": true
   },
   "outputs": [],
   "source": [
    "# %load py/midpoint_triple.py\n",
    "def midpoint_triple1(g, a, b, c, d, e, f, nx, ny, nz):\n",
    "    hx = (b - a)/float(nx)\n",
    "    hy = (d - c)/float(ny)\n",
    "    hz = (f - e)/float(nz)\n",
    "    I = 0\n",
    "    for i in range(nx):\n",
    "        for j in range(ny):\n",
    "            for k in range(nz):\n",
    "                xi = a + hx/2 + i*hx\n",
    "                yj = c + hy/2 + j*hy\n",
    "                zk = e + hz/2 + k*hz\n",
    "                I += hx*hy*hz*g(xi, yj, zk)\n",
    "    return I\n",
    "\n",
    "def midpoint(f, a, b, n):\n",
    "    h = float(b-a)/n\n",
    "    result = 0\n",
    "    for i in range(n):\n",
    "        result += f((a + h/2.0) + i*h)\n",
    "    result *= h\n",
    "    return result\n",
    "\n",
    "def midpoint_triple2(g, a, b, c, d, e, f, nx, ny, nz):\n",
    "    def p(x, y):\n",
    "        return midpoint(lambda z: g(x, y, z), e, f, nz)\n",
    "\n",
    "    def q(x):\n",
    "        return midpoint(lambda y: p(x, y), c, d, ny)\n",
    "\n",
    "    return midpoint(q, a, b, nx)\n",
    "\n",
    "def test_midpoint_triple():\n",
    "    \"\"\"Test that a linear function is integrated exactly.\"\"\"\n",
    "    def g(x, y, z):\n",
    "        return 2*x + y - 4*z\n",
    "\n",
    "    a = 0;  b = 2;  c = 2;  d = 3;  e = -1;  f = 2\n",
    "    import sympy\n",
    "    x, y, z = sympy.symbols('x y z')\n",
    "    I_expected = sympy.integrate(\n",
    "        g(x, y, z), (x, a, b), (y, c, d), (z, e, f))\n",
    "    for nx, ny, nz in (3, 5, 2), (4, 4, 4), (5, 3, 6):\n",
    "        I_computed1 = midpoint_triple1(\n",
    "            g, a, b, c, d, e, f, nx, ny, nz)\n",
    "        I_computed2 = midpoint_triple2(\n",
    "            g, a, b, c, d, e, f, nx, ny, nz)\n",
    "        tol = 1E-14\n",
    "        print I_expected, I_computed1, I_computed2\n",
    "        assert abs(I_computed1 - I_expected) < tol\n",
    "        assert abs(I_computed2 - I_expected) < tol\n",
    "\n",
    "if __name__ == '__main__':\n",
    "    test_midpoint_triple()\n"
   ]
  },
  {
   "cell_type": "markdown",
   "metadata": {
    "deletable": true,
    "editable": true
   },
   "source": [
    "### 3.7.3 Monte Carlo Integration for Complex-Shaped Domains"
   ]
  },
  {
   "cell_type": "code",
   "execution_count": null,
   "metadata": {
    "collapsed": true,
    "deletable": true,
    "editable": true
   },
   "outputs": [],
   "source": [
    "# %load py/MC_double.py\n",
    "import numpy as np\n",
    "\n",
    "def MonteCarlo_double(f, g, x0, x1, y0, y1, n):\n",
    "    \"\"\"\n",
    "    Monte Carlo integration of f over a domain g>=0, embedded\n",
    "    in a rectangle [x0,x1]x[y0,y1]. n^2 is the number of\n",
    "    random points.\n",
    "    \"\"\"\n",
    "    # Draw n**2 random points in the rectangle\n",
    "    x = np.random.uniform(x0, x1, n)\n",
    "    y = np.random.uniform(y0, y1, n)\n",
    "    # Compute sum of f values inside the integration domain\n",
    "    f_mean = 0\n",
    "    num_inside = 0   # number of x,y points inside domain (g>=0)\n",
    "    for i in range(len(x)):\n",
    "        for j in range(len(y)):\n",
    "            if g(x[i], y[j]) >= 0:\n",
    "                num_inside += 1\n",
    "                f_mean += f(x[i], y[j])\n",
    "    f_mean = f_mean/float(num_inside)\n",
    "    area = num_inside/float(n**2)*(x1 - x0)*(y1 - y0)\n",
    "    return area*f_mean\n",
    "\n",
    "def test_MonteCarlo_double_rectangle_area():\n",
    "    \"\"\"Check the area of a rectangle.\"\"\"\n",
    "    def g(x, y):\n",
    "        return (1 if (0 <= x <= 2 and 3 <= y <= 4.5) else -1)\n",
    "\n",
    "    x0 = 0;  x1 = 3;  y0 = 2;  y1 = 5  # embedded rectangle\n",
    "    n = 1000\n",
    "    np.random.seed(8)      # must fix the seed!\n",
    "    I_expected = 3.121092  # computed with this seed\n",
    "    I_computed = MonteCarlo_double(\n",
    "        lambda x, y: 1, g, x0, x1, y0, y1, n)\n",
    "    assert abs(I_expected - I_computed) < 1E-14\n",
    "\n",
    "def test_MonteCarlo_double_circle_r():\n",
    "    \"\"\"Check the integral of r over a circle with radius 2.\"\"\"\n",
    "    def g(x, y):\n",
    "        xc, yc = 0, 0  # center\n",
    "        R = 2          # radius\n",
    "        return  R**2 - ((x-xc)**2 + (y-yc)**2)\n",
    "\n",
    "    # Exact: integral of r*r*dr over circle with radius R becomes\n",
    "    # 2*pi*1/3*R**3\n",
    "    import sympy\n",
    "    r = sympy.symbols('r')\n",
    "    I_exact = sympy.integrate(2*sympy.pi*r*r, (r, 0, 2))\n",
    "    print 'Exact integral:', I_exact.evalf()\n",
    "    x0 = -2;  x1 = 2;  y0 = -2;  y1 = 2\n",
    "    n = 1000\n",
    "    np.random.seed(6)\n",
    "    I_expected = 16.7970837117376384  # Computed with this seed\n",
    "    I_computed = MonteCarlo_double(\n",
    "        lambda x, y: np.sqrt(x**2 + y**2),\n",
    "        g, x0, x1, y0, y1, n)\n",
    "    print 'MC approximation %d samples): %.16f' % (n**2, I_computed)\n",
    "    assert abs(I_expected - I_computed) < 1E-15\n",
    "\n",
    "if __name__ == '__main__':\n",
    "    test_MonteCarlo_double_rectangle_area()\n",
    "    test_MonteCarlo_double_circle_r()\n"
   ]
  },
  {
   "cell_type": "code",
   "execution_count": 23,
   "metadata": {
    "collapsed": true,
    "deletable": true,
    "editable": true
   },
   "outputs": [],
   "source": [
    "from MC_double import MonteCarlo_double\n",
    "def g(x, y):\n",
    "    return (1 if (0 <= x <= 2 and 3 <= y <= 4.5) else -1)"
   ]
  },
  {
   "cell_type": "code",
   "execution_count": 24,
   "metadata": {
    "collapsed": false,
    "deletable": true,
    "editable": true
   },
   "outputs": [
    {
     "data": {
      "text/plain": [
       "3.0294"
      ]
     },
     "execution_count": 24,
     "metadata": {},
     "output_type": "execute_result"
    }
   ],
   "source": [
    "MonteCarlo_double(lambda x, y: 1, g, 0, 3, 2, 5, 100)"
   ]
  },
  {
   "cell_type": "code",
   "execution_count": 25,
   "metadata": {
    "collapsed": false,
    "deletable": true,
    "editable": true
   },
   "outputs": [
    {
     "data": {
      "text/plain": [
       "3.0723840000000004"
      ]
     },
     "execution_count": 25,
     "metadata": {},
     "output_type": "execute_result"
    }
   ],
   "source": [
    "MonteCarlo_double(lambda x, y: 1, g, 0, 3, 2, 5, 1000)"
   ]
  },
  {
   "cell_type": "code",
   "execution_count": 26,
   "metadata": {
    "collapsed": false,
    "deletable": true,
    "editable": true
   },
   "outputs": [
    {
     "data": {
      "text/plain": [
       "3.0458879999999997"
      ]
     },
     "execution_count": 26,
     "metadata": {},
     "output_type": "execute_result"
    }
   ],
   "source": [
    "MonteCarlo_double(lambda x, y: 1, g, 0, 3, 2, 5, 1000)"
   ]
  },
  {
   "cell_type": "code",
   "execution_count": 27,
   "metadata": {
    "collapsed": false,
    "deletable": true,
    "editable": true
   },
   "outputs": [
    {
     "data": {
      "text/plain": [
       "3.0836159999999997"
      ]
     },
     "execution_count": 27,
     "metadata": {},
     "output_type": "execute_result"
    }
   ],
   "source": [
    "MonteCarlo_double(lambda x, y: 1, g, 0, 3, 2, 5, 2000)"
   ]
  },
  {
   "cell_type": "code",
   "execution_count": 28,
   "metadata": {
    "collapsed": false,
    "deletable": true,
    "editable": true
   },
   "outputs": [
    {
     "data": {
      "text/plain": [
       "2.8358055"
      ]
     },
     "execution_count": 28,
     "metadata": {},
     "output_type": "execute_result"
    }
   ],
   "source": [
    "MonteCarlo_double(lambda x, y: 1, g, 0, 3, 2, 5, 2000)"
   ]
  },
  {
   "cell_type": "code",
   "execution_count": 29,
   "metadata": {
    "collapsed": false,
    "deletable": true,
    "editable": true
   },
   "outputs": [
    {
     "data": {
      "text/plain": [
       "2.89208736"
      ]
     },
     "execution_count": 29,
     "metadata": {},
     "output_type": "execute_result"
    }
   ],
   "source": [
    "MonteCarlo_double(lambda x, y: 1, g, 0, 3, 2, 5, 5000)"
   ]
  },
  {
   "cell_type": "markdown",
   "metadata": {
    "deletable": true,
    "editable": true
   },
   "source": [
    "## 3.8 Exercises"
   ]
  },
  {
   "cell_type": "markdown",
   "metadata": {
    "deletable": true,
    "editable": true
   },
   "source": [
    "### Exercise 3.1: Hand calculations for the trapezoidal method  "
   ]
  },
  {
   "cell_type": "code",
   "execution_count": 8,
   "metadata": {
    "collapsed": false,
    "deletable": true,
    "editable": true
   },
   "outputs": [],
   "source": [
    "from trapezoidal import trapezoidal\n",
    "\n",
    "def test_trapezoidal():\n",
    "    def f(x):\n",
    "        return 2*x**3\n",
    "    a = 1;  b = 3\n",
    "    n = 2\n",
    "    numerical = trapezoidal(f, a, b, n)\n",
    "    hand = 44.0\n",
    "    error = abs(numerical - hand)\n",
    "    tol = 1E-14\n",
    "    assert error < tol, error\n",
    "\n",
    "test_trapezoidal()"
   ]
  },
  {
   "cell_type": "markdown",
   "metadata": {
    "deletable": true,
    "editable": true
   },
   "source": [
    "### Exercise 3.2: Hand calculations for the midpoint method  "
   ]
  },
  {
   "cell_type": "code",
   "execution_count": 9,
   "metadata": {
    "collapsed": true,
    "deletable": true,
    "editable": true
   },
   "outputs": [],
   "source": [
    "from midpoint import midpoint\n",
    "\n",
    "def test_midpoint():\n",
    "    def f(x):\n",
    "        return 2*x**3\n",
    "    a = 1;  b = 3;\n",
    "    n = 2\n",
    "    numerical = midpoint(f, a, b, n)\n",
    "    hand = 38.0\n",
    "    error = abs(numerical - hand)\n",
    "    tol = 1E-14\n",
    "    assert error < tol, error\n",
    "\n",
    "test_midpoint()"
   ]
  },
  {
   "cell_type": "markdown",
   "metadata": {
    "deletable": true,
    "editable": true
   },
   "source": [
    "### Exercise 3.3: Compute a simple integral  "
   ]
  },
  {
   "cell_type": "code",
   "execution_count": 10,
   "metadata": {
    "collapsed": false,
    "deletable": true,
    "editable": true
   },
   "outputs": [
    {
     "name": "stdout",
     "output_type": "stream",
     "text": [
      "For n = 100, we get:\n",
      "Numerical trapezoid: 53.3344 , Error: 0.00106667\n",
      "Numerical midpoint: 53.3328 , Error: 0.000533333\n"
     ]
    }
   ],
   "source": [
    "from trapezoidal import trapezoidal\n",
    "from midpoint import midpoint\n",
    "\n",
    "def f(x):\n",
    "    return x*(x-1)\n",
    "\n",
    "a = 2;  b = 6;\n",
    "n = 100\n",
    "\n",
    "numerical_trap = trapezoidal(f, a, b, n)\n",
    "numerical_mid  = midpoint(f, a, b, n)\n",
    "\n",
    "# Compute exact integral by sympy\n",
    "import sympy as sp\n",
    "x = sp.symbols('x')\n",
    "F = sp.integrate(f(x))\n",
    "exact = F.subs(x, b) - F.subs(x, a)\n",
    "exact = exact.evalf()\n",
    "\n",
    "error_trap = abs(numerical_trap - exact)\n",
    "error_mid  = abs(numerical_mid - exact)\n",
    "\n",
    "print 'For n = %d, we get:' % (n)\n",
    "print 'Numerical trapezoid: %g , Error: %g' % \\\n",
    "                                 (numerical_trap,error_trap)\n",
    "print 'Numerical midpoint: %g , Error: %g' % \\\n",
    "                                 (numerical_mid,error_mid)"
   ]
  },
  {
   "cell_type": "markdown",
   "metadata": {
    "deletable": true,
    "editable": true
   },
   "source": [
    "### Exercise 3.4: Hand-calculations with sine integrals  "
   ]
  },
  {
   "cell_type": "code",
   "execution_count": 15,
   "metadata": {
    "collapsed": true,
    "deletable": true,
    "editable": true
   },
   "outputs": [],
   "source": [
    "from trapezoidal import trapezoidal\n",
    "\n",
    "def test_trapezoidal_linear_scale():\n",
    "    \"\"\"Check that linear functions are integrated exactly\"\"\"\n",
    "    f = lambda x: 6E8*x - 4E6\n",
    "    F = lambda x: 3E8*x**2 - 4E6*x  # Anti-derivative\n",
    "    #a = 1.2;  b = 4.4\n",
    "    a = 1.2/6E8;  b = 4.4/6E8       # Scale interval down\n",
    "    exact = F(b) - F(a)\n",
    "    tol = 1E-14\n",
    "    for n in 2, 20, 21:\n",
    "        numerical = trapezoidal(f, a, b, n)\n",
    "        err = abs(exact - numerical)\n",
    "        msg = 'n = %d, err = %g' % (n, err)\n",
    "        assert err < tol, msg\n",
    "        print msg"
   ]
  },
  {
   "cell_type": "markdown",
   "metadata": {
    "deletable": true,
    "editable": true
   },
   "source": [
    "### Exercise 3.5: Make test functions for the midpoint method  "
   ]
  },
  {
   "cell_type": "code",
   "execution_count": null,
   "metadata": {
    "collapsed": false,
    "deletable": true,
    "editable": true,
    "scrolled": true
   },
   "outputs": [],
   "source": [
    "from trapezoidal import trapezoidal\n",
    "\n",
    "def test_trapezoidal_linear_scale():\n",
    "    \"\"\"Check that linear functions are integrated exactly\"\"\"\n",
    "    f = lambda x: 6E8*x - 4E6\n",
    "    F = lambda x: 3E8*x**2 - 4E6*x  # Anti-derivative\n",
    "    #a = 1.2;  b = 4.4\n",
    "    a = 1.2/6E8;  b = 4.4/6E8       # Scale interval down\n",
    "    exact = F(b) - F(a)\n",
    "    tol = 1E-14\n",
    "    for n in 2, 20, 21:\n",
    "        numerical = trapezoidal(f, a, b, n)\n",
    "        err = abs(exact - numerical)\n",
    "        msg = 'n = %d, err = %g' % (n, err)\n",
    "        assert err < tol, msg\n",
    "        print msg\n",
    "\n",
    "def test_trapezoidal_linear_reldiff():\n",
    "    \"\"\"\n",
    "    Check that linear functions are integrated exactly.\n",
    "    Use relative and not absolute difference.\n",
    "    \"\"\"\n",
    "    f = lambda x: 6E8*x - 4E6\n",
    "    F = lambda x: 3E8*x**2 - 4E6*x  # Anti-derivative\n",
    "    a = 1.2;  b = 4.4               # Scale interval down\n",
    "    exact = F(b) - F(a)\n",
    "    tol = 1E-14\n",
    "    for n in 2, 20, 21:\n",
    "        numerical = trapezoidal(f, a, b, n)\n",
    "        err = abs(exact - numerical)/exact\n",
    "        msg = 'n = %d, err = %g' % (n, err)\n",
    "        assert err < tol, msg\n",
    "        print msg\n",
    "\n",
    "def test_trapezoidal_conv_rate():\n",
    "    \"\"\"Check empirical convergence rates against the expected -2.\"\"\"\n",
    "    #from math import exp\n",
    "    f = lambda x: 6E8*x - 4E6\n",
    "    F = lambda x: 3E8*x**2 - 4E6*x  # Anti-derivative\n",
    "    a = 1.1;  b = 1.9\n",
    "    r = convergence_rates(f, F, a, b, 14)\n",
    "    print r\n",
    "    tol = 0.01\n",
    "    assert abs(abs(r[-1]) - 2) < tol, r[-4:]\n",
    "\n",
    "def convergence_rates(f, F, a, b, num_experiments=14):\n",
    "    from math import log\n",
    "    from numpy import zeros\n",
    "    exact = F(b) - F(a)\n",
    "    n = zeros(num_experiments, dtype=int)\n",
    "    E = zeros(num_experiments)\n",
    "    r = zeros(num_experiments-1)\n",
    "    for i in range(num_experiments):\n",
    "        n[i] = 2**(i+1)\n",
    "        numerical = trapezoidal(f, a, b, n[i])\n",
    "        E[i] = abs(exact - numerical)\n",
    "        print E[i]\n",
    "        if i > 0:\n",
    "            r_im1 = log(E[i]/E[i-1])/log(float(n[i])/n[i-1])\n",
    "            r[i-1] = float('%.2f' % r_im1)  # Truncate, two decimals\n",
    "    return r\n",
    "\n",
    "test_trapezoidal_linear_scale()\n",
    "test_trapezoidal_linear_reldiff()\n",
    "test_trapezoidal_conv_rate()"
   ]
  },
  {
   "cell_type": "markdown",
   "metadata": {
    "deletable": true,
    "editable": true
   },
   "source": [
    "### Exercise 3.6: Explore rounding errors with large numbers  "
   ]
  },
  {
   "cell_type": "code",
   "execution_count": null,
   "metadata": {
    "collapsed": true,
    "deletable": true,
    "editable": true
   },
   "outputs": [],
   "source": [
    "def test_trapezoidal_linear_reldiff():\n",
    "    \"\"\"\n",
    "    Check that linear functions are integrated exactly.\n",
    "    Use relative and not absolute difference.\n",
    "    \"\"\"\n",
    "    f = lambda x: 6E8*x - 4E6\n",
    "    F = lambda x: 3E8*x**2 - 4E6*x  # Anti-derivative\n",
    "    a = 1.2;  b = 4.4               # Scale interval down\n",
    "    exact = F(b) - F(a)\n",
    "    tol = 1E-14\n",
    "    for n in 2, 20, 21:\n",
    "        numerical = trapezoidal(f, a, b, n)\n",
    "        err = abs(exact - numerical)/exact\n",
    "        msg = 'n = %d, err = %g' % (n, err)\n",
    "        assert err < tol, msg\n",
    "        print msg\n",
    "\n",
    "def test_trapezoidal_conv_rate():\n",
    "    \"\"\"Check empirical convergence rates against the expected -2.\"\"\"\n",
    "    #from math import exp\n",
    "    f = lambda x: 6E8*x - 4E6\n",
    "    F = lambda x: 3E8*x**2 - 4E6*x  # Anti-derivative\n",
    "    a = 1.1;  b = 1.9\n",
    "    r = convergence_rates(f, F, a, b, 14)\n",
    "    print r\n",
    "    tol = 0.01\n",
    "    assert abs(abs(r[-1]) - 2) < tol, r[-4:]\n",
    "\n",
    "def convergence_rates(f, F, a, b, num_experiments=14):\n",
    "    from math import log\n",
    "    from numpy import zeros\n",
    "    exact = F(b) - F(a)\n",
    "    n = zeros(num_experiments, dtype=int)\n",
    "    E = zeros(num_experiments)\n",
    "    r = zeros(num_experiments-1)\n",
    "    for i in range(num_experiments):\n",
    "        n[i] = 2**(i+1)\n",
    "        numerical = trapezoidal(f, a, b, n[i])\n",
    "        E[i] = abs(exact - numerical)\n",
    "        print E[i]\n",
    "        if i > 0:\n",
    "            r_im1 = log(E[i]/E[i-1])/log(float(n[i])/n[i-1])\n",
    "            r[i-1] = float('%.2f' % r_im1)  # Truncate, two decimals\n",
    "    return r"
   ]
  },
  {
   "cell_type": "markdown",
   "metadata": {
    "deletable": true,
    "editable": true
   },
   "source": [
    "### Exercise 3.7: Write test functions for   "
   ]
  },
  {
   "cell_type": "code",
   "execution_count": 13,
   "metadata": {
    "collapsed": false,
    "deletable": true,
    "editable": true
   },
   "outputs": [
    {
     "name": "stdout",
     "output_type": "stream",
     "text": [
      "[-1.7  -1.8  -1.89 -1.95 -1.98 -1.99 -2.   -2.   -2.   -2.   -2.   -2.   -2.  ]\n"
     ]
    }
   ],
   "source": [
    "from trapezoidal import trapezoidal\n",
    "\n",
    "def test_trapezoidal_one_exact_result():\n",
    "    \"\"\"Compare one hand-computed result.\"\"\"\n",
    "    f = lambda x: x**0.5\n",
    "    tol = 1E-14\n",
    "    exact = [4.82842712474619, 5.050258266979605] # n=2, n=3\n",
    "    for n in [2, 3]:\n",
    "        numerical = trapezoidal(f, 0, 4, n)\n",
    "        err = abs(exact[n-2] - numerical)\n",
    "        assert err < tol, err\n",
    "\n",
    "def test_trapezoidal_conv_rate():\n",
    "    \"\"\"Check empirical convergence rates against the expected -2.\"\"\"\n",
    "    from math import exp\n",
    "    f = lambda x: x**0.5\n",
    "    F = lambda x: (2.0/3)*x**(3.0/2)\n",
    "    a = 0.0 + 0.1;  b = 4.0         # a adjusted by 0.1\n",
    "    r = convergence_rates(f, F, a, b, 14)\n",
    "    print r\n",
    "    tol = 0.01\n",
    "    assert abs(abs(r[-1]) - 2) < tol, r[-4:]\n",
    "\n",
    "def convergence_rates(f, F, a, b, num_experiments=14):\n",
    "    from math import log\n",
    "    from numpy import zeros\n",
    "    exact = F(b) - F(a)\n",
    "    n = zeros(num_experiments, dtype=int)\n",
    "    E = zeros(num_experiments)\n",
    "    r = zeros(num_experiments-1)\n",
    "    for i in range(num_experiments):\n",
    "        n[i] = 2**(i+1)\n",
    "        numerical = trapezoidal(f, a, b, n[i])\n",
    "        E[i] = abs(exact - numerical)\n",
    "        if i > 0:\n",
    "            r_im1 = log(E[i]/E[i-1])/log(float(n[i])/n[i-1])\n",
    "            r[i-1] = float('%.2f' % r_im1)  # Truncate to two decimals\n",
    "    return r\n",
    "\n",
    "test_trapezoidal_one_exact_result()\n",
    "test_trapezoidal_conv_rate()"
   ]
  },
  {
   "cell_type": "markdown",
   "metadata": {
    "deletable": true,
    "editable": true
   },
   "source": [
    "### Exercise 3.8: Rectangle methods  "
   ]
  },
  {
   "cell_type": "code",
   "execution_count": null,
   "metadata": {
    "collapsed": true,
    "deletable": true,
    "editable": true
   },
   "outputs": [],
   "source": [
    "def rectangle(f, a, b, n, height='left'):\n",
    "    \"\"\"Uses a rectangle method for integrating f. The height of\n",
    "    each rectangle is computed either at the left end, middle or\n",
    "    right end of each sub-interval\"\"\"\n",
    "    h = float(b-a)/n\n",
    "    if height == 'left':\n",
    "        start = a\n",
    "    elif height == 'mid':\n",
    "        start = a + h/2.0\n",
    "    else:      # Must be right end\n",
    "        start = a + h\n",
    "    result = 0\n",
    "    for i in range(n):\n",
    "        result += f((start) + i*h)\n",
    "    result *= h\n",
    "    return result\n",
    "\n",
    "def test_rectangle_one_exact_result():\n",
    "    \"\"\"Compare one hand-computed result.\"\"\"\n",
    "    from math import exp\n",
    "    v = lambda t: 3*(t**2)*exp(t**3)\n",
    "    method = ['left', 'mid', 'right']\n",
    "    n = 2\n",
    "    exact = [0.4249306699000599, 1.3817914596908085, \\\n",
    "                                           4.5023534125886275]\n",
    "    tol = 1E-14\n",
    "    for i in range(len(method)):\n",
    "        numerical = rectangle(v, 0, 1, n, method[i])\n",
    "        err = abs(exact[i] - numerical)\n",
    "        assert err < tol, err\n",
    "\n",
    "def test_rectangle_linear():\n",
    "    \"\"\"Check that linear functions are integrated exactly\n",
    "    (with midpoint) or with a known correctable error (left\n",
    "    and right)\"\"\"\n",
    "    method = ['left', 'mid', 'right']\n",
    "    f = lambda x: 6*x - 4\n",
    "    slope = 6\n",
    "    F = lambda x: 3*x**2 - 4*x  # Anti-derivative\n",
    "    # From the slope of f (i.e. 6), we know that left will\n",
    "    # under-estimate the inegral by C (given below), while\n",
    "    # right will over-estimate by C\n",
    "    a = 1.2;  b = 4.4\n",
    "    exact = F(b) - F(a)\n",
    "    #tol = 1E-14\n",
    "    tol = 1E-13        # Slightly relaxed compared to previously\n",
    "    for n in 2, 20, 21:\n",
    "        h = float(b-a)/n\n",
    "        C = n*(0.5*slope*h**2)    # Correction term for left/right\n",
    "        for i in range(len(method)):\n",
    "            numerical = rectangle(f, a, b, n, method[i])\n",
    "            if (method[i] == 'left'):\n",
    "                numerical += C\n",
    "            elif (method[i] == 'right'):\n",
    "                numerical -= C\n",
    "            err = abs(exact - numerical)\n",
    "            assert err < tol, 'n = %d, err = %g' % (n,err)\n",
    "\n",
    "def test_rectangle_conv_rate():\n",
    "    \"\"\"Check empirical convergence rates against the expected rate,\n",
    "    which is -2 for midpoint and -1 for left and right.\"\"\"\n",
    "    from math import exp\n",
    "    method = ['left', 'mid', 'right']\n",
    "    v = lambda t: 3*(t**2)*exp(t**3)\n",
    "    V = lambda t: exp(t**3)\n",
    "    a = 1.1;  b = 1.9\n",
    "    tol = 0.01\n",
    "    for i in range(len(method)):\n",
    "        r = convergence_rates(v, V, a, b, method[i], 14)\n",
    "        print r\n",
    "        if (method[i] == 'left') or (method[i] == 'right'):\n",
    "            assert abs(abs(r[-1]) - 1) < tol, r[-4:]\n",
    "        else:\n",
    "            assert abs(abs(r[-1]) - 2) < tol, r[-4:]\n",
    "\n",
    "def convergence_rates(f, F, a, b, height, num_experiments=14):\n",
    "    from math import log\n",
    "    from numpy import zeros\n",
    "    exact = F(b) - F(a)\n",
    "    n = zeros(num_experiments, dtype=int)\n",
    "    E = zeros(num_experiments)\n",
    "    r = zeros(num_experiments-1)\n",
    "    for i in range(num_experiments):\n",
    "        n[i] = 2**(i+1)\n",
    "        numerical = rectangle(f, a, b, n[i], height)\n",
    "        E[i] = abs(exact - numerical)\n",
    "        if i > 0:\n",
    "            r_im1 = log(E[i]/E[i-1])/log(float(n[i])/n[i-1])\n",
    "            r[i-1] = float('%.2f' % r_im1)  # Truncate to two decimals\n",
    "    return r\n",
    "\n",
    "test_rectangle_one_exact_result()\n",
    "test_rectangle_linear()\n",
    "test_rectangle_conv_rate()"
   ]
  },
  {
   "cell_type": "markdown",
   "metadata": {
    "deletable": true,
    "editable": true
   },
   "source": [
    "### Exercise 3.9: Adaptive integration  "
   ]
  },
  {
   "cell_type": "code",
   "execution_count": null,
   "metadata": {
    "collapsed": true,
    "deletable": true,
    "editable": true
   },
   "outputs": [],
   "source": [
    "from numpy import linspace, zeros, sqrt, log\n",
    "from trapezoidal import trapezoidal\n",
    "from midpoint import midpoint\n",
    "\n",
    "def adaptive_integration(f, a, b, eps, method='midpoint'):\n",
    "    n_limit = 1000000   # Just a choice (used to avoid inf loop)\n",
    "    n = 2\n",
    "    if method == 'trapezoidal':\n",
    "        integral_n  = trapezoidal(f, a, b, n)\n",
    "        integral_2n = trapezoidal(f, a, b, 2*n)\n",
    "        diff = abs(integral_2n - integral_n)\n",
    "        print 'trapezoidal diff: ', diff\n",
    "        while (diff > eps) and (n < n_limit):\n",
    "            integral_n  = trapezoidal(f, a, b, n)\n",
    "            integral_2n = trapezoidal(f, a, b, 2*n)\n",
    "            diff = abs(integral_2n - integral_n)\n",
    "            print 'trapezoidal diff: ', diff\n",
    "            n *= 2\n",
    "    elif method == 'midpoint':\n",
    "        integral_n  = midpoint(f, a, b, n)\n",
    "        integral_2n = midpoint(f, a, b, 2*n)\n",
    "        diff = abs(integral_2n - integral_n)\n",
    "        print 'midpoint diff: ', diff\n",
    "        while (diff > eps) and (n < n_limit):\n",
    "            integral_n  = midpoint(f, a, b, n)\n",
    "            integral_2n = midpoint(f, a, b, 2*n)\n",
    "            diff = abs(integral_2n - integral_n)\n",
    "            print 'midpoint diff: ', diff\n",
    "            n *= 2\n",
    "    else:\n",
    "        print 'Error - adaptive integration called with unknown par'\n",
    "    # Now we check if acceptable n was found or not\n",
    "    if diff <= eps:   # Success\n",
    "        print 'The integral computes to: ', integral_2n\n",
    "        return n\n",
    "    else:\n",
    "        return -n   # Return negative n to tell \"not found\"\n",
    "\n",
    "def application():\n",
    "    \"\"\"...Tasks b) and c)\"\"\"\n",
    "\n",
    "    def f(x):\n",
    "        return x**2\n",
    "    def g(x):\n",
    "        return sqrt(x)\n",
    "\n",
    "    #eps = 1E-1           # Just switch between these two eps values\n",
    "    eps = 1E-10\n",
    "    #a = 0.0\n",
    "    a = 0.0 + 0.01;       # If we adjust a, sqrt(x) is handled easily\n",
    "    b = 2.0\n",
    "    # ...f\n",
    "    n = adaptive_integration(f, a, b, eps, 'midpoint')\n",
    "    if n > 0:\n",
    "        print 'Sufficient n is: %d' % (n)\n",
    "    else:\n",
    "        print 'No n was found in %d iterations' % (n_limit)\n",
    "\n",
    "    n = adaptive_integration(f, a, b, eps, 'trapezoidal')\n",
    "    if n > 0:\n",
    "        print 'Sufficient n is: %d' % (n)\n",
    "    else:\n",
    "        print 'No n was found in %d iterations' % (n_limit)\n",
    "\n",
    "    # ...g\n",
    "    n = adaptive_integration(g, a, b, eps, 'midpoint')\n",
    "    if n > 0:\n",
    "        print 'Sufficient n is: %d' % (n)\n",
    "    else:\n",
    "        print 'No n was found in %d iterations' % (n_limit)\n",
    "\n",
    "    n = adaptive_integration(g, a, b, eps, 'trapezoidal')\n",
    "    if n > 0:\n",
    "        print 'Sufficient n is: %d' % (n)\n",
    "    else:\n",
    "        print 'No n was found in %d iterations' % (n_limit)\n",
    "\n",
    "    # Task c, make plot for both midpoint and trapezoidal\n",
    "    eps = linspace(1E-1,10E-10,10)\n",
    "    n_m = zeros(len(eps))\n",
    "    n_t = zeros(len(eps))\n",
    "    for i in range(len(n_m)):\n",
    "        n_m[i] = adaptive_integration(g, a, b, eps[i], 'midpoint')\n",
    "        n_t[i] = adaptive_integration(g, a, b, eps[i], 'trapezoidal')\n",
    "\n",
    "    import matplotlib.pyplot as plt\n",
    "    plt.plot(log(eps),n_m,'b-',log(eps),n_t,'r-')\n",
    "    plt.xlabel('log(eps)')\n",
    "    plt.ylabel('n for midpoint (blue) and trapezoidal (red)')\n",
    "    plt.show()\n",
    "    print n\n",
    "    print eps\n",
    "\n",
    "if __name__ == '__main__':\n",
    "    application()"
   ]
  },
  {
   "cell_type": "markdown",
   "metadata": {
    "deletable": true,
    "editable": true
   },
   "source": [
    "### Exercise 3.10: Integrating x raised to x  "
   ]
  },
  {
   "cell_type": "code",
   "execution_count": null,
   "metadata": {
    "collapsed": true,
    "deletable": true,
    "editable": true
   },
   "outputs": [],
   "source": [
    "\n",
    "def f(x):\n",
    "    return x**x\n",
    "\n",
    "eps = 1E-4\n",
    "a = 0.0;  b = 2.0\n",
    "\n",
    "# Choose midpoint method\n",
    "n = adaptive_integration(f, a, b, eps, 'midpoint')\n",
    "if n > 0:\n",
    "    print 'Sufficient n is: %d' % (n)\n",
    "else:\n",
    "    # The negative n is returned to signal that the upper limit of n\n",
    "    # was passed\n",
    "    print 'No n was found in %d iterations' % (abs(n))"
   ]
  },
  {
   "cell_type": "markdown",
   "metadata": {
    "deletable": true,
    "editable": true
   },
   "source": [
    "### Exercise 3.11: Integrate products of  sinefunctions  "
   ]
  },
  {
   "cell_type": "markdown",
   "metadata": {
    "deletable": true,
    "editable": true
   },
   "source": [
    "### Exercise 3.12: Revisit fit of sines to a function  "
   ]
  },
  {
   "cell_type": "code",
   "execution_count": 12,
   "metadata": {
    "collapsed": false,
    "deletable": true,
    "editable": true
   },
   "outputs": [
    {
     "name": "stdout",
     "output_type": "stream",
     "text": [
      "[ 0.63641032 -0.3178909   0.2115779 ]\n"
     ]
    },
    {
     "ename": "IOError",
     "evalue": "[Errno 2] No such file or directory: 'C:/Users/Svein/Desktop/S_whenNis3.pdf'",
     "output_type": "error",
     "traceback": [
      "\u001b[0;31m---------------------------------------------------------------------------\u001b[0m",
      "\u001b[0;31mIOError\u001b[0m                                   Traceback (most recent call last)",
      "\u001b[0;32m<ipython-input-12-7f4995c679a0>\u001b[0m in \u001b[0;36m<module>\u001b[0;34m()\u001b[0m\n\u001b[1;32m     56\u001b[0m \u001b[1;33m\u001b[0m\u001b[0m\n\u001b[1;32m     57\u001b[0m \u001b[1;32mif\u001b[0m \u001b[0m__name__\u001b[0m \u001b[1;33m==\u001b[0m \u001b[1;34m'__main__'\u001b[0m\u001b[1;33m:\u001b[0m\u001b[1;33m\u001b[0m\u001b[0m\n\u001b[0;32m---> 58\u001b[0;31m     \u001b[0mapplication\u001b[0m\u001b[1;33m(\u001b[0m\u001b[1;33m)\u001b[0m\u001b[1;33m\u001b[0m\u001b[0m\n\u001b[0m\u001b[1;32m     59\u001b[0m     \u001b[0mtest_integrate_coeffs\u001b[0m\u001b[1;33m(\u001b[0m\u001b[1;33m)\u001b[0m\u001b[1;33m\u001b[0m\u001b[0m\n",
      "\u001b[0;32m<ipython-input-12-7f4995c679a0>\u001b[0m in \u001b[0;36mapplication\u001b[0;34m()\u001b[0m\n\u001b[1;32m     49\u001b[0m     \u001b[1;32mfor\u001b[0m \u001b[0mN\u001b[0m \u001b[1;32min\u001b[0m \u001b[1;33m[\u001b[0m\u001b[1;36m3\u001b[0m\u001b[1;33m,\u001b[0m \u001b[1;36m6\u001b[0m\u001b[1;33m,\u001b[0m \u001b[1;36m12\u001b[0m\u001b[1;33m,\u001b[0m \u001b[1;36m24\u001b[0m\u001b[1;33m]\u001b[0m\u001b[1;33m:\u001b[0m\u001b[1;33m\u001b[0m\u001b[0m\n\u001b[1;32m     50\u001b[0m         \u001b[0mplot_filename\u001b[0m \u001b[1;33m=\u001b[0m \u001b[1;34m'C:/Users/Svein/Desktop/S_whenNis'\u001b[0m                                               \u001b[1;33m+\u001b[0m \u001b[0mstr\u001b[0m\u001b[1;33m(\u001b[0m\u001b[0mN\u001b[0m\u001b[1;33m)\u001b[0m \u001b[1;33m+\u001b[0m \u001b[1;34m'.pdf'\u001b[0m\u001b[1;33m\u001b[0m\u001b[0m\n\u001b[0;32m---> 51\u001b[0;31m         \u001b[0mplot_approx\u001b[0m\u001b[1;33m(\u001b[0m\u001b[0mf\u001b[0m\u001b[1;33m,\u001b[0m \u001b[0mN\u001b[0m\u001b[1;33m,\u001b[0m \u001b[0mM\u001b[0m\u001b[1;33m,\u001b[0m \u001b[0mplot_filename\u001b[0m\u001b[1;33m)\u001b[0m\u001b[1;33m\u001b[0m\u001b[0m\n\u001b[0m\u001b[1;32m     52\u001b[0m     \u001b[1;32mdef\u001b[0m \u001b[0mg\u001b[0m\u001b[1;33m(\u001b[0m\u001b[0mt\u001b[0m\u001b[1;33m)\u001b[0m\u001b[1;33m:\u001b[0m\u001b[1;33m\u001b[0m\u001b[0m\n\u001b[1;32m     53\u001b[0m         \u001b[1;32mreturn\u001b[0m \u001b[0mexp\u001b[0m\u001b[1;33m(\u001b[0m\u001b[1;33m-\u001b[0m\u001b[1;33m(\u001b[0m\u001b[0mt\u001b[0m\u001b[1;33m-\u001b[0m\u001b[0mpi\u001b[0m\u001b[1;33m)\u001b[0m\u001b[1;33m)\u001b[0m\u001b[1;33m\u001b[0m\u001b[0m\n",
      "\u001b[0;32m<ipython-input-12-7f4995c679a0>\u001b[0m in \u001b[0;36mplot_approx\u001b[0;34m(f, N, M, filename)\u001b[0m\n\u001b[1;32m     38\u001b[0m     \u001b[0mplt\u001b[0m\u001b[1;33m.\u001b[0m\u001b[0mfigure\u001b[0m\u001b[1;33m(\u001b[0m\u001b[1;33m)\u001b[0m\u001b[1;33m;\u001b[0m \u001b[0mplt\u001b[0m\u001b[1;33m.\u001b[0m\u001b[0mplot\u001b[0m\u001b[1;33m(\u001b[0m\u001b[0mtime\u001b[0m\u001b[1;33m,\u001b[0m \u001b[0my\u001b[0m\u001b[1;33m,\u001b[0m \u001b[1;34m'k-'\u001b[0m\u001b[1;33m,\u001b[0m \u001b[0mtime\u001b[0m\u001b[1;33m,\u001b[0m \u001b[0my_approx\u001b[0m\u001b[1;33m,\u001b[0m \u001b[1;34m'k--'\u001b[0m\u001b[1;33m)\u001b[0m\u001b[1;33m\u001b[0m\u001b[0m\n\u001b[1;32m     39\u001b[0m     \u001b[0mplt\u001b[0m\u001b[1;33m.\u001b[0m\u001b[0mxlabel\u001b[0m\u001b[1;33m(\u001b[0m\u001b[1;34m't'\u001b[0m\u001b[1;33m)\u001b[0m\u001b[1;33m;\u001b[0m  \u001b[0mplt\u001b[0m\u001b[1;33m.\u001b[0m\u001b[0mylabel\u001b[0m\u001b[1;33m(\u001b[0m\u001b[1;34m'f (solid) and S (dashed)'\u001b[0m\u001b[1;33m)\u001b[0m\u001b[1;33m\u001b[0m\u001b[0m\n\u001b[0;32m---> 40\u001b[0;31m     \u001b[0mplt\u001b[0m\u001b[1;33m.\u001b[0m\u001b[0msavefig\u001b[0m\u001b[1;33m(\u001b[0m\u001b[0mfilename\u001b[0m\u001b[1;33m)\u001b[0m\u001b[1;33m\u001b[0m\u001b[0m\n\u001b[0m\u001b[1;32m     41\u001b[0m \u001b[1;33m\u001b[0m\u001b[0m\n\u001b[1;32m     42\u001b[0m \u001b[1;32mdef\u001b[0m \u001b[0mapplication\u001b[0m\u001b[1;33m(\u001b[0m\u001b[1;33m)\u001b[0m\u001b[1;33m:\u001b[0m\u001b[1;33m\u001b[0m\u001b[0m\n",
      "\u001b[0;32mC:\\Anaconda27\\lib\\site-packages\\matplotlib\\pyplot.pyc\u001b[0m in \u001b[0;36msavefig\u001b[0;34m(*args, **kwargs)\u001b[0m\n\u001b[1;32m    575\u001b[0m \u001b[1;32mdef\u001b[0m \u001b[0msavefig\u001b[0m\u001b[1;33m(\u001b[0m\u001b[1;33m*\u001b[0m\u001b[0margs\u001b[0m\u001b[1;33m,\u001b[0m \u001b[1;33m**\u001b[0m\u001b[0mkwargs\u001b[0m\u001b[1;33m)\u001b[0m\u001b[1;33m:\u001b[0m\u001b[1;33m\u001b[0m\u001b[0m\n\u001b[1;32m    576\u001b[0m     \u001b[0mfig\u001b[0m \u001b[1;33m=\u001b[0m \u001b[0mgcf\u001b[0m\u001b[1;33m(\u001b[0m\u001b[1;33m)\u001b[0m\u001b[1;33m\u001b[0m\u001b[0m\n\u001b[0;32m--> 577\u001b[0;31m     \u001b[0mres\u001b[0m \u001b[1;33m=\u001b[0m \u001b[0mfig\u001b[0m\u001b[1;33m.\u001b[0m\u001b[0msavefig\u001b[0m\u001b[1;33m(\u001b[0m\u001b[1;33m*\u001b[0m\u001b[0margs\u001b[0m\u001b[1;33m,\u001b[0m \u001b[1;33m**\u001b[0m\u001b[0mkwargs\u001b[0m\u001b[1;33m)\u001b[0m\u001b[1;33m\u001b[0m\u001b[0m\n\u001b[0m\u001b[1;32m    578\u001b[0m     \u001b[0mdraw\u001b[0m\u001b[1;33m(\u001b[0m\u001b[1;33m)\u001b[0m   \u001b[1;31m# need this if 'transparent=True' to reset colors\u001b[0m\u001b[1;33m\u001b[0m\u001b[0m\n\u001b[1;32m    579\u001b[0m     \u001b[1;32mreturn\u001b[0m \u001b[0mres\u001b[0m\u001b[1;33m\u001b[0m\u001b[0m\n",
      "\u001b[0;32mC:\\Anaconda27\\lib\\site-packages\\matplotlib\\figure.pyc\u001b[0m in \u001b[0;36msavefig\u001b[0;34m(self, *args, **kwargs)\u001b[0m\n\u001b[1;32m   1474\u001b[0m             \u001b[0mself\u001b[0m\u001b[1;33m.\u001b[0m\u001b[0mset_frameon\u001b[0m\u001b[1;33m(\u001b[0m\u001b[0mframeon\u001b[0m\u001b[1;33m)\u001b[0m\u001b[1;33m\u001b[0m\u001b[0m\n\u001b[1;32m   1475\u001b[0m \u001b[1;33m\u001b[0m\u001b[0m\n\u001b[0;32m-> 1476\u001b[0;31m         \u001b[0mself\u001b[0m\u001b[1;33m.\u001b[0m\u001b[0mcanvas\u001b[0m\u001b[1;33m.\u001b[0m\u001b[0mprint_figure\u001b[0m\u001b[1;33m(\u001b[0m\u001b[1;33m*\u001b[0m\u001b[0margs\u001b[0m\u001b[1;33m,\u001b[0m \u001b[1;33m**\u001b[0m\u001b[0mkwargs\u001b[0m\u001b[1;33m)\u001b[0m\u001b[1;33m\u001b[0m\u001b[0m\n\u001b[0m\u001b[1;32m   1477\u001b[0m \u001b[1;33m\u001b[0m\u001b[0m\n\u001b[1;32m   1478\u001b[0m         \u001b[1;32mif\u001b[0m \u001b[0mframeon\u001b[0m\u001b[1;33m:\u001b[0m\u001b[1;33m\u001b[0m\u001b[0m\n",
      "\u001b[0;32mC:\\Anaconda27\\lib\\site-packages\\matplotlib\\backends\\backend_qt5agg.pyc\u001b[0m in \u001b[0;36mprint_figure\u001b[0;34m(self, *args, **kwargs)\u001b[0m\n\u001b[1;32m    159\u001b[0m \u001b[1;33m\u001b[0m\u001b[0m\n\u001b[1;32m    160\u001b[0m     \u001b[1;32mdef\u001b[0m \u001b[0mprint_figure\u001b[0m\u001b[1;33m(\u001b[0m\u001b[0mself\u001b[0m\u001b[1;33m,\u001b[0m \u001b[1;33m*\u001b[0m\u001b[0margs\u001b[0m\u001b[1;33m,\u001b[0m \u001b[1;33m**\u001b[0m\u001b[0mkwargs\u001b[0m\u001b[1;33m)\u001b[0m\u001b[1;33m:\u001b[0m\u001b[1;33m\u001b[0m\u001b[0m\n\u001b[0;32m--> 161\u001b[0;31m         \u001b[0mFigureCanvasAgg\u001b[0m\u001b[1;33m.\u001b[0m\u001b[0mprint_figure\u001b[0m\u001b[1;33m(\u001b[0m\u001b[0mself\u001b[0m\u001b[1;33m,\u001b[0m \u001b[1;33m*\u001b[0m\u001b[0margs\u001b[0m\u001b[1;33m,\u001b[0m \u001b[1;33m**\u001b[0m\u001b[0mkwargs\u001b[0m\u001b[1;33m)\u001b[0m\u001b[1;33m\u001b[0m\u001b[0m\n\u001b[0m\u001b[1;32m    162\u001b[0m         \u001b[0mself\u001b[0m\u001b[1;33m.\u001b[0m\u001b[0mdraw\u001b[0m\u001b[1;33m(\u001b[0m\u001b[1;33m)\u001b[0m\u001b[1;33m\u001b[0m\u001b[0m\n\u001b[1;32m    163\u001b[0m \u001b[1;33m\u001b[0m\u001b[0m\n",
      "\u001b[0;32mC:\\Anaconda27\\lib\\site-packages\\matplotlib\\backend_bases.pyc\u001b[0m in \u001b[0;36mprint_figure\u001b[0;34m(self, filename, dpi, facecolor, edgecolor, orientation, format, **kwargs)\u001b[0m\n\u001b[1;32m   2209\u001b[0m                 \u001b[0morientation\u001b[0m\u001b[1;33m=\u001b[0m\u001b[0morientation\u001b[0m\u001b[1;33m,\u001b[0m\u001b[1;33m\u001b[0m\u001b[0m\n\u001b[1;32m   2210\u001b[0m                 \u001b[0mbbox_inches_restore\u001b[0m\u001b[1;33m=\u001b[0m\u001b[0m_bbox_inches_restore\u001b[0m\u001b[1;33m,\u001b[0m\u001b[1;33m\u001b[0m\u001b[0m\n\u001b[0;32m-> 2211\u001b[0;31m                 **kwargs)\n\u001b[0m\u001b[1;32m   2212\u001b[0m         \u001b[1;32mfinally\u001b[0m\u001b[1;33m:\u001b[0m\u001b[1;33m\u001b[0m\u001b[0m\n\u001b[1;32m   2213\u001b[0m             \u001b[1;32mif\u001b[0m \u001b[0mbbox_inches\u001b[0m \u001b[1;32mand\u001b[0m \u001b[0mrestore_bbox\u001b[0m\u001b[1;33m:\u001b[0m\u001b[1;33m\u001b[0m\u001b[0m\n",
      "\u001b[0;32mC:\\Anaconda27\\lib\\site-packages\\matplotlib\\backends\\backend_pdf.pyc\u001b[0m in \u001b[0;36mprint_pdf\u001b[0;34m(self, filename, **kwargs)\u001b[0m\n\u001b[1;32m   2475\u001b[0m             \u001b[0mfile\u001b[0m \u001b[1;33m=\u001b[0m \u001b[0mfilename\u001b[0m\u001b[1;33m.\u001b[0m\u001b[0m_file\u001b[0m\u001b[1;33m\u001b[0m\u001b[0m\n\u001b[1;32m   2476\u001b[0m         \u001b[1;32melse\u001b[0m\u001b[1;33m:\u001b[0m\u001b[1;33m\u001b[0m\u001b[0m\n\u001b[0;32m-> 2477\u001b[0;31m             \u001b[0mfile\u001b[0m \u001b[1;33m=\u001b[0m \u001b[0mPdfFile\u001b[0m\u001b[1;33m(\u001b[0m\u001b[0mfilename\u001b[0m\u001b[1;33m)\u001b[0m\u001b[1;33m\u001b[0m\u001b[0m\n\u001b[0m\u001b[1;32m   2478\u001b[0m         \u001b[1;32mtry\u001b[0m\u001b[1;33m:\u001b[0m\u001b[1;33m\u001b[0m\u001b[0m\n\u001b[1;32m   2479\u001b[0m             \u001b[0mfile\u001b[0m\u001b[1;33m.\u001b[0m\u001b[0mnewPage\u001b[0m\u001b[1;33m(\u001b[0m\u001b[0mwidth\u001b[0m\u001b[1;33m,\u001b[0m \u001b[0mheight\u001b[0m\u001b[1;33m)\u001b[0m\u001b[1;33m\u001b[0m\u001b[0m\n",
      "\u001b[0;32mC:\\Anaconda27\\lib\\site-packages\\matplotlib\\backends\\backend_pdf.pyc\u001b[0m in \u001b[0;36m__init__\u001b[0;34m(self, filename)\u001b[0m\n\u001b[1;32m    416\u001b[0m         \u001b[0mself\u001b[0m\u001b[1;33m.\u001b[0m\u001b[0mtell_base\u001b[0m \u001b[1;33m=\u001b[0m \u001b[1;36m0\u001b[0m\u001b[1;33m\u001b[0m\u001b[0m\n\u001b[1;32m    417\u001b[0m         \u001b[1;32mif\u001b[0m \u001b[0mis_string_like\u001b[0m\u001b[1;33m(\u001b[0m\u001b[0mfilename\u001b[0m\u001b[1;33m)\u001b[0m\u001b[1;33m:\u001b[0m\u001b[1;33m\u001b[0m\u001b[0m\n\u001b[0;32m--> 418\u001b[0;31m             \u001b[0mfh\u001b[0m \u001b[1;33m=\u001b[0m \u001b[0mopen\u001b[0m\u001b[1;33m(\u001b[0m\u001b[0mfilename\u001b[0m\u001b[1;33m,\u001b[0m \u001b[1;34m'wb'\u001b[0m\u001b[1;33m)\u001b[0m\u001b[1;33m\u001b[0m\u001b[0m\n\u001b[0m\u001b[1;32m    419\u001b[0m         \u001b[1;32melif\u001b[0m \u001b[0mis_writable_file_like\u001b[0m\u001b[1;33m(\u001b[0m\u001b[0mfilename\u001b[0m\u001b[1;33m)\u001b[0m\u001b[1;33m:\u001b[0m\u001b[1;33m\u001b[0m\u001b[0m\n\u001b[1;32m    420\u001b[0m             \u001b[1;32mtry\u001b[0m\u001b[1;33m:\u001b[0m\u001b[1;33m\u001b[0m\u001b[0m\n",
      "\u001b[0;31mIOError\u001b[0m: [Errno 2] No such file or directory: 'C:/Users/Svein/Desktop/S_whenNis3.pdf'"
     ]
    }
   ],
   "source": [
    "from numpy import linspace, zeros, pi, sin, exp\n",
    "from trapezoidal import trapezoidal\n",
    "\n",
    "def integrate_coeffs(f, N, M):\n",
    "    b = zeros(N)\n",
    "    left_end = -pi; right_end = pi\n",
    "    for n in range(1, N+1):\n",
    "        f_sin = lambda t: f(t)*sin(n*t)\n",
    "        b[n-1] = (1/pi)*trapezoidal(f_sin, left_end, right_end, M)\n",
    "    return b\n",
    "\n",
    "def test_integrate_coeffs():\n",
    "    \"\"\"Check that sin(nt) are integrated exactly by trapezoidal\"\"\"\n",
    "    def f(t):\n",
    "        return 1\n",
    "    tol = 1E-14\n",
    "    N = 10\n",
    "    M = 100\n",
    "    b = integrate_coeffs(f, N, M)\n",
    "    print b\n",
    "    for i in range(0, 10):\n",
    "        err = abs(b[i])  # Supposed to be zero\n",
    "        assert err < tol, 'n = %d, err = %g' % (n,err)\n",
    "\n",
    "def plot_approx(f, N, M, filename):\n",
    "    def S_N(b,t):\n",
    "        sum = 0\n",
    "        for i in range(len(b)):\n",
    "            sum += b[i]*sin((i+1)*t)\n",
    "        return sum\n",
    "    left_end = -pi;  right_end = pi\n",
    "    time = linspace(-pi, pi, 100)\n",
    "    y = f(time)\n",
    "    b = integrate_coeffs(f, N, M)\n",
    "    y_approx = S_N(b, time)\n",
    "\n",
    "    import matplotlib.pyplot as plt\n",
    "    plt.figure(); plt.plot(time, y, 'k-', time, y_approx, 'k--')\n",
    "    plt.xlabel('t');  plt.ylabel('f (solid) and S (dashed)')\n",
    "    plt.savefig(filename)\n",
    "\n",
    "def application():\n",
    "    def f(t):\n",
    "        return (1/pi)*t\n",
    "    N = 3\n",
    "    M = 100\n",
    "    b = integrate_coeffs(f, N, M)\n",
    "    print b\n",
    "    for N in [3, 6, 12, 24]:\n",
    "        plot_filename = 'C:/Users/Svein/Desktop/S_whenNis' \\\n",
    "                                              + str(N) + '.pdf'\n",
    "        plot_approx(f, N, M, plot_filename)\n",
    "    def g(t):\n",
    "        return exp(-(t-pi))\n",
    "    plot_filename = 'C:/Users/Svein/Desktop/new_f_S_whenNis' \\\n",
    "                                              + str(100) + '.pdf'\n",
    "    plot_approx(g, 100, M, plot_filename)\n",
    "\n",
    "if __name__ == '__main__':\n",
    "    application()\n",
    "    test_integrate_coeffs()"
   ]
  },
  {
   "cell_type": "markdown",
   "metadata": {
    "deletable": true,
    "editable": true
   },
   "source": [
    "### Exercise 3.13: Derive the trapezoidal rule for a double integral"
   ]
  },
  {
   "cell_type": "code",
   "execution_count": null,
   "metadata": {
    "collapsed": true,
    "deletable": true,
    "editable": true
   },
   "outputs": [],
   "source": [
    "def trapezoidal_double(f, a, b, c, d, nx, ny):\n",
    "    hx = (b - a)/float(nx)\n",
    "    hy = (d - c)/float(ny)\n",
    "    I = 0.25*(f(a, c) + f(a, d) + f(b, c) + f(b, d))\n",
    "    Ix = 0\n",
    "    for i in range(1, nx):\n",
    "        xi = a + i*hx\n",
    "        Ix += f(xi, c) + f(xi, d)\n",
    "    I += 0.5*Ix\n",
    "    Iy = 0\n",
    "    for j in range(1, ny):\n",
    "        yj = c + j*hy\n",
    "        Iy += f(a, yj) + f(b, yj)\n",
    "    I += 0.5*Iy\n",
    "    Ixy = 0\n",
    "    for i in range(1, nx):\n",
    "        for j in range(1, ny):\n",
    "            xi = a + i*hx\n",
    "            yj = c + j*hy\n",
    "            Ixy += f(xi, yj)\n",
    "    I += Ixy\n",
    "    I *= hx*hy\n",
    "    return I\n",
    "\n",
    "def test_trapezoidal_double():\n",
    "    \"\"\"Test that a linear function is integrated exactly.\"\"\"\n",
    "    def f(x, y):\n",
    "        return 2*x + y\n",
    "\n",
    "    a = 0;  b = 2;  c = 2;  d = 3\n",
    "    import sympy\n",
    "    x, y = sympy.symbols('x  y')\n",
    "    I_expected = sympy.integrate(f(x, y), (x, a, b), (y, c, d))\n",
    "    # Test three cases: nx < ny, nx = ny, nx > ny\n",
    "    for nx, ny in (3, 5), (4, 4), (5, 3):\n",
    "        I_computed = trapezoidal_double(f, a, b, c, d, nx, ny)\n",
    "        tol = 1E-14\n",
    "        #print I_expected, I_computed\n",
    "        assert abs(I_computed - I_expected) < tol\n",
    "\n",
    "if __name__ == '__main__':\n",
    "    test_trapezoidal_double()"
   ]
  },
  {
   "cell_type": "markdown",
   "metadata": {
    "deletable": true,
    "editable": true
   },
   "source": [
    "### Exercise 3.14: Compute the area of a triangle by Monte Carlo integration  "
   ]
  },
  {
   "cell_type": "code",
   "execution_count": 11,
   "metadata": {
    "collapsed": false,
    "deletable": true,
    "editable": true
   },
   "outputs": [
    {
     "name": "stdout",
     "output_type": "stream",
     "text": [
      "2.931348\n"
     ]
    }
   ],
   "source": [
    "from MC_double import MonteCarlo_double\n",
    "\n",
    "def g(x, y):\n",
    "    \"\"\"Utilize that triangle is symmetric about y-axis \"\"\"\n",
    "    return (1 if (0 <= y <= -3*abs(x) + 3) else -1 )\n",
    "\n",
    "print MonteCarlo_double(lambda x, y: 1, g, -1, 1, 0, 3, 1000)"
   ]
  },
  {
   "cell_type": "code",
   "execution_count": null,
   "metadata": {
    "collapsed": true,
    "deletable": true,
    "editable": true
   },
   "outputs": [],
   "source": []
  }
 ],
 "metadata": {
  "kernelspec": {
   "display_name": "Python 3",
   "language": "python",
   "name": "python3"
  },
  "language_info": {
   "codemirror_mode": {
    "name": "ipython",
    "version": 3
   },
   "file_extension": ".py",
   "mimetype": "text/x-python",
   "name": "python",
   "nbconvert_exporter": "python",
   "pygments_lexer": "ipython3",
   "version": "3.6.0"
  }
 },
 "nbformat": 4,
 "nbformat_minor": 1
}
